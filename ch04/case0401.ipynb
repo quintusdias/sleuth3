{
 "cells": [
  {
   "cell_type": "markdown",
   "metadata": {},
   "source": [
    "# Space Shuttle O-Ring Failures - An Observational Study"
   ]
  },
  {
   "cell_type": "markdown",
   "metadata": {},
   "source": [
    "Is there a higher risk of O-ring failures at lower launch temperatures?"
   ]
  },
  {
   "cell_type": "code",
   "execution_count": null,
   "metadata": {},
   "outputs": [],
   "source": [
    "# standard library imports\n",
    "from itertools import combinations\n",
    "\n",
    "# 3rd party library imports\n",
    "import matplotlib.pyplot as plt\n",
    "import numpy as np\n",
    "import pandas as pd\n",
    "import pingouin as pg\n",
    "import scipy.special\n",
    "import seaborn as sns\n",
    "\n",
    "sns.set()"
   ]
  },
  {
   "cell_type": "code",
   "execution_count": null,
   "metadata": {},
   "outputs": [],
   "source": [
    "df = pd.read_csv('case0401.csv')\n",
    "df"
   ]
  },
  {
   "cell_type": "markdown",
   "metadata": {},
   "source": [
    "# Robustness of Assumptions"
   ]
  },
  {
   "cell_type": "code",
   "execution_count": null,
   "metadata": {},
   "outputs": [],
   "source": [
    "df.groupby('Launch').describe()                                    "
   ]
  },
  {
   "cell_type": "code",
   "execution_count": null,
   "metadata": {},
   "outputs": [],
   "source": [
    "fig, axes = plt.subplots(ncols=2, sharex=True)\n",
    "sns.histplot(data=df.query('Launch == \"Cool\"'), x='Incidents', discrete=True, ax=axes[0])\n",
    "sns.histplot(data=df.query('Launch == \"Warm\"'), x='Incidents', discrete=True, ax=axes[1])\n",
    "axes[0].set_ylim(axes[1].get_ylim())\n",
    "axes[1].set_ylabel(None)\n",
    "axes[0].set_xlabel('cool')\n",
    "axes[1].set_xlabel('warm')\n",
    "axes[1].set_yticklabels([])\n",
    "fig.supxlabel('Incidents')\n",
    "fig.tight_layout()"
   ]
  },
  {
   "cell_type": "markdown",
   "metadata": {},
   "source": [
    "There is extremely strong evidence against the assumption of normality, so a two-sample $t$ test is not appropriate.\n",
    "\n",
    "The large number of ties in the warm sample points to the inadequacy of the Mann Whitney U test.\n",
    "\n",
    "A permutation test will be performed.  How probable is an outcome as extreme as the one observed?"
   ]
  },
  {
   "cell_type": "markdown",
   "metadata": {},
   "source": [
    "$\n",
    "\\begin{align}\n",
    "H_0:  {Distribution}_{cool} &= {Distribution}_{warm} \\\\\n",
    "H_a:  {Distribution}_{cool} &\\ne {Distribution}_{warm} \\\\\n",
    "\\end{align}\n",
    "$"
   ]
  },
  {
   "cell_type": "code",
   "execution_count": null,
   "metadata": {},
   "outputs": [],
   "source": [
    "total_combinations = scipy.special.comb(24, 4)\n",
    "\n",
    "# enumerate the combinations that are as bas as or worse than the observed.\n",
    "# The cool incidents are (1, 1, 1, 3).  The sum of the bad incidents is 6\n",
    "num_bad_incidents = len([x for x in combinations(df['Incidents'], 4) if sum(x) >= 6])\n",
    "p = num_bad_incidents / total_combinations\n",
    "print(p)"
   ]
  },
  {
   "cell_type": "markdown",
   "metadata": {},
   "source": [
    "There is strong evidence that the number of O-ring incidents is associated with temperature.  The likelihood of obtaining a result as extreme as observed is small. ($p$-value = 0.0099)."
   ]
  }
 ],
 "metadata": {
  "kernelspec": {
   "display_name": "Python 3 (ipykernel)",
   "language": "python",
   "name": "python3"
  },
  "language_info": {
   "codemirror_mode": {
    "name": "ipython",
    "version": 3
   },
   "file_extension": ".py",
   "mimetype": "text/x-python",
   "name": "python",
   "nbconvert_exporter": "python",
   "pygments_lexer": "ipython3",
   "version": "3.12.3"
  }
 },
 "nbformat": 4,
 "nbformat_minor": 4
}
