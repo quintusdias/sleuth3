{
 "cells": [
  {
   "cell_type": "markdown",
   "metadata": {},
   "source": [
    "# The Energy Costs of Echolocation by Bats - An Observational Study"
   ]
  },
  {
   "cell_type": "markdown",
   "metadata": {},
   "source": [
    "To orient themselves with respect to their surroundings, some bats use echolocation.  They send out pulses and read the echos that are bounced back from surrounding objects.  Such a trait has evolved in very few animal species, perhaps because of the high energy involved in producing pulses.  Because flight also requires a great deal of energy, zoologists wondered whether the combined energy costs of echolocation and flight in bats was the sum of the flight energy costs and the at-rest echolocation energy costs, or whether the bats had developed a means of echolocation in flight that made the combined energy cost less than the sum."
   ]
  },
  {
   "cell_type": "code",
   "execution_count": null,
   "metadata": {},
   "outputs": [],
   "source": [
    "# standard library imports\n",
    "\n",
    "# 3rd party library imports\n",
    "import matplotlib.pyplot as plt\n",
    "import numpy as np\n",
    "import pandas as pd\n",
    "import scipy.stats\n",
    "import seaborn as sns\n",
    "import statsmodels.formula.api as smf\n",
    "import statsmodels.api as sm\n",
    "\n",
    "sns.set()"
   ]
  },
  {
   "cell_type": "markdown",
   "metadata": {},
   "source": [
    "## Inspection and Graphical Display"
   ]
  },
  {
   "cell_type": "code",
   "execution_count": null,
   "metadata": {},
   "outputs": [],
   "source": [
    "df = pd.read_csv('case1002.csv')\n",
    "df.head()"
   ]
  },
  {
   "cell_type": "code",
   "execution_count": null,
   "metadata": {},
   "outputs": [],
   "source": [
    "df.pivot_table(values=['Mass', 'Energy'], index='Type', aggfunc=['mean', 'std'])"
   ]
  },
  {
   "cell_type": "markdown",
   "metadata": {},
   "source": [
    "There is strong evidence against the assumption of equal SDs."
   ]
  },
  {
   "cell_type": "code",
   "execution_count": null,
   "metadata": {},
   "outputs": [],
   "source": [
    "fig, ax = plt.subplots()\n",
    "_ = sns.scatterplot(data=df, x='Mass', y='Energy', hue='Type', ax=ax)"
   ]
  },
  {
   "cell_type": "markdown",
   "metadata": {},
   "source": [
    "The mass-energy relationship looks non-linear.  Try a log transform on both energy and mass."
   ]
  },
  {
   "cell_type": "code",
   "execution_count": null,
   "metadata": {},
   "outputs": [],
   "source": [
    "df['logmass'] = np.log(df['Mass'])\n",
    "df['logenergy'] = np.log(df['Energy'])\n",
    "fig, ax = plt.subplots()\n",
    "_ = sns.scatterplot(data=df, x='logmass', y='logenergy', hue='Type', ax=ax)"
   ]
  },
  {
   "cell_type": "code",
   "execution_count": null,
   "metadata": {},
   "outputs": [],
   "source": [
    "df.pivot_table(values=['logmass', 'logenergy'], index='Type', aggfunc=['mean', 'std'])"
   ]
  },
  {
   "cell_type": "markdown",
   "metadata": {},
   "source": [
    "## Model"
   ]
  },
  {
   "cell_type": "code",
   "execution_count": null,
   "metadata": {},
   "outputs": [],
   "source": [
    "formula = \"np.log(Energy) ~ np.log(Mass) + C(Type, Treatment(reference='non-echolocating bats'))\"\n",
    "model = smf.ols(formula, data=df).fit()\n",
    "model.summary()"
   ]
  },
  {
   "cell_type": "markdown",
   "metadata": {},
   "source": [
    "## Do non-echolocating bats differ from echolocating bats?  Do non-echolocating bats differ from birds?\n",
    "\n",
    "These questions are asking if the coefficients for echolocating bats and non-echolocating birds are zero.  From the summary above, there is weak evidence for a difference between non-echolocating bats and echolocating bats. ($t_{0.95, 16}$ = 0.388, $p$-value = 0.703).  There is also weak evidence for a difference between non-echolocating bats and birds ($t_{0.95, 16}$ = 0.896, $p$-value = 0.384)."
   ]
  },
  {
   "cell_type": "markdown",
   "metadata": {},
   "source": [
    "## How much more energy is expended by echolocating bats?\n",
    "\n",
    "Since we are looking at an additive model, the 95% confidence interval for the extra energy expected by echolocating bats is -0.351 to 0.508 log energy units, and our estimate is 0.0787 log energy units.  Back transforming out, we estimate that the median in-flight energy expediture of echolocating bats is $e^{0.0787} = 1.0819$ times that of non-echolocating bats.  We are 95% confident that the true median multiplicative factor is between $e^{-0.351} = 0.704$ and $e^{0.508} = 1.662$."
   ]
  },
  {
   "cell_type": "markdown",
   "metadata": {},
   "source": [
    "## How might other models compare?\n",
    "### Is there an effect due to type?"
   ]
  },
  {
   "cell_type": "markdown",
   "metadata": {},
   "source": [
    "$\n",
    "\\begin{align}\n",
    "\\mu\\{\\log(E)|\\log(M), TYPE\\} = \\beta_0 + \\beta_1 \\cdot \\log(M) + \\beta_2 \\cdot bird + \\beta_3 \\cdot ebat\n",
    "\\end{align}\n",
    "$\n"
   ]
  },
  {
   "cell_type": "markdown",
   "metadata": {},
   "source": [
    "\n",
    "$\n",
    "\\begin{align}\n",
    "H_0: \\: &\\beta_2 = \\beta_3 = 0 \\\\\n",
    "H_a: \\: &\\text{at least one of the coefficients} \\: \\textemdash \\: \\beta_2 \\: \\text{or} \\: \\beta_3 \\: \\textemdash \\: \\text{is nonzero}\n",
    "\\end{align}\n",
    "$"
   ]
  },
  {
   "cell_type": "code",
   "execution_count": null,
   "metadata": {},
   "outputs": [],
   "source": [
    "full_model = smf.ols('np.log(Energy) ~ np.log(Mass) + C(Type, Treatment(reference=\"non-echolocating bats\"))', data=df).fit()\n",
    "reduced_model = smf.ols('np.log(Energy) ~ np.log(Mass)', data=df).fit()"
   ]
  },
  {
   "cell_type": "code",
   "execution_count": null,
   "metadata": {},
   "outputs": [],
   "source": [
    "sm.stats.anova_lm(reduced_model, full_model)"
   ]
  },
  {
   "cell_type": "markdown",
   "metadata": {},
   "source": [
    "There is only weak evidence of a lack of fit to the reduced model, i.e. there is only weak evidence for an effect due to body type after accounting for body mass ($F_{2,16}$ = 0.4278, $p$-value = 0.6593)."
   ]
  }
 ],
 "metadata": {
  "kernelspec": {
   "display_name": "Python 3 (ipykernel)",
   "language": "python",
   "name": "python3"
  },
  "language_info": {
   "codemirror_mode": {
    "name": "ipython",
    "version": 3
   },
   "file_extension": ".py",
   "mimetype": "text/x-python",
   "name": "python",
   "nbconvert_exporter": "python",
   "pygments_lexer": "ipython3",
   "version": "3.12.3"
  }
 },
 "nbformat": 4,
 "nbformat_minor": 4
}
