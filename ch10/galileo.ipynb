{
 "cells": [
  {
   "cell_type": "code",
   "execution_count": 2,
   "metadata": {},
   "outputs": [],
   "source": [
    "import pathlib\n",
    "\n",
    "import matplotlib.pyplot as plt\n",
    "import numpy as np\n",
    "import pandas as pd\n",
    "import scipy.stats\n",
    "import seaborn as sns\n",
    "import statsmodels.formula.api as smf\n",
    "\n",
    "sns.set()"
   ]
  },
  {
   "cell_type": "markdown",
   "metadata": {},
   "source": [
    "We begin by reading the data and summarizing the variables."
   ]
  },
  {
   "cell_type": "code",
   "execution_count": 3,
   "metadata": {},
   "outputs": [
    {
     "data": {
      "text/html": [
       "<div>\n",
       "<style scoped>\n",
       "    .dataframe tbody tr th:only-of-type {\n",
       "        vertical-align: middle;\n",
       "    }\n",
       "\n",
       "    .dataframe tbody tr th {\n",
       "        vertical-align: top;\n",
       "    }\n",
       "\n",
       "    .dataframe thead th {\n",
       "        text-align: right;\n",
       "    }\n",
       "</style>\n",
       "<table border=\"1\" class=\"dataframe\">\n",
       "  <thead>\n",
       "    <tr style=\"text-align: right;\">\n",
       "      <th></th>\n",
       "      <th>Distance</th>\n",
       "      <th>Height</th>\n",
       "    </tr>\n",
       "  </thead>\n",
       "  <tbody>\n",
       "    <tr>\n",
       "      <td>0</td>\n",
       "      <td>253</td>\n",
       "      <td>100</td>\n",
       "    </tr>\n",
       "    <tr>\n",
       "      <td>1</td>\n",
       "      <td>337</td>\n",
       "      <td>200</td>\n",
       "    </tr>\n",
       "    <tr>\n",
       "      <td>2</td>\n",
       "      <td>395</td>\n",
       "      <td>300</td>\n",
       "    </tr>\n",
       "    <tr>\n",
       "      <td>3</td>\n",
       "      <td>451</td>\n",
       "      <td>450</td>\n",
       "    </tr>\n",
       "    <tr>\n",
       "      <td>4</td>\n",
       "      <td>495</td>\n",
       "      <td>600</td>\n",
       "    </tr>\n",
       "  </tbody>\n",
       "</table>\n",
       "</div>"
      ],
      "text/plain": [
       "   Distance  Height\n",
       "0       253     100\n",
       "1       337     200\n",
       "2       395     300\n",
       "3       451     450\n",
       "4       495     600"
      ]
     },
     "execution_count": 3,
     "metadata": {},
     "output_type": "execute_result"
    }
   ],
   "source": [
    "path = pathlib.Path.home() / 'data' / 'sleuth3' / 'case1001.csv'\n",
    "df = pd.read_csv(path)\n",
    "df.head()"
   ]
  },
  {
   "cell_type": "code",
   "execution_count": 4,
   "metadata": {},
   "outputs": [
    {
     "data": {
      "text/html": [
       "<div>\n",
       "<style scoped>\n",
       "    .dataframe tbody tr th:only-of-type {\n",
       "        vertical-align: middle;\n",
       "    }\n",
       "\n",
       "    .dataframe tbody tr th {\n",
       "        vertical-align: top;\n",
       "    }\n",
       "\n",
       "    .dataframe thead th {\n",
       "        text-align: right;\n",
       "    }\n",
       "</style>\n",
       "<table border=\"1\" class=\"dataframe\">\n",
       "  <thead>\n",
       "    <tr style=\"text-align: right;\">\n",
       "      <th></th>\n",
       "      <th>Distance</th>\n",
       "      <th>Height</th>\n",
       "    </tr>\n",
       "  </thead>\n",
       "  <tbody>\n",
       "    <tr>\n",
       "      <td>count</td>\n",
       "      <td>7.000000</td>\n",
       "      <td>7.000000</td>\n",
       "    </tr>\n",
       "    <tr>\n",
       "      <td>mean</td>\n",
       "      <td>434.000000</td>\n",
       "      <td>492.857143</td>\n",
       "    </tr>\n",
       "    <tr>\n",
       "      <td>std</td>\n",
       "      <td>113.300485</td>\n",
       "      <td>327.144937</td>\n",
       "    </tr>\n",
       "    <tr>\n",
       "      <td>min</td>\n",
       "      <td>253.000000</td>\n",
       "      <td>100.000000</td>\n",
       "    </tr>\n",
       "    <tr>\n",
       "      <td>25%</td>\n",
       "      <td>366.000000</td>\n",
       "      <td>250.000000</td>\n",
       "    </tr>\n",
       "    <tr>\n",
       "      <td>50%</td>\n",
       "      <td>451.000000</td>\n",
       "      <td>450.000000</td>\n",
       "    </tr>\n",
       "    <tr>\n",
       "      <td>75%</td>\n",
       "      <td>514.500000</td>\n",
       "      <td>700.000000</td>\n",
       "    </tr>\n",
       "    <tr>\n",
       "      <td>max</td>\n",
       "      <td>573.000000</td>\n",
       "      <td>1000.000000</td>\n",
       "    </tr>\n",
       "  </tbody>\n",
       "</table>\n",
       "</div>"
      ],
      "text/plain": [
       "         Distance       Height\n",
       "count    7.000000     7.000000\n",
       "mean   434.000000   492.857143\n",
       "std    113.300485   327.144937\n",
       "min    253.000000   100.000000\n",
       "25%    366.000000   250.000000\n",
       "50%    451.000000   450.000000\n",
       "75%    514.500000   700.000000\n",
       "max    573.000000  1000.000000"
      ]
     },
     "execution_count": 4,
     "metadata": {},
     "output_type": "execute_result"
    }
   ],
   "source": [
    "summary = df.describe()\n",
    "summary"
   ]
  },
  {
   "cell_type": "code",
   "execution_count": 5,
   "metadata": {},
   "outputs": [
    {
     "data": {
      "text/plain": [
       "<matplotlib.axes._subplots.AxesSubplot at 0x1a284ffe90>"
      ]
     },
     "execution_count": 5,
     "metadata": {},
     "output_type": "execute_result"
    },
    {
     "data": {
      "image/png": "[encoded data removed]",
      "text/plain": [
       "<Figure size 432x288 with 1 Axes>"
      ]
     },
     "metadata": {},
     "output_type": "display_data"
    }
   ],
   "source": [
    "sns.scatterplot(x='Height', y='Distance', data=df)"
   ]
  },
  {
   "cell_type": "raw",
   "metadata": {},
   "source": [
    "In 1609 Galileo proved mathematically that the trajectory of a body falling with a horizontal velocity component is a parabola.  His discovery of this result, which preceded the mathematical proof by a year, was the result of emperical findings in an experiment conducted for another purpose."
   ]
  },
  {
   "cell_type": "markdown",
   "metadata": {},
   "source": [
    "Galileo's search for an experimental setting in which horizontal motion was not affected appreciably by friction (to study inertia) led him to construct an apparatus.  He placed a grooved, inclined plane on a table, released an ink-covered bronze ball in the groove at one of several heights above the table, and measured the horizontal distance between the table and the resulting ink spot on the floor.  The data are reported in units of _punti_ points.  One _punto_ is 169/180 millimeters.  (Data from S. Drake and J. MacLachlan, \"Galileo's Discovery of the Parabolic Trajectory,\" _Scientific American_ 232 (1975): 102-10.)"
   ]
  },
  {
   "cell_type": "code",
   "execution_count": 6,
   "metadata": {},
   "outputs": [
    {
     "name": "stdout",
     "output_type": "stream",
     "text": [
      "                            OLS Regression Results                            \n",
      "==============================================================================\n",
      "Dep. Variable:               Distance   R-squared:                       0.999\n",
      "Model:                            OLS   Adj. R-squared:                  0.999\n",
      "Method:                 Least Squares   F-statistic:                     1595.\n",
      "Date:                Mon, 16 Sep 2019   Prob (F-statistic):           2.66e-05\n",
      "Time:                        19:18:49   Log-Likelihood:                -16.690\n",
      "No. Observations:                   7   AIC:                             41.38\n",
      "Df Residuals:                       3   BIC:                             41.16\n",
      "Df Model:                           3                                         \n",
      "Covariance Type:            nonrobust                                         \n",
      "=======================================================================================\n",
      "                          coef    std err          t      P>|t|      [0.025      0.975]\n",
      "---------------------------------------------------------------------------------------\n",
      "Intercept             155.7755      8.326     18.710      0.000     129.279     182.272\n",
      "Height                  1.1153      0.066     16.983      0.000       0.906       1.324\n",
      "np.power(Height, 2)    -0.0012      0.000     -8.994      0.003      -0.002      -0.001\n",
      "np.power(Height, 3)  5.477e-07   8.33e-08      6.577      0.007    2.83e-07    8.13e-07\n",
      "==============================================================================\n",
      "Omnibus:                          nan   Durbin-Watson:                   2.366\n",
      "Prob(Omnibus):                    nan   Jarque-Bera (JB):                0.447\n",
      "Skew:                          -0.304   Prob(JB):                        0.800\n",
      "Kurtosis:                       1.921   Cond. No.                     2.38e+09\n",
      "==============================================================================\n",
      "\n",
      "Warnings:\n",
      "[1] Standard Errors assume that the covariance matrix of the errors is correctly specified.\n",
      "[2] The condition number is large, 2.38e+09. This might indicate that there are\n",
      "strong multicollinearity or other numerical problems.\n"
     ]
    },
    {
     "name": "stderr",
     "output_type": "stream",
     "text": [
      "/Users/jevans/anaconda3/lib/python3.7/site-packages/statsmodels/stats/stattools.py:71: ValueWarning: omni_normtest is not valid with less than 8 observations; 7 samples were given.\n",
      "  \"samples were given.\" % int(n), ValueWarning)\n"
     ]
    }
   ],
   "source": [
    "model = smf.ols('Distance ~ Height + np.power(Height, 2) + np.power(Height, 3)', data=df)\n",
    "results = model.fit()\n",
    "print(results.summary())"
   ]
  },
  {
   "cell_type": "code",
   "execution_count": 7,
   "metadata": {},
   "outputs": [
    {
     "data": {
      "text/plain": [
       "[<matplotlib.lines.Line2D at 0x1a284ffb90>]"
      ]
     },
     "execution_count": 7,
     "metadata": {},
     "output_type": "execute_result"
    },
    {
     "data": {
      "image/png": "[encoded data removed]",
      "text/plain": [
       "<Figure size 432x288 with 1 Axes>"
      ]
     },
     "metadata": {},
     "output_type": "display_data"
    }
   ],
   "source": [
    "fig, ax = plt.subplots()\n",
    "sns.scatterplot(x='Height', y='Distance', data=df, ax=ax)\n",
    "df_exog = pd.DataFrame({'Height': np.linspace(0, 1000, 100)})\n",
    "y = results.predict(exog=df_exog)\n",
    "ax.plot(df_exog['Height'], y, color='r')"
   ]
  },
  {
   "cell_type": "markdown",
   "metadata": {},
   "source": [
    "As shown above, a quadratic curve for the regression of horizontal distance on height fits well for initial heights less than 1,000 punti.  The data provides strong evidence that the coefficient of a cubic term differs from zero (two-sided $p$-value = 0.007).  Nonetheless, the quadratic model accounts for 99.03% of the variation in measured horizontal distance, and the cubic term explains only an additional 0.91% of the variation.  (_Note_: The significance of the cubic term can be explained by the effect of resistance.)"
   ]
  },
  {
   "cell_type": "markdown",
   "metadata": {},
   "source": [
    "# Analysis of Variance\n",
    "## Residual sum of squares from reduced model:  $Mean\\{Distance\\} = \\beta_0$\n",
    "\n",
    "In statsmodels, this is summarily reported as the F-statistic and p-value of the F-statistic."
   ]
  },
  {
   "cell_type": "code",
   "execution_count": 13,
   "metadata": {},
   "outputs": [
    {
     "name": "stdout",
     "output_type": "stream",
     "text": [
      "F-statistic:  205.0267\n",
      "p-value:  0.0001\n"
     ]
    }
   ],
   "source": [
    "print(f\"F-statistic:  {results.fvalue:.4f}\")\n",
    "print(f\"p-value:  {results.f_pvalue:.4f}\")"
   ]
  },
  {
   "cell_type": "markdown",
   "metadata": {},
   "source": [
    "This indicates overwhelming evidence that the coefficient of at least one of the explanatory variables $height$ and $height^2$ differs from zero.\n",
    "\n",
    "The full ANOVA table can be constructed as follows."
   ]
  },
  {
   "cell_type": "code",
   "execution_count": 24,
   "metadata": {},
   "outputs": [
    {
     "data": {
      "text/html": [
       "<div>\n",
       "<style scoped>\n",
       "    .dataframe tbody tr th:only-of-type {\n",
       "        vertical-align: middle;\n",
       "    }\n",
       "\n",
       "    .dataframe tbody tr th {\n",
       "        vertical-align: top;\n",
       "    }\n",
       "\n",
       "    .dataframe thead th {\n",
       "        text-align: right;\n",
       "    }\n",
       "</style>\n",
       "<table border=\"1\" class=\"dataframe\">\n",
       "  <thead>\n",
       "    <tr style=\"text-align: right;\">\n",
       "      <th></th>\n",
       "      <th>Sums of Squares</th>\n",
       "      <th>d.f.</th>\n",
       "      <th>Mean Square</th>\n",
       "      <th>F-statistic</th>\n",
       "      <th>p-value</th>\n",
       "    </tr>\n",
       "    <tr>\n",
       "      <th>Source of Variation</th>\n",
       "      <th></th>\n",
       "      <th></th>\n",
       "      <th></th>\n",
       "      <th></th>\n",
       "      <th></th>\n",
       "    </tr>\n",
       "  </thead>\n",
       "  <tbody>\n",
       "    <tr>\n",
       "      <td>Regression</td>\n",
       "      <td>76277.9219</td>\n",
       "      <td>2.0000</td>\n",
       "      <td>38138.9609</td>\n",
       "      <td>205.0267</td>\n",
       "      <td>0.0001</td>\n",
       "    </tr>\n",
       "    <tr>\n",
       "      <td>Residual</td>\n",
       "      <td>744.0781</td>\n",
       "      <td>4.0000</td>\n",
       "      <td>186.0195</td>\n",
       "      <td>nan</td>\n",
       "      <td>nan</td>\n",
       "    </tr>\n",
       "    <tr>\n",
       "      <td>Total</td>\n",
       "      <td>77022.0000</td>\n",
       "      <td>6.0000</td>\n",
       "      <td>nan</td>\n",
       "      <td>nan</td>\n",
       "      <td>nan</td>\n",
       "    </tr>\n",
       "  </tbody>\n",
       "</table>\n",
       "</div>"
      ],
      "text/plain": [
       "                     Sums of Squares   d.f.  Mean Square  F-statistic  p-value\n",
       "Source of Variation                                                           \n",
       "Regression                76277.9219 2.0000   38138.9609     205.0267   0.0001\n",
       "Residual                    744.0781 4.0000     186.0195          nan      nan\n",
       "Total                     77022.0000 6.0000          nan          nan      nan"
      ]
     },
     "execution_count": 24,
     "metadata": {},
     "output_type": "execute_result"
    }
   ],
   "source": [
    "pd.options.display.float_format = \"{:.4f}\".format\n",
    "model = smf.ols('Distance ~ Height + np.power(Height, 2)', data=df)\n",
    "results = model.fit()\n",
    "ss_reduced = ((df.Distance - df.Distance.mean()) ** 2).sum()\n",
    "index = pd.Index(['Regression', 'Residual', 'Total'], name='Source of Variation')\n",
    "records = [\n",
    "    (results.mse_model * results.df_model, results.df_model, results.mse_model, results.fvalue, results.f_pvalue),\n",
    "    (results.mse_resid * results.df_resid, results.df_resid, results.mse_resid, np.NaN, np.NaN),    \n",
    "    (ss_reduced, results.nobs - 1, np.NaN, np.NaN, np.NaN),\n",
    "]\n",
    "columns = ['Sums of Squares', 'd.f.', 'Mean Square', 'F-statistic', 'p-value']\n",
    "dfss = pd.DataFrame.from_records(records, index=index, columns=columns)\n",
    "dfss\n"
   ]
  },
  {
   "cell_type": "markdown",
   "metadata": {},
   "source": [
    "Note that the total sums of squares can be computed both as $(n-1)s_Y^2$ and as the regression sum of squares and the residual sum of squares."
   ]
  },
  {
   "cell_type": "code",
   "execution_count": null,
   "metadata": {},
   "outputs": [],
   "source": []
  }
 ],
 "metadata": {
  "kernelspec": {
   "display_name": "Python 3",
   "language": "python",
   "name": "python3"
  },
  "language_info": {
   "codemirror_mode": {
    "name": "ipython",
    "version": 3
   },
   "file_extension": ".py",
   "mimetype": "text/x-python",
   "name": "python",
   "nbconvert_exporter": "python",
   "pygments_lexer": "ipython3",
   "version": "3.7.4"
  }
 },
 "nbformat": 4,
 "nbformat_minor": 2
}
