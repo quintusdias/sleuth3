{
 "cells": [
  {
   "cell_type": "markdown",
   "metadata": {},
   "source": [
    "# The Energy Costs of Echolocation by Bats - An Observational Study"
   ]
  },
  {
   "cell_type": "markdown",
   "metadata": {},
   "source": [
    "To orient themselves with respect to their surroundings, some bats use echolocation.  They send out pulses and read the echos that are bounced back from surrounding objects.  Such a trait has evolved in very few animal species, perhaps because of the high energy involved in producing pulses.  Because flight also requires a great deal of energy, zoologists wondered whether the combined energy costs of echolocation and flight in bats was the sum of the flight energy costs and the at-rest echolocation energy costs, or whether the bats had developed a means of echolocation in flight that made the combined energy cost less than the sum."
   ]
  },
  {
   "cell_type": "code",
   "execution_count": 6,
   "metadata": {},
   "outputs": [],
   "source": [
    "import pathlib\n",
    "\n",
    "import matplotlib.pyplot as plt\n",
    "import numpy as np\n",
    "import pandas as pd\n",
    "import scipy.stats\n",
    "import seaborn as sns\n",
    "import statsmodels.formula.api as smf\n",
    "\n",
    "sns.set()"
   ]
  },
  {
   "cell_type": "markdown",
   "metadata": {},
   "source": [
    "We begin by reading the data and summarizing the variables."
   ]
  },
  {
   "cell_type": "code",
   "execution_count": 7,
   "metadata": {},
   "outputs": [
    {
     "data": {
      "text/html": [
       "<div>\n",
       "<style scoped>\n",
       "    .dataframe tbody tr th:only-of-type {\n",
       "        vertical-align: middle;\n",
       "    }\n",
       "\n",
       "    .dataframe tbody tr th {\n",
       "        vertical-align: top;\n",
       "    }\n",
       "\n",
       "    .dataframe thead th {\n",
       "        text-align: right;\n",
       "    }\n",
       "</style>\n",
       "<table border=\"1\" class=\"dataframe\">\n",
       "  <thead>\n",
       "    <tr style=\"text-align: right;\">\n",
       "      <th></th>\n",
       "      <th>Mass</th>\n",
       "      <th>Type</th>\n",
       "      <th>Energy</th>\n",
       "    </tr>\n",
       "  </thead>\n",
       "  <tbody>\n",
       "    <tr>\n",
       "      <td>0</td>\n",
       "      <td>779.0</td>\n",
       "      <td>non-echolocating bats</td>\n",
       "      <td>43.70</td>\n",
       "    </tr>\n",
       "    <tr>\n",
       "      <td>1</td>\n",
       "      <td>628.0</td>\n",
       "      <td>non-echolocating bats</td>\n",
       "      <td>34.80</td>\n",
       "    </tr>\n",
       "    <tr>\n",
       "      <td>2</td>\n",
       "      <td>258.0</td>\n",
       "      <td>non-echolocating bats</td>\n",
       "      <td>23.30</td>\n",
       "    </tr>\n",
       "    <tr>\n",
       "      <td>3</td>\n",
       "      <td>315.0</td>\n",
       "      <td>non-echolocating bats</td>\n",
       "      <td>22.40</td>\n",
       "    </tr>\n",
       "    <tr>\n",
       "      <td>4</td>\n",
       "      <td>24.3</td>\n",
       "      <td>non-echolocating birds</td>\n",
       "      <td>2.46</td>\n",
       "    </tr>\n",
       "  </tbody>\n",
       "</table>\n",
       "</div>"
      ],
      "text/plain": [
       "    Mass                    Type  Energy\n",
       "0  779.0   non-echolocating bats   43.70\n",
       "1  628.0   non-echolocating bats   34.80\n",
       "2  258.0   non-echolocating bats   23.30\n",
       "3  315.0   non-echolocating bats   22.40\n",
       "4   24.3  non-echolocating birds    2.46"
      ]
     },
     "execution_count": 7,
     "metadata": {},
     "output_type": "execute_result"
    }
   ],
   "source": [
    "path = pathlib.Path.home() / 'data' / 'sleuth3' / 'case1002.csv'\n",
    "df = pd.read_csv(path)\n",
    "df.head()"
   ]
  },
  {
   "cell_type": "code",
   "execution_count": 8,
   "metadata": {},
   "outputs": [
    {
     "data": {
      "text/html": [
       "<div>\n",
       "<style scoped>\n",
       "    .dataframe tbody tr th:only-of-type {\n",
       "        vertical-align: middle;\n",
       "    }\n",
       "\n",
       "    .dataframe tbody tr th {\n",
       "        vertical-align: top;\n",
       "    }\n",
       "\n",
       "    .dataframe thead th {\n",
       "        text-align: right;\n",
       "    }\n",
       "</style>\n",
       "<table border=\"1\" class=\"dataframe\">\n",
       "  <thead>\n",
       "    <tr style=\"text-align: right;\">\n",
       "      <th></th>\n",
       "      <th>Mass</th>\n",
       "      <th>Energy</th>\n",
       "    </tr>\n",
       "  </thead>\n",
       "  <tbody>\n",
       "    <tr>\n",
       "      <td>count</td>\n",
       "      <td>20.000000</td>\n",
       "      <td>20.000000</td>\n",
       "    </tr>\n",
       "    <tr>\n",
       "      <td>mean</td>\n",
       "      <td>262.675000</td>\n",
       "      <td>19.518000</td>\n",
       "    </tr>\n",
       "    <tr>\n",
       "      <td>std</td>\n",
       "      <td>220.900239</td>\n",
       "      <td>13.998325</td>\n",
       "    </tr>\n",
       "    <tr>\n",
       "      <td>min</td>\n",
       "      <td>6.700000</td>\n",
       "      <td>1.020000</td>\n",
       "    </tr>\n",
       "    <tr>\n",
       "      <td>25%</td>\n",
       "      <td>63.350000</td>\n",
       "      <td>7.605000</td>\n",
       "    </tr>\n",
       "    <tr>\n",
       "      <td>50%</td>\n",
       "      <td>266.500000</td>\n",
       "      <td>22.600000</td>\n",
       "    </tr>\n",
       "    <tr>\n",
       "      <td>75%</td>\n",
       "      <td>391.000000</td>\n",
       "      <td>28.225000</td>\n",
       "    </tr>\n",
       "    <tr>\n",
       "      <td>max</td>\n",
       "      <td>779.000000</td>\n",
       "      <td>43.700000</td>\n",
       "    </tr>\n",
       "  </tbody>\n",
       "</table>\n",
       "</div>"
      ],
      "text/plain": [
       "             Mass     Energy\n",
       "count   20.000000  20.000000\n",
       "mean   262.675000  19.518000\n",
       "std    220.900239  13.998325\n",
       "min      6.700000   1.020000\n",
       "25%     63.350000   7.605000\n",
       "50%    266.500000  22.600000\n",
       "75%    391.000000  28.225000\n",
       "max    779.000000  43.700000"
      ]
     },
     "execution_count": 8,
     "metadata": {},
     "output_type": "execute_result"
    }
   ],
   "source": [
    "summary = df.describe()\n",
    "summary"
   ]
  },
  {
   "cell_type": "code",
   "execution_count": 9,
   "metadata": {},
   "outputs": [
    {
     "data": {
      "text/plain": [
       "<matplotlib.axes._subplots.AxesSubplot at 0x1a238706d0>"
      ]
     },
     "execution_count": 9,
     "metadata": {},
     "output_type": "execute_result"
    },
    {
     "data": {
      "image/png": "[encoded data removed]",
      "text/plain": [
       "<Figure size 432x288 with 1 Axes>"
      ]
     },
     "metadata": {},
     "output_type": "display_data"
    }
   ],
   "source": [
    "fig, ax = plt.subplots()\n",
    "ax.set_xscale('log')\n",
    "ax.set_xlim(0.8, 900)\n",
    "ax.set_yscale('log')\n",
    "ax.set_ylim(0.8, 100)\n",
    "sns.scatterplot(x='Mass', y='Energy', hue='Type', data=df, ax=ax)"
   ]
  },
  {
   "cell_type": "markdown",
   "metadata": {},
   "source": [
    "Zoologists considered the data on in-flight energy expenditure and body mass from 20 energy studies on three types of flying vertebrates:  echolocating bats, non-echolocating bats, and non-echolocating birds.  They believed that if the combined energy expenditure for flight and echolocation were additive, the amount of energy expenditure (after accounting for body size) would be greater for echolocating bats than for non-echolocating bats and non-echolocating birds."
   ]
  },
  {
   "cell_type": "code",
   "execution_count": 10,
   "metadata": {},
   "outputs": [
    {
     "name": "stdout",
     "output_type": "stream",
     "text": [
      "                            OLS Regression Results                            \n",
      "==============================================================================\n",
      "Dep. Variable:         np.log(Energy)   R-squared:                       0.982\n",
      "Model:                            OLS   Adj. R-squared:                  0.978\n",
      "Method:                 Least Squares   F-statistic:                     283.6\n",
      "Date:                Sun, 15 Sep 2019   Prob (F-statistic):           4.46e-14\n",
      "Time:                        11:57:48   Log-Likelihood:                 7.4968\n",
      "No. Observations:                  20   AIC:                            -6.994\n",
      "Df Residuals:                      16   BIC:                            -3.011\n",
      "Df Model:                           3                                         \n",
      "Covariance Type:            nonrobust                                         \n",
      "===================================================================================================================================================\n",
      "                                                                                      coef    std err          t      P>|t|      [0.025      0.975]\n",
      "---------------------------------------------------------------------------------------------------------------------------------------------------\n",
      "Intercept                                                                          -1.5764      0.287     -5.488      0.000      -2.185      -0.967\n",
      "C(Type, Treatment(reference='non-echolocating bats'))[T.echolocating bats]          0.0787      0.203      0.388      0.703      -0.351       0.508\n",
      "C(Type, Treatment(reference='non-echolocating bats'))[T.non-echolocating birds]     0.1023      0.114      0.896      0.384      -0.140       0.344\n",
      "np.log(Mass)                                                                        0.8150      0.045     18.297      0.000       0.721       0.909\n",
      "==============================================================================\n",
      "Omnibus:                        1.592   Durbin-Watson:                   1.982\n",
      "Prob(Omnibus):                  0.451   Jarque-Bera (JB):                1.306\n",
      "Skew:                           0.466   Prob(JB):                        0.520\n",
      "Kurtosis:                       2.163   Cond. No.                         44.2\n",
      "==============================================================================\n",
      "\n",
      "Warnings:\n",
      "[1] Standard Errors assume that the covariance matrix of the errors is correctly specified.\n"
     ]
    }
   ],
   "source": [
    "formula = \"np.log(Energy) ~ np.log(Mass) + C(Type, Treatment(reference='non-echolocating bats'))\"\n",
    "model = smf.ols(formula, data=df)\n",
    "results = model.fit()\n",
    "print(results.summary())"
   ]
  },
  {
   "cell_type": "markdown",
   "metadata": {},
   "source": [
    "# Do non-echolocating bats differ from echolocating bats?\n"
   ]
  },
  {
   "cell_type": "code",
   "execution_count": 11,
   "metadata": {},
   "outputs": [
    {
     "data": {
      "text/html": [
       "<div>\n",
       "<style scoped>\n",
       "    .dataframe tbody tr th:only-of-type {\n",
       "        vertical-align: middle;\n",
       "    }\n",
       "\n",
       "    .dataframe tbody tr th {\n",
       "        vertical-align: top;\n",
       "    }\n",
       "\n",
       "    .dataframe thead th {\n",
       "        text-align: right;\n",
       "    }\n",
       "</style>\n",
       "<table border=\"1\" class=\"dataframe\">\n",
       "  <thead>\n",
       "    <tr style=\"text-align: right;\">\n",
       "      <th></th>\n",
       "      <th>coef</th>\n",
       "      <th>standard error</th>\n",
       "      <th>t-statistic</th>\n",
       "      <th>two-sided p-value</th>\n",
       "    </tr>\n",
       "  </thead>\n",
       "  <tbody>\n",
       "    <tr>\n",
       "      <td>Constant:  $\\beta_0$</td>\n",
       "      <td>-1.576</td>\n",
       "      <td>0.287</td>\n",
       "      <td>-5.488</td>\n",
       "      <td>0.000</td>\n",
       "    </tr>\n",
       "    <tr>\n",
       "      <td>echolocating bats: $\\beta_2$</td>\n",
       "      <td>0.079</td>\n",
       "      <td>0.203</td>\n",
       "      <td>0.388</td>\n",
       "      <td>0.703</td>\n",
       "    </tr>\n",
       "    <tr>\n",
       "      <td>non-echolocating birds:  $\\beta_3$</td>\n",
       "      <td>0.102</td>\n",
       "      <td>0.114</td>\n",
       "      <td>0.896</td>\n",
       "      <td>0.384</td>\n",
       "    </tr>\n",
       "    <tr>\n",
       "      <td>lmass:  $\\beta_1$</td>\n",
       "      <td>0.815</td>\n",
       "      <td>0.045</td>\n",
       "      <td>18.297</td>\n",
       "      <td>0.000</td>\n",
       "    </tr>\n",
       "  </tbody>\n",
       "</table>\n",
       "</div>"
      ],
      "text/plain": [
       "                                     coef  standard error  t-statistic  two-sided p-value\n",
       "Constant:  $\\beta_0$               -1.576           0.287       -5.488              0.000\n",
       "echolocating bats: $\\beta_2$        0.079           0.203        0.388              0.703\n",
       "non-echolocating birds:  $\\beta_3$  0.102           0.114        0.896              0.384\n",
       "lmass:  $\\beta_1$                   0.815           0.045       18.297              0.000"
      ]
     },
     "execution_count": 11,
     "metadata": {},
     "output_type": "execute_result"
    }
   ],
   "source": [
    "pd.options.display.float_format = \"{:.3f}\".format\n",
    "df1 = pd.concat((results.params, results.bse, results.tvalues, results.pvalues), axis='columns')\n",
    "df1.index = ['Constant:  $\\\\beta_0$', 'echolocating bats: $\\\\beta_2$', 'non-echolocating birds:  $\\\\beta_3$', 'lmass:  $\\\\beta_1$']\n",
    "df1.columns = ['coef', 'standard error', 't-statistic', 'two-sided p-value']\n",
    "df1"
   ]
  },
  {
   "cell_type": "markdown",
   "metadata": {},
   "source": [
    "In the parallel regression lines model for log energy on log mass, the mean log energy for non-echolocating bats is $\\beta_0 + \\beta_1 lmass$.  The mean log energy for echolocating bats is $\\beta_0 + \\beta_1 lmass + \\beta_2$.  The question as to whether the mean log energy for echolocating bats is the same for non-echolocating bats of similar size may be examined through a test of the hypothesis that $\\beta_2$ is zero.  The $p$-value obtained is 0.703, providing no reason to doubt that $\\beta_2$ is 0."
   ]
  },
  {
   "cell_type": "markdown",
   "metadata": {},
   "source": [
    "# Is there any evidence that echolocating bats, non-echolocating bats, and birds differ from each other after accounting for body mass?\n",
    "\n",
    "## Fit the full model: $\\mu\\{lenergy|lmass,TYPE\\} = \\beta_0 + \\beta_1 lmass + \\beta_2 bird + \\beta_3 ebat$"
   ]
  },
  {
   "cell_type": "code",
   "execution_count": 13,
   "metadata": {},
   "outputs": [
    {
     "name": "stdout",
     "output_type": "stream",
     "text": [
      "0.553317534724656 16.0 0.034582345920291\n"
     ]
    }
   ],
   "source": [
    "print(results.ssr, results.df_resid, results.mse_resid)"
   ]
  },
  {
   "cell_type": "markdown",
   "metadata": {},
   "source": [
    "Sum of squared residuals = 0.55332, d.f. = 16, $\\hat{\\sigma}^2$ = 0.03458"
   ]
  },
  {
   "cell_type": "markdown",
   "metadata": {},
   "source": [
    "## Fit the REDUCED model:  $\\mu\\{lenergy|lmass,TYPE\\} = \\beta_0 + \\beta_1 lmass$"
   ]
  },
  {
   "cell_type": "code",
   "execution_count": 15,
   "metadata": {},
   "outputs": [
    {
     "name": "stdout",
     "output_type": "stream",
     "text": [
      "0.5828911268810113 18.0 0.032382840382278406\n"
     ]
    }
   ],
   "source": [
    "formula = \"np.log(Energy) ~ np.log(Mass)\"\n",
    "model_reduced = smf.ols(formula, data=df)\n",
    "results_reduced = model_reduced.fit()\n",
    "print(results_reduced.ssr, results_reduced.df_resid, results_reduced.mse_resid)"
   ]
  },
  {
   "cell_type": "markdown",
   "metadata": {},
   "source": [
    "Sum of squared residuals = 0.58289, d.f. = 18"
   ]
  },
  {
   "cell_type": "markdown",
   "metadata": {},
   "source": [
    "## The extra sum of squares is the difference between the two residual sums of squares."
   ]
  },
  {
   "cell_type": "code",
   "execution_count": 17,
   "metadata": {},
   "outputs": [
    {
     "name": "stdout",
     "output_type": "stream",
     "text": [
      "0.029573592156355355\n"
     ]
    }
   ],
   "source": [
    "extra_ss = results_reduced.ssr - results.ssr\n",
    "print(extra_ss)"
   ]
  },
  {
   "cell_type": "markdown",
   "metadata": {},
   "source": [
    "## Numerator degrees of freedom are the number of $\\beta$'s in the full model minus the number of $\\beta$'s in the reduced model."
   ]
  },
  {
   "cell_type": "code",
   "execution_count": 18,
   "metadata": {},
   "outputs": [
    {
     "name": "stdout",
     "output_type": "stream",
     "text": [
      "2.0\n"
     ]
    }
   ],
   "source": [
    "ddof = results_reduced.df_resid - results.df_resid\n",
    "print(ddof)"
   ]
  },
  {
   "cell_type": "markdown",
   "metadata": {},
   "source": [
    "## Calculate the F-statistic."
   ]
  },
  {
   "cell_type": "code",
   "execution_count": 19,
   "metadata": {},
   "outputs": [
    {
     "data": {
      "text/plain": [
       "0.42758221528001106"
      ]
     },
     "execution_count": 19,
     "metadata": {},
     "output_type": "execute_result"
    }
   ],
   "source": [
    "f = (extra_ss / ddof) / results.mse_resid\n",
    "f"
   ]
  },
  {
   "cell_type": "markdown",
   "metadata": {},
   "source": [
    "## Find $Pr(F_{2,16} > 0.428)$"
   ]
  },
  {
   "cell_type": "code",
   "execution_count": 20,
   "metadata": {},
   "outputs": [
    {
     "data": {
      "text/plain": [
       "0.659319487159171"
      ]
     },
     "execution_count": 20,
     "metadata": {},
     "output_type": "execute_result"
    }
   ],
   "source": [
    "1 - scipy.stats.f.cdf(f,2,16) "
   ]
  },
  {
   "cell_type": "markdown",
   "metadata": {},
   "source": [
    "Conclusion:  There is no evidence that mean log energy differs for birds, echolocating bats, and non-echolocating bats, after acounting for body mass."
   ]
  },
  {
   "cell_type": "code",
   "execution_count": null,
   "metadata": {},
   "outputs": [],
   "source": []
  }
 ],
 "metadata": {
  "kernelspec": {
   "display_name": "Python 3",
   "language": "python",
   "name": "python3"
  },
  "language_info": {
   "codemirror_mode": {
    "name": "ipython",
    "version": 3
   },
   "file_extension": ".py",
   "mimetype": "text/x-python",
   "name": "python",
   "nbconvert_exporter": "python",
   "pygments_lexer": "ipython3",
   "version": "3.7.4"
  }
 },
 "nbformat": 4,
 "nbformat_minor": 2
}
