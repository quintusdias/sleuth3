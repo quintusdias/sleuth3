{
 "cells": [
  {
   "cell_type": "code",
   "execution_count": 1,
   "metadata": {},
   "outputs": [],
   "source": [
    "import pathlib\n",
    "\n",
    "import numpy as np\n",
    "import pandas as pd\n",
    "import scipy.stats\n",
    "import seaborn as sns\n",
    "\n",
    "sns.set()"
   ]
  },
  {
   "cell_type": "markdown",
   "metadata": {},
   "source": [
    "We begin by reading the data and summarizing the variables."
   ]
  },
  {
   "cell_type": "code",
   "execution_count": 4,
   "metadata": {},
   "outputs": [
    {
     "data": {
      "text/html": [
       "<div>\n",
       "<style scoped>\n",
       "    .dataframe tbody tr th:only-of-type {\n",
       "        vertical-align: middle;\n",
       "    }\n",
       "\n",
       "    .dataframe tbody tr th {\n",
       "        vertical-align: top;\n",
       "    }\n",
       "\n",
       "    .dataframe thead th {\n",
       "        text-align: right;\n",
       "    }\n",
       "</style>\n",
       "<table border=\"1\" class=\"dataframe\">\n",
       "  <thead>\n",
       "    <tr style=\"text-align: right;\">\n",
       "      <th></th>\n",
       "      <th>Proportion</th>\n",
       "      <th>Pair</th>\n",
       "      <th>Length</th>\n",
       "    </tr>\n",
       "  </thead>\n",
       "  <tbody>\n",
       "    <tr>\n",
       "      <th>0</th>\n",
       "      <td>0.44</td>\n",
       "      <td>Pair1</td>\n",
       "      <td>35</td>\n",
       "    </tr>\n",
       "    <tr>\n",
       "      <th>1</th>\n",
       "      <td>0.54</td>\n",
       "      <td>Pair1</td>\n",
       "      <td>35</td>\n",
       "    </tr>\n",
       "    <tr>\n",
       "      <th>2</th>\n",
       "      <td>0.50</td>\n",
       "      <td>Pair1</td>\n",
       "      <td>35</td>\n",
       "    </tr>\n",
       "    <tr>\n",
       "      <th>3</th>\n",
       "      <td>0.65</td>\n",
       "      <td>Pair1</td>\n",
       "      <td>35</td>\n",
       "    </tr>\n",
       "    <tr>\n",
       "      <th>4</th>\n",
       "      <td>0.53</td>\n",
       "      <td>Pair1</td>\n",
       "      <td>35</td>\n",
       "    </tr>\n",
       "  </tbody>\n",
       "</table>\n",
       "</div>"
      ],
      "text/plain": [
       "   Proportion   Pair  Length\n",
       "0        0.44  Pair1      35\n",
       "1        0.54  Pair1      35\n",
       "2        0.50  Pair1      35\n",
       "3        0.65  Pair1      35\n",
       "4        0.53  Pair1      35"
      ]
     },
     "execution_count": 4,
     "metadata": {},
     "output_type": "execute_result"
    }
   ],
   "source": [
    "path = pathlib.Path.home() / 'data' / 'sleuth3' / 'case0602.csv'\n",
    "df = pd.read_csv(path)\n",
    "df.head()"
   ]
  },
  {
   "cell_type": "code",
   "execution_count": 5,
   "metadata": {},
   "outputs": [
    {
     "data": {
      "text/html": [
       "<div>\n",
       "<style scoped>\n",
       "    .dataframe tbody tr th:only-of-type {\n",
       "        vertical-align: middle;\n",
       "    }\n",
       "\n",
       "    .dataframe tbody tr th {\n",
       "        vertical-align: top;\n",
       "    }\n",
       "\n",
       "    .dataframe thead th {\n",
       "        text-align: right;\n",
       "    }\n",
       "</style>\n",
       "<table border=\"1\" class=\"dataframe\">\n",
       "  <thead>\n",
       "    <tr style=\"text-align: right;\">\n",
       "      <th></th>\n",
       "      <th>Proportion</th>\n",
       "      <th>Length</th>\n",
       "    </tr>\n",
       "  </thead>\n",
       "  <tbody>\n",
       "    <tr>\n",
       "      <th>count</th>\n",
       "      <td>84.000000</td>\n",
       "      <td>84.000000</td>\n",
       "    </tr>\n",
       "    <tr>\n",
       "      <th>mean</th>\n",
       "      <td>0.621071</td>\n",
       "      <td>32.845238</td>\n",
       "    </tr>\n",
       "    <tr>\n",
       "      <th>std</th>\n",
       "      <td>0.153529</td>\n",
       "      <td>2.114175</td>\n",
       "    </tr>\n",
       "    <tr>\n",
       "      <th>min</th>\n",
       "      <td>0.100000</td>\n",
       "      <td>28.000000</td>\n",
       "    </tr>\n",
       "    <tr>\n",
       "      <th>25%</th>\n",
       "      <td>0.530000</td>\n",
       "      <td>31.000000</td>\n",
       "    </tr>\n",
       "    <tr>\n",
       "      <th>50%</th>\n",
       "      <td>0.615000</td>\n",
       "      <td>34.000000</td>\n",
       "    </tr>\n",
       "    <tr>\n",
       "      <th>75%</th>\n",
       "      <td>0.720000</td>\n",
       "      <td>34.000000</td>\n",
       "    </tr>\n",
       "    <tr>\n",
       "      <th>max</th>\n",
       "      <td>0.920000</td>\n",
       "      <td>35.000000</td>\n",
       "    </tr>\n",
       "  </tbody>\n",
       "</table>\n",
       "</div>"
      ],
      "text/plain": [
       "       Proportion     Length\n",
       "count   84.000000  84.000000\n",
       "mean     0.621071  32.845238\n",
       "std      0.153529   2.114175\n",
       "min      0.100000  28.000000\n",
       "25%      0.530000  31.000000\n",
       "50%      0.615000  34.000000\n",
       "75%      0.720000  34.000000\n",
       "max      0.920000  35.000000"
      ]
     },
     "execution_count": 5,
     "metadata": {},
     "output_type": "execute_result"
    }
   ],
   "source": [
    "summary = df.describe()\n",
    "summary"
   ]
  },
  {
   "cell_type": "code",
   "execution_count": 7,
   "metadata": {},
   "outputs": [
    {
     "data": {
      "text/html": [
       "<div>\n",
       "<style scoped>\n",
       "    .dataframe tbody tr th:only-of-type {\n",
       "        vertical-align: middle;\n",
       "    }\n",
       "\n",
       "    .dataframe tbody tr th {\n",
       "        vertical-align: top;\n",
       "    }\n",
       "\n",
       "    .dataframe thead th {\n",
       "        text-align: right;\n",
       "    }\n",
       "</style>\n",
       "<table border=\"1\" class=\"dataframe\">\n",
       "  <thead>\n",
       "    <tr style=\"text-align: right;\">\n",
       "      <th></th>\n",
       "      <th>count</th>\n",
       "      <th>mean</th>\n",
       "      <th>std</th>\n",
       "      <th>min</th>\n",
       "      <th>25%</th>\n",
       "      <th>50%</th>\n",
       "      <th>75%</th>\n",
       "      <th>max</th>\n",
       "    </tr>\n",
       "    <tr>\n",
       "      <th>Pair</th>\n",
       "      <th></th>\n",
       "      <th></th>\n",
       "      <th></th>\n",
       "      <th></th>\n",
       "      <th></th>\n",
       "      <th></th>\n",
       "      <th></th>\n",
       "      <th></th>\n",
       "    </tr>\n",
       "  </thead>\n",
       "  <tbody>\n",
       "    <tr>\n",
       "      <th>Pair1</th>\n",
       "      <td>16.0</td>\n",
       "      <td>0.563750</td>\n",
       "      <td>0.088610</td>\n",
       "      <td>0.44</td>\n",
       "      <td>0.4975</td>\n",
       "      <td>0.555</td>\n",
       "      <td>0.6275</td>\n",
       "      <td>0.73</td>\n",
       "    </tr>\n",
       "    <tr>\n",
       "      <th>Pair2</th>\n",
       "      <td>14.0</td>\n",
       "      <td>0.609286</td>\n",
       "      <td>0.124744</td>\n",
       "      <td>0.40</td>\n",
       "      <td>0.5275</td>\n",
       "      <td>0.645</td>\n",
       "      <td>0.6975</td>\n",
       "      <td>0.80</td>\n",
       "    </tr>\n",
       "    <tr>\n",
       "      <th>Pair3</th>\n",
       "      <td>17.0</td>\n",
       "      <td>0.624706</td>\n",
       "      <td>0.223386</td>\n",
       "      <td>0.10</td>\n",
       "      <td>0.5100</td>\n",
       "      <td>0.620</td>\n",
       "      <td>0.8400</td>\n",
       "      <td>0.91</td>\n",
       "    </tr>\n",
       "    <tr>\n",
       "      <th>Pair4</th>\n",
       "      <td>14.0</td>\n",
       "      <td>0.668571</td>\n",
       "      <td>0.142443</td>\n",
       "      <td>0.42</td>\n",
       "      <td>0.5725</td>\n",
       "      <td>0.680</td>\n",
       "      <td>0.7575</td>\n",
       "      <td>0.92</td>\n",
       "    </tr>\n",
       "    <tr>\n",
       "      <th>Pair5</th>\n",
       "      <td>9.0</td>\n",
       "      <td>0.641111</td>\n",
       "      <td>0.092256</td>\n",
       "      <td>0.48</td>\n",
       "      <td>0.6100</td>\n",
       "      <td>0.630</td>\n",
       "      <td>0.6600</td>\n",
       "      <td>0.78</td>\n",
       "    </tr>\n",
       "    <tr>\n",
       "      <th>Pair6</th>\n",
       "      <td>14.0</td>\n",
       "      <td>0.633571</td>\n",
       "      <td>0.178438</td>\n",
       "      <td>0.33</td>\n",
       "      <td>0.5650</td>\n",
       "      <td>0.625</td>\n",
       "      <td>0.7900</td>\n",
       "      <td>0.88</td>\n",
       "    </tr>\n",
       "  </tbody>\n",
       "</table>\n",
       "</div>"
      ],
      "text/plain": [
       "       count      mean       std   min     25%    50%     75%   max\n",
       "Pair                                                               \n",
       "Pair1   16.0  0.563750  0.088610  0.44  0.4975  0.555  0.6275  0.73\n",
       "Pair2   14.0  0.609286  0.124744  0.40  0.5275  0.645  0.6975  0.80\n",
       "Pair3   17.0  0.624706  0.223386  0.10  0.5100  0.620  0.8400  0.91\n",
       "Pair4   14.0  0.668571  0.142443  0.42  0.5725  0.680  0.7575  0.92\n",
       "Pair5    9.0  0.641111  0.092256  0.48  0.6100  0.630  0.6600  0.78\n",
       "Pair6   14.0  0.633571  0.178438  0.33  0.5650  0.625  0.7900  0.88"
      ]
     },
     "execution_count": 7,
     "metadata": {},
     "output_type": "execute_result"
    }
   ],
   "source": [
    "df.groupby('Pair')['Proportion'].describe()"
   ]
  },
  {
   "cell_type": "code",
   "execution_count": 8,
   "metadata": {},
   "outputs": [
    {
     "data": {
      "text/plain": [
       "<matplotlib.axes._subplots.AxesSubplot at 0x1a207af590>"
      ]
     },
     "execution_count": 8,
     "metadata": {},
     "output_type": "execute_result"
    },
    {
     "data": {
      "image/png": "[encoded data removed]",
      "text/plain": [
       "<Figure size 432x288 with 1 Axes>"
      ]
     },
     "metadata": {},
     "output_type": "display_data"
    }
   ],
   "source": [
    "sns.boxplot(x='Pair', y='Proportion', data=df)"
   ]
  },
  {
   "cell_type": "code",
   "execution_count": 12,
   "metadata": {},
   "outputs": [
    {
     "data": {
      "image/png": "[encoded data removed]",
      "text/plain": [
       "<Figure size 432x288 with 1 Axes>"
      ]
     },
     "metadata": {},
     "output_type": "display_data"
    }
   ],
   "source": [
    "for diet, grp in df.groupby('Pair'):\n",
    "    sns.distplot(grp['P'], rug=True, hist=False, label=diet)"
   ]
  },
  {
   "cell_type": "markdown",
   "metadata": {},
   "source": [
    "Are the mice population lifetimes statistically different?  I.e.,\n",
    "\n",
    "$\\it{H_0}:  \\mu_{N/N85} = \\mu_{N/R40} = \\mu_{N/R50} = \\mu_{NP} = \\mu_{R/R50} = \\mu_{lopro}$"
   ]
  },
  {
   "cell_type": "code",
   "execution_count": 15,
   "metadata": {},
   "outputs": [
    {
     "data": {
      "text/html": [
       "<div>\n",
       "<style scoped>\n",
       "    .dataframe tbody tr th:only-of-type {\n",
       "        vertical-align: middle;\n",
       "    }\n",
       "\n",
       "    .dataframe tbody tr th {\n",
       "        vertical-align: top;\n",
       "    }\n",
       "\n",
       "    .dataframe thead th {\n",
       "        text-align: right;\n",
       "    }\n",
       "</style>\n",
       "<table border=\"1\" class=\"dataframe\">\n",
       "  <thead>\n",
       "    <tr style=\"text-align: right;\">\n",
       "      <th></th>\n",
       "      <th>Sum of Squares</th>\n",
       "      <th>d.f.</th>\n",
       "      <th>Mean Square</th>\n",
       "      <th>F Statistic</th>\n",
       "      <th>p-value</th>\n",
       "    </tr>\n",
       "  </thead>\n",
       "  <tbody>\n",
       "    <tr>\n",
       "      <th>Between Groups</th>\n",
       "      <td>12733.941812</td>\n",
       "      <td>5</td>\n",
       "      <td>2546.788362</td>\n",
       "      <td>57.104314</td>\n",
       "      <td>4.111744e-43</td>\n",
       "    </tr>\n",
       "    <tr>\n",
       "      <th>Within Groups</th>\n",
       "      <td>15297.415323</td>\n",
       "      <td>343</td>\n",
       "      <td>44.598878</td>\n",
       "      <td>NaN</td>\n",
       "      <td>NaN</td>\n",
       "    </tr>\n",
       "    <tr>\n",
       "      <th>Total</th>\n",
       "      <td>28031.357135</td>\n",
       "      <td>348</td>\n",
       "      <td>80.549877</td>\n",
       "      <td>NaN</td>\n",
       "      <td>NaN</td>\n",
       "    </tr>\n",
       "  </tbody>\n",
       "</table>\n",
       "</div>"
      ],
      "text/plain": [
       "                Sum of Squares  d.f.  Mean Square  F Statistic       p-value\n",
       "Between Groups    12733.941812     5  2546.788362    57.104314  4.111744e-43\n",
       "Within Groups     15297.415323   343    44.598878          NaN           NaN\n",
       "Total             28031.357135   348    80.549877          NaN           NaN"
      ]
     },
     "execution_count": 15,
     "metadata": {},
     "output_type": "execute_result"
    }
   ],
   "source": [
    "mu = summary.loc['mean', 'Lifetime']\n",
    "\n",
    "a = np.empty((3, 5))\n",
    "a[:] = NaN\n",
    "index = ['Between Groups', 'Within Groups', 'Total']\n",
    "columns = ['Sum of Squares', 'd.f.', 'Mean Square', 'F Statistic', 'p-value']\n",
    "dfss = pd.DataFrame(a, columns=columns, index=index)\n",
    "\n",
    "dfss.at['Total', 'Sum of Squares'] = ((df.Lifetime - mu) ** 2).sum()\n",
    "\n",
    "ssg = [((g.Lifetime - g.Lifetime.mean()) ** 2).sum() for idx, g in df.groupby('Diet')]\n",
    "dfss.at['Within Groups', 'Sum of Squares'] = sum(ssg)\n",
    "\n",
    "ssb = [\n",
    "    ((g['Lifetime'].mean() - mu) ** 2) * len(g) \n",
    "    for _, g in df.groupby('Diet')\n",
    "] \n",
    "dfss.at['Between Groups', 'Sum of Squares'] = sum(ssb)\n",
    "\n",
    "n = len(df)\n",
    "I = len(df.Diet.unique())\n",
    "dfss['d.f.'] = [I - 1, n - I, n - 1]\n",
    "\n",
    "dfss['Mean Square'] = dfss['Sum of Squares'] / dfss['d.f.']\n",
    "\n",
    "dfss.at['Between Groups', 'F Statistic'] = dfss.at['Between Groups', 'Mean Square'] / dfss.at['Within Groups', 'Mean Square']\n",
    "\n",
    "dfss.at['Between Groups', 'p-value'] = scipy.stats.f.sf(dfss.at['Between Groups', 'F Statistic'],\n",
    "                                                        dfss.at['Between Groups', 'd.f.'],\n",
    "                                                        dfss.at['Within Groups', 'd.f.'])\n",
    "\n",
    "dfss"
   ]
  },
  {
   "cell_type": "code",
   "execution_count": 16,
   "metadata": {},
   "outputs": [
    {
     "data": {
      "text/plain": [
       "F_onewayResult(statistic=57.10431402074224, pvalue=4.111744200046797e-43)"
      ]
     },
     "execution_count": 16,
     "metadata": {},
     "output_type": "execute_result"
    }
   ],
   "source": [
    "args = [grp['Lifetime'] for _, grp in df.groupby('Diet')]\n",
    "scipy.stats.f_oneway(*args)"
   ]
  },
  {
   "cell_type": "markdown",
   "metadata": {},
   "source": [
    "This is overwhelming evidence that the populations are different.\n",
    "\n",
    "Does reducing from 85 kcal to 50 kcal per week reduce lifespan?"
   ]
  },
  {
   "cell_type": "code",
   "execution_count": 18,
   "metadata": {},
   "outputs": [
    {
     "data": {
      "text/plain": [
       "Ttest_indResult(statistic=-8.034031294038689, pvalue=5.793898747104241e-13)"
      ]
     },
     "execution_count": 18,
     "metadata": {},
     "output_type": "execute_result"
    }
   ],
   "source": [
    "scipy.stats.ttest_ind(df.loc[df.Diet == 'N/N85', 'Lifetime'], df.loc[df.Diet == 'N/R50', 'Lifetime'])\n"
   ]
  },
  {
   "cell_type": "code",
   "execution_count": null,
   "metadata": {},
   "outputs": [],
   "source": []
  }
 ],
 "metadata": {
  "kernelspec": {
   "display_name": "Python 3",
   "language": "python",
   "name": "python3"
  },
  "language_info": {
   "codemirror_mode": {
    "name": "ipython",
    "version": 3
   },
   "file_extension": ".py",
   "mimetype": "text/x-python",
   "name": "python",
   "nbconvert_exporter": "python",
   "pygments_lexer": "ipython3",
   "version": "3.7.4"
  }
 },
 "nbformat": 4,
 "nbformat_minor": 2
}
