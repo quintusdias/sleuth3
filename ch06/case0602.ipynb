{
 "cells": [
  {
   "cell_type": "markdown",
   "metadata": {},
   "source": [
    "# Do Female Fish have Pre-Existing Preferences for a Male Trait?"
   ]
  },
  {
   "cell_type": "code",
   "execution_count": null,
   "metadata": {},
   "outputs": [],
   "source": [
    "# standard library imports\n",
    "import warnings\n",
    "\n",
    "warnings.simplefilter('ignore', category=FutureWarning)\n",
    "\n",
    "# 3rd party library imports\n",
    "import matplotlib.pyplot as plt\n",
    "import numpy as np\n",
    "import pandas as pd\n",
    "import scipy.stats\n",
    "import seaborn as sns\n",
    "\n",
    "sns.set()"
   ]
  },
  {
   "cell_type": "code",
   "execution_count": null,
   "metadata": {},
   "outputs": [],
   "source": [
    "df = pd.read_csv('case0602.csv')"
   ]
  },
  {
   "cell_type": "markdown",
   "metadata": {},
   "source": [
    "# Robustness of Assumptions"
   ]
  },
  {
   "cell_type": "code",
   "execution_count": null,
   "metadata": {},
   "outputs": [],
   "source": [
    "df.groupby('Pair')['Proportion'].describe()"
   ]
  },
  {
   "cell_type": "code",
   "execution_count": null,
   "metadata": {},
   "outputs": [],
   "source": [
    "fig, axes = plt.subplots(ncols=2, figsize=[12, 6.4])\n",
    "_ = sns.boxplot(data=df, x='Pair', y='Proportion', ax=axes[0])\n",
    "_ = sns.kdeplot(data=df, x='Proportion', hue='Pair', ax=axes[1])"
   ]
  },
  {
   "cell_type": "markdown",
   "metadata": {},
   "source": [
    "There is strong evidence against the assumption of equal variance."
   ]
  },
  {
   "cell_type": "markdown",
   "metadata": {},
   "source": [
    "Are the mice population lifetimes statistically different?  I.e.,\n",
    "\n",
    "$\\it{H_0}:  \\mu_{N/N85} = \\mu_{N/R40} = \\mu_{N/R50} = \\mu_{NP} = \\mu_{R/R50} = \\mu_{lopro}$"
   ]
  },
  {
   "cell_type": "code",
   "execution_count": null,
   "metadata": {},
   "outputs": [],
   "source": [
    "mu = summary.loc['mean', 'Lifetime']\n",
    "\n",
    "a = np.empty((3, 5))\n",
    "a[:] = NaN\n",
    "index = ['Between Groups', 'Within Groups', 'Total']\n",
    "columns = ['Sum of Squares', 'd.f.', 'Mean Square', 'F Statistic', 'p-value']\n",
    "dfss = pd.DataFrame(a, columns=columns, index=index)\n",
    "\n",
    "dfss.at['Total', 'Sum of Squares'] = ((df.Lifetime - mu) ** 2).sum()\n",
    "\n",
    "ssg = [((g.Lifetime - g.Lifetime.mean()) ** 2).sum() for idx, g in df.groupby('Diet')]\n",
    "dfss.at['Within Groups', 'Sum of Squares'] = sum(ssg)\n",
    "\n",
    "ssb = [\n",
    "    ((g['Lifetime'].mean() - mu) ** 2) * len(g) \n",
    "    for _, g in df.groupby('Diet')\n",
    "] \n",
    "dfss.at['Between Groups', 'Sum of Squares'] = sum(ssb)\n",
    "\n",
    "n = len(df)\n",
    "I = len(df.Diet.unique())\n",
    "dfss['d.f.'] = [I - 1, n - I, n - 1]\n",
    "\n",
    "dfss['Mean Square'] = dfss['Sum of Squares'] / dfss['d.f.']\n",
    "\n",
    "dfss.at['Between Groups', 'F Statistic'] = dfss.at['Between Groups', 'Mean Square'] / dfss.at['Within Groups', 'Mean Square']\n",
    "\n",
    "dfss.at['Between Groups', 'p-value'] = scipy.stats.f.sf(dfss.at['Between Groups', 'F Statistic'],\n",
    "                                                        dfss.at['Between Groups', 'd.f.'],\n",
    "                                                        dfss.at['Within Groups', 'd.f.'])\n",
    "\n",
    "dfss"
   ]
  },
  {
   "cell_type": "code",
   "execution_count": null,
   "metadata": {},
   "outputs": [],
   "source": [
    "args = [grp['Lifetime'] for _, grp in df.groupby('Diet')]\n",
    "scipy.stats.f_oneway(*args)"
   ]
  },
  {
   "cell_type": "markdown",
   "metadata": {},
   "source": [
    "This is overwhelming evidence that the populations are different.\n",
    "\n",
    "Does reducing from 85 kcal to 50 kcal per week reduce lifespan?"
   ]
  },
  {
   "cell_type": "code",
   "execution_count": null,
   "metadata": {},
   "outputs": [],
   "source": [
    "scipy.stats.ttest_ind(df.loc[df.Diet == 'N/N85', 'Lifetime'], df.loc[df.Diet == 'N/R50', 'Lifetime'])\n"
   ]
  },
  {
   "cell_type": "code",
   "execution_count": null,
   "metadata": {},
   "outputs": [],
   "source": []
  }
 ],
 "metadata": {
  "kernelspec": {
   "display_name": "Python 3 (ipykernel)",
   "language": "python",
   "name": "python3"
  },
  "language_info": {
   "codemirror_mode": {
    "name": "ipython",
    "version": 3
   },
   "file_extension": ".py",
   "mimetype": "text/x-python",
   "name": "python",
   "nbconvert_exporter": "python",
   "pygments_lexer": "ipython3",
   "version": "3.12.3"
  }
 },
 "nbformat": 4,
 "nbformat_minor": 4
}
