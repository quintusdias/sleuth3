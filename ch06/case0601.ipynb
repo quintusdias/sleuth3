{
 "cells": [
  {
   "cell_type": "markdown",
   "metadata": {},
   "source": [
    "# Discrimination Against the Handicapped"
   ]
  },
  {
   "cell_type": "markdown",
   "metadata": {},
   "source": [
    "Do subjects systematically evaluate qualifications differently according to the candidate's handicap?  If so, which handicaps produce the same evaluations?"
   ]
  },
  {
   "cell_type": "code",
   "execution_count": null,
   "metadata": {},
   "outputs": [],
   "source": [
    "# standard library imports\n",
    "import warnings\n",
    "\n",
    "warnings.simplefilter('ignore', category=FutureWarning)\n",
    "\n",
    "# 3rd party library imports\n",
    "import matplotlib.pyplot as plt\n",
    "import numpy as np\n",
    "import pandas as pd\n",
    "import scipy.stats\n",
    "import seaborn as sns\n",
    "import statsmodels.api as sm\n",
    "import statsmodels.formula.api as smf\n",
    "import statsmodels.stats.multicomp as multi\n",
    "\n",
    "sns.set()"
   ]
  },
  {
   "cell_type": "code",
   "execution_count": null,
   "metadata": {},
   "outputs": [],
   "source": [
    "df = pd.read_csv('case0601.csv')\n",
    "\n",
    "# the Handicap column has None as items where there was no handicap.  Must\n",
    "# replace that with a suitable string in order to get that category noticed.\n",
    "df.loc[df['Handicap'].isnull(), 'Handicap'] = 'None'"
   ]
  },
  {
   "cell_type": "markdown",
   "metadata": {},
   "source": [
    "## Robustness to Assumptions"
   ]
  },
  {
   "cell_type": "code",
   "execution_count": null,
   "metadata": {},
   "outputs": [],
   "source": [
    "df.groupby('Handicap').describe()"
   ]
  },
  {
   "cell_type": "code",
   "execution_count": null,
   "metadata": {},
   "outputs": [],
   "source": [
    "fig, axes = plt.subplots(ncols=2, figsize=[12, 6.4])\n",
    "_ = sns.boxplot(data=df, x='Handicap', y='Score', ax=axes[0])\n",
    "_ = sns.kdeplot(data=df, x='Score', hue='Handicap', ax=axes[1])"
   ]
  },
  {
   "cell_type": "code",
   "execution_count": null,
   "metadata": {},
   "outputs": [],
   "source": [
    "sm.graphics.qqplot(df['Score'], fit=True, line='45')\n",
    "plt.show()"
   ]
  },
  {
   "cell_type": "markdown",
   "metadata": {},
   "source": [
    "There do not appear to be any violations of normality, equal variance, or independence."
   ]
  },
  {
   "cell_type": "markdown",
   "metadata": {},
   "source": [
    "# Are any handicap groups different?\n",
    "\n",
    "$\n",
    "\\begin{align}\n",
    "H_0: &\\: \\mu_{amputee} = \\mu_{crutches} = \\mu_{hearing} = \\mu_{none} = \\mu_{wheelchair} \\\\\n",
    "H_a: &\\: \\text{at least one} \\: \\mu_i \\ne \\mu_j \\: \\text{for} \\: i, j \\in \\{amputee, crutches, hearing, wheelchair\\} \\\\\n",
    "\\end{align}\n",
    "$"
   ]
  },
  {
   "cell_type": "code",
   "execution_count": null,
   "metadata": {},
   "outputs": [],
   "source": [
    "model = smf.ols('Score ~ C(Handicap, Treatment(reference=\"None\"))', data=df).fit()\n",
    "model.summary()"
   ]
  },
  {
   "cell_type": "markdown",
   "metadata": {},
   "source": [
    "There is only weak evidence that any of the perceived handicaps differ from the control of no handicap (\"None\")."
   ]
  },
  {
   "cell_type": "code",
   "execution_count": null,
   "metadata": {},
   "outputs": [],
   "source": [
    "sm.stats.anova_lm(model)"
   ]
  },
  {
   "cell_type": "markdown",
   "metadata": {},
   "source": [
    "There is moderate evidence that at least one group is different from the others, however ($F_{4,65}$ = 2.8616, $p$-value = 0.0301)."
   ]
  },
  {
   "cell_type": "code",
   "execution_count": null,
   "metadata": {},
   "outputs": [],
   "source": [
    "mc = multi.MultiComparison(df['Score'], df['Handicap'])\n",
    "res = mc.tukeyhsd(alpha=0.05)\n",
    "print(res.summary())"
   ]
  },
  {
   "cell_type": "markdown",
   "metadata": {},
   "source": [
    "As one might have guessed, the strongest evidence of a difference is between Crutches and Hearing ($p$-value = 0.0278)"
   ]
  },
  {
   "cell_type": "markdown",
   "metadata": {},
   "source": [
    "# Calculate the comparison of Amputee/Hearing to Crutches/Wheelchair."
   ]
  },
  {
   "cell_type": "code",
   "execution_count": null,
   "metadata": {},
   "outputs": [],
   "source": [
    "model.params"
   ]
  },
  {
   "cell_type": "code",
   "execution_count": null,
   "metadata": {},
   "outputs": [],
   "source": [
    "r = np.zeros_like(model.params)\n",
    "r[1] = r[3] = 0.5\n",
    "r[2] = r[4] = -0.5\n",
    "model.t_test(r)"
   ]
  },
  {
   "cell_type": "markdown",
   "metadata": {},
   "source": [
    "There is strong evidence of a difference between the average scores of the amputee and hearing groups as compared with the crutches and wheelchair groups ($t_{0.95, 65}$ = -3.192, $p$-value = 0.002).  We are 95% confident that the true difference is between 2.264 and 0.521 points higher for the crutches/wheelchair groups."
   ]
  },
  {
   "cell_type": "code",
   "execution_count": null,
   "metadata": {},
   "outputs": [],
   "source": []
  }
 ],
 "metadata": {
  "kernelspec": {
   "display_name": "Python 3 (ipykernel)",
   "language": "python",
   "name": "python3"
  },
  "language_info": {
   "codemirror_mode": {
    "name": "ipython",
    "version": 3
   },
   "file_extension": ".py",
   "mimetype": "text/x-python",
   "name": "python",
   "nbconvert_exporter": "python",
   "pygments_lexer": "ipython3",
   "version": "3.12.3"
  }
 },
 "nbformat": 4,
 "nbformat_minor": 4
}
