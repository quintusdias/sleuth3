{
 "cells": [
  {
   "cell_type": "markdown",
   "id": "b03512f4-41a6-4a91-9820-2947824d61f5",
   "metadata": {},
   "source": [
    "# Sites of Short- and Long-Term Memory - A Controlled Experiment"
   ]
  },
  {
   "cell_type": "markdown",
   "id": "b1e9a80a-c5e0-4be7-a424-646e9a88daa3",
   "metadata": {},
   "source": [
    "## Setup"
   ]
  },
  {
   "cell_type": "code",
   "execution_count": null,
   "id": "433a3791-3d51-41ca-9398-5aea66cce028",
   "metadata": {},
   "outputs": [],
   "source": [
    "# 3rd party library imports\n",
    "from IPython.display import Markdown as md\n",
    "import matplotlib.pyplot as plt\n",
    "import numpy as np\n",
    "import pandas as pd\n",
    "from scipy.stats import norm\n",
    "import seaborn as sns\n",
    "import statsmodels.formula.api as smf\n",
    "from statsmodels.stats.anova import anova_lm\n",
    "\n",
    "sns.set()\n",
    "\n",
    "df = pd.read_csv('case1601.csv')\n",
    "df.head()"
   ]
  },
  {
   "cell_type": "markdown",
   "id": "7c67e7ff-e622-45b7-8c65-d8512201c1c9",
   "metadata": {},
   "source": [
    "## Percentage of correct identifications by treated and control monkeys of objects learned at five different pretreatment times, and bars indicating 95% confidence intervals (C.I.) half-widths"
   ]
  },
  {
   "cell_type": "code",
   "execution_count": null,
   "id": "d07830d2-8df2-4fac-98b1-118b9fc50ca4",
   "metadata": {},
   "outputs": [],
   "source": [
    "# munge the data into long form\n",
    "_df = (\n",
    "    df.groupby('Treatment')\n",
    "      .mean(numeric_only=True)\n",
    "      .T\n",
    "      .stack()\n",
    "      .reset_index()\n",
    "      .rename({'level_0': 'Week', 0: 'Percentage'}, axis='columns')\n",
    ")\n",
    "_df.head()"
   ]
  },
  {
   "cell_type": "code",
   "execution_count": null,
   "id": "b97e6ac7-8ac3-4110-b4d5-c4dc3d748362",
   "metadata": {},
   "outputs": [],
   "source": [
    "ax = sns.lineplot(data=_df, x='Week', y='Percentage', hue='Treatment', style='Treatment', markers=True, dashes=False)\n",
    "ax.invert_xaxis()"
   ]
  },
  {
   "cell_type": "markdown",
   "id": "564e0a0d-aaa0-4de5-8195-34870e4df277",
   "metadata": {},
   "source": [
    "## Profile plots: percentage correct identification of 20 pairs of objects, versus week prior to treatement when learned"
   ]
  },
  {
   "cell_type": "code",
   "execution_count": null,
   "id": "52a73fc6-94b9-449c-95fd-466a6b4a9564",
   "metadata": {},
   "outputs": [],
   "source": [
    "def profile_plots(df, fig, gs, title):                                          \n",
    "    \"\"\"                                                                         \n",
    "    Profile plots for each monkey in treatment group                            \n",
    "                                                                                \n",
    "    Parameters                                                                  \n",
    "    ----------                                                                  \n",
    "    df : dataframe                                                              \n",
    "    fig : matplotlib figure                                                     \n",
    "    gs : matplotlib gridspec                                                    \n",
    "    title : str                                                                 \n",
    "    \"\"\"                                                                         \n",
    "                                                                                \n",
    "    monkeys = _df['Monkey'].unique()                                            \n",
    "                                                                                \n",
    "    for idx, monkey in enumerate(monkeys):                                      \n",
    "        ax = fig.add_subplot(gs[idx])                                           \n",
    "        data = _df.query('Monkey == @monkey')                                   \n",
    "        sns.scatterplot(data=data, x='week', y='score', ax=ax)                  \n",
    "                                                                                \n",
    "        # draw the long term average                                            \n",
    "        avg = data.query('week >= 8')['score'].mean()                           \n",
    "        x = [8, 12, 16]                                                         \n",
    "        y = [avg, avg, avg]                                                     \n",
    "        h = ax.plot(x, y)                                                       \n",
    "                                                                                \n",
    "        # draw the short term average                                           \n",
    "        avg = data.query('week < 8')['score'].mean()                            \n",
    "        x = [2, 4]                                                              \n",
    "        y = [avg, avg]                                                          \n",
    "        ax.plot(x, y, color=h[0].get_color())                                   \n",
    "                                                                                \n",
    "        ax.set_xlabel(monkey)                                                   \n",
    "        ax.xaxis.set_label_coords(0.5, 0.10)                                    \n",
    "        ax.invert_xaxis()                                                       \n",
    "        ax.set_xticklabels([])                                                  \n",
    "                                                                                \n",
    "        ax.set_yticklabels([])                                                  \n",
    "        ax.set_ylabel('')                                                       \n",
    "        ax.set_ylim(30,100)                                                     \n",
    "\n",
    "    # force the same yticks, scale everywhere                                   \n",
    "    axes = fig.get_axes()                                                       \n",
    "    yticks = [40, 60, 80, 100]                                                  \n",
    "    yticklabels = [str(x) for x in yticks]                                      \n",
    "                                                                                \n",
    "    # set yticks on entire left-hand column                                     \n",
    "    for idx in range(0, len(axes), gs.ncols):                                   \n",
    "        axes[idx].set_yticks(yticks)                                            \n",
    "        axes[idx].set_yticklabels(yticklabels)                                  \n",
    "                                                                                \n",
    "    # set all the xticks properly (not the labels)                              \n",
    "    xticks = [2, 4, 8, 12, 16]                                                  \n",
    "    for ax in axes:                                                             \n",
    "        ax.set_xticks(xticks)                                                   \n",
    "                                                                                \n",
    "    xticklabels = [str(x) for x in _df['week'].unique()]                        \n",
    "    # set the xtick labels if axis is on bottom row OR has no siblings below    \n",
    "    # it                                                                        \n",
    "    bottom_row = len(axes) // gs.ncols                                          \n",
    "    for idx, ax in enumerate(axes):                                             \n",
    "        current_row = idx // gs.ncols                                           \n",
    "        if (current_row == bottom_row) or (idx + gs.ncols >= len(axes)):        \n",
    "            axes[idx].set_xticks(xticks)                                           \n",
    "            axes[idx].set_xticklabels(xticklabels)                                   \n",
    "                                                                                \n",
    "    fig.suptitle(title)                                             \n",
    "    fig.tight_layout()  "
   ]
  },
  {
   "cell_type": "code",
   "execution_count": null,
   "id": "70e5aea1-021a-445c-a2f1-f4b92f8ff019",
   "metadata": {},
   "outputs": [],
   "source": [
    "# Do the control monkeys first.                                                 \n",
    "_df = (                                                                         \n",
    "    df.query('Treatment==\"Control\"')                                            \n",
    "      .drop(labels='Treatment', axis='columns')                                 \n",
    "      .set_index('Monkey')                                                      \n",
    "      .stack()                                                                  \n",
    "      .reset_index(level=1)                                                     \n",
    "      .rename({'level_1': 'week', 0: 'score'}, axis='columns')                  \n",
    "      .reset_index()                                                            \n",
    ")                                                                               \n",
    "_df['week'] = _df['week'].apply(lambda x: x.replace('Week', '')).astype(int)                                                                    \n",
    "                                                                                \n",
    "fig = plt.figure(figsize=[10, 6])                                               \n",
    "gs = fig.add_gridspec(2,4)                                                      \n",
    "                                                                                \n",
    "profile_plots(_df, fig, gs, 'Control Monkeys')  "
   ]
  },
  {
   "cell_type": "code",
   "execution_count": null,
   "id": "52db7f11-5a35-4f02-a7e6-ef04b98fb97c",
   "metadata": {},
   "outputs": [],
   "source": [
    "_df = (                                                                         \n",
    "    df.query('Treatment==\"Treated\"')                                            \n",
    "      .drop(labels='Treatment', axis='columns')                                 \n",
    "      .set_index('Monkey')                                                      \n",
    "      .stack()                                                                  \n",
    "      .reset_index(level=1)                                                     \n",
    "      .rename({'level_1': 'week', 0: 'score'}, axis='columns')                  \n",
    "      .reset_index()                                                            \n",
    ")                                                                               \n",
    "_df['week'] = _df['week'].apply(lambda x: x.replace('Week', '')).astype(int)                                                                    \n",
    "                                                                                \n",
    "fig = plt.figure(figsize=[10, 9])                                               \n",
    "gs = fig.add_gridspec(3,4)                                                      \n",
    "                                                                                \n",
    "profile_plots(_df, fig, gs, 'Treated Monkeys') "
   ]
  },
  {
   "cell_type": "markdown",
   "id": "244abe52-48df-4394-a414-9b21b2638d83",
   "metadata": {},
   "source": [
    "The control monkey seem to have higher success with short-term (<= 4 weeks) items than do the treatment monkeys."
   ]
  },
  {
   "cell_type": "code",
   "execution_count": null,
   "id": "6640a28b-e071-4719-a400-33560851dc8b",
   "metadata": {},
   "outputs": [],
   "source": []
  }
 ],
 "metadata": {
  "kernelspec": {
   "display_name": "Python 3 (ipykernel)",
   "language": "python",
   "name": "python3"
  },
  "language_info": {
   "codemirror_mode": {
    "name": "ipython",
    "version": 3
   },
   "file_extension": ".py",
   "mimetype": "text/x-python",
   "name": "python",
   "nbconvert_exporter": "python",
   "pygments_lexer": "ipython3",
   "version": "3.12.1"
  }
 },
 "nbformat": 4,
 "nbformat_minor": 5
}
