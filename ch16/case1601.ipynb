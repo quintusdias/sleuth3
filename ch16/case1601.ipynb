{
 "cells": [
  {
   "cell_type": "markdown",
   "id": "b03512f4-41a6-4a91-9820-2947824d61f5",
   "metadata": {},
   "source": [
    "# Sites of Short- and Long-Term Memory - A Controlled Experiment"
   ]
  },
  {
   "cell_type": "markdown",
   "id": "b1e9a80a-c5e0-4be7-a424-646e9a88daa3",
   "metadata": {},
   "source": [
    "## Setup"
   ]
  },
  {
   "cell_type": "code",
   "execution_count": null,
   "id": "433a3791-3d51-41ca-9398-5aea66cce028",
   "metadata": {},
   "outputs": [],
   "source": [
    "# 3rd party library imports\n",
    "from IPython.display import Markdown as md\n",
    "import matplotlib.pyplot as plt\n",
    "import numpy as np\n",
    "import pandas as pd\n",
    "from scipy.stats import norm\n",
    "import seaborn as sns\n",
    "import statsmodels.formula.api as smf\n",
    "from statsmodels.stats.anova import anova_lm\n",
    "\n",
    "sns.set()\n",
    "\n",
    "df = pd.read_csv('case1601.csv')"
   ]
  },
  {
   "cell_type": "markdown",
   "id": "7c67e7ff-e622-45b7-8c65-d8512201c1c9",
   "metadata": {},
   "source": [
    "## Percentage of correct identifications by treated and control monkeys of objects learned at five different pretreatment times, and bars indicating 95% confidence intervals (C.I.) half-widths"
   ]
  },
  {
   "cell_type": "code",
   "execution_count": null,
   "id": "d07830d2-8df2-4fac-98b1-118b9fc50ca4",
   "metadata": {},
   "outputs": [],
   "source": [
    "data = (\n",
    "    df.groupby('Treatment')\n",
    "      .mean(numeric_only=True)\n",
    "      .T\n",
    "      .stack()\n",
    "      .reset_index()\n",
    "      .rename({'level_0': 'Week', 0: 'Percentage'}, axis='columns')\n",
    ")\n",
    "g = sns.lineplot(data=data, x='Week', y='Percentage', hue='Treatment', style='Treatment', markers=True, dashes=False)"
   ]
  },
  {
   "cell_type": "code",
   "execution_count": null,
   "id": "08fab650-e795-422a-b2d2-9b9a94405917",
   "metadata": {},
   "outputs": [],
   "source": []
  }
 ],
 "metadata": {
  "kernelspec": {
   "display_name": "Python 3 (ipykernel)",
   "language": "python",
   "name": "python3"
  },
  "language_info": {
   "codemirror_mode": {
    "name": "ipython",
    "version": 3
   },
   "file_extension": ".py",
   "mimetype": "text/x-python",
   "name": "python",
   "nbconvert_exporter": "python",
   "pygments_lexer": "ipython3",
   "version": "3.12.1"
  }
 },
 "nbformat": 4,
 "nbformat_minor": 5
}
