{
 "cells": [
  {
   "cell_type": "markdown",
   "id": "b03512f4-41a6-4a91-9820-2947824d61f5",
   "metadata": {},
   "source": [
    "# Oat Bran and Cholesterol - A Randomized Crossover Experiment"
   ]
  },
  {
   "cell_type": "markdown",
   "id": "b1e9a80a-c5e0-4be7-a424-646e9a88daa3",
   "metadata": {},
   "source": [
    "## Setup"
   ]
  },
  {
   "cell_type": "code",
   "execution_count": null,
   "id": "433a3791-3d51-41ca-9398-5aea66cce028",
   "metadata": {},
   "outputs": [],
   "source": [
    "# 3rd party library imports\n",
    "from IPython.display import Markdown as md\n",
    "import matplotlib.pyplot as plt\n",
    "import numpy as np\n",
    "import pandas as pd\n",
    "from scipy.stats import norm\n",
    "import seaborn as sns\n",
    "import statsmodels.formula.api as smf\n",
    "from statsmodels.stats.anova import anova_lm\n",
    "\n",
    "sns.set()\n",
    "\n",
    "df = pd.read_csv('case1602.csv')"
   ]
  },
  {
   "cell_type": "markdown",
   "id": "7c67e7ff-e622-45b7-8c65-d8512201c1c9",
   "metadata": {},
   "source": [
    "## Total serum cholesterol before treatment (baseline) and after dietary supplements of high- and low-fiber content"
   ]
  },
  {
   "cell_type": "code",
   "execution_count": null,
   "id": "d07830d2-8df2-4fac-98b1-118b9fc50ca4",
   "metadata": {},
   "outputs": [],
   "source": [
    "# wrangle the data so that seaborn can make a meaningful plot\n",
    "data = (\n",
    "    df.sort_values(by='Baseline')            # order by smallest to largest baseline\n",
    "      .drop(labels='Order', axis='columns')  # don't use 'Order' as a treatment\n",
    "      .reset_index()                         # move subject id out of index\n",
    "      .reset_index()                         # new column for plot order\n",
    "      .rename({'level_0': 'plot_order', 'index': 'subject'}, axis='columns')\n",
    "      .set_index(['plot_order', 'subject'])  # isolate treatment variables\n",
    "      .stack()                               # consolidate treatment variables into one column\n",
    "      .reset_index()                         # move plot_order index into data frame\n",
    "      .rename({'level_2': 'treatment', 0: 'cholesterol'}, axis='columns')\n",
    ")\n",
    "\n",
    "ax = sns.scatterplot(data=data, y='plot_order', x='cholesterol', hue='treatment')\n",
    "\n",
    "ax.set_ylabel('Subjects')\n",
    "ax.set_yticks(range(20))\n",
    "ax.set_yticklabels(data.query('treatment == \"Baseline\"')['subject'].values)\n",
    "ax.get_figure().tight_layout()\n"
   ]
  },
  {
   "cell_type": "code",
   "execution_count": null,
   "id": "08fab650-e795-422a-b2d2-9b9a94405917",
   "metadata": {},
   "outputs": [],
   "source": []
  }
 ],
 "metadata": {
  "kernelspec": {
   "display_name": "Python 3 (ipykernel)",
   "language": "python",
   "name": "python3"
  },
  "language_info": {
   "codemirror_mode": {
    "name": "ipython",
    "version": 3
   },
   "file_extension": ".py",
   "mimetype": "text/x-python",
   "name": "python",
   "nbconvert_exporter": "python",
   "pygments_lexer": "ipython3",
   "version": "3.12.3"
  }
 },
 "nbformat": 4,
 "nbformat_minor": 5
}
