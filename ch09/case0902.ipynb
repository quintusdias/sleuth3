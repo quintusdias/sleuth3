{
 "cells": [
  {
   "cell_type": "markdown",
   "metadata": {},
   "source": [
    "# Why do some mammals have large brains for their size?"
   ]
  },
  {
   "cell_type": "code",
   "execution_count": null,
   "metadata": {},
   "outputs": [],
   "source": [
    "import pathlib\n",
    "\n",
    "import matplotlib.pyplot as plt\n",
    "import numpy as np\n",
    "import pandas as pd\n",
    "import scipy.stats\n",
    "import seaborn as sns\n",
    "import statsmodels.formula.api as smf\n",
    "\n",
    "sns.set()\n",
    "\n",
    "df = pd.read_csv('case0902.csv')"
   ]
  },
  {
   "cell_type": "markdown",
   "metadata": {},
   "source": [
    "## Inspection and Graphical Summary"
   ]
  },
  {
   "cell_type": "code",
   "execution_count": null,
   "metadata": {},
   "outputs": [],
   "source": [
    "df.head()"
   ]
  },
  {
   "cell_type": "code",
   "execution_count": null,
   "metadata": {},
   "outputs": [],
   "source": [
    "df.describe()"
   ]
  },
  {
   "cell_type": "code",
   "execution_count": null,
   "metadata": {},
   "outputs": [],
   "source": [
    "# reorder columns to show Brain on bottom row\n",
    "cols = ['Species', 'Body', 'Gestation', 'Litter', 'Brain']\n",
    "df = df[cols]\n",
    "\n",
    "g = sns.PairGrid(df)\n",
    "g.map_diag(sns.histplot)\n",
    "g.map_lower(sns.scatterplot)\n",
    "_ = g.map_upper(sns.kdeplot)"
   ]
  },
  {
   "cell_type": "raw",
   "metadata": {},
   "source": [
    "Brain weight, gestation and body weight are skewed, so a logarithmic transformation may be in order."
   ]
  },
  {
   "cell_type": "code",
   "execution_count": null,
   "metadata": {},
   "outputs": [],
   "source": [
    "df['logbrain'] = np.log(df['Brain'])\n",
    "df['loggestation'] = np.log(df['Gestation'])\n",
    "df['logbody'] = np.log(df['Body'])\n",
    "df['loglitter'] = np.log(df['Litter'])\n",
    "\n",
    "cols = ['logbody', 'loggestation', 'loglitter', 'logbrain']\n",
    "g = sns.PairGrid(df[cols])\n",
    "g.map_diag(sns.histplot)\n",
    "g.map_lower(sns.scatterplot)\n",
    "_ = g.map_upper(sns.kdeplot)"
   ]
  },
  {
   "cell_type": "markdown",
   "metadata": {},
   "source": [
    "A clear relationship seems evident between at brain weight and at least body weight and gestation.  The relationship with litter size is less clear.  Gestation and body weight seem to also show a clear relationship."
   ]
  },
  {
   "cell_type": "markdown",
   "metadata": {},
   "source": [
    "## Linear Model"
   ]
  },
  {
   "cell_type": "code",
   "execution_count": null,
   "metadata": {},
   "outputs": [],
   "source": [
    "model = smf.ols('logbrain ~ logbody + loggestation + loglitter', data=df).fit()\n",
    "model.summary()"
   ]
  },
  {
   "cell_type": "markdown",
   "metadata": {},
   "source": [
    "$\\mu\\{\\log(Brain)|\\log(Body), \\log(Gestation), \\log(Litter)\\} = 0.8548 + 0.571 \\log(Body) + 0.4179 \\log(Gestation) - 0.3101 \\log(Litter)$"
   ]
  }
 ],
 "metadata": {
  "kernelspec": {
   "display_name": "Python 3 (ipykernel)",
   "language": "python",
   "name": "python3"
  },
  "language_info": {
   "codemirror_mode": {
    "name": "ipython",
    "version": 3
   },
   "file_extension": ".py",
   "mimetype": "text/x-python",
   "name": "python",
   "nbconvert_exporter": "python",
   "pygments_lexer": "ipython3",
   "version": "3.12.3"
  }
 },
 "nbformat": 4,
 "nbformat_minor": 4
}
