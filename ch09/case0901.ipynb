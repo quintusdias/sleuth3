{
 "cells": [
  {
   "cell_type": "markdown",
   "metadata": {},
   "source": [
    "# Effects of Light on Meadowfoam Flowering\n",
    "\n",
    "How does light intensity and the timing of the onset of the light treatment affect meadowfoam production?"
   ]
  },
  {
   "cell_type": "code",
   "execution_count": null,
   "metadata": {},
   "outputs": [],
   "source": [
    "import pathlib\n",
    "\n",
    "import matplotlib.pyplot as plt\n",
    "import numpy as np\n",
    "import pandas as pd\n",
    "import scipy.stats\n",
    "import seaborn as sns\n",
    "import statsmodels.formula.api as smf\n",
    "import statsmodels.api as sm\n",
    "\n",
    "sns.set()\n",
    "\n",
    "df = pd.read_csv('case0901.csv')"
   ]
  },
  {
   "cell_type": "markdown",
   "metadata": {},
   "source": [
    "## Inspection and Graphical Summary"
   ]
  },
  {
   "cell_type": "code",
   "execution_count": null,
   "metadata": {},
   "outputs": [],
   "source": [
    "df.head()"
   ]
  },
  {
   "cell_type": "code",
   "execution_count": null,
   "metadata": {},
   "outputs": [],
   "source": [
    "df.describe()"
   ]
  },
  {
   "cell_type": "code",
   "execution_count": null,
   "metadata": {},
   "outputs": [],
   "source": [
    "fig, ax = plt.subplots()\n",
    "palette = sns.color_palette(n_colors=2)\n",
    "_ = sns.scatterplot(data=df, x='Intensity', y='Flowers', hue='Time', palette=palette, ax=ax)"
   ]
  },
  {
   "cell_type": "code",
   "execution_count": null,
   "metadata": {},
   "outputs": [],
   "source": [
    "df.loc[df.Time == 2, 'Onset of Treatment'] = 'Early'  \n",
    "df.loc[df.Time == 1, 'Onset of Treatment'] = 'Late'  \n",
    "\n",
    "colors = [\"denim blue\", \"medium green\"]\n",
    "palette = sns.xkcd_palette(colors)\n",
    "\n",
    "fig, ax = plt.subplots()\n",
    "sns.scatterplot(x='Intensity', y='Flowers', hue='Onset of Treatment', palette=palette, data=df, ax=ax)\n",
    "\n",
    "for (time, grp), color in zip(df.groupby('Time'), palette):\n",
    "    model = smf.ols('Flowers ~ Intensity', data=grp)\n",
    "    results = model.fit()\n",
    "    ax.plot(grp['Intensity'], results.fittedvalues, color=color)\n",
    "    \n",
    "ax.set_ylabel('Flowers per Plant')\n",
    "ax.set_xlabel('Light Intensity ($\\mu\\mathrm{mol/m^2/sec}$)')\n",
    "    "
   ]
  },
  {
   "cell_type": "markdown",
   "metadata": {},
   "source": [
    "The display above shows the fit of a multiple linear regression model that specifies parallel regression lines for the mean number of flowers as functions of light intensity.  Increasing light intensity decreased the mean number of flowers per plant by an estimated 4.0 flowers per plant per 100 $\\mu\\mathrm{mol/m^2/sec}$ (95% confidence interval from 3.0 to 5.1).  Beginning the light treatments 24 days prior to PFI increased the mean number of flowers from 6.7 to 17.6).  The data provide no evidence that the effect of light intensity depends on the timing of its initiation (two-sided p-value = 0.91, from a $t$-test for interaction, 20 degrees of freedom)."
   ]
  },
  {
   "cell_type": "code",
   "execution_count": null,
   "metadata": {},
   "outputs": [],
   "source": [
    "df['early'] = df.Time == 1\n",
    "model = smf.ols('Flowers ~ early + Intensity + early*Intensity', data=df)\n",
    "results = model.fit()\n",
    "print(results.summary())"
   ]
  },
  {
   "cell_type": "code",
   "execution_count": null,
   "metadata": {},
   "outputs": [],
   "source": []
  }
 ],
 "metadata": {
  "kernelspec": {
   "display_name": "Python 3 (ipykernel)",
   "language": "python",
   "name": "python3"
  },
  "language_info": {
   "codemirror_mode": {
    "name": "ipython",
    "version": 3
   },
   "file_extension": ".py",
   "mimetype": "text/x-python",
   "name": "python",
   "nbconvert_exporter": "python",
   "pygments_lexer": "ipython3",
   "version": "3.12.3"
  }
 },
 "nbformat": 4,
 "nbformat_minor": 4
}
