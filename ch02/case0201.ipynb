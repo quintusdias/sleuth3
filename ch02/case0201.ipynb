{
 "cells": [
  {
   "cell_type": "markdown",
   "metadata": {},
   "source": [
    "# Evidence Supporting Darwin’s Theory of Natural  Selection—An Observational Study "
   ]
  },
  {
   "cell_type": "code",
   "execution_count": null,
   "metadata": {},
   "outputs": [],
   "source": [
    "# standard library imports\n",
    "import warnings\n",
    "\n",
    "# 3rd party library imports\n",
    "import matplotlib.pyplot as plt\n",
    "import numpy as np\n",
    "import pandas as pd\n",
    "import pingouin as pg\n",
    "import scipy.stats\n",
    "import seaborn as sns\n",
    "\n",
    "warnings.simplefilter('ignore', category=FutureWarning)\n",
    "sns.set()\n",
    "pd.options.display.float_format = \"{:.4f}\".format\n",
    "\n",
    "df = pd.read_csv('case0201.csv')"
   ]
  },
  {
   "cell_type": "markdown",
   "metadata": {},
   "source": [
    "# Robustness of Assumptions"
   ]
  },
  {
   "cell_type": "code",
   "execution_count": null,
   "metadata": {},
   "outputs": [],
   "source": [
    "df.groupby('Year').describe()"
   ]
  },
  {
   "cell_type": "markdown",
   "metadata": {},
   "source": [
    "The beak distributions are approximately normal with some evidence of a rightward long tail."
   ]
  },
  {
   "cell_type": "code",
   "execution_count": null,
   "metadata": {},
   "outputs": [],
   "source": [
    "fig, axes = plt.subplots(ncols=2, figsize=[12, 6.4])\n",
    "_ = sns.boxplot(data=df, x='Year', y='Depth', ax=axes[0])\n",
    "_ = sns.kdeplot(data=df, x='Depth', hue='Year', ax=axes[1])"
   ]
  },
  {
   "cell_type": "markdown",
   "metadata": {},
   "source": [
    "There is weak evidence against the assumptions of normality and equal variance.  There is slight left skew."
   ]
  },
  {
   "cell_type": "markdown",
   "metadata": {},
   "source": [
    "$H_0: \\mu_{1976} = \\mu_{1978}$\n",
    "<br/>\n",
    "$H_a: \\mu_{1976} \\ne \\mu_{1978}$"
   ]
  },
  {
   "cell_type": "code",
   "execution_count": null,
   "metadata": {},
   "outputs": [],
   "source": [
    "a = df.loc[df.Year == 1976, 'Depth']\n",
    "b = df.loc[df.Year == 1978, 'Depth']\n",
    "res = pg.ttest(a, b)\n",
    "print(res)"
   ]
  },
  {
   "cell_type": "markdown",
   "metadata": {},
   "source": [
    "There is strong evidence that the mean beak depth has changed from 1976 to 1978 ($t_{0.95,176}$ = -4.5833, $p$-value < 0.0001).  We are 95% confident that the 1978 mean beak depth is between 0.38 and 0.96 mm more than the true mean beak depth for finches in 1976."
   ]
  },
  {
   "cell_type": "code",
   "execution_count": null,
   "metadata": {},
   "outputs": [],
   "source": []
  }
 ],
 "metadata": {
  "kernelspec": {
   "display_name": "Python 3 (ipykernel)",
   "language": "python",
   "name": "python3"
  },
  "language_info": {
   "codemirror_mode": {
    "name": "ipython",
    "version": 3
   },
   "file_extension": ".py",
   "mimetype": "text/x-python",
   "name": "python",
   "nbconvert_exporter": "python",
   "pygments_lexer": "ipython3",
   "version": "3.12.3"
  }
 },
 "nbformat": 4,
 "nbformat_minor": 4
}
