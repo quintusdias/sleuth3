{
 "cells": [
  {
   "cell_type": "markdown",
   "metadata": {},
   "source": [
    "# Evidence Supporting Darwin’s Theory of Natural  Selection—An Observational Study "
   ]
  },
  {
   "cell_type": "code",
   "execution_count": null,
   "metadata": {},
   "outputs": [],
   "source": [
    "# standard library imports\n",
    "import pathlib\n",
    "import functools\n",
    "\n",
    "# 3rd party library imports\n",
    "import numpy as np\n",
    "import pandas as pd\n",
    "import scipy.stats\n",
    "import seaborn as sns\n",
    "\n",
    "sns.set()"
   ]
  },
  {
   "cell_type": "markdown",
   "metadata": {},
   "source": [
    "We begin by reading the data and summarizing the variables."
   ]
  },
  {
   "cell_type": "code",
   "execution_count": null,
   "metadata": {},
   "outputs": [],
   "source": [
    "df = pd.read_csv('case0201.csv')\n",
    "pd.options.display.float_format = \"{:.2f}\".format\n",
    "df.groupby('Year').describe()"
   ]
  },
  {
   "cell_type": "code",
   "execution_count": null,
   "metadata": {},
   "outputs": [],
   "source": [
    "ax = sns.boxplot(x='Year', y='Depth', data=df)"
   ]
  },
  {
   "cell_type": "markdown",
   "metadata": {},
   "source": [
    "The distributions are approximately normal, with some evidence of a long tail."
   ]
  },
  {
   "cell_type": "code",
   "execution_count": null,
   "metadata": {},
   "outputs": [],
   "source": [
    "a = orig.loc[orig.Year == 1976, 'Depth']\n",
    "b = orig.loc[orig.Year == 1978, 'Depth']\n",
    "t, p = scipy.stats.ttest_ind(a, b, equal_var=False)\n",
    "print(t, p)"
   ]
  },
  {
   "cell_type": "code",
   "execution_count": null,
   "metadata": {},
   "outputs": [],
   "source": [
    "sp = np.sqrt( (sdf.loc[1976, ('Depth', 'std')] ** 2 + sdf.loc[1978, ('Depth', 'std')] ** 2) / 2)\n",
    "se = sp * np.sqrt(2 / 178)\n",
    "estimate = sdf.loc[1978, ('Depth', 'mean')] - sdf.loc[1976, ('Depth', 'mean')]\n",
    "t95 = scipy.stats.t.ppf(0.975, 176)\n",
    "ci = [estimate - t95 * se, estimate + t95 * se]\n",
    "print(ci)"
   ]
  },
  {
   "cell_type": "markdown",
   "metadata": {},
   "source": [
    "The a two sided p-value of only 8.7e-6, there is not sufficient evidence to reject the null hypothesis."
   ]
  },
  {
   "cell_type": "code",
   "execution_count": null,
   "metadata": {},
   "outputs": [],
   "source": []
  }
 ],
 "metadata": {
  "kernelspec": {
   "display_name": "Python 3 (ipykernel)",
   "language": "python",
   "name": "python3"
  },
  "language_info": {
   "codemirror_mode": {
    "name": "ipython",
    "version": 3
   },
   "file_extension": ".py",
   "mimetype": "text/x-python",
   "name": "python",
   "nbconvert_exporter": "python",
   "pygments_lexer": "ipython3",
   "version": "3.11.7"
  }
 },
 "nbformat": 4,
 "nbformat_minor": 4
}
