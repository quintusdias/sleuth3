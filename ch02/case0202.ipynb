{
 "cells": [
  {
   "cell_type": "markdown",
   "metadata": {},
   "source": [
    "# Anatomical Abnormalities Associated with  Schizophrenia—An Observational Study "
   ]
  },
  {
   "cell_type": "code",
   "execution_count": null,
   "metadata": {},
   "outputs": [],
   "source": [
    "# standard library imports\n",
    "import pathlib\n",
    "import functools\n",
    "\n",
    "# 3rd party library imports\n",
    "import matplotlib.pyplot as plt\n",
    "import numpy as np\n",
    "import pandas as pd\n",
    "import pingouin as pg\n",
    "import scipy.stats\n",
    "import seaborn as sns\n",
    "\n",
    "# two digits of precision is good enough here\n",
    "pd.options.display.float_format = \"{:.3f}\".format\n",
    "\n",
    "# enable TeX on figure labels\n",
    "plt.rcParams['text.usetex'] = True\n",
    "\n",
    "sns.set()"
   ]
  },
  {
   "cell_type": "markdown",
   "metadata": {},
   "source": [
    "We begin by reading the data and summarizing the variables."
   ]
  },
  {
   "cell_type": "code",
   "execution_count": null,
   "metadata": {},
   "outputs": [],
   "source": [
    "df = pd.read_csv('case0202.csv')\n",
    "df.describe()"
   ]
  },
  {
   "cell_type": "code",
   "execution_count": null,
   "metadata": {},
   "outputs": [],
   "source": [
    "# wrangle the data into long form\n",
    "dflong = (\n",
    "    df.stack()\n",
    "      .reset_index(level=1)\n",
    "      .rename({'level_1': 'Treatment', 0: 'Volume'}, axis='columns')\n",
    ")\n",
    "dflong.head()"
   ]
  },
  {
   "cell_type": "code",
   "execution_count": null,
   "metadata": {},
   "outputs": [],
   "source": [
    "ax = sns.boxplot(data=dflong, x='Treatment', y='Volume')\n",
    "_ = ax.set_ylabel(r'Volume ($cm^3$)')\n",
    "_ = ax.set_title('Hippocampus Volumes for Schizophrenia Study')"
   ]
  },
  {
   "cell_type": "code",
   "execution_count": null,
   "metadata": {},
   "outputs": [],
   "source": [
    "g = sns.displot(data=dflong, x='Volume', hue='Treatment', kind='kde', rug=True)\n",
    "_ = g.fig.suptitle('Distributions of Hippocampus Study Volumes')\n",
    "g.fig.tight_layout()"
   ]
  },
  {
   "cell_type": "markdown",
   "metadata": {},
   "source": [
    "$H_0: \\mu_{affected} = \\mu_{unaffected}$\n",
    "<br>\n",
    "$H_a: \\mu_{affected} \\ne \\mu_{unaffected}$"
   ]
  },
  {
   "cell_type": "code",
   "execution_count": null,
   "metadata": {},
   "outputs": [],
   "source": [
    "res = pg.ttest(df['Affected'], df['Unaffected'], paired=True)\n",
    "print(res)"
   ]
  },
  {
   "cell_type": "markdown",
   "metadata": {},
   "source": [
    "There is strong evidence that the mean difference in left hippocampus volumes bettween schizophrenic individuals and their nonschizophrenic twins is non-zero (two-sided $p$-value = 0.006, $t_{0.95, 14}$ = -3.229).   The mean difference is between 0.07 and 0.33 $cm^3$ smaller for schizophrenic individuals."
   ]
  },
  {
   "cell_type": "code",
   "execution_count": null,
   "metadata": {},
   "outputs": [],
   "source": []
  }
 ],
 "metadata": {
  "kernelspec": {
   "display_name": "Python 3 (ipykernel)",
   "language": "python",
   "name": "python3"
  },
  "language_info": {
   "codemirror_mode": {
    "name": "ipython",
    "version": 3
   },
   "file_extension": ".py",
   "mimetype": "text/x-python",
   "name": "python",
   "nbconvert_exporter": "python",
   "pygments_lexer": "ipython3",
   "version": "3.12.3"
  }
 },
 "nbformat": 4,
 "nbformat_minor": 4
}
