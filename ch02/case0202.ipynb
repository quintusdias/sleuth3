{
 "cells": [
  {
   "cell_type": "markdown",
   "metadata": {},
   "source": [
    "# Anatomical Abnormalities Associated with  Schizophrenia—An Observational Study "
   ]
  },
  {
   "cell_type": "code",
   "execution_count": null,
   "metadata": {},
   "outputs": [],
   "source": [
    "# standard library imports\n",
    "import warnings\n",
    "\n",
    "# 3rd party library imports\n",
    "import matplotlib.pyplot as plt\n",
    "import numpy as np\n",
    "import pandas as pd\n",
    "import pingouin as pg\n",
    "import scipy.stats\n",
    "import seaborn as sns\n",
    "\n",
    "warnings.simplefilter('ignore', category=FutureWarning)\n",
    "\n",
    "# two digits of precision is good enough here\n",
    "pd.options.display.float_format = \"{:.3f}\".format\n",
    "\n",
    "# enable TeX on figure labels\n",
    "plt.rcParams['text.usetex'] = True\n",
    "\n",
    "sns.set()\n",
    "\n",
    "df = pd.read_csv('case0202.csv')"
   ]
  },
  {
   "cell_type": "markdown",
   "metadata": {},
   "source": [
    "# Robustness of Assumptions"
   ]
  },
  {
   "cell_type": "code",
   "execution_count": null,
   "metadata": {},
   "outputs": [],
   "source": [
    "df.describe()"
   ]
  },
  {
   "cell_type": "code",
   "execution_count": null,
   "metadata": {},
   "outputs": [],
   "source": [
    "# wrangle the data into long form\n",
    "dflong = (\n",
    "    df.stack()\n",
    "      .reset_index(level=1)\n",
    "      .rename({'level_1': 'Treatment', 0: 'Volume'}, axis='columns')\n",
    ")\n",
    "dflong.head()"
   ]
  },
  {
   "cell_type": "code",
   "execution_count": null,
   "metadata": {},
   "outputs": [],
   "source": [
    "fig, axes = plt.subplots(ncols=2, figsize=[12, 6.4])\n",
    "_ = sns.boxplot(data=dflong, x='Treatment', y='Volume', ax=axes[0])\n",
    "_ = axes[0].set_ylabel(r'Volume ($cm^3$)')\n",
    "_ = axes[0].set_title('Hippocampus Volumes for Schizophrenia Study')\n",
    "_ = sns.kdeplot(data=dflong, x='Volume', hue='Treatment', ax=axes[1])"
   ]
  },
  {
   "cell_type": "markdown",
   "metadata": {},
   "source": [
    "There is weak evidence against both normality and equal variance."
   ]
  },
  {
   "cell_type": "markdown",
   "metadata": {},
   "source": [
    "$H_0: \\mu_{affected} = \\mu_{unaffected}$\n",
    "<br>\n",
    "$H_a: \\mu_{affected} \\ne \\mu_{unaffected}$"
   ]
  },
  {
   "cell_type": "code",
   "execution_count": null,
   "metadata": {},
   "outputs": [],
   "source": [
    "res = pg.ttest(df['Affected'], df['Unaffected'], paired=True)\n",
    "print(res)"
   ]
  },
  {
   "cell_type": "markdown",
   "metadata": {},
   "source": [
    "There is strong evidence that the mean difference in left hippocampus volumes bettween schizophrenic individuals and their nonschizophrenic twins is non-zero (two-sided $p$-value = 0.006, $t_{0.95, 14}$ = -3.229).   The mean difference is between 0.07 and 0.33 $cm^3$ smaller for schizophrenic individuals."
   ]
  }
 ],
 "metadata": {
  "kernelspec": {
   "display_name": "Python 3 (ipykernel)",
   "language": "python",
   "name": "python3"
  },
  "language_info": {
   "codemirror_mode": {
    "name": "ipython",
    "version": 3
   },
   "file_extension": ".py",
   "mimetype": "text/x-python",
   "name": "python",
   "nbconvert_exporter": "python",
   "pygments_lexer": "ipython3",
   "version": "3.12.3"
  }
 },
 "nbformat": 4,
 "nbformat_minor": 4
}
