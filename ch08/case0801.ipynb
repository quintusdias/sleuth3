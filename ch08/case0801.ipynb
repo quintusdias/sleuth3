{
 "cells": [
  {
   "cell_type": "markdown",
   "metadata": {},
   "source": [
    "# Island Area and Number of Species"
   ]
  },
  {
   "cell_type": "markdown",
   "metadata": {},
   "source": [
    "If $S$ is the number of species and $A$ is the area, then $S = CA^{\\gamma}$, where $C$ is a constant and $\\gamma$ is a biologically meaningful parameter.  What is the best estimate of $\\gamma$?\n",
    "\n",
    "If $S = CA^{\\gamma}$, then $\\log(S) = \\gamma \\log(CA) = \\gamma \\log(C) + \\gamma \\log(A)$."
   ]
  },
  {
   "cell_type": "code",
   "execution_count": null,
   "metadata": {},
   "outputs": [],
   "source": [
    "# standard library imports\n",
    "\n",
    "# 3rd party library imports\n",
    "import matplotlib.pyplot as plt\n",
    "import numpy as np\n",
    "import pandas as pd\n",
    "import scipy.stats\n",
    "import seaborn as sns\n",
    "import statsmodels.formula.api as smf\n",
    "import statsmodels.api as sm\n",
    "\n",
    "sns.set()\n",
    "\n",
    "df = pd.read_csv('case0801.csv')"
   ]
  },
  {
   "cell_type": "markdown",
   "metadata": {},
   "source": [
    "# Inspection and Graphical Summary"
   ]
  },
  {
   "cell_type": "code",
   "execution_count": null,
   "metadata": {},
   "outputs": [],
   "source": [
    "df.head()"
   ]
  },
  {
   "cell_type": "code",
   "execution_count": null,
   "metadata": {},
   "outputs": [],
   "source": [
    "df.describe()"
   ]
  },
  {
   "cell_type": "code",
   "execution_count": null,
   "metadata": {},
   "outputs": [],
   "source": [
    "fig, axes = plt.subplots(ncols=2)\n",
    "sns.scatterplot(data=df, x='Area', y='Species', ax=axes[0])\n",
    "sns.scatterplot(data=df, x='Area', y='Species', ax=axes[1])\n",
    "axes[1].set(xscale='log', yscale='log')\n",
    "axes[0].set_box_aspect(1)\n",
    "axes[1].set_box_aspect(1)\n",
    "fig.set_figwidth(12)"
   ]
  },
  {
   "cell_type": "markdown",
   "metadata": {},
   "source": [
    "There isn't a lot of data to work with here, but a log-log transformation works well (and matches up with the mathematical model)."
   ]
  },
  {
   "cell_type": "markdown",
   "metadata": {},
   "source": [
    "# Model"
   ]
  },
  {
   "cell_type": "code",
   "execution_count": null,
   "metadata": {},
   "outputs": [],
   "source": [
    "model = smf.ols('np.log(Species) ~ np.log(Area)', data=df).fit()\n",
    "model.summary()"
   ]
  },
  {
   "cell_type": "markdown",
   "metadata": {},
   "source": [
    "$\\mu\\{\\log(Species)|\\log(Area)\\} = 1.9365 + 0.2497 \\log(Area)$"
   ]
  },
  {
   "cell_type": "code",
   "execution_count": null,
   "metadata": {},
   "outputs": [],
   "source": [
    "fig, ax = plt.subplots()\n",
    "sns.scatterplot(data=df, x='Area', y='Species', color='black', ax=ax)\n",
    "ax.set(xscale='log', yscale='log')\n",
    "\n",
    "# unfortunately, we can't use seaborn for the regression plot\n",
    "# also unfortunately, statsmodels will transform the first part of the prediction,\n",
    "# but not the 2nd\n",
    "sf = model.get_prediction(df).summary_frame()\n",
    "sf['Area'] = df['Area']\n",
    "\n",
    "p = sns.color_palette()\n",
    "sns.lineplot(data=sf, x='Area', y=np.exp(sf['mean']), ax=ax)\n",
    "\n",
    "x = sf['Area']\n",
    "y1 = np.exp(sf['mean_ci_lower'])\n",
    "y2 = np.exp(sf['mean_ci_upper'])\n",
    "_ = ax.fill_between(x, y1, y2, alpha=0.2, color=p[0])"
   ]
  },
  {
   "cell_type": "markdown",
   "metadata": {},
   "source": [
    "We estimate the value of $\\gamma$ to be 0.2497.  We are 95% confident the true value lies between 0.219 and 0.281.  $\\gamma$ may be interpreted in terms of doubling area.  For each doubling of island area, the median number of species increases by a factor of $2^{0.2497} = 1.189$ or approximately 19%."
   ]
  },
  {
   "cell_type": "markdown",
   "metadata": {},
   "source": [
    "## Robustness of Assumptions\n",
    "### Normality"
   ]
  },
  {
   "cell_type": "code",
   "execution_count": null,
   "metadata": {},
   "outputs": [],
   "source": [
    "sm.graphics.qqplot(np.log(df['Species']), line='45', fit=True)\n",
    "plt.show()"
   ]
  },
  {
   "cell_type": "markdown",
   "metadata": {},
   "source": [
    "Again, not a lot of data, but normality looks ok on the log scale."
   ]
  }
 ],
 "metadata": {
  "kernelspec": {
   "display_name": "Python 3 (ipykernel)",
   "language": "python",
   "name": "python3"
  },
  "language_info": {
   "codemirror_mode": {
    "name": "ipython",
    "version": 3
   },
   "file_extension": ".py",
   "mimetype": "text/x-python",
   "name": "python",
   "nbconvert_exporter": "python",
   "pygments_lexer": "ipython3",
   "version": "3.12.3"
  }
 },
 "nbformat": 4,
 "nbformat_minor": 4
}
