{
 "cells": [
  {
   "cell_type": "markdown",
   "metadata": {},
   "source": [
    "# Breakdown Times for Insulating Fluid Under Different Voltages"
   ]
  },
  {
   "cell_type": "markdown",
   "metadata": {},
   "source": [
    "How does the distribution of breakdown time depend on voltage?"
   ]
  },
  {
   "cell_type": "code",
   "execution_count": null,
   "metadata": {},
   "outputs": [],
   "source": [
    "# standard library imports\n",
    "import warnings\n",
    "\n",
    "warnings.simplefilter('ignore', category=FutureWarning)\n",
    "\n",
    "# 3rd party library imports\n",
    "import matplotlib.pyplot as plt\n",
    "import numpy as np\n",
    "import pandas as pd\n",
    "import scipy.stats\n",
    "import seaborn as sns\n",
    "import statsmodels.formula.api as smf\n",
    "import statsmodels.api as sm\n",
    "\n",
    "sns.set()\n",
    "\n",
    "df = pd.read_csv('case0802.csv')"
   ]
  },
  {
   "cell_type": "markdown",
   "metadata": {},
   "source": [
    "## Summary Statistics and Graphical Display"
   ]
  },
  {
   "cell_type": "code",
   "execution_count": null,
   "metadata": {},
   "outputs": [],
   "source": [
    "df.head()"
   ]
  },
  {
   "cell_type": "code",
   "execution_count": null,
   "metadata": {},
   "outputs": [],
   "source": [
    "df.describe()"
   ]
  },
  {
   "cell_type": "code",
   "execution_count": null,
   "metadata": {},
   "outputs": [],
   "source": [
    "fig, axes = plt.subplots()\n",
    "#sns.regplot(data=df, x='Voltage', y='Time', scatter=False, ax=axes)\n",
    "sns.lineplot(data=df.groupby('Group').mean(), x='Voltage', y='Time', ax=axes)\n",
    "time_means = df.groupby('Group')['Time'].mean()\n",
    "voltage_means = df.groupby('Group')['Voltage'].mean()\n",
    "axes.errorbar(\n",
    "    voltage_means, time_means, \n",
    "    yerr=df.groupby('Group')['Time'].std(),color='black', linewidth=0.5, linestyle='--', capsize=5.0\n",
    ")\n",
    "_ = sns.scatterplot(data=df, x='Voltage', y='Time', hue='Group', ax=axes)\n",
    "fig.set_figwidth(12)"
   ]
  },
  {
   "cell_type": "markdown",
   "metadata": {},
   "source": [
    "As the means are curved and the SDs are decreasing, there is a clear need of a transformation."
   ]
  },
  {
   "cell_type": "code",
   "execution_count": null,
   "metadata": {},
   "outputs": [],
   "source": [
    "df['logtime'] = np.log(df['Time'])"
   ]
  },
  {
   "cell_type": "code",
   "execution_count": null,
   "metadata": {},
   "outputs": [],
   "source": [
    "fig, axes = plt.subplots()\n",
    "\n",
    "time_means = df.groupby('Group')['logtime'].mean()\n",
    "voltage_means = df.groupby('Group')['Voltage'].mean()\n",
    "axes.errorbar(\n",
    "    voltage_means, time_means, \n",
    "    yerr=df.groupby('Group')['logtime'].std(),color='black', linewidth=0.5, linestyle='--', capsize=5.0\n",
    ")\n",
    "\n",
    "# sns.regplot(data=df, x='Voltage', y='logtime', scatter=False, ax=axes)\n",
    "sns.scatterplot(data=df, x='Voltage', y='logtime', hue='Group', ax=axes)\n",
    "\n",
    "fig.set_figwidth(12)"
   ]
  },
  {
   "cell_type": "markdown",
   "metadata": {},
   "source": [
    "Equal variance of subpopulations still seems like a problem."
   ]
  },
  {
   "cell_type": "markdown",
   "metadata": {},
   "source": [
    "## Linear Model"
   ]
  },
  {
   "cell_type": "code",
   "execution_count": null,
   "metadata": {},
   "outputs": [],
   "source": [
    "model = smf.ols(formula='np.log(Time) ~ Voltage', data=df)\n",
    "res = model.fit()\n",
    "print(res.summary())"
   ]
  },
  {
   "cell_type": "markdown",
   "metadata": {},
   "source": [
    "$\\mu\\{\\log(Time)| V \\} = -0.5074 \\cdot V + 18.9555$\n",
    "\n",
    "We estimate that the change breakdown time per unit change in voltage is 40% (1 - $\\exp^{-0.5074}$).   We are 95% confident that the true percentage change is between 32% and 46%."
   ]
  },
  {
   "cell_type": "code",
   "execution_count": null,
   "metadata": {},
   "outputs": [],
   "source": [
    "fig, ax = plt.subplots()\n",
    "sns.lineplot(x=df['Voltage'], y=res.fittedvalues, ax=ax)\n",
    "_ = sns.scatterplot(data=df, x='Voltage', y='logtime', ax=ax)\n",
    "_ = ax.set_ylabel('log time')"
   ]
  },
  {
   "cell_type": "markdown",
   "metadata": {},
   "source": [
    "## Robustness of Assumptions"
   ]
  },
  {
   "cell_type": "markdown",
   "metadata": {},
   "source": [
    "### Normality"
   ]
  },
  {
   "cell_type": "code",
   "execution_count": null,
   "metadata": {},
   "outputs": [],
   "source": [
    "sm.graphics.qqplot(df['logtime'], line='45', fit=True)\n",
    "plt.show()"
   ]
  },
  {
   "cell_type": "markdown",
   "metadata": {},
   "source": [
    "Normality looks ok."
   ]
  },
  {
   "cell_type": "markdown",
   "metadata": {},
   "source": [
    "## Equal Variance"
   ]
  },
  {
   "cell_type": "code",
   "execution_count": null,
   "metadata": {},
   "outputs": [],
   "source": [
    "fig, ax = plt.subplots()\n",
    "fitted = res.fittedvalues \n",
    "sns.scatterplot(x=res.fittedvalues, y=res.resid, ax=ax)\n",
    "ax.set_xlabel('Fitted Values')\n",
    "_ = ax.set_ylabel('Residuals')"
   ]
  },
  {
   "cell_type": "markdown",
   "metadata": {},
   "source": [
    "Equal variance looks ok."
   ]
  }
 ],
 "metadata": {
  "kernelspec": {
   "display_name": "Python 3 (ipykernel)",
   "language": "python",
   "name": "python3"
  },
  "language_info": {
   "codemirror_mode": {
    "name": "ipython",
    "version": 3
   },
   "file_extension": ".py",
   "mimetype": "text/x-python",
   "name": "python",
   "nbconvert_exporter": "python",
   "pygments_lexer": "ipython3",
   "version": "3.12.3"
  }
 },
 "nbformat": 4,
 "nbformat_minor": 4
}
