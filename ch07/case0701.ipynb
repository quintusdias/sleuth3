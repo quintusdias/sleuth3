{
 "cells": [
  {
   "cell_type": "markdown",
   "metadata": {},
   "source": [
    "# The Big Bang - An Observational Study"
   ]
  },
  {
   "cell_type": "markdown",
   "metadata": {},
   "source": [
    "Is the relationship betwwen distance and velocity of the stars a straight line?  Is the y-intercept in the straight line equation zero, as the Big Bang theory predicts?  How old is the universe?"
   ]
  },
  {
   "cell_type": "code",
   "execution_count": null,
   "metadata": {},
   "outputs": [],
   "source": [
    "# standard library imports\n",
    "\n",
    "# 3rd party library imports\n",
    "import numpy as np\n",
    "import pandas as pd\n",
    "import scipy.stats\n",
    "import seaborn as sns\n",
    "import statsmodels.formula.api as smf\n",
    "\n",
    "sns.set()\n",
    "\n",
    "df = pd.read_csv('case0701.csv')"
   ]
  },
  {
   "cell_type": "markdown",
   "metadata": {},
   "source": [
    "# Robustness of Assumptions"
   ]
  },
  {
   "cell_type": "code",
   "execution_count": null,
   "metadata": {},
   "outputs": [],
   "source": [
    "df.head()"
   ]
  },
  {
   "cell_type": "code",
   "execution_count": null,
   "metadata": {},
   "outputs": [],
   "source": [
    "df.describe()"
   ]
  },
  {
   "cell_type": "code",
   "execution_count": null,
   "metadata": {},
   "outputs": [],
   "source": [
    "g  = sns.lmplot(data=df, x='Velocity', y='Distance')\n",
    "_ = g.ax.set_xlabel(r'Recession Velocity ($km/sec$)')\n",
    "_ = g.ax.set_ylabel(r'Distance ($Mpc$)')"
   ]
  },
  {
   "cell_type": "markdown",
   "metadata": {},
   "source": [
    "There is a moderate-to-strong, positive, linear relationship between velocity and distance.  There are no concerning outliers. "
   ]
  },
  {
   "cell_type": "markdown",
   "metadata": {},
   "source": [
    "# Is the relationship between distance and velocity of the stars a straight line?"
   ]
  },
  {
   "cell_type": "code",
   "execution_count": null,
   "metadata": {},
   "outputs": [],
   "source": [
    "model = smf.ols('Distance ~ Velocity', data=df)\n",
    "res = model.fit()\n",
    "res.summary()"
   ]
  },
  {
   "cell_type": "markdown",
   "metadata": {},
   "source": [
    "There is strong evidence that the relationship is linear, but even if so, there is clearly measurement error.  We estimate that stars move 0.0014 parsecs further away from earth for a per unit change in velocity ($t_{0.95, 22}$ = 6.024, $p$-value < 0.0001).  We are 95% certain that the true increase in distance per-unit increase in velocity is between 0.0009 and 0.0018 megaparsecs."
   ]
  },
  {
   "cell_type": "markdown",
   "metadata": {},
   "source": [
    "# Does Hubble's Data Support the Big Bang Theory?"
   ]
  },
  {
   "cell_type": "markdown",
   "metadata": {},
   "source": [
    "$\n",
    "\\begin{align}\n",
    "H_0: \\beta_0 = 0 \\\\\n",
    "H_a: \\beta_0 \\ne 0 \\\\\n",
    "\\end{align}\n",
    "$"
   ]
  },
  {
   "cell_type": "markdown",
   "metadata": {},
   "source": [
    "There is strong evidence against the hypothesis that $\\beta_0$ is zero.  We estimate that the true value of $\\beta_0$ is 0.3992 megaparsecs ($t_{0.95, 22}$ = 3.364, $p$-value = 0.003).  We are 95% confident that the true value of $\\beta_0$ is between 0.153 and 0.645 megaparsecs."
   ]
  },
  {
   "cell_type": "markdown",
   "metadata": {},
   "source": [
    "# What does the Big Bang Theory estimate for the Age of the Universe?"
   ]
  },
  {
   "cell_type": "code",
   "execution_count": null,
   "metadata": {},
   "outputs": [],
   "source": [
    "model = smf.ols('Distance ~ Velocity - 1', data=df)\n",
    "res = model.fit()\n",
    "print(res.summary())"
   ]
  },
  {
   "cell_type": "markdown",
   "metadata": {},
   "source": [
    "The slope of the line without the intercept is the age of the universe, 0.0019 $\\frac{Mpc}{\\frac{km}{sec}}$ = $0.0019 \\cdot Mpc \\cdot \\frac{1 \\times 10^6 pc}{Mpc} \\cdot \\frac{3.0857 \\times 10^{13} km}{pc} \\cdot \\frac{sec}{km} \\cdot \\frac{yr}{3.154 \\times 10^7 sec} = 1.859$ billion years.  We are 95% confident that the true age of the universe is between 1.49 and 2.27 billion years (a little bit off)."
   ]
  }
 ],
 "metadata": {
  "kernelspec": {
   "display_name": "Python 3 (ipykernel)",
   "language": "python",
   "name": "python3"
  },
  "language_info": {
   "codemirror_mode": {
    "name": "ipython",
    "version": 3
   },
   "file_extension": ".py",
   "mimetype": "text/x-python",
   "name": "python",
   "nbconvert_exporter": "python",
   "pygments_lexer": "ipython3",
   "version": "3.12.3"
  }
 },
 "nbformat": 4,
 "nbformat_minor": 4
}
