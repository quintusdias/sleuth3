{
 "cells": [
  {
   "cell_type": "markdown",
   "id": "85f832c7-2083-4cfe-bace-2166798944aa",
   "metadata": {},
   "source": [
    "# Logging Practices and Water Quality"
   ]
  },
  {
   "cell_type": "markdown",
   "id": "b1e9a80a-c5e0-4be7-a424-646e9a88daa3",
   "metadata": {},
   "source": [
    "## Setup"
   ]
  },
  {
   "cell_type": "code",
   "execution_count": null,
   "id": "433a3791-3d51-41ca-9398-5aea66cce028",
   "metadata": {},
   "outputs": [],
   "source": [
    "# 3rd party library imports\n",
    "import matplotlib.pyplot as plt\n",
    "import numpy as np\n",
    "import pandas as pd\n",
    "import seaborn as sns\n",
    "import statsmodels.formula.api as smf\n",
    "from statsmodels.stats.anova import anova_lm\n",
    "\n",
    "sns.set()\n",
    "\n",
    "df = pd.read_csv('case1501.csv')"
   ]
  },
  {
   "cell_type": "markdown",
   "id": "1b8ace9b-acff-441c-942b-944b46fb6475",
   "metadata": {},
   "source": [
    "## Nitrates ($NO_3$ - $N$) in runoff from patch-cut and undisturbed watersheds, for 5 years after logging"
   ]
  },
  {
   "cell_type": "code",
   "execution_count": null,
   "id": "7c100e4f-a7c2-419c-a6bb-0ebf7073ceaa",
   "metadata": {},
   "outputs": [],
   "source": [
    "fig, axes = plt.subplots(nrows=2)\n",
    "ax0 = sns.lineplot(data=df, x='Week', y='Patch', ax=axes[0])\n",
    "ax1 = sns.lineplot(data=df, x='Week', y='NoCut', ax=axes[1])\n",
    "ax0.set_ylim(0, 5)\n",
    "ax1.set_ylim(0, 5)\n",
    "fig.suptitle('Nitrate Levels')"
   ]
  },
  {
   "cell_type": "markdown",
   "id": "ea8d4700-1a5a-425f-a532-cb22d4828631",
   "metadata": {},
   "source": [
    "## Estimating the 1st serial correlation coefficient"
   ]
  },
  {
   "cell_type": "code",
   "execution_count": null,
   "id": "b06db30b-6745-4dcd-83c4-726408b21938",
   "metadata": {},
   "outputs": [],
   "source": [
    "mp = df['Patch'].mean()\n",
    "npatch = len(df['Patch'])\n",
    "dof = npatch - 1\n",
    "\n",
    "res = df['Patch'] - mp\n",
    "reslag = df['Patch'].shift(1) - mp\n",
    "c0_patch = df['Patch'].std() ** 2\n",
    "c1_patch = (res * reslag)[1:].sum() / dof\n",
    "\n",
    "mn = df['NoCut'].mean()\n",
    "nnocut = len(df['NoCut'])\n",
    "\n",
    "res = df['NoCut'] - mn\n",
    "reslag = df['NoCut'].shift(1) - mn\n",
    "c0_nocut = df['NoCut'].std() ** 2\n",
    "c1_nocut = (res * reslag)[1:].sum() / dof\n",
    "\n",
    "c0 = (dof * c0_patch + dof * c0_nocut) / (dof + dof)\n",
    "c1 = (dof * c1_patch + dof * c1_nocut) / (dof + dof)\n",
    "r1 = c1 / c0\n",
    "r1"
   ]
  },
  {
   "cell_type": "code",
   "execution_count": null,
   "id": "3c5c2be7-eedd-432f-82f5-5657b95ff6b5",
   "metadata": {},
   "outputs": [],
   "source": [
    "sp = np.sqrt(((npatch - 1) * df['Patch'].std() ** 2 + (nnocut - 1) * df['NoCut'].std() ** 2) / (npatch + nnocut - 2))\n",
    "se_diff = np.sqrt((1 + r1) / (1 - r1)) * sp * np.sqrt(1 / npatch + 1 / nnocut)\n",
    "se_diff"
   ]
  },
  {
   "cell_type": "code",
   "execution_count": null,
   "id": "13915fa2-fc77-4ba3-97b9-171ae61b9e95",
   "metadata": {},
   "outputs": [],
   "source": []
  }
 ],
 "metadata": {
  "kernelspec": {
   "display_name": "Python 3 (ipykernel)",
   "language": "python",
   "name": "python3"
  },
  "language_info": {
   "codemirror_mode": {
    "name": "ipython",
    "version": 3
   },
   "file_extension": ".py",
   "mimetype": "text/x-python",
   "name": "python",
   "nbconvert_exporter": "python",
   "pygments_lexer": "ipython3",
   "version": "3.12.1"
  }
 },
 "nbformat": 4,
 "nbformat_minor": 5
}
