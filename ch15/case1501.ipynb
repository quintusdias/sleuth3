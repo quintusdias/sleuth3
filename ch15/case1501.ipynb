{
 "cells": [
  {
   "cell_type": "markdown",
   "id": "85f832c7-2083-4cfe-bace-2166798944aa",
   "metadata": {},
   "source": [
    "# Logging Practices and Water Quality"
   ]
  },
  {
   "cell_type": "markdown",
   "id": "b1e9a80a-c5e0-4be7-a424-646e9a88daa3",
   "metadata": {},
   "source": [
    "## Setup"
   ]
  },
  {
   "cell_type": "code",
   "execution_count": null,
   "id": "433a3791-3d51-41ca-9398-5aea66cce028",
   "metadata": {},
   "outputs": [],
   "source": [
    "# 3rd party library imports\n",
    "import matplotlib.pyplot as plt\n",
    "import numpy as np\n",
    "import pandas as pd\n",
    "import seaborn as sns\n",
    "import statsmodels.formula.api as smf\n",
    "from statsmodels.stats.anova import anova_lm\n",
    "\n",
    "df = pd.read_csv('case1501.csv')"
   ]
  },
  {
   "cell_type": "code",
   "execution_count": null,
   "id": "7c100e4f-a7c2-419c-a6bb-0ebf7073ceaa",
   "metadata": {},
   "outputs": [],
   "source": []
  }
 ],
 "metadata": {
  "kernelspec": {
   "display_name": "Python 3 (ipykernel)",
   "language": "python",
   "name": "python3"
  },
  "language_info": {
   "codemirror_mode": {
    "name": "ipython",
    "version": 3
   },
   "file_extension": ".py",
   "mimetype": "text/x-python",
   "name": "python",
   "nbconvert_exporter": "python",
   "pygments_lexer": "ipython3",
   "version": "3.11.5"
  }
 },
 "nbformat": 4,
 "nbformat_minor": 5
}
