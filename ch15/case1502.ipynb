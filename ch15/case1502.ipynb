{
 "cells": [
  {
   "cell_type": "markdown",
   "id": "431f1113-adff-44da-a376-891eb7e90aad",
   "metadata": {},
   "source": [
    "# Global Warming"
   ]
  },
  {
   "cell_type": "code",
   "execution_count": null,
   "id": "87cf72ae-6d13-4c67-97e0-59ba92d0ccc4",
   "metadata": {},
   "outputs": [],
   "source": [
    "# 3rd party library imports\n",
    "import matplotlib.pyplot as plt\n",
    "import numpy as np\n",
    "import pandas as pd\n",
    "import seaborn as sns\n",
    "import statsmodels.formula.api as smf\n",
    "from statsmodels.stats.anova import anova_lm\n",
    "from statsmodels.tsa.api import acf\n",
    "\n",
    "sns.set()\n",
    "\n",
    "df = pd.read_csv('case1502.csv')"
   ]
  },
  {
   "cell_type": "code",
   "execution_count": null,
   "id": "6acb3b31-27b8-49dc-971c-1ac7c2e600c6",
   "metadata": {},
   "outputs": [],
   "source": [
    "_ = sns.lineplot(data=df, x='Year', y='Temperature')"
   ]
  },
  {
   "cell_type": "markdown",
   "id": "c1e48fc7-3e64-4659-935f-b0b0daa8e145",
   "metadata": {},
   "source": [
    "## The serial correlation coefficient based on regression residuals"
   ]
  },
  {
   "cell_type": "code",
   "execution_count": null,
   "id": "168a09a2-3e48-4520-a94f-26c1e3b2cf87",
   "metadata": {},
   "outputs": [],
   "source": [
    "df['t'] = (df['Year'] - 1900)/100"
   ]
  },
  {
   "cell_type": "code",
   "execution_count": null,
   "id": "6745230b-ce92-45dd-a51d-7f8678d25624",
   "metadata": {},
   "outputs": [],
   "source": [
    "model = smf.ols('Temperature ~ t + I(t ** 2)', data=df).fit()\n",
    "model.summary()"
   ]
  },
  {
   "cell_type": "code",
   "execution_count": null,
   "id": "86845c7a-fe30-4a2f-aaf8-4eefa9136a34",
   "metadata": {},
   "outputs": [],
   "source": [
    "anova_lm(model)"
   ]
  },
  {
   "cell_type": "code",
   "execution_count": null,
   "id": "bc3bcad4-b7b1-41fc-b2b3-8c0f6e946553",
   "metadata": {},
   "outputs": [],
   "source": [
    "resid = model.resid\n",
    "r1 = acf(resid)[1]\n",
    "r1"
   ]
  },
  {
   "cell_type": "code",
   "execution_count": null,
   "id": "3aeec544-aa0a-469c-84a5-b60849640344",
   "metadata": {},
   "outputs": [],
   "source": []
  }
 ],
 "metadata": {
  "kernelspec": {
   "display_name": "Python 3 (ipykernel)",
   "language": "python",
   "name": "python3"
  },
  "language_info": {
   "codemirror_mode": {
    "name": "ipython",
    "version": 3
   },
   "file_extension": ".py",
   "mimetype": "text/x-python",
   "name": "python",
   "nbconvert_exporter": "python",
   "pygments_lexer": "ipython3",
   "version": "3.12.1"
  }
 },
 "nbformat": 4,
 "nbformat_minor": 5
}
