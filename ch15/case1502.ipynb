{
 "cells": [
  {
   "cell_type": "markdown",
   "id": "431f1113-adff-44da-a376-891eb7e90aad",
   "metadata": {},
   "source": [
    "# Global Warming"
   ]
  },
  {
   "cell_type": "code",
   "execution_count": null,
   "id": "87cf72ae-6d13-4c67-97e0-59ba92d0ccc4",
   "metadata": {},
   "outputs": [],
   "source": [
    "# 3rd party library imports\n",
    "import matplotlib.pyplot as plt\n",
    "import numpy as np\n",
    "import pandas as pd\n",
    "from scipy.stats import norm\n",
    "import seaborn as sns\n",
    "import statsmodels.formula.api as smf\n",
    "from statsmodels.stats.anova import anova_lm\n",
    "from statsmodels.tsa.api import acf\n",
    "\n",
    "sns.set()\n",
    "\n",
    "df = pd.read_csv('case1502.csv')"
   ]
  },
  {
   "cell_type": "code",
   "execution_count": null,
   "id": "6acb3b31-27b8-49dc-971c-1ac7c2e600c6",
   "metadata": {},
   "outputs": [],
   "source": [
    "_ = sns.lineplot(data=df, x='Year', y='Temperature')"
   ]
  },
  {
   "cell_type": "markdown",
   "id": "c1e48fc7-3e64-4659-935f-b0b0daa8e145",
   "metadata": {},
   "source": [
    "## The serial correlation coefficient based on regression residuals"
   ]
  },
  {
   "cell_type": "code",
   "execution_count": null,
   "id": "168a09a2-3e48-4520-a94f-26c1e3b2cf87",
   "metadata": {},
   "outputs": [],
   "source": [
    "df['t'] = (df['Year'] - 1900)/100"
   ]
  },
  {
   "cell_type": "code",
   "execution_count": null,
   "id": "6745230b-ce92-45dd-a51d-7f8678d25624",
   "metadata": {},
   "outputs": [],
   "source": [
    "model = smf.ols('Temperature ~ t + I(t ** 2)', data=df).fit()\n",
    "model.summary()"
   ]
  },
  {
   "cell_type": "code",
   "execution_count": null,
   "id": "86845c7a-fe30-4a2f-aaf8-4eefa9136a34",
   "metadata": {},
   "outputs": [],
   "source": [
    "anova_lm(model)"
   ]
  },
  {
   "cell_type": "code",
   "execution_count": null,
   "id": "bc3bcad4-b7b1-41fc-b2b3-8c0f6e946553",
   "metadata": {},
   "outputs": [],
   "source": [
    "resid = model.resid\n",
    "r1 = acf(resid)[1]\n",
    "r1"
   ]
  },
  {
   "cell_type": "markdown",
   "id": "6f4ba7b0-1898-412a-917a-f61128dae87a",
   "metadata": {},
   "source": [
    "## Regression with Filtered Variables"
   ]
  },
  {
   "cell_type": "code",
   "execution_count": null,
   "id": "00686482-6561-4ea5-8513-80b2d73a9a3a",
   "metadata": {},
   "outputs": [],
   "source": [
    "df['u'] = df['t'] - r1 * df['t'].shift(1)\n",
    "df['v'] = df['Temperature'] - r1 * df['Temperature'].shift(1)\n",
    "filtered_model = smf.ols('v ~ u + I(u ** 2)', data=df).fit()\n",
    "filtered_model.summary()"
   ]
  },
  {
   "cell_type": "code",
   "execution_count": null,
   "id": "43052236-a4b3-47b7-a70c-b226360e5e15",
   "metadata": {},
   "outputs": [],
   "source": [
    "anova_lm(filtered_model)"
   ]
  },
  {
   "cell_type": "code",
   "execution_count": null,
   "id": "ab26a20d-789e-4786-b53f-f060453b4e87",
   "metadata": {},
   "outputs": [],
   "source": [
    "fig, axes = plt.subplots(nrows=2)\n",
    "sns.lineplot(x=df['Year'], y=model.resid, ax=axes[0])\n",
    "sns.lineplot(x=df['Year'], y=filtered_model.resid, ax=axes[1])\n",
    "axes[0].set_ylabel('\\N{DEGREE SIGN} C')\n",
    "axes[1].set_ylabel('\\N{DEGREE SIGN} C')"
   ]
  },
  {
   "cell_type": "markdown",
   "id": "7d95c05c-d4a4-4944-b0f2-66d201135de1",
   "metadata": {},
   "source": [
    "## Was serial correlation even present?"
   ]
  },
  {
   "cell_type": "code",
   "execution_count": null,
   "id": "e85b6615-819b-4276-8d1d-6157926ce47b",
   "metadata": {},
   "outputs": [],
   "source": [
    "num_runs = (np.abs(np.sign(filtered_model.resid).diff()) > 0).sum() + 1\n",
    "m = (filtered_model.resid < 0).sum()\n",
    "p = (filtered_model.resid > 0).sum()\n",
    "mu = (2 * m * p) / ( m + p) + 1\n",
    "sigma = np.sqrt((2 * m * p) * (2 * m * p - m - p) / ((m + p) ** 2 * (m + p + 1)))\n",
    "z = (num_runs - mu + 0.5) / sigma\n",
    "p = (1 - norm.cdf(np.abs(z))) * 2\n",
    "p"
   ]
  },
  {
   "cell_type": "code",
   "execution_count": null,
   "id": "b723e09c-0f7e-4813-81c4-82809059d109",
   "metadata": {},
   "outputs": [],
   "source": []
  }
 ],
 "metadata": {
  "kernelspec": {
   "display_name": "Python 3 (ipykernel)",
   "language": "python",
   "name": "python3"
  },
  "language_info": {
   "codemirror_mode": {
    "name": "ipython",
    "version": 3
   },
   "file_extension": ".py",
   "mimetype": "text/x-python",
   "name": "python",
   "nbconvert_exporter": "python",
   "pygments_lexer": "ipython3",
   "version": "3.12.1"
  }
 },
 "nbformat": 4,
 "nbformat_minor": 5
}
