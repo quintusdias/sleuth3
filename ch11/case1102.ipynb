{
 "cells": [
  {
   "cell_type": "markdown",
   "metadata": {},
   "source": [
    "# The Blood-Brain Barrier - A Controlled Experiment\n",
    "\n",
    "The human brain is protected from bacteria and toxins, which course through the bloodstream, by a single layer of cells called the *blood-brain barrier*.  This barrier normally alllows only a few substances, including some medications, to reach the brain.  Because chemicals used to treat brain cells have such large molecular size, they cannot pass through the barrier to attack tumor cells.  At the Oregon Health Sciences University. Dr. E. A. Newwelt developed a method of disrupting the barrier by infusing a solution of concentrated sugars.\n",
    "\n",
    "As a test of the disruption mechanism, researchers conducted a study on rats, which possess a similar barrier.  (Data from P. Barnett et al., \"Differential Permeability and Quantitative MR Imaging of a Human Lung Carcinoma Brain Xenograft in the Nude Rat,\" *American Journal of Pathology* 146(2) (1995): 436-49.) . The rats were innoculated with human lung cancer cells to induce brain tumors.  After 9 to 11 days they were infused with either the barrier disruption (BD) solution or, as a control, a normal saline (NS) solution.  Fifteen minutes later, the rats received a standard dose of the therapeutic antibody $L6\\mathrm{-}F(ab\\prime)_2$.  After a set time they were sacrificed, and the amounts of antibody in the brain tumor and in normal tissue were measured."
   ]
  },
  {
   "cell_type": "markdown",
   "metadata": {},
   "source": [
    "Since the amount of the antibody in normal tissue indicates how much of it the rat actually received, a key measure of the effectiveness of transmission across the blood-brain barrier is the ratio of the antibody concentration in the brain tumor to the antibody concentration in normal tissue outside the brain.  The brain tumor concentration divided by the liver concentration is a measure of the amount of the antibody that reached the brain relative to the amount of it that reaeched other parts of the body.  This is the response variable.  The explanatory variables comprise two two categories:  *design variables* are those that describe manipulation by the researcher; *covariates* are those measuring characteristics of the subjects that were not controllable by the researcher."
   ]
  },
  {
   "cell_type": "markdown",
   "metadata": {},
   "source": [
    "Was the antibody concentration in the brain tumor increased by the use of the blood-brain barrier disruption infusion?  If so, by how much?  Do the answers to these two questions depend on the length of time after the infusion (from 1/2 to 72 hours)?  What is the effect of treatment on antibody concentration after weight loss, total tumor weight, and the other covariates are accounted for?"
   ]
  },
  {
   "cell_type": "code",
   "execution_count": null,
   "metadata": {},
   "outputs": [],
   "source": [
    "# standard library imports\n",
    "\n",
    "# 3rd party library imports\n",
    "import matplotlib.pyplot as plt\n",
    "import numpy as np\n",
    "import pandas as pd\n",
    "import scipy.stats\n",
    "import seaborn as sns\n",
    "import statsmodels.formula.api as smf\n",
    "import statsmodels.api as sm\n",
    "from statsmodels.stats.anova import anova_lm\n",
    "\n",
    "sns.set()\n",
    "pd.options.display.float_format = \"{:.3f}\".format\n",
    "pd.options.display.max_columns = 12"
   ]
  },
  {
   "cell_type": "code",
   "execution_count": null,
   "metadata": {},
   "outputs": [],
   "source": [
    "df = pd.read_csv('case1102.csv')\n",
    "df.head()"
   ]
  },
  {
   "cell_type": "code",
   "execution_count": null,
   "metadata": {},
   "outputs": [],
   "source": [
    "df['Concentration'] = df['Brain'] / df['Liver']\n",
    "df = df.rename(mapper={'Time': 'SAC', 'Treatment': 'TRTMNT'}, axis='columns')"
   ]
  },
  {
   "cell_type": "code",
   "execution_count": null,
   "metadata": {},
   "outputs": [],
   "source": [
    "# This plot seems to show an effect due to the treatment.\n",
    "fig, ax = plt.subplots()\n",
    "_ = sns.stripplot(data=df, x='SAC', y='Concentration', hue='TRTMNT', log_scale=True, ax=ax)\n",
    "_ = ax.set_xlabel('Sacrifice Time (Hours)')\n",
    "_ = ax.set_ylabel('Tumor-to-Liver Concentration Ratio')\n",
    "handles, labels = ax.get_legend_handles_labels()\n",
    "_ = ax.legend(handles, ['Barrier Disruption', 'Saline Control'])"
   ]
  },
  {
   "cell_type": "code",
   "execution_count": null,
   "metadata": {},
   "outputs": [],
   "source": [
    "# a pairplot of the covariates shows at the very least that concentration should be logged\n",
    "cols = ['Days', 'Weight', 'Loss', 'Tumor', 'Concentration']\n",
    "g = sns.pairplot(df[cols])"
   ]
  },
  {
   "cell_type": "code",
   "execution_count": null,
   "metadata": {},
   "outputs": [],
   "source": [
    "df['logconc'] = np.log(df['Concentration'])\n",
    "cols = ['Days', 'Weight', 'Loss', 'Tumor', 'logconc']\n",
    "g = sns.pairplot(df[cols])"
   ]
  },
  {
   "cell_type": "markdown",
   "metadata": {},
   "source": [
    "**Days** clearly looks to have an effect, **Weight** (total weight) looks like it has an effect, but the effects of **Loss** and **Tumor** (weight loss and tumor weight) are not clear.  \n",
    "\n",
    "We choose to fully hydrate the model as follows:\n",
    " \n",
    "$\\mu\\{\\log(Conc) | SAC, TRTMT, Days, FEM, weight, loss, tumor\\} = SAC + TREAT + (SAC \\times TREAT) + Days + FEM + weight + loss + tumor$"
   ]
  },
  {
   "cell_type": "code",
   "execution_count": null,
   "metadata": {},
   "outputs": [],
   "source": [
    "formula = (\n",
    "    'np.log(Concentration) '\n",
    "    '~ C(SAC, Treatment(reference=0.5)) '\n",
    "    '+ C(TRTMNT, Treatment(reference=\"NS\")) '\n",
    "    '+ C(SAC, Treatment(reference=0.5)) * C(TRTMNT, Treatment(reference=\"NS\")) '\n",
    "    '+ C(Sex, Treatment(reference=\"Female\")) '\n",
    "    '+ Days + Weight + Loss + Tumor'\n",
    ")\n",
    "model = smf.ols(formula, data=df)\n",
    "lm1 = model.fit()\n",
    "lm1.summary()"
   ]
  },
  {
   "cell_type": "markdown",
   "metadata": {},
   "source": [
    "# Scatterplot of residuals vs fitted values from the fit of logged response on a rich model for explanatory variables"
   ]
  },
  {
   "cell_type": "code",
   "execution_count": null,
   "metadata": {},
   "outputs": [],
   "source": [
    "ax = sns.scatterplot(x=lm1.fittedvalues, y=lm1.resid)\n",
    "_ = ax.set_xlabel('Fitted Values')\n",
    "_ = ax.set_ylabel('Residuals')"
   ]
  },
  {
   "cell_type": "code",
   "execution_count": null,
   "metadata": {},
   "outputs": [],
   "source": [
    "# there seem to be two notable residuals\n",
    "df[abs(lm1.resid) > 1]"
   ]
  },
  {
   "cell_type": "code",
   "execution_count": null,
   "metadata": {},
   "outputs": [],
   "source": [
    "infl = lm1.get_influence().summary_frame()[['cooks_d', 'student_resid', 'hat_diag']]\n",
    "idxc = infl['cooks_d'] > 0.5\n",
    "idxs = infl['student_resid'].abs() > 2\n",
    "idxl = infl['hat_diag'] > 2 * len(lm1.params) / lm1.nobs\n",
    "infl.loc[idxc | idxs | idxl, :]"
   ]
  },
  {
   "cell_type": "markdown",
   "metadata": {},
   "source": [
    "Observations 30 and 33 could possibly be considered to be influential, mostly due to large Studentized residuals."
   ]
  },
  {
   "cell_type": "code",
   "execution_count": null,
   "metadata": {},
   "outputs": [],
   "source": [
    "# an influence plot shows the same\n",
    "fig, ax = plt.subplots()\n",
    "_ = sm.graphics.influence_plot(lm1, ax=ax)\n",
    "_ = ax.set_title('')"
   ]
  },
  {
   "cell_type": "markdown",
   "metadata": {},
   "source": [
    "Drop observations 30 and 33."
   ]
  },
  {
   "cell_type": "code",
   "execution_count": null,
   "metadata": {},
   "outputs": [],
   "source": [
    "df = df.reset_index()\n",
    "df = df.rename(mapper={'index': 'observation'}, axis='columns')\n",
    "df = df.query('observation < 30 or (observation > 30 and observation < 33)')"
   ]
  },
  {
   "cell_type": "markdown",
   "metadata": {},
   "source": [
    "## Refine the model\n",
    "\n",
    "Can the co-variates variables be dropped?"
   ]
  },
  {
   "cell_type": "code",
   "execution_count": null,
   "metadata": {
    "scrolled": true
   },
   "outputs": [],
   "source": [
    "formula2 = (\n",
    "    'np.log(Concentration) '\n",
    "    '~ C(SAC, Treatment(reference=0.5)) '\n",
    "    '+ C(TRTMNT, Treatment(reference=\"NS\")) '\n",
    "    '+ C(SAC, Treatment(reference=0.5)) * C(TRTMNT, Treatment(reference=\"NS\")) '\n",
    ")\n",
    "lm2 = smf.ols(formula=formula2, data=df).fit()\n",
    "anova_lm(lm2, lm1)"
   ]
  },
  {
   "cell_type": "markdown",
   "metadata": {},
   "source": [
    "There is little evidence of loss of fit from dropping those terms.  What about the interaction term?"
   ]
  },
  {
   "cell_type": "code",
   "execution_count": null,
   "metadata": {},
   "outputs": [],
   "source": [
    "formula3 = 'np.log(Concentration) ~ C(SAC, Treatment(reference=0.5)) + C(TRTMNT, Treatment(reference=\"NS\"))'\n",
    "lm3 = smf.ols(formula=formula3, data=df).fit()\n",
    "anova_lm(lm3, lm2)"
   ]
  },
  {
   "cell_type": "markdown",
   "metadata": {},
   "source": [
    "Again, there is little evidence of loss of fit."
   ]
  },
  {
   "cell_type": "code",
   "execution_count": null,
   "metadata": {},
   "outputs": [],
   "source": []
  }
 ],
 "metadata": {
  "kernelspec": {
   "display_name": "Python 3 (ipykernel)",
   "language": "python",
   "name": "python3"
  },
  "language_info": {
   "codemirror_mode": {
    "name": "ipython",
    "version": 3
   },
   "file_extension": ".py",
   "mimetype": "text/x-python",
   "name": "python",
   "nbconvert_exporter": "python",
   "pygments_lexer": "ipython3",
   "version": "3.12.3"
  }
 },
 "nbformat": 4,
 "nbformat_minor": 4
}
