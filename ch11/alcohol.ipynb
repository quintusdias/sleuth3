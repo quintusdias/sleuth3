{
 "cells": [
  {
   "cell_type": "markdown",
   "metadata": {},
   "source": [
    "# Alcohol Metabolism in Men and Women - An observational Study\n",
    "Women exhibit a lower tolerance for alcohol and develop alcohol-related liver disease more readily than men.  When men and women of the same size and drinking history consume equal amounts of alcohol, the women on average carry a higher concentration of alcohol in their bloodstream.  According to a team of Italian researchers, this occurs because alcohol-degrading enzymes in the stomach (where alcohol is partially metabolized before it enters the bloodstream and is eventually metabolized by the liver) are more active in men that in women.  The researchers studies the extent to which the activity of the enzyme explained the first-pass alcohol metabolism and the extent to which ist explained the first-pass metabolism between women and men.  (Data from M. Frezza et al., \"High Blood Alcohol Levels in Women,\" *New England Journal of Medicine* 322 (1990): 95-99.)"
   ]
  },
  {
   "cell_type": "markdown",
   "metadata": {},
   "source": [
    "The subjects were 18 men and 14 women, all living in Trieste.  Three of the women and five of the men were categorized as alcoholic.  All subjects received ethanol, at a dose of 0.3 grams per kilogram of body weight, orally one day and intravenously another, in randomly determined order.  Since the intravenous administration bypasses the stomach, the difference in blood alcohol concentration - the concentration after intravenous administration minus the concentration after oral administration - provides a measure of \"first-pass metabolism\" in the stomach.  In addition, gastric alcohol dehydrogenase (AD) activity (activity of the key enzyme) was measured in mucus samples taken from the stomach linings."
   ]
  },
  {
   "cell_type": "markdown",
   "metadata": {},
   "source": [
    "Several questions arise.  Do levels of first-pass metabolism differ between men and women?  Can the differences be explained by postulating that men have more dehydrogenase activity in their stomachs?  Are the answers to these questions complicated by an alcoholism effect?"
   ]
  },
  {
   "cell_type": "code",
   "execution_count": 49,
   "metadata": {},
   "outputs": [],
   "source": [
    "import pathlib\n",
    "\n",
    "import matplotlib.pyplot as plt\n",
    "import numpy as np\n",
    "import pandas as pd\n",
    "import scipy.stats\n",
    "import seaborn as sns\n",
    "import statsmodels.formula.api as smf\n",
    "\n",
    "sns.set()"
   ]
  },
  {
   "cell_type": "markdown",
   "metadata": {},
   "source": [
    "We begin by reading the data and summarizing the variables."
   ]
  },
  {
   "cell_type": "code",
   "execution_count": 50,
   "metadata": {},
   "outputs": [
    {
     "data": {
      "text/html": [
       "<div>\n",
       "<style scoped>\n",
       "    .dataframe tbody tr th:only-of-type {\n",
       "        vertical-align: middle;\n",
       "    }\n",
       "\n",
       "    .dataframe tbody tr th {\n",
       "        vertical-align: top;\n",
       "    }\n",
       "\n",
       "    .dataframe thead th {\n",
       "        text-align: right;\n",
       "    }\n",
       "</style>\n",
       "<table border=\"1\" class=\"dataframe\">\n",
       "  <thead>\n",
       "    <tr style=\"text-align: right;\">\n",
       "      <th></th>\n",
       "      <th>Subject</th>\n",
       "      <th>Metabol</th>\n",
       "      <th>Gastric</th>\n",
       "      <th>Sex</th>\n",
       "      <th>Alcohol</th>\n",
       "    </tr>\n",
       "  </thead>\n",
       "  <tbody>\n",
       "    <tr>\n",
       "      <td>0</td>\n",
       "      <td>1</td>\n",
       "      <td>0.6</td>\n",
       "      <td>1.0</td>\n",
       "      <td>Female</td>\n",
       "      <td>Alcoholic</td>\n",
       "    </tr>\n",
       "    <tr>\n",
       "      <td>1</td>\n",
       "      <td>2</td>\n",
       "      <td>0.6</td>\n",
       "      <td>1.6</td>\n",
       "      <td>Female</td>\n",
       "      <td>Alcoholic</td>\n",
       "    </tr>\n",
       "    <tr>\n",
       "      <td>2</td>\n",
       "      <td>3</td>\n",
       "      <td>1.5</td>\n",
       "      <td>1.5</td>\n",
       "      <td>Female</td>\n",
       "      <td>Alcoholic</td>\n",
       "    </tr>\n",
       "    <tr>\n",
       "      <td>3</td>\n",
       "      <td>4</td>\n",
       "      <td>0.4</td>\n",
       "      <td>2.2</td>\n",
       "      <td>Female</td>\n",
       "      <td>Non-alcoholic</td>\n",
       "    </tr>\n",
       "    <tr>\n",
       "      <td>4</td>\n",
       "      <td>5</td>\n",
       "      <td>0.1</td>\n",
       "      <td>1.1</td>\n",
       "      <td>Female</td>\n",
       "      <td>Non-alcoholic</td>\n",
       "    </tr>\n",
       "  </tbody>\n",
       "</table>\n",
       "</div>"
      ],
      "text/plain": [
       "   Subject  Metabol  Gastric     Sex        Alcohol\n",
       "0        1      0.6      1.0  Female      Alcoholic\n",
       "1        2      0.6      1.6  Female      Alcoholic\n",
       "2        3      1.5      1.5  Female      Alcoholic\n",
       "3        4      0.4      2.2  Female  Non-alcoholic\n",
       "4        5      0.1      1.1  Female  Non-alcoholic"
      ]
     },
     "execution_count": 50,
     "metadata": {},
     "output_type": "execute_result"
    }
   ],
   "source": [
    "path = pathlib.Path.home() / 'data' / 'sleuth3' / 'case1101.csv'\n",
    "df = pd.read_csv(path)\n",
    "df.head()"
   ]
  },
  {
   "cell_type": "code",
   "execution_count": 51,
   "metadata": {},
   "outputs": [
    {
     "data": {
      "text/html": [
       "<div>\n",
       "<style scoped>\n",
       "    .dataframe tbody tr th:only-of-type {\n",
       "        vertical-align: middle;\n",
       "    }\n",
       "\n",
       "    .dataframe tbody tr th {\n",
       "        vertical-align: top;\n",
       "    }\n",
       "\n",
       "    .dataframe thead th {\n",
       "        text-align: right;\n",
       "    }\n",
       "</style>\n",
       "<table border=\"1\" class=\"dataframe\">\n",
       "  <thead>\n",
       "    <tr style=\"text-align: right;\">\n",
       "      <th></th>\n",
       "      <th>Subject</th>\n",
       "      <th>Metabol</th>\n",
       "      <th>Gastric</th>\n",
       "    </tr>\n",
       "  </thead>\n",
       "  <tbody>\n",
       "    <tr>\n",
       "      <td>count</td>\n",
       "      <td>32.000000</td>\n",
       "      <td>32.000000</td>\n",
       "      <td>32.000000</td>\n",
       "    </tr>\n",
       "    <tr>\n",
       "      <td>mean</td>\n",
       "      <td>16.500000</td>\n",
       "      <td>2.421875</td>\n",
       "      <td>1.862500</td>\n",
       "    </tr>\n",
       "    <tr>\n",
       "      <td>std</td>\n",
       "      <td>9.380832</td>\n",
       "      <td>2.658490</td>\n",
       "      <td>0.964114</td>\n",
       "    </tr>\n",
       "    <tr>\n",
       "      <td>min</td>\n",
       "      <td>1.000000</td>\n",
       "      <td>0.100000</td>\n",
       "      <td>0.800000</td>\n",
       "    </tr>\n",
       "    <tr>\n",
       "      <td>25%</td>\n",
       "      <td>8.750000</td>\n",
       "      <td>0.600000</td>\n",
       "      <td>1.200000</td>\n",
       "    </tr>\n",
       "    <tr>\n",
       "      <td>50%</td>\n",
       "      <td>16.500000</td>\n",
       "      <td>1.700000</td>\n",
       "      <td>1.600000</td>\n",
       "    </tr>\n",
       "    <tr>\n",
       "      <td>75%</td>\n",
       "      <td>24.250000</td>\n",
       "      <td>2.925000</td>\n",
       "      <td>2.200000</td>\n",
       "    </tr>\n",
       "    <tr>\n",
       "      <td>max</td>\n",
       "      <td>32.000000</td>\n",
       "      <td>12.300000</td>\n",
       "      <td>5.200000</td>\n",
       "    </tr>\n",
       "  </tbody>\n",
       "</table>\n",
       "</div>"
      ],
      "text/plain": [
       "         Subject    Metabol    Gastric\n",
       "count  32.000000  32.000000  32.000000\n",
       "mean   16.500000   2.421875   1.862500\n",
       "std     9.380832   2.658490   0.964114\n",
       "min     1.000000   0.100000   0.800000\n",
       "25%     8.750000   0.600000   1.200000\n",
       "50%    16.500000   1.700000   1.600000\n",
       "75%    24.250000   2.925000   2.200000\n",
       "max    32.000000  12.300000   5.200000"
      ]
     },
     "execution_count": 51,
     "metadata": {},
     "output_type": "execute_result"
    }
   ],
   "source": [
    "summary = df.describe()\n",
    "summary"
   ]
  },
  {
   "cell_type": "code",
   "execution_count": 52,
   "metadata": {
    "scrolled": true
   },
   "outputs": [
    {
     "data": {
      "text/plain": [
       "Text(0, 0.5, 'First-Pass Metabolism (mmol/liter-hour)')"
      ]
     },
     "execution_count": 52,
     "metadata": {},
     "output_type": "execute_result"
    },
    {
     "data": {
      "image/png": "[encoded data removed]",
      "text/plain": [
       "<Figure size 432x288 with 1 Axes>"
      ]
     },
     "metadata": {},
     "output_type": "display_data"
    }
   ],
   "source": [
    "ax = sns.scatterplot(x='Gastric', y='Metabol',\n",
    "                     hue='Sex', style='Alcohol', \n",
    "                     data=df)\n",
    "ax.set_xlabel('Gastric AD Activity ($\\mu$mol/min/g of tissue)')\n",
    "ax.set_ylabel('First-Pass Metabolism (mmol/liter-hour)')"
   ]
  },
  {
   "cell_type": "code",
   "execution_count": 53,
   "metadata": {},
   "outputs": [
    {
     "data": {
      "image/png": "[encoded data removed]",
      "text/plain": [
       "<Figure size 796.35x360 with 2 Axes>"
      ]
     },
     "metadata": {},
     "output_type": "display_data"
    }
   ],
   "source": [
    "g = sns.catplot(x='Gastric', y='Metabol', hue='Sex', col='Alcohol', data=df)"
   ]
  },
  {
   "cell_type": "markdown",
   "metadata": {},
   "source": [
    "This does not lend any wisdom one way or the other as to whether alcoholism is really a factor or not.  There are only 8 alcoholic subjects in the study."
   ]
  },
  {
   "cell_type": "code",
   "execution_count": 54,
   "metadata": {},
   "outputs": [
    {
     "data": {
      "text/html": [
       "<table class=\"simpletable\">\n",
       "<caption>OLS Regression Results</caption>\n",
       "<tr>\n",
       "  <th>Dep. Variable:</th>         <td>Metabol</td>     <th>  R-squared:         </th> <td>   0.828</td>\n",
       "</tr>\n",
       "<tr>\n",
       "  <th>Model:</th>                   <td>OLS</td>       <th>  Adj. R-squared:    </th> <td>   0.777</td>\n",
       "</tr>\n",
       "<tr>\n",
       "  <th>Method:</th>             <td>Least Squares</td>  <th>  F-statistic:       </th> <td>   16.47</td>\n",
       "</tr>\n",
       "<tr>\n",
       "  <th>Date:</th>             <td>Tue, 24 Sep 2019</td> <th>  Prob (F-statistic):</th> <td>9.35e-08</td>\n",
       "</tr>\n",
       "<tr>\n",
       "  <th>Time:</th>                 <td>12:38:43</td>     <th>  Log-Likelihood:    </th> <td> -48.052</td>\n",
       "</tr>\n",
       "<tr>\n",
       "  <th>No. Observations:</th>      <td>    32</td>      <th>  AIC:               </th> <td>   112.1</td>\n",
       "</tr>\n",
       "<tr>\n",
       "  <th>Df Residuals:</th>          <td>    24</td>      <th>  BIC:               </th> <td>   123.8</td>\n",
       "</tr>\n",
       "<tr>\n",
       "  <th>Df Model:</th>              <td>     7</td>      <th>                     </th>     <td> </td>   \n",
       "</tr>\n",
       "<tr>\n",
       "  <th>Covariance Type:</th>      <td>nonrobust</td>    <th>                     </th>     <td> </td>   \n",
       "</tr>\n",
       "</table>\n",
       "<table class=\"simpletable\">\n",
       "<tr>\n",
       "                        <td></td>                          <th>coef</th>     <th>std err</th>      <th>t</th>      <th>P>|t|</th>  <th>[0.025</th>    <th>0.975]</th>  \n",
       "</tr>\n",
       "<tr>\n",
       "  <th>Intercept</th>                                    <td>    0.1065</td> <td>    3.839</td> <td>    0.028</td> <td> 0.978</td> <td>   -7.818</td> <td>    8.031</td>\n",
       "</tr>\n",
       "<tr>\n",
       "  <th>Sex[T.Male]</th>                                  <td>    0.7860</td> <td>    4.187</td> <td>    0.188</td> <td> 0.853</td> <td>   -7.855</td> <td>    9.427</td>\n",
       "</tr>\n",
       "<tr>\n",
       "  <th>Alcohol[T.Non-alcoholic]</th>                     <td>   -0.3004</td> <td>    3.939</td> <td>   -0.076</td> <td> 0.940</td> <td>   -8.431</td> <td>    7.830</td>\n",
       "</tr>\n",
       "<tr>\n",
       "  <th>Sex[T.Male]:Alcohol[T.Non-alcoholic]</th>         <td>   -2.2517</td> <td>    4.394</td> <td>   -0.512</td> <td> 0.613</td> <td>  -11.320</td> <td>    6.816</td>\n",
       "</tr>\n",
       "<tr>\n",
       "  <th>Gastric</th>                                      <td>    0.5806</td> <td>    2.759</td> <td>    0.210</td> <td> 0.835</td> <td>   -5.114</td> <td>    6.275</td>\n",
       "</tr>\n",
       "<tr>\n",
       "  <th>Gastric:Sex[T.Male]</th>                          <td>    0.4748</td> <td>    2.933</td> <td>    0.162</td> <td> 0.873</td> <td>   -5.579</td> <td>    6.528</td>\n",
       "</tr>\n",
       "<tr>\n",
       "  <th>Gastric:Alcohol[T.Non-alcoholic]</th>             <td>    0.2601</td> <td>    2.807</td> <td>    0.093</td> <td> 0.927</td> <td>   -5.533</td> <td>    6.053</td>\n",
       "</tr>\n",
       "<tr>\n",
       "  <th>Gastric:Sex[T.Male]:Alcohol[T.Non-alcoholic]</th> <td>    1.1987</td> <td>    2.998</td> <td>    0.400</td> <td> 0.693</td> <td>   -4.989</td> <td>    7.386</td>\n",
       "</tr>\n",
       "</table>\n",
       "<table class=\"simpletable\">\n",
       "<tr>\n",
       "  <th>Omnibus:</th>       <td> 9.228</td> <th>  Durbin-Watson:     </th> <td>   1.865</td>\n",
       "</tr>\n",
       "<tr>\n",
       "  <th>Prob(Omnibus):</th> <td> 0.010</td> <th>  Jarque-Bera (JB):  </th> <td>  10.936</td>\n",
       "</tr>\n",
       "<tr>\n",
       "  <th>Skew:</th>          <td> 0.672</td> <th>  Prob(JB):          </th> <td> 0.00422</td>\n",
       "</tr>\n",
       "<tr>\n",
       "  <th>Kurtosis:</th>      <td> 5.529</td> <th>  Cond. No.          </th> <td>    158.</td>\n",
       "</tr>\n",
       "</table><br/><br/>Warnings:<br/>[1] Standard Errors assume that the covariance matrix of the errors is correctly specified."
      ],
      "text/plain": [
       "<class 'statsmodels.iolib.summary.Summary'>\n",
       "\"\"\"\n",
       "                            OLS Regression Results                            \n",
       "==============================================================================\n",
       "Dep. Variable:                Metabol   R-squared:                       0.828\n",
       "Model:                            OLS   Adj. R-squared:                  0.777\n",
       "Method:                 Least Squares   F-statistic:                     16.47\n",
       "Date:                Tue, 24 Sep 2019   Prob (F-statistic):           9.35e-08\n",
       "Time:                        12:38:43   Log-Likelihood:                -48.052\n",
       "No. Observations:                  32   AIC:                             112.1\n",
       "Df Residuals:                      24   BIC:                             123.8\n",
       "Df Model:                           7                                         \n",
       "Covariance Type:            nonrobust                                         \n",
       "================================================================================================================\n",
       "                                                   coef    std err          t      P>|t|      [0.025      0.975]\n",
       "----------------------------------------------------------------------------------------------------------------\n",
       "Intercept                                        0.1065      3.839      0.028      0.978      -7.818       8.031\n",
       "Sex[T.Male]                                      0.7860      4.187      0.188      0.853      -7.855       9.427\n",
       "Alcohol[T.Non-alcoholic]                        -0.3004      3.939     -0.076      0.940      -8.431       7.830\n",
       "Sex[T.Male]:Alcohol[T.Non-alcoholic]            -2.2517      4.394     -0.512      0.613     -11.320       6.816\n",
       "Gastric                                          0.5806      2.759      0.210      0.835      -5.114       6.275\n",
       "Gastric:Sex[T.Male]                              0.4748      2.933      0.162      0.873      -5.579       6.528\n",
       "Gastric:Alcohol[T.Non-alcoholic]                 0.2601      2.807      0.093      0.927      -5.533       6.053\n",
       "Gastric:Sex[T.Male]:Alcohol[T.Non-alcoholic]     1.1987      2.998      0.400      0.693      -4.989       7.386\n",
       "==============================================================================\n",
       "Omnibus:                        9.228   Durbin-Watson:                   1.865\n",
       "Prob(Omnibus):                  0.010   Jarque-Bera (JB):               10.936\n",
       "Skew:                           0.672   Prob(JB):                      0.00422\n",
       "Kurtosis:                       5.529   Cond. No.                         158.\n",
       "==============================================================================\n",
       "\n",
       "Warnings:\n",
       "[1] Standard Errors assume that the covariance matrix of the errors is correctly specified.\n",
       "\"\"\""
      ]
     },
     "execution_count": 54,
     "metadata": {},
     "output_type": "execute_result"
    }
   ],
   "source": [
    "formula = (\n",
    "    'Metabol ~ Gastric + Sex + Alcohol '\n",
    "    '+ Gastric:Sex + Sex:Alcohol + Gastric:Alcohol '\n",
    "    '+ Gastric:Sex:Alcohol'\n",
    ")\n",
    "model = smf.ols(formula, data=df)\n",
    "model_fit = model.fit()\n",
    "model_fit.summary()"
   ]
  },
  {
   "cell_type": "code",
   "execution_count": 55,
   "metadata": {},
   "outputs": [
    {
     "data": {
      "text/plain": [
       "Text(0, 0.5, 'Residuals')"
      ]
     },
     "execution_count": 55,
     "metadata": {},
     "output_type": "execute_result"
    },
    {
     "data": {
      "image/png": "[encoded data removed]",
      "text/plain": [
       "<Figure size 432x288 with 1 Axes>"
      ]
     },
     "metadata": {},
     "output_type": "display_data"
    }
   ],
   "source": [
    "ax = sns.scatterplot(results.fittedvalues, results.resid)\n",
    "ax.set_xlabel('Fitted Values')\n",
    "ax.set_ylabel('Residuals')"
   ]
  },
  {
   "cell_type": "code",
   "execution_count": 56,
   "metadata": {},
   "outputs": [
    {
     "data": {
      "text/html": [
       "<div>\n",
       "<style scoped>\n",
       "    .dataframe tbody tr th:only-of-type {\n",
       "        vertical-align: middle;\n",
       "    }\n",
       "\n",
       "    .dataframe tbody tr th {\n",
       "        vertical-align: top;\n",
       "    }\n",
       "\n",
       "    .dataframe thead th {\n",
       "        text-align: right;\n",
       "    }\n",
       "</style>\n",
       "<table border=\"1\" class=\"dataframe\">\n",
       "  <thead>\n",
       "    <tr style=\"text-align: right;\">\n",
       "      <th></th>\n",
       "      <th>Subject</th>\n",
       "      <th>Metabol</th>\n",
       "      <th>Gastric</th>\n",
       "      <th>Sex</th>\n",
       "      <th>Alcohol</th>\n",
       "    </tr>\n",
       "  </thead>\n",
       "  <tbody>\n",
       "    <tr>\n",
       "      <td>30</td>\n",
       "      <td>31</td>\n",
       "      <td>9.5</td>\n",
       "      <td>5.2</td>\n",
       "      <td>Male</td>\n",
       "      <td>Non-alcoholic</td>\n",
       "    </tr>\n",
       "    <tr>\n",
       "      <td>31</td>\n",
       "      <td>32</td>\n",
       "      <td>12.3</td>\n",
       "      <td>4.1</td>\n",
       "      <td>Male</td>\n",
       "      <td>Non-alcoholic</td>\n",
       "    </tr>\n",
       "  </tbody>\n",
       "</table>\n",
       "</div>"
      ],
      "text/plain": [
       "    Subject  Metabol  Gastric   Sex        Alcohol\n",
       "30       31      9.5      5.2  Male  Non-alcoholic\n",
       "31       32     12.3      4.1  Male  Non-alcoholic"
      ]
     },
     "execution_count": 56,
     "metadata": {},
     "output_type": "execute_result"
    }
   ],
   "source": [
    "df[results.fittedvalues > 6]"
   ]
  },
  {
   "cell_type": "code",
   "execution_count": 58,
   "metadata": {},
   "outputs": [
    {
     "data": {
      "text/plain": [
       "Text(0, 0.5, \"Cook's\\nDistance\")"
      ]
     },
     "execution_count": 58,
     "metadata": {},
     "output_type": "execute_result"
    },
    {
     "data": {
      "image/png": "[encoded data removed]",
      "text/plain": [
       "<Figure size 432x288 with 2 Axes>"
      ]
     },
     "metadata": {},
     "output_type": "display_data"
    }
   ],
   "source": [
    "infl = model_fit.get_influence()\n",
    "infldf = infl.summary_frame()\n",
    "fig, axes = plt.subplots(nrows=2, ncols=1)\n",
    "sns.scatterplot(df.Subject, infldf['standard_resid'], ax=axes[0])\n",
    "axes[0].set_ylabel('Internally\\nStudentized\\nResiduals')\n",
    "sns.scatterplot(df.Subject, infldf['cooks_d'], ax=axes[1])\n",
    "axes[1].set_ylabel(\"Cook's\\nDistance\")\n",
    "                                 "
   ]
  },
  {
   "cell_type": "code",
   "execution_count": 59,
   "metadata": {},
   "outputs": [
    {
     "data": {
      "image/png": "[encoded data removed]",
      "text/plain": [
       "<Figure size 432x288 with 1 Axes>"
      ]
     },
     "execution_count": 59,
     "metadata": {},
     "output_type": "execute_result"
    },
    {
     "data": {
      "image/png": "[encoded data removed]",
      "text/plain": [
       "<Figure size 432x288 with 1 Axes>"
      ]
     },
     "metadata": {},
     "output_type": "display_data"
    }
   ],
   "source": [
    "infl.plot_influence()"
   ]
  },
  {
   "cell_type": "markdown",
   "metadata": {},
   "source": [
    "This suggests that Subjects 31 and 32 might be disregarded."
   ]
  },
  {
   "cell_type": "code",
   "execution_count": 28,
   "metadata": {},
   "outputs": [
    {
     "data": {
      "text/html": [
       "<div>\n",
       "<style scoped>\n",
       "    .dataframe tbody tr th:only-of-type {\n",
       "        vertical-align: middle;\n",
       "    }\n",
       "\n",
       "    .dataframe tbody tr th {\n",
       "        vertical-align: top;\n",
       "    }\n",
       "\n",
       "    .dataframe thead th {\n",
       "        text-align: right;\n",
       "    }\n",
       "</style>\n",
       "<table border=\"1\" class=\"dataframe\">\n",
       "  <thead>\n",
       "    <tr style=\"text-align: right;\">\n",
       "      <th></th>\n",
       "      <th>Subject</th>\n",
       "      <th>Metabol</th>\n",
       "      <th>Gastric</th>\n",
       "    </tr>\n",
       "  </thead>\n",
       "  <tbody>\n",
       "    <tr>\n",
       "      <td>count</td>\n",
       "      <td>30.000000</td>\n",
       "      <td>30.000000</td>\n",
       "      <td>30.000000</td>\n",
       "    </tr>\n",
       "    <tr>\n",
       "      <td>mean</td>\n",
       "      <td>15.500000</td>\n",
       "      <td>1.856667</td>\n",
       "      <td>1.676667</td>\n",
       "    </tr>\n",
       "    <tr>\n",
       "      <td>std</td>\n",
       "      <td>8.803408</td>\n",
       "      <td>1.460204</td>\n",
       "      <td>0.633373</td>\n",
       "    </tr>\n",
       "    <tr>\n",
       "      <td>min</td>\n",
       "      <td>1.000000</td>\n",
       "      <td>0.100000</td>\n",
       "      <td>0.800000</td>\n",
       "    </tr>\n",
       "    <tr>\n",
       "      <td>25%</td>\n",
       "      <td>8.250000</td>\n",
       "      <td>0.600000</td>\n",
       "      <td>1.200000</td>\n",
       "    </tr>\n",
       "    <tr>\n",
       "      <td>50%</td>\n",
       "      <td>15.500000</td>\n",
       "      <td>1.550000</td>\n",
       "      <td>1.550000</td>\n",
       "    </tr>\n",
       "    <tr>\n",
       "      <td>75%</td>\n",
       "      <td>22.750000</td>\n",
       "      <td>2.700000</td>\n",
       "      <td>2.200000</td>\n",
       "    </tr>\n",
       "    <tr>\n",
       "      <td>max</td>\n",
       "      <td>30.000000</td>\n",
       "      <td>6.100000</td>\n",
       "      <td>3.000000</td>\n",
       "    </tr>\n",
       "  </tbody>\n",
       "</table>\n",
       "</div>"
      ],
      "text/plain": [
       "         Subject    Metabol    Gastric\n",
       "count  30.000000  30.000000  30.000000\n",
       "mean   15.500000   1.856667   1.676667\n",
       "std     8.803408   1.460204   0.633373\n",
       "min     1.000000   0.100000   0.800000\n",
       "25%     8.250000   0.600000   1.200000\n",
       "50%    15.500000   1.550000   1.550000\n",
       "75%    22.750000   2.700000   2.200000\n",
       "max    30.000000   6.100000   3.000000"
      ]
     },
     "execution_count": 28,
     "metadata": {},
     "output_type": "execute_result"
    }
   ],
   "source": [
    "df = df.loc[df.Subject < 31, :]\n",
    "df.describe()"
   ]
  },
  {
   "cell_type": "markdown",
   "metadata": {},
   "source": [
    "This suggests that Subjects 31 and 32 might be disregarded."
   ]
  },
  {
   "cell_type": "markdown",
   "metadata": {},
   "source": [
    "Now we go back to refining the model.  First of all, it is not clear that alcohol is a factor at all.  We can do an extra sums of squares $F$-test for that."
   ]
  },
  {
   "cell_type": "code",
   "execution_count": 34,
   "metadata": {},
   "outputs": [
    {
     "data": {
      "text/html": [
       "<table class=\"simpletable\">\n",
       "<caption>OLS Regression Results</caption>\n",
       "<tr>\n",
       "  <th>Dep. Variable:</th>         <td>Metabol</td>     <th>  R-squared:         </th> <td>   0.673</td>\n",
       "</tr>\n",
       "<tr>\n",
       "  <th>Model:</th>                   <td>OLS</td>       <th>  Adj. R-squared:    </th> <td>   0.635</td>\n",
       "</tr>\n",
       "<tr>\n",
       "  <th>Method:</th>             <td>Least Squares</td>  <th>  F-statistic:       </th> <td>   17.83</td>\n",
       "</tr>\n",
       "<tr>\n",
       "  <th>Date:</th>             <td>Tue, 24 Sep 2019</td> <th>  Prob (F-statistic):</th> <td>1.71e-06</td>\n",
       "</tr>\n",
       "<tr>\n",
       "  <th>Time:</th>                 <td>09:28:50</td>     <th>  Log-Likelihood:    </th> <td> -36.653</td>\n",
       "</tr>\n",
       "<tr>\n",
       "  <th>No. Observations:</th>      <td>    30</td>      <th>  AIC:               </th> <td>   81.31</td>\n",
       "</tr>\n",
       "<tr>\n",
       "  <th>Df Residuals:</th>          <td>    26</td>      <th>  BIC:               </th> <td>   86.91</td>\n",
       "</tr>\n",
       "<tr>\n",
       "  <th>Df Model:</th>              <td>     3</td>      <th>                     </th>     <td> </td>   \n",
       "</tr>\n",
       "<tr>\n",
       "  <th>Covariance Type:</th>      <td>nonrobust</td>    <th>                     </th>     <td> </td>   \n",
       "</tr>\n",
       "</table>\n",
       "<table class=\"simpletable\">\n",
       "<tr>\n",
       "           <td></td>              <th>coef</th>     <th>std err</th>      <th>t</th>      <th>P>|t|</th>  <th>[0.025</th>    <th>0.975]</th>  \n",
       "</tr>\n",
       "<tr>\n",
       "  <th>Intercept</th>           <td>   -0.1973</td> <td>    0.586</td> <td>   -0.337</td> <td> 0.739</td> <td>   -1.402</td> <td>    1.007</td>\n",
       "</tr>\n",
       "<tr>\n",
       "  <th>Sex[T.Male]</th>         <td>    0.2668</td> <td>    0.993</td> <td>    0.269</td> <td> 0.790</td> <td>   -1.775</td> <td>    2.308</td>\n",
       "</tr>\n",
       "<tr>\n",
       "  <th>Gastric</th>             <td>    0.8369</td> <td>    0.353</td> <td>    2.368</td> <td> 0.026</td> <td>    0.110</td> <td>    1.564</td>\n",
       "</tr>\n",
       "<tr>\n",
       "  <th>Gastric:Sex[T.Male]</th> <td>    0.7285</td> <td>    0.539</td> <td>    1.351</td> <td> 0.188</td> <td>   -0.380</td> <td>    1.837</td>\n",
       "</tr>\n",
       "</table>\n",
       "<table class=\"simpletable\">\n",
       "<tr>\n",
       "  <th>Omnibus:</th>       <td> 0.150</td> <th>  Durbin-Watson:     </th> <td>   1.182</td>\n",
       "</tr>\n",
       "<tr>\n",
       "  <th>Prob(Omnibus):</th> <td> 0.928</td> <th>  Jarque-Bera (JB):  </th> <td>   0.367</td>\n",
       "</tr>\n",
       "<tr>\n",
       "  <th>Skew:</th>          <td> 0.021</td> <th>  Prob(JB):          </th> <td>   0.832</td>\n",
       "</tr>\n",
       "<tr>\n",
       "  <th>Kurtosis:</th>      <td> 2.460</td> <th>  Cond. No.          </th> <td>    17.1</td>\n",
       "</tr>\n",
       "</table><br/><br/>Warnings:<br/>[1] Standard Errors assume that the covariance matrix of the errors is correctly specified."
      ],
      "text/plain": [
       "<class 'statsmodels.iolib.summary.Summary'>\n",
       "\"\"\"\n",
       "                            OLS Regression Results                            \n",
       "==============================================================================\n",
       "Dep. Variable:                Metabol   R-squared:                       0.673\n",
       "Model:                            OLS   Adj. R-squared:                  0.635\n",
       "Method:                 Least Squares   F-statistic:                     17.83\n",
       "Date:                Tue, 24 Sep 2019   Prob (F-statistic):           1.71e-06\n",
       "Time:                        09:28:50   Log-Likelihood:                -36.653\n",
       "No. Observations:                  30   AIC:                             81.31\n",
       "Df Residuals:                      26   BIC:                             86.91\n",
       "Df Model:                           3                                         \n",
       "Covariance Type:            nonrobust                                         \n",
       "=======================================================================================\n",
       "                          coef    std err          t      P>|t|      [0.025      0.975]\n",
       "---------------------------------------------------------------------------------------\n",
       "Intercept              -0.1973      0.586     -0.337      0.739      -1.402       1.007\n",
       "Sex[T.Male]             0.2668      0.993      0.269      0.790      -1.775       2.308\n",
       "Gastric                 0.8369      0.353      2.368      0.026       0.110       1.564\n",
       "Gastric:Sex[T.Male]     0.7285      0.539      1.351      0.188      -0.380       1.837\n",
       "==============================================================================\n",
       "Omnibus:                        0.150   Durbin-Watson:                   1.182\n",
       "Prob(Omnibus):                  0.928   Jarque-Bera (JB):                0.367\n",
       "Skew:                           0.021   Prob(JB):                        0.832\n",
       "Kurtosis:                       2.460   Cond. No.                         17.1\n",
       "==============================================================================\n",
       "\n",
       "Warnings:\n",
       "[1] Standard Errors assume that the covariance matrix of the errors is correctly specified.\n",
       "\"\"\""
      ]
     },
     "execution_count": 34,
     "metadata": {},
     "output_type": "execute_result"
    }
   ],
   "source": [
    "formula = (\n",
    "    'Metabol ~ Gastric + Sex + Alcohol '\n",
    "    '+ Gastric:Sex + Sex:Alcohol + Gastric:Alcohol '\n",
    "    '+ Gastric:Sex:Alcohol'\n",
    ")\n",
    "model = smf.ols(formula, data=df)\n",
    "model_fit = model.fit()\n",
    "model_fit.summary()\n",
    "\n",
    "formula_reduced = 'Metabol ~ Gastric + Sex + Gastric:Sex'\n",
    "model_reduced = smf.ols(formula_reduced, data=df)\n",
    "model_rfit = model_reduced.fit()\n",
    "model_rfit.summary()"
   ]
  },
  {
   "cell_type": "code",
   "execution_count": 35,
   "metadata": {},
   "outputs": [
    {
     "data": {
      "text/plain": [
       "0.20893749209496074"
      ]
     },
     "execution_count": 35,
     "metadata": {},
     "output_type": "execute_result"
    }
   ],
   "source": [
    "f_stat = ((model_rfit.ssr - model_fit.ssr) / (model_rfit.df_resid - model_fit.df_resid)) / model_fit.mse_resid    \n",
    "f_stat"
   ]
  },
  {
   "cell_type": "code",
   "execution_count": 36,
   "metadata": {},
   "outputs": [
    {
     "data": {
      "text/plain": [
       "0.7150015562282914"
      ]
     },
     "execution_count": 36,
     "metadata": {},
     "output_type": "execute_result"
    }
   ],
   "source": [
    "fpvalue = scipy.stats.f.sf(4, 24, f_stat)\n",
    "fpvalue"
   ]
  },
  {
   "cell_type": "markdown",
   "metadata": {},
   "source": [
    "This strongly suggests that all of the coefficients for an alcohol effect are zero and can be dropped from the model.  We can additionally check as to whether we can drop sex from the model."
   ]
  },
  {
   "cell_type": "code",
   "execution_count": 37,
   "metadata": {},
   "outputs": [
    {
     "data": {
      "text/html": [
       "<table class=\"simpletable\">\n",
       "<caption>OLS Regression Results</caption>\n",
       "<tr>\n",
       "  <th>Dep. Variable:</th>         <td>Metabol</td>     <th>  R-squared:         </th> <td>   0.395</td>\n",
       "</tr>\n",
       "<tr>\n",
       "  <th>Model:</th>                   <td>OLS</td>       <th>  Adj. R-squared:    </th> <td>   0.374</td>\n",
       "</tr>\n",
       "<tr>\n",
       "  <th>Method:</th>             <td>Least Squares</td>  <th>  F-statistic:       </th> <td>   18.29</td>\n",
       "</tr>\n",
       "<tr>\n",
       "  <th>Date:</th>             <td>Tue, 24 Sep 2019</td> <th>  Prob (F-statistic):</th> <td>0.000199</td>\n",
       "</tr>\n",
       "<tr>\n",
       "  <th>Time:</th>                 <td>10:23:51</td>     <th>  Log-Likelihood:    </th> <td> -45.875</td>\n",
       "</tr>\n",
       "<tr>\n",
       "  <th>No. Observations:</th>      <td>    30</td>      <th>  AIC:               </th> <td>   95.75</td>\n",
       "</tr>\n",
       "<tr>\n",
       "  <th>Df Residuals:</th>          <td>    28</td>      <th>  BIC:               </th> <td>   98.55</td>\n",
       "</tr>\n",
       "<tr>\n",
       "  <th>Df Model:</th>              <td>     1</td>      <th>                     </th>     <td> </td>   \n",
       "</tr>\n",
       "<tr>\n",
       "  <th>Covariance Type:</th>      <td>nonrobust</td>    <th>                     </th>     <td> </td>   \n",
       "</tr>\n",
       "</table>\n",
       "<table class=\"simpletable\">\n",
       "<tr>\n",
       "      <td></td>         <th>coef</th>     <th>std err</th>      <th>t</th>      <th>P>|t|</th>  <th>[0.025</th>    <th>0.975]</th>  \n",
       "</tr>\n",
       "<tr>\n",
       "  <th>Intercept</th> <td>   -0.5732</td> <td>    0.606</td> <td>   -0.946</td> <td> 0.352</td> <td>   -1.815</td> <td>    0.668</td>\n",
       "</tr>\n",
       "<tr>\n",
       "  <th>Gastric</th>   <td>    1.4492</td> <td>    0.339</td> <td>    4.277</td> <td> 0.000</td> <td>    0.755</td> <td>    2.143</td>\n",
       "</tr>\n",
       "</table>\n",
       "<table class=\"simpletable\">\n",
       "<tr>\n",
       "  <th>Omnibus:</th>       <td> 1.937</td> <th>  Durbin-Watson:     </th> <td>   0.873</td>\n",
       "</tr>\n",
       "<tr>\n",
       "  <th>Prob(Omnibus):</th> <td> 0.380</td> <th>  Jarque-Bera (JB):  </th> <td>   1.635</td>\n",
       "</tr>\n",
       "<tr>\n",
       "  <th>Skew:</th>          <td> 0.551</td> <th>  Prob(JB):          </th> <td>   0.442</td>\n",
       "</tr>\n",
       "<tr>\n",
       "  <th>Kurtosis:</th>      <td> 2.697</td> <th>  Cond. No.          </th> <td>    6.59</td>\n",
       "</tr>\n",
       "</table><br/><br/>Warnings:<br/>[1] Standard Errors assume that the covariance matrix of the errors is correctly specified."
      ],
      "text/plain": [
       "<class 'statsmodels.iolib.summary.Summary'>\n",
       "\"\"\"\n",
       "                            OLS Regression Results                            \n",
       "==============================================================================\n",
       "Dep. Variable:                Metabol   R-squared:                       0.395\n",
       "Model:                            OLS   Adj. R-squared:                  0.374\n",
       "Method:                 Least Squares   F-statistic:                     18.29\n",
       "Date:                Tue, 24 Sep 2019   Prob (F-statistic):           0.000199\n",
       "Time:                        10:23:51   Log-Likelihood:                -45.875\n",
       "No. Observations:                  30   AIC:                             95.75\n",
       "Df Residuals:                      28   BIC:                             98.55\n",
       "Df Model:                           1                                         \n",
       "Covariance Type:            nonrobust                                         \n",
       "==============================================================================\n",
       "                 coef    std err          t      P>|t|      [0.025      0.975]\n",
       "------------------------------------------------------------------------------\n",
       "Intercept     -0.5732      0.606     -0.946      0.352      -1.815       0.668\n",
       "Gastric        1.4492      0.339      4.277      0.000       0.755       2.143\n",
       "==============================================================================\n",
       "Omnibus:                        1.937   Durbin-Watson:                   0.873\n",
       "Prob(Omnibus):                  0.380   Jarque-Bera (JB):                1.635\n",
       "Skew:                           0.551   Prob(JB):                        0.442\n",
       "Kurtosis:                       2.697   Cond. No.                         6.59\n",
       "==============================================================================\n",
       "\n",
       "Warnings:\n",
       "[1] Standard Errors assume that the covariance matrix of the errors is correctly specified.\n",
       "\"\"\""
      ]
     },
     "execution_count": 37,
     "metadata": {},
     "output_type": "execute_result"
    }
   ],
   "source": [
    "formula_reduced2 = 'Metabol ~ Gastric'\n",
    "model_rfit2 = smf.ols(formula_reduced2, data=df).fit()\n",
    "model_rfit2.summary()"
   ]
  },
  {
   "cell_type": "code",
   "execution_count": 38,
   "metadata": {},
   "outputs": [
    {
     "data": {
      "text/plain": [
       "11.041480192885546"
      ]
     },
     "execution_count": 38,
     "metadata": {},
     "output_type": "execute_result"
    }
   ],
   "source": [
    "f_stat = ((model_rfit2.ssr - model_rfit.ssr) / (model_rfit2.df_resid - model_rfit.df_resid)) / model_rfit.mse_resid    \n",
    "f_stat"
   ]
  },
  {
   "cell_type": "code",
   "execution_count": 39,
   "metadata": {},
   "outputs": [
    {
     "data": {
      "text/plain": [
       "0.11369729569587723"
      ]
     },
     "execution_count": 39,
     "metadata": {},
     "output_type": "execute_result"
    }
   ],
   "source": [
    "scipy.stats.f.sf(model_rfit2.df_resid - model_rfit.df_resid, model_rfit.df_resid, f_stat)  "
   ]
  },
  {
   "cell_type": "markdown",
   "metadata": {},
   "source": [
    "This $p$-value is too high.  We cannot conclude that we can drop both the sex and the sex-gastric interaction term from the model.  How about just the sex term?"
   ]
  },
  {
   "cell_type": "code",
   "execution_count": 42,
   "metadata": {},
   "outputs": [
    {
     "data": {
      "text/html": [
       "<table class=\"simpletable\">\n",
       "<caption>OLS Regression Results</caption>\n",
       "<tr>\n",
       "  <th>Dep. Variable:</th>         <td>Metabol</td>     <th>  R-squared:         </th> <td>   0.672</td>\n",
       "</tr>\n",
       "<tr>\n",
       "  <th>Model:</th>                   <td>OLS</td>       <th>  Adj. R-squared:    </th> <td>   0.648</td>\n",
       "</tr>\n",
       "<tr>\n",
       "  <th>Method:</th>             <td>Least Squares</td>  <th>  F-statistic:       </th> <td>   27.66</td>\n",
       "</tr>\n",
       "<tr>\n",
       "  <th>Date:</th>             <td>Tue, 24 Sep 2019</td> <th>  Prob (F-statistic):</th> <td>2.91e-07</td>\n",
       "</tr>\n",
       "<tr>\n",
       "  <th>Time:</th>                 <td>10:36:14</td>     <th>  Log-Likelihood:    </th> <td> -36.695</td>\n",
       "</tr>\n",
       "<tr>\n",
       "  <th>No. Observations:</th>      <td>    30</td>      <th>  AIC:               </th> <td>   79.39</td>\n",
       "</tr>\n",
       "<tr>\n",
       "  <th>Df Residuals:</th>          <td>    27</td>      <th>  BIC:               </th> <td>   83.59</td>\n",
       "</tr>\n",
       "<tr>\n",
       "  <th>Df Model:</th>              <td>     2</td>      <th>                     </th>     <td> </td>   \n",
       "</tr>\n",
       "<tr>\n",
       "  <th>Covariance Type:</th>      <td>nonrobust</td>    <th>                     </th>     <td> </td>   \n",
       "</tr>\n",
       "</table>\n",
       "<table class=\"simpletable\">\n",
       "<tr>\n",
       "           <td></td>              <th>coef</th>     <th>std err</th>      <th>t</th>      <th>P>|t|</th>  <th>[0.025</th>    <th>0.975]</th>  \n",
       "</tr>\n",
       "<tr>\n",
       "  <th>Intercept</th>           <td>   -0.1044</td> <td>    0.465</td> <td>   -0.225</td> <td> 0.824</td> <td>   -1.058</td> <td>    0.850</td>\n",
       "</tr>\n",
       "<tr>\n",
       "  <th>Gastric</th>             <td>    0.7846</td> <td>    0.290</td> <td>    2.708</td> <td> 0.012</td> <td>    0.190</td> <td>    1.379</td>\n",
       "</tr>\n",
       "<tr>\n",
       "  <th>Sex[T.Male]:Gastric</th> <td>    0.8646</td> <td>    0.181</td> <td>    4.774</td> <td> 0.000</td> <td>    0.493</td> <td>    1.236</td>\n",
       "</tr>\n",
       "</table>\n",
       "<table class=\"simpletable\">\n",
       "<tr>\n",
       "  <th>Omnibus:</th>       <td> 0.316</td> <th>  Durbin-Watson:     </th> <td>   1.164</td>\n",
       "</tr>\n",
       "<tr>\n",
       "  <th>Prob(Omnibus):</th> <td> 0.854</td> <th>  Jarque-Bera (JB):  </th> <td>   0.488</td>\n",
       "</tr>\n",
       "<tr>\n",
       "  <th>Skew:</th>          <td> 0.003</td> <th>  Prob(JB):          </th> <td>   0.783</td>\n",
       "</tr>\n",
       "<tr>\n",
       "  <th>Kurtosis:</th>      <td> 2.375</td> <th>  Cond. No.          </th> <td>    7.61</td>\n",
       "</tr>\n",
       "</table><br/><br/>Warnings:<br/>[1] Standard Errors assume that the covariance matrix of the errors is correctly specified."
      ],
      "text/plain": [
       "<class 'statsmodels.iolib.summary.Summary'>\n",
       "\"\"\"\n",
       "                            OLS Regression Results                            \n",
       "==============================================================================\n",
       "Dep. Variable:                Metabol   R-squared:                       0.672\n",
       "Model:                            OLS   Adj. R-squared:                  0.648\n",
       "Method:                 Least Squares   F-statistic:                     27.66\n",
       "Date:                Tue, 24 Sep 2019   Prob (F-statistic):           2.91e-07\n",
       "Time:                        10:36:14   Log-Likelihood:                -36.695\n",
       "No. Observations:                  30   AIC:                             79.39\n",
       "Df Residuals:                      27   BIC:                             83.59\n",
       "Df Model:                           2                                         \n",
       "Covariance Type:            nonrobust                                         \n",
       "=======================================================================================\n",
       "                          coef    std err          t      P>|t|      [0.025      0.975]\n",
       "---------------------------------------------------------------------------------------\n",
       "Intercept              -0.1044      0.465     -0.225      0.824      -1.058       0.850\n",
       "Gastric                 0.7846      0.290      2.708      0.012       0.190       1.379\n",
       "Sex[T.Male]:Gastric     0.8646      0.181      4.774      0.000       0.493       1.236\n",
       "==============================================================================\n",
       "Omnibus:                        0.316   Durbin-Watson:                   1.164\n",
       "Prob(Omnibus):                  0.854   Jarque-Bera (JB):                0.488\n",
       "Skew:                           0.003   Prob(JB):                        0.783\n",
       "Kurtosis:                       2.375   Cond. No.                         7.61\n",
       "==============================================================================\n",
       "\n",
       "Warnings:\n",
       "[1] Standard Errors assume that the covariance matrix of the errors is correctly specified.\n",
       "\"\"\""
      ]
     },
     "execution_count": 42,
     "metadata": {},
     "output_type": "execute_result"
    }
   ],
   "source": [
    "formula_reduced3 = 'Metabol ~ Gastric + Sex:Gastric'\n",
    "model_rfit3 = smf.ols(formula_reduced3, data=df).fit()\n",
    "model_rfit3.summary()"
   ]
  },
  {
   "cell_type": "code",
   "execution_count": 43,
   "metadata": {},
   "outputs": [
    {
     "data": {
      "text/plain": [
       "0.9024185059454933"
      ]
     },
     "execution_count": 43,
     "metadata": {},
     "output_type": "execute_result"
    }
   ],
   "source": [
    "f_stat = ((model_rfit3.ssr - model_rfit.ssr) / (model_rfit3.df_resid - model_rfit.df_resid)) / model_rfit.mse_resid    \n",
    "scipy.stats.f.sf(model_rfit3.df_resid - model_rfit.df_resid, model_rfit.df_resid, f_stat)  "
   ]
  },
  {
   "cell_type": "markdown",
   "metadata": {},
   "source": [
    "That provides strong evidence that the sex term can be dropped.  And finally, it makes sense to drop the intercept as well, since there is no first-pass metabolism if there is no activity of the enzyme."
   ]
  },
  {
   "cell_type": "code",
   "execution_count": 44,
   "metadata": {},
   "outputs": [
    {
     "data": {
      "text/html": [
       "<table class=\"simpletable\">\n",
       "<caption>OLS Regression Results</caption>\n",
       "<tr>\n",
       "  <th>Dep. Variable:</th>         <td>Metabol</td>     <th>  R-squared (uncentered):</th>      <td>   0.877</td>\n",
       "</tr>\n",
       "<tr>\n",
       "  <th>Model:</th>                   <td>OLS</td>       <th>  Adj. R-squared (uncentered):</th> <td>   0.868</td>\n",
       "</tr>\n",
       "<tr>\n",
       "  <th>Method:</th>             <td>Least Squares</td>  <th>  F-statistic:       </th>          <td>   99.87</td>\n",
       "</tr>\n",
       "<tr>\n",
       "  <th>Date:</th>             <td>Tue, 24 Sep 2019</td> <th>  Prob (F-statistic):</th>          <td>1.80e-13</td>\n",
       "</tr>\n",
       "<tr>\n",
       "  <th>Time:</th>                 <td>10:38:57</td>     <th>  Log-Likelihood:    </th>          <td> -36.723</td>\n",
       "</tr>\n",
       "<tr>\n",
       "  <th>No. Observations:</th>      <td>    30</td>      <th>  AIC:               </th>          <td>   77.45</td>\n",
       "</tr>\n",
       "<tr>\n",
       "  <th>Df Residuals:</th>          <td>    28</td>      <th>  BIC:               </th>          <td>   80.25</td>\n",
       "</tr>\n",
       "<tr>\n",
       "  <th>Df Model:</th>              <td>     2</td>      <th>                     </th>              <td> </td>   \n",
       "</tr>\n",
       "<tr>\n",
       "  <th>Covariance Type:</th>      <td>nonrobust</td>    <th>                     </th>              <td> </td>   \n",
       "</tr>\n",
       "</table>\n",
       "<table class=\"simpletable\">\n",
       "<tr>\n",
       "           <td></td>              <th>coef</th>     <th>std err</th>      <th>t</th>      <th>P>|t|</th>  <th>[0.025</th>    <th>0.975]</th>  \n",
       "</tr>\n",
       "<tr>\n",
       "  <th>Gastric</th>             <td>    0.7257</td> <td>    0.121</td> <td>    5.992</td> <td> 0.000</td> <td>    0.478</td> <td>    0.974</td>\n",
       "</tr>\n",
       "<tr>\n",
       "  <th>Sex[T.Male]:Gastric</th> <td>    0.8732</td> <td>    0.174</td> <td>    5.019</td> <td> 0.000</td> <td>    0.517</td> <td>    1.230</td>\n",
       "</tr>\n",
       "</table>\n",
       "<table class=\"simpletable\">\n",
       "<tr>\n",
       "  <th>Omnibus:</th>       <td> 0.338</td> <th>  Durbin-Watson:     </th> <td>   1.112</td>\n",
       "</tr>\n",
       "<tr>\n",
       "  <th>Prob(Omnibus):</th> <td> 0.844</td> <th>  Jarque-Bera (JB):  </th> <td>   0.503</td>\n",
       "</tr>\n",
       "<tr>\n",
       "  <th>Skew:</th>          <td> 0.040</td> <th>  Prob(JB):          </th> <td>   0.778</td>\n",
       "</tr>\n",
       "<tr>\n",
       "  <th>Kurtosis:</th>      <td> 2.371</td> <th>  Cond. No.          </th> <td>    2.58</td>\n",
       "</tr>\n",
       "</table><br/><br/>Warnings:<br/>[1] Standard Errors assume that the covariance matrix of the errors is correctly specified."
      ],
      "text/plain": [
       "<class 'statsmodels.iolib.summary.Summary'>\n",
       "\"\"\"\n",
       "                                 OLS Regression Results                                \n",
       "=======================================================================================\n",
       "Dep. Variable:                Metabol   R-squared (uncentered):                   0.877\n",
       "Model:                            OLS   Adj. R-squared (uncentered):              0.868\n",
       "Method:                 Least Squares   F-statistic:                              99.87\n",
       "Date:                Tue, 24 Sep 2019   Prob (F-statistic):                    1.80e-13\n",
       "Time:                        10:38:57   Log-Likelihood:                         -36.723\n",
       "No. Observations:                  30   AIC:                                      77.45\n",
       "Df Residuals:                      28   BIC:                                      80.25\n",
       "Df Model:                           2                                                  \n",
       "Covariance Type:            nonrobust                                                  \n",
       "=======================================================================================\n",
       "                          coef    std err          t      P>|t|      [0.025      0.975]\n",
       "---------------------------------------------------------------------------------------\n",
       "Gastric                 0.7257      0.121      5.992      0.000       0.478       0.974\n",
       "Sex[T.Male]:Gastric     0.8732      0.174      5.019      0.000       0.517       1.230\n",
       "==============================================================================\n",
       "Omnibus:                        0.338   Durbin-Watson:                   1.112\n",
       "Prob(Omnibus):                  0.844   Jarque-Bera (JB):                0.503\n",
       "Skew:                           0.040   Prob(JB):                        0.778\n",
       "Kurtosis:                       2.371   Cond. No.                         2.58\n",
       "==============================================================================\n",
       "\n",
       "Warnings:\n",
       "[1] Standard Errors assume that the covariance matrix of the errors is correctly specified.\n",
       "\"\"\""
      ]
     },
     "execution_count": 44,
     "metadata": {},
     "output_type": "execute_result"
    }
   ],
   "source": [
    "formula_reduced4 = 'Metabol ~ Gastric + Sex:Gastric - 1'\n",
    "model_rfit4 = smf.ols(formula_reduced4, data=df).fit()\n",
    "model_rfit4.summary()"
   ]
  },
  {
   "cell_type": "code",
   "execution_count": 45,
   "metadata": {},
   "outputs": [
    {
     "data": {
      "text/plain": [
       "0.9228528217328539"
      ]
     },
     "execution_count": 45,
     "metadata": {},
     "output_type": "execute_result"
    }
   ],
   "source": [
    "f_stat = ((model_rfit4.ssr - model_rfit3.ssr) / (model_rfit4.df_resid - model_rfit3.df_resid)) / model_rfit3.mse_resid    \n",
    "scipy.stats.f.sf(model_rfit4.df_resid - model_rfit3.df_resid, model_rfit3.df_resid, f_stat) "
   ]
  },
  {
   "cell_type": "markdown",
   "metadata": {},
   "source": [
    "Again, the $F$-test shows that this is justified, so here we have our final model.  \n",
    "\n",
    "$\\mu\\{metabolism|gast,sex\\} = \\beta_1 gast + \\beta_2 gast \\times sex$\n",
    "\n",
    "Note that for any level of gastric AD activity, the mean first pass metabolism for men exceeds that of women by the ratio of $\\frac{\\beta_1 + \\beta_2}{\\beta_1} = 2.203$."
   ]
  },
  {
   "cell_type": "markdown",
   "metadata": {},
   "source": []
  },
  {
   "cell_type": "markdown",
   "metadata": {},
   "source": [
    "# Statistical Conclusion\n",
    "The following inferences pertain only to individuals with gastric AD activity levels between 0.8 and 3.0 $\\mu$mol/min/g.  No reliable model could be determined for values greater than 3.0  There was no evidence from the data that alcoholism was related to first-pass metabolism in any way ($p$-value = 0.93, from an F-test for significance of alcoholism and its interaction with gastric activity and sex.)  Convincing evidence exists that first-pass metabolism was larger for males than for females overall (two-sided $p$-value = 0.0002, from a rank-sum test) and that gastric AD activity was larger for males than for females (two-sided $p$-value = 0.07 from a rank-sum test).  Males had higher first-pass metabolism than females even accounting for differences in gastric AD activity (two-sided $p$-value = 0.0003 from a $t$-test for equality of male and female slopes when both intercepts are zero).  For a given level of gastric dehydrogenase activity, the mean first-pass alcohol metabolism for men is estimated to be 2.20 times as large as the first-pass alcohol metabolism for women (approximate 95% confidence interval from 1.37 to 3.04)."
   ]
  },
  {
   "cell_type": "code",
   "execution_count": null,
   "metadata": {},
   "outputs": [],
   "source": []
  }
 ],
 "metadata": {
  "kernelspec": {
   "display_name": "Python 3",
   "language": "python",
   "name": "python3"
  },
  "language_info": {
   "codemirror_mode": {
    "name": "ipython",
    "version": 3
   },
   "file_extension": ".py",
   "mimetype": "text/x-python",
   "name": "python",
   "nbconvert_exporter": "python",
   "pygments_lexer": "ipython3",
   "version": "3.7.4"
  }
 },
 "nbformat": 4,
 "nbformat_minor": 2
}
