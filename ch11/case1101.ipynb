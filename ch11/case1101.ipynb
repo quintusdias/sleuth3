{
 "cells": [
  {
   "cell_type": "markdown",
   "metadata": {},
   "source": [
    "# Alcohol Metabolism in Men and Women - An observational Study\n",
    "Women exhibit a lower tolerance for alcohol and develop alcohol-related liver disease more readily than men.  When men and women of the same size and drinking history consume equal amounts of alcohol, the women on average carry a higher concentration of alcohol in their bloodstream.  According to a team of Italian researchers, this occurs because alcohol-degrading enzymes in the stomach (where alcohol is partially metabolized before it enters the bloodstream and is eventually metabolized by the liver) are more active in men that in women.  The researchers studies the extent to which the activity of the enzyme explained the first-pass alcohol metabolism and the extent to which is explained the first-pass metabolism between women and men.  (Data from M. Frezza et al., \"High Blood Alcohol Levels in Women,\" *New England Journal of Medicine* 322 (1990): 95-99.)"
   ]
  },
  {
   "cell_type": "markdown",
   "metadata": {},
   "source": [
    "The subjects were 18 men and 14 women, all living in Trieste.  Three of the women and five of the men were categorized as alcoholic.  All subjects received ethanol, at a dose of 0.3 grams per kilogram of body weight, orally one day and intravenously another, in randomly determined order.  Since the intravenous administration bypasses the stomach, the difference in blood alcohol concentration - the concentration after intravenous administration minus the concentration after oral administration - provides a measure of \"first-pass metabolism\" in the stomach.  In addition, gastric alcohol dehydrogenase (AD) activity (activity of the key enzyme) was measured in mucus samples taken from the stomach linings."
   ]
  },
  {
   "cell_type": "markdown",
   "metadata": {},
   "source": [
    "Several questions arise.  Do levels of first-pass metabolism differ between men and women?  Can the differences be explained by postulating that men have more dehydrogenase activity in their stomachs?  Are the answers to these questions complicated by an alcoholism effect?"
   ]
  },
  {
   "cell_type": "code",
   "execution_count": null,
   "metadata": {},
   "outputs": [],
   "source": [
    "# standard library imports\n",
    "\n",
    "# 3rd party library imports\n",
    "import matplotlib.pyplot as plt\n",
    "import numpy as np\n",
    "import pandas as pd\n",
    "import scipy.stats\n",
    "import seaborn as sns\n",
    "import statsmodels.formula.api as smf\n",
    "import statsmodels.api as sm\n",
    "from statsmodels.stats.anova import anova_lm\n",
    "\n",
    "plt.rcParams['text.usetex'] = True\n",
    "pd.options.display.float_format = \"{:.2f}\".format\n",
    "sns.set()"
   ]
  },
  {
   "cell_type": "code",
   "execution_count": null,
   "metadata": {},
   "outputs": [],
   "source": [
    "df = pd.read_csv('case1101.csv')\n",
    "df.head()"
   ]
  },
  {
   "cell_type": "code",
   "execution_count": null,
   "metadata": {},
   "outputs": [],
   "source": [
    "df.groupby(['Sex', 'Alcohol'])['Metabol'].std()   "
   ]
  },
  {
   "cell_type": "markdown",
   "metadata": {},
   "source": [
    "There is weak evidence for the hypothesis of equal variance."
   ]
  },
  {
   "cell_type": "code",
   "execution_count": null,
   "metadata": {},
   "outputs": [],
   "source": [
    "g = sns.relplot(data=df, x='Gastric', y='Metabol', col='Sex', hue='Alcohol', kind='scatter')\n",
    "_ = g.set_xlabels(r'Gastric AD Activity ($\\mu$mol/min/g of tissue)')\n",
    "_ = g.set_ylabels(r'First-Pass Metabolism (mmol/liter-hour)')"
   ]
  },
  {
   "cell_type": "markdown",
   "metadata": {},
   "source": [
    "## Tentative Model"
   ]
  },
  {
   "cell_type": "code",
   "execution_count": null,
   "metadata": {},
   "outputs": [],
   "source": [
    "formula = (\n",
    "    'Metabol '\n",
    "    '~ Gastric * C(Sex, Treatment(reference=\"Male\")) * C(Alcohol, Treatment(reference=\"Non-alcoholic\"))'\n",
    ")\n",
    "model = smf.ols(formula, data=df)\n",
    "lm1 = model.fit()\n",
    "lm1.summary()"
   ]
  },
  {
   "cell_type": "markdown",
   "metadata": {},
   "source": [
    "## Model Diagnostics"
   ]
  },
  {
   "cell_type": "code",
   "execution_count": null,
   "metadata": {},
   "outputs": [],
   "source": [
    "ax = sns.scatterplot(x=lm1.fittedvalues, y=lm1.resid)\n",
    "ax.set_xlabel('Fitted Values')\n",
    "ax.set_ylabel('Residuals')\n",
    "_  = ax.set_title('Fitted vs. Residual plot from the regression of first pass metabolism')"
   ]
  },
  {
   "cell_type": "code",
   "execution_count": null,
   "metadata": {},
   "outputs": [],
   "source": [
    "lm1.fittedvalues[lm1.fittedvalues > 6]"
   ]
  },
  {
   "cell_type": "markdown",
   "metadata": {},
   "source": [
    "Possibly influential values are revealed to be subjects 31 and 32, likely due to high studentized residuals, noteably high gastric AD.  Refit the model to exclude those points."
   ]
  },
  {
   "cell_type": "code",
   "execution_count": null,
   "metadata": {},
   "outputs": [],
   "source": [
    "results1 = smf.ols(formula=formula, data=df).fit()\n",
    "results2 = smf.ols(formula=formula, data=df.query('Subject < 31')).fit()\n",
    "df1 = pd.DataFrame({'estimate': results1.params, 'SE': results1.bse, 'p': results1.pvalues})\n",
    "df2 = pd.DataFrame({'estimate': results2.params, 'SE': results2.bse, 'p': results2.pvalues})\n",
    "\n",
    "cidx1 = pd.MultiIndex.from_product([('All 32',), df1.columns])\n",
    "cidx2 = pd.MultiIndex.from_product([('Cases 31 and 32 removed',), df2.columns])\n",
    "df1.columns = cidx1\n",
    "df2.columns = cidx2\n",
    "df1.join(df2)"
   ]
  },
  {
   "cell_type": "markdown",
   "metadata": {},
   "source": [
    "The p-value for the Gastric / Sex interaction changes from indicating strong evidence to weak evidence.  The two excluded points have extreme gastric AD explanatory values, so the book argues to exclude them.  I would be curious if there weren't a physiological explanation for it."
   ]
  },
  {
   "cell_type": "code",
   "execution_count": null,
   "metadata": {},
   "outputs": [],
   "source": [
    "infl = lm1.get_influence().summary_frame()[['cooks_d', 'student_resid', 'hat_diag']]\n",
    "idxc = infl['cooks_d'] > 0.5\n",
    "idxs = infl['student_resid'].abs() > 2\n",
    "idxl = infl['hat_diag'] > 2 * len(lm1.params) / lm1.nobs\n",
    "infl.loc[idxc | idxs | idxl, :]"
   ]
  },
  {
   "cell_type": "markdown",
   "metadata": {},
   "source": [
    "Only observation 31 is extreme in all three of Cook's Distance, studentized residuals, and leverage.  Of all the others, observation 32 has a very high studentized residual, so those two observations will be removed."
   ]
  },
  {
   "cell_type": "code",
   "execution_count": null,
   "metadata": {},
   "outputs": [],
   "source": [
    "df = df.query('Subject < 31')"
   ]
  },
  {
   "cell_type": "markdown",
   "metadata": {},
   "source": [
    "## Model Refinement"
   ]
  },
  {
   "cell_type": "markdown",
   "metadata": {},
   "source": [
    "Alcoholism is not a primary concern, so perform an extra-sum-of-squares F-test to see if terms involving alcoholism can be dropped."
   ]
  },
  {
   "cell_type": "code",
   "execution_count": null,
   "metadata": {},
   "outputs": [],
   "source": [
    "model = smf.ols(formula, data=df)\n",
    "lm1 = model.fit()\n",
    "formula = 'Metabol ~ Gastric * C(Sex, Treatment(reference=\"Male\"))'\n",
    "model_sans_alcohol = smf.ols(formula, data=df)\n",
    "lm2 = model_sans_alcohol.fit()\n",
    "anova_lm(lm2, lm1)"
   ]
  },
  {
   "cell_type": "markdown",
   "metadata": {},
   "source": [
    "There is little evidence of a lack of fit to the reduced model, so the alcohol terms will not be kept.  A zero-intercept makes logical sense, so force $\\beta_0$ to be zero and drop the female indicator term."
   ]
  },
  {
   "cell_type": "code",
   "execution_count": null,
   "metadata": {},
   "outputs": [],
   "source": [
    "formula = 'Metabol ~ Gastric + Gastric : C(Sex, Treatment(reference=\"Male\")) - 1'\n",
    "model = smf.ols(formula, data=df)\n",
    "lm3 = model.fit()\n",
    "anova_lm(lm3, lm2)"
   ]
  },
  {
   "cell_type": "markdown",
   "metadata": {},
   "source": [
    "Again, the $F$-test shows that this is justified, so here we have our final model.  "
   ]
  },
  {
   "cell_type": "code",
   "execution_count": null,
   "metadata": {},
   "outputs": [],
   "source": [
    "lm3.summary()"
   ]
  },
  {
   "cell_type": "markdown",
   "metadata": {},
   "source": [
    "$\\mu\\{metabolism|gast,fem\\} = \\beta_1 gast + \\beta_2 gast \\times fem$\n",
    "\n",
    "Note that for any level of gastric AD activity, the mean first pass metabolism for men exceeds that of women by the ratio of $\\frac{\\beta_1}{\\beta_1 + \\beta_2} = 2.203$."
   ]
  },
  {
   "cell_type": "markdown",
   "metadata": {},
   "source": [
    "# Statistical Conclusion\n",
    "The following inferences pertain only to individuals with gastric AD activity levels between 0.8 and 3.0 $\\mu$mol/min/g.  No reliable model could be determined for values greater than 3.0  There was no evidence from the data that alcoholism was related to first-pass metabolism in any way ($p$-value = 0.93, from an F-test for significance of alcoholism and its interaction with gastric activity and sex.)  Convincing evidence exists that first-pass metabolism was larger for males than for females overall (two-sided $p$-value = 0.0002, from a rank-sum test) and that gastric AD activity was larger for males than for females (two-sided $p$-value = 0.07 from a rank-sum test).  Males had higher first-pass metabolism than females even accounting for differences in gastric AD activity (two-sided $p$-value = 0.0003 from a $t$-test for equality of male and female slopes when both intercepts are zero).  For a given level of gastric dehydrogenase activity, the mean first-pass alcohol metabolism for men is estimated to be 2.20 times as large as the first-pass alcohol metabolism for women (approximate 95% confidence interval from 1.37 to 3.04)."
   ]
  },
  {
   "cell_type": "code",
   "execution_count": null,
   "metadata": {},
   "outputs": [],
   "source": []
  }
 ],
 "metadata": {
  "kernelspec": {
   "display_name": "Python 3 (ipykernel)",
   "language": "python",
   "name": "python3"
  },
  "language_info": {
   "codemirror_mode": {
    "name": "ipython",
    "version": 3
   },
   "file_extension": ".py",
   "mimetype": "text/x-python",
   "name": "python",
   "nbconvert_exporter": "python",
   "pygments_lexer": "ipython3",
   "version": "3.12.3"
  }
 },
 "nbformat": 4,
 "nbformat_minor": 4
}
