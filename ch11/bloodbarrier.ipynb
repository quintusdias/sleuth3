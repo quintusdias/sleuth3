{
 "cells": [
  {
   "cell_type": "markdown",
   "metadata": {},
   "source": [
    "# The Blood-Brain Barrier - A Controlled Experiment\n",
    "\n",
    "The human brain is protected from bacteria and toxins, which course through the bloodstream, by a single layer of cells called the *blood-brain barrier*.  This barrier normally alllows only a few substances, including some medications, to reach the brain.  Because chemicals used to treat brain cells have such large molecular size, they cannot pass through the barrier to attack tumor cells.  At the Oregon Health Sciences University. Dr. E. A. Newwelt developed a method of disrupting the barrier by infusing a solution of concentrated sugars.\n",
    "\n",
    "As a test of the disruption mechanism, researchers conducted a study on rats, which possess a similar barrier.  (Data from P. Barnett et al., \"Differential Permeability and Quantitative MR Imaging of a Human Lung Carcinoma Brain Xenograft in the Nude Rat,\" *American Journal of Pathology* 146(2) (1995): 436-49.) . The rats were innoculated with human lung cancer cells to induce brain tumors.  After 9 to 11 days they were infused with either the barrier disruption (BD) solution or, as a control, a normal saline (NS) solution.  Fifteen minutes later, the rats received a standard dose of the therapeutic antibody $L6\\mathrm{-}F(ab\\prime)_2$.  After a set time they were sacrificed, and the amounts of antibody in the brain tumor and in normal tissue were measured."
   ]
  },
  {
   "cell_type": "markdown",
   "metadata": {},
   "source": [
    "Since the amount of the antibody in normal tissue indicates how much of it the rat actually received, a key measure of the effectiveness of transmission across the blood-brain barrier is the ratio of the antibody concentration in the brain tumor to the antibody concentration in normal tissue outside the brain.  The brain tumor concentration divided by the liver concentration is a measure of the amount of the antibody that reached the brain relative to the amount of it that reaeched other parts of the body.  This is the response variable.  The explanatory variables comprise two two categories:  *design variables* are those that describe manipulation by the researcher; *covariates* are those measuring characteristics of the subjects that were not controllable by the researcher."
   ]
  },
  {
   "cell_type": "markdown",
   "metadata": {},
   "source": [
    "Was the antibody concentration in the brain tumor increased by the use of the blood-brain barrier disruption infusion?  If so, by how much?  Do the answers to these two questions depend on the length of time after the infusion (from 1/2 to 72 hours)?  What is the effect of treatment on antibody concentration after weight loss, total tumor weight, and the other covariates are accounted for?"
   ]
  },
  {
   "cell_type": "code",
   "execution_count": 1,
   "metadata": {},
   "outputs": [],
   "source": [
    "import pathlib\n",
    "\n",
    "import matplotlib.pyplot as plt\n",
    "import numpy as np\n",
    "import pandas as pd\n",
    "import scipy.stats\n",
    "import seaborn as sns\n",
    "import statsmodels.formula.api as smf\n",
    "\n",
    "sns.set()\n",
    "pd.options.display.float_format = \"{:.3f}\".format\n",
    "pd.options.display.max_columns = 12"
   ]
  },
  {
   "cell_type": "markdown",
   "metadata": {},
   "source": [
    "We begin by reading the data and summarizing the variables."
   ]
  },
  {
   "cell_type": "code",
   "execution_count": 2,
   "metadata": {},
   "outputs": [
    {
     "data": {
      "text/html": [
       "<div>\n",
       "<style scoped>\n",
       "    .dataframe tbody tr th:only-of-type {\n",
       "        vertical-align: middle;\n",
       "    }\n",
       "\n",
       "    .dataframe tbody tr th {\n",
       "        vertical-align: top;\n",
       "    }\n",
       "\n",
       "    .dataframe thead th {\n",
       "        text-align: right;\n",
       "    }\n",
       "</style>\n",
       "<table border=\"1\" class=\"dataframe\">\n",
       "  <thead>\n",
       "    <tr style=\"text-align: right;\">\n",
       "      <th></th>\n",
       "      <th>Brain</th>\n",
       "      <th>Liver</th>\n",
       "      <th>Time</th>\n",
       "      <th>Treatment</th>\n",
       "      <th>Days</th>\n",
       "      <th>Sex</th>\n",
       "      <th>Weight</th>\n",
       "      <th>Loss</th>\n",
       "      <th>Tumor</th>\n",
       "    </tr>\n",
       "  </thead>\n",
       "  <tbody>\n",
       "    <tr>\n",
       "      <td>0</td>\n",
       "      <td>41081</td>\n",
       "      <td>1456164</td>\n",
       "      <td>0.500</td>\n",
       "      <td>BD</td>\n",
       "      <td>10</td>\n",
       "      <td>Female</td>\n",
       "      <td>239</td>\n",
       "      <td>5.900</td>\n",
       "      <td>221</td>\n",
       "    </tr>\n",
       "    <tr>\n",
       "      <td>1</td>\n",
       "      <td>44286</td>\n",
       "      <td>1602171</td>\n",
       "      <td>0.500</td>\n",
       "      <td>BD</td>\n",
       "      <td>10</td>\n",
       "      <td>Female</td>\n",
       "      <td>225</td>\n",
       "      <td>4.000</td>\n",
       "      <td>246</td>\n",
       "    </tr>\n",
       "    <tr>\n",
       "      <td>2</td>\n",
       "      <td>102926</td>\n",
       "      <td>1601936</td>\n",
       "      <td>0.500</td>\n",
       "      <td>BD</td>\n",
       "      <td>10</td>\n",
       "      <td>Female</td>\n",
       "      <td>224</td>\n",
       "      <td>-4.900</td>\n",
       "      <td>61</td>\n",
       "    </tr>\n",
       "    <tr>\n",
       "      <td>3</td>\n",
       "      <td>25927</td>\n",
       "      <td>1776411</td>\n",
       "      <td>0.500</td>\n",
       "      <td>BD</td>\n",
       "      <td>10</td>\n",
       "      <td>Female</td>\n",
       "      <td>184</td>\n",
       "      <td>9.800</td>\n",
       "      <td>168</td>\n",
       "    </tr>\n",
       "    <tr>\n",
       "      <td>4</td>\n",
       "      <td>42643</td>\n",
       "      <td>1351184</td>\n",
       "      <td>0.500</td>\n",
       "      <td>BD</td>\n",
       "      <td>10</td>\n",
       "      <td>Female</td>\n",
       "      <td>250</td>\n",
       "      <td>6.000</td>\n",
       "      <td>164</td>\n",
       "    </tr>\n",
       "  </tbody>\n",
       "</table>\n",
       "</div>"
      ],
      "text/plain": [
       "    Brain    Liver  Time Treatment  Days     Sex  Weight   Loss  Tumor\n",
       "0   41081  1456164 0.500        BD    10  Female     239  5.900    221\n",
       "1   44286  1602171 0.500        BD    10  Female     225  4.000    246\n",
       "2  102926  1601936 0.500        BD    10  Female     224 -4.900     61\n",
       "3   25927  1776411 0.500        BD    10  Female     184  9.800    168\n",
       "4   42643  1351184 0.500        BD    10  Female     250  6.000    164"
      ]
     },
     "execution_count": 2,
     "metadata": {},
     "output_type": "execute_result"
    }
   ],
   "source": [
    "path = pathlib.Path.home() / 'data' / 'sleuth3' / 'case1102.csv'\n",
    "df = pd.read_csv(path)\n",
    "df.head()"
   ]
  },
  {
   "cell_type": "code",
   "execution_count": 13,
   "metadata": {},
   "outputs": [],
   "source": [
    "df['Concentration'] = df['Brain'] / df['Liver']\n",
    "df.loc[df.Treatment == 'BD', 'LTreatment'] = 'Barrier Disruption'\n",
    "df.loc[df.Treatment == 'NS', 'LTreatment'] = 'Saline Control'"
   ]
  },
  {
   "cell_type": "code",
   "execution_count": 14,
   "metadata": {},
   "outputs": [
    {
     "data": {
      "text/html": [
       "<div>\n",
       "<style scoped>\n",
       "    .dataframe tbody tr th:only-of-type {\n",
       "        vertical-align: middle;\n",
       "    }\n",
       "\n",
       "    .dataframe tbody tr th {\n",
       "        vertical-align: top;\n",
       "    }\n",
       "\n",
       "    .dataframe thead th {\n",
       "        text-align: right;\n",
       "    }\n",
       "</style>\n",
       "<table border=\"1\" class=\"dataframe\">\n",
       "  <thead>\n",
       "    <tr style=\"text-align: right;\">\n",
       "      <th></th>\n",
       "      <th>Brain</th>\n",
       "      <th>Liver</th>\n",
       "      <th>Time</th>\n",
       "      <th>Days</th>\n",
       "      <th>Weight</th>\n",
       "      <th>Loss</th>\n",
       "      <th>Tumor</th>\n",
       "      <th>Concentration</th>\n",
       "    </tr>\n",
       "  </thead>\n",
       "  <tbody>\n",
       "    <tr>\n",
       "      <td>count</td>\n",
       "      <td>34.000</td>\n",
       "      <td>34.000</td>\n",
       "      <td>34.000</td>\n",
       "      <td>34.000</td>\n",
       "      <td>34.000</td>\n",
       "      <td>34.000</td>\n",
       "      <td>34.000</td>\n",
       "      <td>34.000</td>\n",
       "    </tr>\n",
       "    <tr>\n",
       "      <td>mean</td>\n",
       "      <td>39965.294</td>\n",
       "      <td>668776.412</td>\n",
       "      <td>23.515</td>\n",
       "      <td>10.029</td>\n",
       "      <td>241.647</td>\n",
       "      <td>3.638</td>\n",
       "      <td>182.912</td>\n",
       "      <td>1.504</td>\n",
       "    </tr>\n",
       "    <tr>\n",
       "      <td>std</td>\n",
       "      <td>30326.108</td>\n",
       "      <td>686992.766</td>\n",
       "      <td>28.796</td>\n",
       "      <td>0.460</td>\n",
       "      <td>27.494</td>\n",
       "      <td>4.243</td>\n",
       "      <td>103.433</td>\n",
       "      <td>2.348</td>\n",
       "    </tr>\n",
       "    <tr>\n",
       "      <td>min</td>\n",
       "      <td>1334.000</td>\n",
       "      <td>928.000</td>\n",
       "      <td>0.500</td>\n",
       "      <td>9.000</td>\n",
       "      <td>184.000</td>\n",
       "      <td>-4.900</td>\n",
       "      <td>25.000</td>\n",
       "      <td>0.010</td>\n",
       "    </tr>\n",
       "    <tr>\n",
       "      <td>25%</td>\n",
       "      <td>19281.250</td>\n",
       "      <td>16210.000</td>\n",
       "      <td>1.125</td>\n",
       "      <td>10.000</td>\n",
       "      <td>225.250</td>\n",
       "      <td>1.200</td>\n",
       "      <td>136.250</td>\n",
       "      <td>0.034</td>\n",
       "    </tr>\n",
       "    <tr>\n",
       "      <td>50%</td>\n",
       "      <td>32572.500</td>\n",
       "      <td>643965.000</td>\n",
       "      <td>3.000</td>\n",
       "      <td>10.000</td>\n",
       "      <td>239.500</td>\n",
       "      <td>3.950</td>\n",
       "      <td>166.000</td>\n",
       "      <td>0.119</td>\n",
       "    </tr>\n",
       "    <tr>\n",
       "      <td>75%</td>\n",
       "      <td>50653.750</td>\n",
       "      <td>1318557.250</td>\n",
       "      <td>24.000</td>\n",
       "      <td>10.000</td>\n",
       "      <td>259.000</td>\n",
       "      <td>5.975</td>\n",
       "      <td>223.250</td>\n",
       "      <td>1.952</td>\n",
       "    </tr>\n",
       "    <tr>\n",
       "      <td>max</td>\n",
       "      <td>123730.000</td>\n",
       "      <td>1790863.000</td>\n",
       "      <td>72.000</td>\n",
       "      <td>11.000</td>\n",
       "      <td>298.000</td>\n",
       "      <td>12.800</td>\n",
       "      <td>484.000</td>\n",
       "      <td>8.545</td>\n",
       "    </tr>\n",
       "  </tbody>\n",
       "</table>\n",
       "</div>"
      ],
      "text/plain": [
       "           Brain       Liver   Time   Days  Weight   Loss   Tumor  \\\n",
       "count     34.000      34.000 34.000 34.000  34.000 34.000  34.000   \n",
       "mean   39965.294  668776.412 23.515 10.029 241.647  3.638 182.912   \n",
       "std    30326.108  686992.766 28.796  0.460  27.494  4.243 103.433   \n",
       "min     1334.000     928.000  0.500  9.000 184.000 -4.900  25.000   \n",
       "25%    19281.250   16210.000  1.125 10.000 225.250  1.200 136.250   \n",
       "50%    32572.500  643965.000  3.000 10.000 239.500  3.950 166.000   \n",
       "75%    50653.750 1318557.250 24.000 10.000 259.000  5.975 223.250   \n",
       "max   123730.000 1790863.000 72.000 11.000 298.000 12.800 484.000   \n",
       "\n",
       "       Concentration  \n",
       "count         34.000  \n",
       "mean           1.504  \n",
       "std            2.348  \n",
       "min            0.010  \n",
       "25%            0.034  \n",
       "50%            0.119  \n",
       "75%            1.952  \n",
       "max            8.545  "
      ]
     },
     "execution_count": 14,
     "metadata": {},
     "output_type": "execute_result"
    }
   ],
   "source": [
    "summary = df.describe()\n",
    "summary"
   ]
  },
  {
   "cell_type": "code",
   "execution_count": 15,
   "metadata": {
    "scrolled": true
   },
   "outputs": [
    {
     "data": {
      "text/plain": [
       "Text(0, 0.5, 'Tumor-to-Liver Concentration Ratio')"
      ]
     },
     "execution_count": 15,
     "metadata": {},
     "output_type": "execute_result"
    },
    {
     "data": {
      "image/png": "[encoded data removed]",
      "text/plain": [
       "<Figure size 432x288 with 1 Axes>"
      ]
     },
     "metadata": {},
     "output_type": "display_data"
    }
   ],
   "source": [
    "ax = sns.scatterplot(x='Time', y='Concentration', hue='LTreatment', data=df)\n",
    "ax.set_xscale('log')\n",
    "xticks = [0.5, 3, 24, 72]\n",
    "ax.set_xticks(xticks)\n",
    "ax.set_xticklabels([str(x) for x in xticks])\n",
    "ax.set_yscale('log')\n",
    "ax.set_ylim(0.0075, 15)\n",
    "ax.set_xlabel('Sacrifice Time (Hours)')\n",
    "ax.set_ylabel('Tumor-to-Liver Concentration Ratio')"
   ]
  },
  {
   "cell_type": "markdown",
   "metadata": {},
   "source": [
    "[scatterplot](https://seaborn.pydata.org/generated/seaborn.scatterplot.html) shows a deficiency here, as the *Treatment* dots land on top of each other and  there is no straightforward way to apply jitter.  We can use [stripplot](https://seaborn.pydata.org/generated/seaborn.stripplot.html) instead, however."
   ]
  },
  {
   "cell_type": "code",
   "execution_count": 16,
   "metadata": {},
   "outputs": [
    {
     "data": {
      "text/plain": [
       "Text(0, 0.5, 'Tumor-to-Liver Concentration Ratio')"
      ]
     },
     "execution_count": 16,
     "metadata": {},
     "output_type": "execute_result"
    },
    {
     "data": {
      "image/png": "[encoded data removed]",
      "text/plain": [
       "<Figure size 432x288 with 1 Axes>"
      ]
     },
     "metadata": {},
     "output_type": "display_data"
    }
   ],
   "source": [
    "df['STime'] = df['Time'].astype(str)\n",
    "ax = sns.stripplot(x='STime', y='Concentration', hue='LTreatment', \n",
    "                   jitter=True, dodge=False, data=df)\n",
    "ax.set_yscale('log')\n",
    "ax.set_ylim(0.0075, 15)\n",
    "ax.set_xlabel('Sacrifice Time (Hours)')\n",
    "ax.set_ylabel('Tumor-to-Liver Concentration Ratio')"
   ]
  },
  {
   "cell_type": "code",
   "execution_count": 17,
   "metadata": {},
   "outputs": [
    {
     "data": {
      "image/png": "[encoded data removed]",
      "text/plain": [
       "<Figure size 845.725x360 with 2 Axes>"
      ]
     },
     "metadata": {},
     "output_type": "display_data"
    }
   ],
   "source": [
    "g = sns.catplot(x='Time', y='Concentration', hue='LTreatment', col='Sex',\n",
    "                   jitter=True, dodge=False, data=df)\n",
    "g.axes[0][0].set_yscale('log')"
   ]
  },
  {
   "cell_type": "code",
   "execution_count": 18,
   "metadata": {},
   "outputs": [
    {
     "data": {
      "image/png": "[encoded data removed]",
      "text/plain": [
       "<Figure size 1205.72x360 with 3 Axes>"
      ]
     },
     "metadata": {},
     "output_type": "display_data"
    }
   ],
   "source": [
    "g = sns.catplot(x='Time', y='Concentration', hue='LTreatment', col='Days',\n",
    "                jitter=True, dodge=False, data=df)\n",
    "g.axes[0][0].set_yscale('log')"
   ]
  },
  {
   "cell_type": "markdown",
   "metadata": {},
   "source": [
    "The treatment model chosen is \n",
    "\n",
    "$\\mu\\{antibody | SAC, TREAT, DAYS, FEM, weight, loss, tumor\\} = SAC + TREAT + (SAC \\times TREAT) + FEM + weight + loss + tumor$"
   ]
  },
  {
   "cell_type": "code",
   "execution_count": 21,
   "metadata": {},
   "outputs": [
    {
     "data": {
      "text/html": [
       "<table class=\"simpletable\">\n",
       "<caption>OLS Regression Results</caption>\n",
       "<tr>\n",
       "  <th>Dep. Variable:</th>    <td>np.log(Concentration)</td> <th>  R-squared:         </th> <td>   0.960</td>\n",
       "</tr>\n",
       "<tr>\n",
       "  <th>Model:</th>                     <td>OLS</td>          <th>  Adj. R-squared:    </th> <td>   0.940</td>\n",
       "</tr>\n",
       "<tr>\n",
       "  <th>Method:</th>               <td>Least Squares</td>     <th>  F-statistic:       </th> <td>   47.87</td>\n",
       "</tr>\n",
       "<tr>\n",
       "  <th>Date:</th>               <td>Wed, 25 Sep 2019</td>    <th>  Prob (F-statistic):</th> <td>9.06e-13</td>\n",
       "</tr>\n",
       "<tr>\n",
       "  <th>Time:</th>                   <td>14:02:21</td>        <th>  Log-Likelihood:    </th> <td> -20.606</td>\n",
       "</tr>\n",
       "<tr>\n",
       "  <th>No. Observations:</th>        <td>    34</td>         <th>  AIC:               </th> <td>   65.21</td>\n",
       "</tr>\n",
       "<tr>\n",
       "  <th>Df Residuals:</th>            <td>    22</td>         <th>  BIC:               </th> <td>   83.53</td>\n",
       "</tr>\n",
       "<tr>\n",
       "  <th>Df Model:</th>                <td>    11</td>         <th>                     </th>     <td> </td>   \n",
       "</tr>\n",
       "<tr>\n",
       "  <th>Covariance Type:</th>        <td>nonrobust</td>       <th>                     </th>     <td> </td>   \n",
       "</tr>\n",
       "</table>\n",
       "<table class=\"simpletable\">\n",
       "<tr>\n",
       "                 <td></td>                    <th>coef</th>     <th>std err</th>      <th>t</th>      <th>P>|t|</th>  <th>[0.025</th>    <th>0.975]</th>  \n",
       "</tr>\n",
       "<tr>\n",
       "  <th>Intercept</th>                       <td>   -3.4379</td> <td>    1.185</td> <td>   -2.901</td> <td> 0.008</td> <td>   -5.896</td> <td>   -0.980</td>\n",
       "</tr>\n",
       "<tr>\n",
       "  <th>C(Time)[T.3.0]</th>                  <td>    1.2020</td> <td>    0.411</td> <td>    2.924</td> <td> 0.008</td> <td>    0.350</td> <td>    2.054</td>\n",
       "</tr>\n",
       "<tr>\n",
       "  <th>C(Time)[T.24.0]</th>                 <td>    3.9355</td> <td>    0.407</td> <td>    9.663</td> <td> 0.000</td> <td>    3.091</td> <td>    4.780</td>\n",
       "</tr>\n",
       "<tr>\n",
       "  <th>C(Time)[T.72.0]</th>                 <td>    5.3671</td> <td>    0.411</td> <td>   13.061</td> <td> 0.000</td> <td>    4.515</td> <td>    6.219</td>\n",
       "</tr>\n",
       "<tr>\n",
       "  <th>Treatment[T.NS]</th>                 <td>   -0.7953</td> <td>    0.370</td> <td>   -2.147</td> <td> 0.043</td> <td>   -1.563</td> <td>   -0.027</td>\n",
       "</tr>\n",
       "<tr>\n",
       "  <th>Sex[T.Male]</th>                     <td>    0.0162</td> <td>    0.346</td> <td>    0.047</td> <td> 0.963</td> <td>   -0.701</td> <td>    0.734</td>\n",
       "</tr>\n",
       "<tr>\n",
       "  <th>C(Time)[T.3.0]:Treatment[T.NS]</th>  <td>   -0.1726</td> <td>    0.537</td> <td>   -0.322</td> <td> 0.751</td> <td>   -1.285</td> <td>    0.940</td>\n",
       "</tr>\n",
       "<tr>\n",
       "  <th>C(Time)[T.24.0]:Treatment[T.NS]</th> <td>    0.3799</td> <td>    0.570</td> <td>    0.666</td> <td> 0.512</td> <td>   -0.803</td> <td>    1.562</td>\n",
       "</tr>\n",
       "<tr>\n",
       "  <th>C(Time)[T.72.0]:Treatment[T.NS]</th> <td>   -0.3754</td> <td>    0.556</td> <td>   -0.676</td> <td> 0.506</td> <td>   -1.528</td> <td>    0.777</td>\n",
       "</tr>\n",
       "<tr>\n",
       "  <th>Weight</th>                          <td>   -0.0004</td> <td>    0.005</td> <td>   -0.086</td> <td> 0.932</td> <td>   -0.011</td> <td>    0.010</td>\n",
       "</tr>\n",
       "<tr>\n",
       "  <th>Loss</th>                            <td>   -0.0588</td> <td>    0.029</td> <td>   -2.014</td> <td> 0.056</td> <td>   -0.119</td> <td>    0.002</td>\n",
       "</tr>\n",
       "<tr>\n",
       "  <th>Tumor</th>                           <td>    0.0015</td> <td>    0.001</td> <td>    1.288</td> <td> 0.211</td> <td>   -0.001</td> <td>    0.004</td>\n",
       "</tr>\n",
       "</table>\n",
       "<table class=\"simpletable\">\n",
       "<tr>\n",
       "  <th>Omnibus:</th>       <td> 5.395</td> <th>  Durbin-Watson:     </th> <td>   1.723</td>\n",
       "</tr>\n",
       "<tr>\n",
       "  <th>Prob(Omnibus):</th> <td> 0.067</td> <th>  Jarque-Bera (JB):  </th> <td>   5.487</td>\n",
       "</tr>\n",
       "<tr>\n",
       "  <th>Skew:</th>          <td>-0.287</td> <th>  Prob(JB):          </th> <td>  0.0643</td>\n",
       "</tr>\n",
       "<tr>\n",
       "  <th>Kurtosis:</th>      <td> 4.882</td> <th>  Cond. No.          </th> <td>4.05e+03</td>\n",
       "</tr>\n",
       "</table><br/><br/>Warnings:<br/>[1] Standard Errors assume that the covariance matrix of the errors is correctly specified.<br/>[2] The condition number is large, 4.05e+03. This might indicate that there are<br/>strong multicollinearity or other numerical problems."
      ],
      "text/plain": [
       "<class 'statsmodels.iolib.summary.Summary'>\n",
       "\"\"\"\n",
       "                              OLS Regression Results                             \n",
       "=================================================================================\n",
       "Dep. Variable:     np.log(Concentration)   R-squared:                       0.960\n",
       "Model:                               OLS   Adj. R-squared:                  0.940\n",
       "Method:                    Least Squares   F-statistic:                     47.87\n",
       "Date:                   Wed, 25 Sep 2019   Prob (F-statistic):           9.06e-13\n",
       "Time:                           14:02:21   Log-Likelihood:                -20.606\n",
       "No. Observations:                     34   AIC:                             65.21\n",
       "Df Residuals:                         22   BIC:                             83.53\n",
       "Df Model:                             11                                         \n",
       "Covariance Type:               nonrobust                                         \n",
       "===================================================================================================\n",
       "                                      coef    std err          t      P>|t|      [0.025      0.975]\n",
       "---------------------------------------------------------------------------------------------------\n",
       "Intercept                          -3.4379      1.185     -2.901      0.008      -5.896      -0.980\n",
       "C(Time)[T.3.0]                      1.2020      0.411      2.924      0.008       0.350       2.054\n",
       "C(Time)[T.24.0]                     3.9355      0.407      9.663      0.000       3.091       4.780\n",
       "C(Time)[T.72.0]                     5.3671      0.411     13.061      0.000       4.515       6.219\n",
       "Treatment[T.NS]                    -0.7953      0.370     -2.147      0.043      -1.563      -0.027\n",
       "Sex[T.Male]                         0.0162      0.346      0.047      0.963      -0.701       0.734\n",
       "C(Time)[T.3.0]:Treatment[T.NS]     -0.1726      0.537     -0.322      0.751      -1.285       0.940\n",
       "C(Time)[T.24.0]:Treatment[T.NS]     0.3799      0.570      0.666      0.512      -0.803       1.562\n",
       "C(Time)[T.72.0]:Treatment[T.NS]    -0.3754      0.556     -0.676      0.506      -1.528       0.777\n",
       "Weight                             -0.0004      0.005     -0.086      0.932      -0.011       0.010\n",
       "Loss                               -0.0588      0.029     -2.014      0.056      -0.119       0.002\n",
       "Tumor                               0.0015      0.001      1.288      0.211      -0.001       0.004\n",
       "==============================================================================\n",
       "Omnibus:                        5.395   Durbin-Watson:                   1.723\n",
       "Prob(Omnibus):                  0.067   Jarque-Bera (JB):                5.487\n",
       "Skew:                          -0.287   Prob(JB):                       0.0643\n",
       "Kurtosis:                       4.882   Cond. No.                     4.05e+03\n",
       "==============================================================================\n",
       "\n",
       "Warnings:\n",
       "[1] Standard Errors assume that the covariance matrix of the errors is correctly specified.\n",
       "[2] The condition number is large, 4.05e+03. This might indicate that there are\n",
       "strong multicollinearity or other numerical problems.\n",
       "\"\"\""
      ]
     },
     "execution_count": 21,
     "metadata": {},
     "output_type": "execute_result"
    }
   ],
   "source": [
    "formula = 'np.log(Concentration) ~ C(Time) + Treatment + C(Time):Treatment + Sex + Weight + Loss + Tumor'\n",
    "model = smf.ols(formula, data=df)\n",
    "model_fit = model.fit()\n",
    "model_fit.summary()"
   ]
  },
  {
   "cell_type": "markdown",
   "metadata": {},
   "source": [
    "# Scatterplot of residuals vs fitted values from the fit of logged response on a rich model for explanatory variables"
   ]
  },
  {
   "cell_type": "code",
   "execution_count": 11,
   "metadata": {},
   "outputs": [
    {
     "data": {
      "text/plain": [
       "Text(0, 0.5, 'Residuals')"
      ]
     },
     "execution_count": 11,
     "metadata": {},
     "output_type": "execute_result"
    },
    {
     "data": {
      "image/png": "[encoded data removed]",
      "text/plain": [
       "<Figure size 432x288 with 1 Axes>"
      ]
     },
     "metadata": {},
     "output_type": "display_data"
    }
   ],
   "source": [
    "ax = sns.scatterplot(x=results.fittedvalues, y=results.resid)\n",
    "ax.set_xlabel('Fitted Values')\n",
    "ax.set_ylabel('Residuals')"
   ]
  },
  {
   "cell_type": "code",
   "execution_count": 12,
   "metadata": {},
   "outputs": [
    {
     "data": {
      "text/html": [
       "<div>\n",
       "<style scoped>\n",
       "    .dataframe tbody tr th:only-of-type {\n",
       "        vertical-align: middle;\n",
       "    }\n",
       "\n",
       "    .dataframe tbody tr th {\n",
       "        vertical-align: top;\n",
       "    }\n",
       "\n",
       "    .dataframe thead th {\n",
       "        text-align: right;\n",
       "    }\n",
       "</style>\n",
       "<table border=\"1\" class=\"dataframe\">\n",
       "  <thead>\n",
       "    <tr style=\"text-align: right;\">\n",
       "      <th></th>\n",
       "      <th>Brain</th>\n",
       "      <th>Liver</th>\n",
       "      <th>Time</th>\n",
       "      <th>Treatment</th>\n",
       "      <th>Days</th>\n",
       "      <th>Sex</th>\n",
       "      <th>Weight</th>\n",
       "      <th>Loss</th>\n",
       "      <th>Tumor</th>\n",
       "      <th>Concentration</th>\n",
       "      <th>LTreatment</th>\n",
       "      <th>STime</th>\n",
       "    </tr>\n",
       "  </thead>\n",
       "  <tbody>\n",
       "    <tr>\n",
       "      <td>30</td>\n",
       "      <td>6250</td>\n",
       "      <td>928</td>\n",
       "      <td>72.000</td>\n",
       "      <td>NS</td>\n",
       "      <td>10</td>\n",
       "      <td>Male</td>\n",
       "      <td>272</td>\n",
       "      <td>11.000</td>\n",
       "      <td>484</td>\n",
       "      <td>6.735</td>\n",
       "      <td>Saline Control</td>\n",
       "      <td>72.0</td>\n",
       "    </tr>\n",
       "    <tr>\n",
       "      <td>33</td>\n",
       "      <td>1334</td>\n",
       "      <td>3242</td>\n",
       "      <td>72.000</td>\n",
       "      <td>NS</td>\n",
       "      <td>10</td>\n",
       "      <td>Female</td>\n",
       "      <td>240</td>\n",
       "      <td>6.700</td>\n",
       "      <td>159</td>\n",
       "      <td>0.411</td>\n",
       "      <td>Saline Control</td>\n",
       "      <td>72.0</td>\n",
       "    </tr>\n",
       "  </tbody>\n",
       "</table>\n",
       "</div>"
      ],
      "text/plain": [
       "    Brain  Liver   Time Treatment  Days     Sex  Weight   Loss  Tumor  \\\n",
       "30   6250    928 72.000        NS    10    Male     272 11.000    484   \n",
       "33   1334   3242 72.000        NS    10  Female     240  6.700    159   \n",
       "\n",
       "    Concentration      LTreatment STime  \n",
       "30          6.735  Saline Control  72.0  \n",
       "33          0.411  Saline Control  72.0  "
      ]
     },
     "execution_count": 12,
     "metadata": {},
     "output_type": "execute_result"
    }
   ],
   "source": [
    "df[abs(results.resid) > 1]"
   ]
  },
  {
   "cell_type": "markdown",
   "metadata": {},
   "source": [
    "# Partial Residual Plots"
   ]
  },
  {
   "cell_type": "code",
   "execution_count": null,
   "metadata": {},
   "outputs": [],
   "source": [
    "model_reduced = sm.ols('')"
   ]
  },
  {
   "cell_type": "code",
   "execution_count": 22,
   "metadata": {},
   "outputs": [
    {
     "data": {
      "text/html": [
       "<table class=\"simpletable\">\n",
       "<caption>OLS Regression Results</caption>\n",
       "<tr>\n",
       "  <th>Dep. Variable:</th>    <td>np.log(Concentration)</td> <th>  R-squared:         </th> <td>   0.951</td>\n",
       "</tr>\n",
       "<tr>\n",
       "  <th>Model:</th>                     <td>OLS</td>          <th>  Adj. R-squared:    </th> <td>   0.944</td>\n",
       "</tr>\n",
       "<tr>\n",
       "  <th>Method:</th>               <td>Least Squares</td>     <th>  F-statistic:       </th> <td>   139.6</td>\n",
       "</tr>\n",
       "<tr>\n",
       "  <th>Date:</th>               <td>Wed, 25 Sep 2019</td>    <th>  Prob (F-statistic):</th> <td>1.67e-18</td>\n",
       "</tr>\n",
       "<tr>\n",
       "  <th>Time:</th>                   <td>14:57:03</td>        <th>  Log-Likelihood:    </th> <td> -24.134</td>\n",
       "</tr>\n",
       "<tr>\n",
       "  <th>No. Observations:</th>        <td>    34</td>         <th>  AIC:               </th> <td>   58.27</td>\n",
       "</tr>\n",
       "<tr>\n",
       "  <th>Df Residuals:</th>            <td>    29</td>         <th>  BIC:               </th> <td>   65.90</td>\n",
       "</tr>\n",
       "<tr>\n",
       "  <th>Df Model:</th>                <td>     4</td>         <th>                     </th>     <td> </td>   \n",
       "</tr>\n",
       "<tr>\n",
       "  <th>Covariance Type:</th>        <td>nonrobust</td>       <th>                     </th>     <td> </td>   \n",
       "</tr>\n",
       "</table>\n",
       "<table class=\"simpletable\">\n",
       "<tr>\n",
       "         <td></td>            <th>coef</th>     <th>std err</th>      <th>t</th>      <th>P>|t|</th>  <th>[0.025</th>    <th>0.975]</th>  \n",
       "</tr>\n",
       "<tr>\n",
       "  <th>Intercept</th>       <td>   -3.5049</td> <td>    0.195</td> <td>  -17.937</td> <td> 0.000</td> <td>   -3.905</td> <td>   -3.105</td>\n",
       "</tr>\n",
       "<tr>\n",
       "  <th>C(Time)[T.3.0]</th>  <td>    1.1341</td> <td>    0.252</td> <td>    4.501</td> <td> 0.000</td> <td>    0.619</td> <td>    1.650</td>\n",
       "</tr>\n",
       "<tr>\n",
       "  <th>C(Time)[T.24.0]</th> <td>    4.2573</td> <td>    0.259</td> <td>   16.431</td> <td> 0.000</td> <td>    3.727</td> <td>    4.787</td>\n",
       "</tr>\n",
       "<tr>\n",
       "  <th>C(Time)[T.72.0]</th> <td>    5.1539</td> <td>    0.259</td> <td>   19.892</td> <td> 0.000</td> <td>    4.624</td> <td>    5.684</td>\n",
       "</tr>\n",
       "<tr>\n",
       "  <th>Treatment[T.NS]</th> <td>   -0.7968</td> <td>    0.183</td> <td>   -4.346</td> <td> 0.000</td> <td>   -1.172</td> <td>   -0.422</td>\n",
       "</tr>\n",
       "</table>\n",
       "<table class=\"simpletable\">\n",
       "<tr>\n",
       "  <th>Omnibus:</th>       <td>12.688</td> <th>  Durbin-Watson:     </th> <td>   1.740</td>\n",
       "</tr>\n",
       "<tr>\n",
       "  <th>Prob(Omnibus):</th> <td> 0.002</td> <th>  Jarque-Bera (JB):  </th> <td>  17.448</td>\n",
       "</tr>\n",
       "<tr>\n",
       "  <th>Skew:</th>          <td>-0.907</td> <th>  Prob(JB):          </th> <td>0.000163</td>\n",
       "</tr>\n",
       "<tr>\n",
       "  <th>Kurtosis:</th>      <td> 6.004</td> <th>  Cond. No.          </th> <td>    5.24</td>\n",
       "</tr>\n",
       "</table><br/><br/>Warnings:<br/>[1] Standard Errors assume that the covariance matrix of the errors is correctly specified."
      ],
      "text/plain": [
       "<class 'statsmodels.iolib.summary.Summary'>\n",
       "\"\"\"\n",
       "                              OLS Regression Results                             \n",
       "=================================================================================\n",
       "Dep. Variable:     np.log(Concentration)   R-squared:                       0.951\n",
       "Model:                               OLS   Adj. R-squared:                  0.944\n",
       "Method:                    Least Squares   F-statistic:                     139.6\n",
       "Date:                   Wed, 25 Sep 2019   Prob (F-statistic):           1.67e-18\n",
       "Time:                           14:57:03   Log-Likelihood:                -24.134\n",
       "No. Observations:                     34   AIC:                             58.27\n",
       "Df Residuals:                         29   BIC:                             65.90\n",
       "Df Model:                              4                                         \n",
       "Covariance Type:               nonrobust                                         \n",
       "===================================================================================\n",
       "                      coef    std err          t      P>|t|      [0.025      0.975]\n",
       "-----------------------------------------------------------------------------------\n",
       "Intercept          -3.5049      0.195    -17.937      0.000      -3.905      -3.105\n",
       "C(Time)[T.3.0]      1.1341      0.252      4.501      0.000       0.619       1.650\n",
       "C(Time)[T.24.0]     4.2573      0.259     16.431      0.000       3.727       4.787\n",
       "C(Time)[T.72.0]     5.1539      0.259     19.892      0.000       4.624       5.684\n",
       "Treatment[T.NS]    -0.7968      0.183     -4.346      0.000      -1.172      -0.422\n",
       "==============================================================================\n",
       "Omnibus:                       12.688   Durbin-Watson:                   1.740\n",
       "Prob(Omnibus):                  0.002   Jarque-Bera (JB):               17.448\n",
       "Skew:                          -0.907   Prob(JB):                     0.000163\n",
       "Kurtosis:                       6.004   Cond. No.                         5.24\n",
       "==============================================================================\n",
       "\n",
       "Warnings:\n",
       "[1] Standard Errors assume that the covariance matrix of the errors is correctly specified.\n",
       "\"\"\""
      ]
     },
     "execution_count": 22,
     "metadata": {},
     "output_type": "execute_result"
    }
   ],
   "source": [
    "formula = 'np.log(Concentration) ~ C(Time) + Treatment'\n",
    "rmodel = smf.ols(formula, data=df)\n",
    "rmodel_fit = rmodel.fit()\n",
    "rmodel_fit.summary()"
   ]
  },
  {
   "cell_type": "code",
   "execution_count": 24,
   "metadata": {},
   "outputs": [
    {
     "data": {
      "text/plain": [
       "0.37488650377406035"
      ]
     },
     "execution_count": 24,
     "metadata": {},
     "output_type": "execute_result"
    }
   ],
   "source": [
    "ddof = (rmodel_fit.df_resid - model_fit.df_resid)\n",
    "fvalue = ((rmodel_fit.ssr - model_fit.ssr) / ddof) / model_fit.mse_resid\n",
    "scipy.stats.f.sf(ddof, model_fit.df_resid, fvalue)"
   ]
  },
  {
   "cell_type": "markdown",
   "metadata": {},
   "source": [
    "This is reasonable evidence that the covariates can be dropped."
   ]
  },
  {
   "cell_type": "code",
   "execution_count": 25,
   "metadata": {},
   "outputs": [
    {
     "data": {
      "text/plain": [
       "0.45077107764621993"
      ]
     },
     "execution_count": 25,
     "metadata": {},
     "output_type": "execute_result"
    }
   ],
   "source": [
    "np.exp(rmodel_fit.params['Treatment[T.NS]'])"
   ]
  },
  {
   "cell_type": "markdown",
   "metadata": {},
   "source": [
    "The coefficient of the indicator variable for the blood-brain placebo treatment is -0.7968, so expressed in accordance with the interpretation for log-transformed responses, the median ratio of antibody concentration in the brain tumor to antibody concentration in the liver is estimated to be exp(-0.7968)= 0.4508 times less for the control than for the blood-brain barrier diffusion treatment.  Stated alternatively, the median concentration is expected to be  1/0.4508 = 2.2183 times greater the the diffusion treatment."
   ]
  },
  {
   "cell_type": "markdown",
   "metadata": {},
   "source": [
    "# Statistical Conclusion\n",
    "The median antibody concentration in the tumor (relative to that in the liver) was estimated to be 2.22 times as much for rats receiving the barrier disruption infusion than for those receiving the control infusion (95% confidence interval, from 1.56 to 3.15 times as much).  This multiplicative effect appears to be constant between 1/2 and 72 hours after the infusion (the $p$-value for a test of interaction between treatment and sacrifice time is 0.92 , from an $F$-test on 3 and 26 degrees of freedom.\n"
   ]
  },
  {
   "cell_type": "markdown",
   "metadata": {},
   "source": [
    "# Scope of Inference\n",
    "One hitch in this study is that randomization was not used to assign rats to treatment groups.  This oversight raises the possibility that the estimated relationships might be related to confounding variables over which the experimenter exercised no control.  Including the measured covariates in the model helps alleviate some concern, and the results appear to no have been affected by these potential confounding variables.  Nevertheless, causal implications can only be justified on the tenuous assumption that the assignment method used was as effect-neutral as a random assignment would have been."
   ]
  },
  {
   "cell_type": "code",
   "execution_count": null,
   "metadata": {},
   "outputs": [],
   "source": []
  }
 ],
 "metadata": {
  "kernelspec": {
   "display_name": "Python 3",
   "language": "python",
   "name": "python3"
  },
  "language_info": {
   "codemirror_mode": {
    "name": "ipython",
    "version": 3
   },
   "file_extension": ".py",
   "mimetype": "text/x-python",
   "name": "python",
   "nbconvert_exporter": "python",
   "pygments_lexer": "ipython3",
   "version": "3.7.4"
  }
 },
 "nbformat": 4,
 "nbformat_minor": 2
}
