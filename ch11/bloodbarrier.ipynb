{
 "cells": [
  {
   "cell_type": "markdown",
   "metadata": {},
   "source": [
    "Since the amount of the antibody in normal tissue indicates how much of it the rat actually received, a key measure of the effectiveness of transmission across the blood-brain barrier is the ratio of the antibody concentration in the brain tumor to the antibody concentration in normal tissue outside the brain.  The brain tumor concentration divided by the liver concentration is a measure of the amount of the antibody that reached the brain relative to the amount of it that reaeched other parts of the body.  This is the response variable.  The explanatory variables comprise two two categories:  *design variables* are those that describe manipulation by the researcher; *covariates* are those measuring characteristics of the subjects that were not controllable by the researcher."
   ]
  },
  {
   "cell_type": "markdown",
   "metadata": {},
   "source": [
    "Was the antibody concentration in the brain tumor increased by the use of the blood-brain barrier disruption infusion?  If so, by how much?  Do the answers to these two questions depend on the length of time after the infusion (from $\\frac{1}{2}$ to 72 hours)?  What is the effect of treatment on antibody concentration after weight loss, total tumor weight, and the other covariates are accounted for?"
   ]
  },
  {
   "cell_type": "code",
   "execution_count": 1,
   "metadata": {},
   "outputs": [],
   "source": [
    "import pathlib\n",
    "\n",
    "import matplotlib.pyplot as plt\n",
    "import numpy as np\n",
    "import pandas as pd\n",
    "import scipy.stats\n",
    "import seaborn as sns\n",
    "import statsmodels.formula.api as smf\n",
    "\n",
    "sns.set()"
   ]
  },
  {
   "cell_type": "markdown",
   "metadata": {},
   "source": [
    "We begin by reading the data and summarizing the variables."
   ]
  },
  {
   "cell_type": "code",
   "execution_count": 19,
   "metadata": {},
   "outputs": [
    {
     "data": {
      "text/html": [
       "<div>\n",
       "<style scoped>\n",
       "    .dataframe tbody tr th:only-of-type {\n",
       "        vertical-align: middle;\n",
       "    }\n",
       "\n",
       "    .dataframe tbody tr th {\n",
       "        vertical-align: top;\n",
       "    }\n",
       "\n",
       "    .dataframe thead th {\n",
       "        text-align: right;\n",
       "    }\n",
       "</style>\n",
       "<table border=\"1\" class=\"dataframe\">\n",
       "  <thead>\n",
       "    <tr style=\"text-align: right;\">\n",
       "      <th></th>\n",
       "      <th>Brain</th>\n",
       "      <th>Liver</th>\n",
       "      <th>Time</th>\n",
       "      <th>Treatment</th>\n",
       "      <th>...</th>\n",
       "      <th>Sex</th>\n",
       "      <th>Weight</th>\n",
       "      <th>Loss</th>\n",
       "      <th>Tumor</th>\n",
       "    </tr>\n",
       "  </thead>\n",
       "  <tbody>\n",
       "    <tr>\n",
       "      <td>0</td>\n",
       "      <td>41081</td>\n",
       "      <td>1456164</td>\n",
       "      <td>0.5</td>\n",
       "      <td>BD</td>\n",
       "      <td>...</td>\n",
       "      <td>Female</td>\n",
       "      <td>239</td>\n",
       "      <td>5.9</td>\n",
       "      <td>221</td>\n",
       "    </tr>\n",
       "    <tr>\n",
       "      <td>1</td>\n",
       "      <td>44286</td>\n",
       "      <td>1602171</td>\n",
       "      <td>0.5</td>\n",
       "      <td>BD</td>\n",
       "      <td>...</td>\n",
       "      <td>Female</td>\n",
       "      <td>225</td>\n",
       "      <td>4.0</td>\n",
       "      <td>246</td>\n",
       "    </tr>\n",
       "    <tr>\n",
       "      <td>2</td>\n",
       "      <td>102926</td>\n",
       "      <td>1601936</td>\n",
       "      <td>0.5</td>\n",
       "      <td>BD</td>\n",
       "      <td>...</td>\n",
       "      <td>Female</td>\n",
       "      <td>224</td>\n",
       "      <td>-4.9</td>\n",
       "      <td>61</td>\n",
       "    </tr>\n",
       "    <tr>\n",
       "      <td>3</td>\n",
       "      <td>25927</td>\n",
       "      <td>1776411</td>\n",
       "      <td>0.5</td>\n",
       "      <td>BD</td>\n",
       "      <td>...</td>\n",
       "      <td>Female</td>\n",
       "      <td>184</td>\n",
       "      <td>9.8</td>\n",
       "      <td>168</td>\n",
       "    </tr>\n",
       "    <tr>\n",
       "      <td>4</td>\n",
       "      <td>42643</td>\n",
       "      <td>1351184</td>\n",
       "      <td>0.5</td>\n",
       "      <td>BD</td>\n",
       "      <td>...</td>\n",
       "      <td>Female</td>\n",
       "      <td>250</td>\n",
       "      <td>6.0</td>\n",
       "      <td>164</td>\n",
       "    </tr>\n",
       "  </tbody>\n",
       "</table>\n",
       "<p>5 rows × 9 columns</p>\n",
       "</div>"
      ],
      "text/plain": [
       "    Brain    Liver  Time Treatment  ...     Sex Weight  Loss  Tumor\n",
       "0   41081  1456164   0.5        BD  ...  Female    239   5.9    221\n",
       "1   44286  1602171   0.5        BD  ...  Female    225   4.0    246\n",
       "2  102926  1601936   0.5        BD  ...  Female    224  -4.9     61\n",
       "3   25927  1776411   0.5        BD  ...  Female    184   9.8    168\n",
       "4   42643  1351184   0.5        BD  ...  Female    250   6.0    164\n",
       "\n",
       "[5 rows x 9 columns]"
      ]
     },
     "execution_count": 19,
     "metadata": {},
     "output_type": "execute_result"
    }
   ],
   "source": [
    "path = pathlib.Path.home() / 'data' / 'sleuth3' / 'case1102.csv'\n",
    "df = pd.read_csv(path)\n",
    "df.head()"
   ]
  },
  {
   "cell_type": "code",
   "execution_count": 20,
   "metadata": {},
   "outputs": [],
   "source": [
    "df['Concentration Ratio'] = df['Brain'] / df['Liver']\n",
    "df.loc[df.Treatment == 'BD', 'Treatment'] = 'Barrier Disruption'\n",
    "df.loc[df.Treatment == 'NS', 'Treatment'] = 'Saline Control'"
   ]
  },
  {
   "cell_type": "code",
   "execution_count": 21,
   "metadata": {},
   "outputs": [
    {
     "data": {
      "text/html": [
       "<div>\n",
       "<style scoped>\n",
       "    .dataframe tbody tr th:only-of-type {\n",
       "        vertical-align: middle;\n",
       "    }\n",
       "\n",
       "    .dataframe tbody tr th {\n",
       "        vertical-align: top;\n",
       "    }\n",
       "\n",
       "    .dataframe thead th {\n",
       "        text-align: right;\n",
       "    }\n",
       "</style>\n",
       "<table border=\"1\" class=\"dataframe\">\n",
       "  <thead>\n",
       "    <tr style=\"text-align: right;\">\n",
       "      <th></th>\n",
       "      <th>Brain</th>\n",
       "      <th>Liver</th>\n",
       "      <th>Time</th>\n",
       "      <th>Days</th>\n",
       "      <th>Weight</th>\n",
       "      <th>Loss</th>\n",
       "      <th>Tumor</th>\n",
       "      <th>Concentration Ratio</th>\n",
       "    </tr>\n",
       "  </thead>\n",
       "  <tbody>\n",
       "    <tr>\n",
       "      <td>count</td>\n",
       "      <td>34.000000</td>\n",
       "      <td>3.400000e+01</td>\n",
       "      <td>34.000000</td>\n",
       "      <td>34.000000</td>\n",
       "      <td>34.000000</td>\n",
       "      <td>34.000000</td>\n",
       "      <td>34.000000</td>\n",
       "      <td>34.000000</td>\n",
       "    </tr>\n",
       "    <tr>\n",
       "      <td>mean</td>\n",
       "      <td>39965.294118</td>\n",
       "      <td>6.687764e+05</td>\n",
       "      <td>23.514706</td>\n",
       "      <td>10.029412</td>\n",
       "      <td>241.647059</td>\n",
       "      <td>3.638235</td>\n",
       "      <td>182.911765</td>\n",
       "      <td>1.503638</td>\n",
       "    </tr>\n",
       "    <tr>\n",
       "      <td>std</td>\n",
       "      <td>30326.107767</td>\n",
       "      <td>6.869928e+05</td>\n",
       "      <td>28.795645</td>\n",
       "      <td>0.459598</td>\n",
       "      <td>27.494222</td>\n",
       "      <td>4.242642</td>\n",
       "      <td>103.432709</td>\n",
       "      <td>2.347845</td>\n",
       "    </tr>\n",
       "    <tr>\n",
       "      <td>min</td>\n",
       "      <td>1334.000000</td>\n",
       "      <td>9.280000e+02</td>\n",
       "      <td>0.500000</td>\n",
       "      <td>9.000000</td>\n",
       "      <td>184.000000</td>\n",
       "      <td>-4.900000</td>\n",
       "      <td>25.000000</td>\n",
       "      <td>0.010273</td>\n",
       "    </tr>\n",
       "    <tr>\n",
       "      <td>25%</td>\n",
       "      <td>19281.250000</td>\n",
       "      <td>1.621000e+04</td>\n",
       "      <td>1.125000</td>\n",
       "      <td>10.000000</td>\n",
       "      <td>225.250000</td>\n",
       "      <td>1.200000</td>\n",
       "      <td>136.250000</td>\n",
       "      <td>0.033731</td>\n",
       "    </tr>\n",
       "    <tr>\n",
       "      <td>50%</td>\n",
       "      <td>32572.500000</td>\n",
       "      <td>6.439650e+05</td>\n",
       "      <td>3.000000</td>\n",
       "      <td>10.000000</td>\n",
       "      <td>239.500000</td>\n",
       "      <td>3.950000</td>\n",
       "      <td>166.000000</td>\n",
       "      <td>0.119314</td>\n",
       "    </tr>\n",
       "    <tr>\n",
       "      <td>75%</td>\n",
       "      <td>50653.750000</td>\n",
       "      <td>1.318557e+06</td>\n",
       "      <td>24.000000</td>\n",
       "      <td>10.000000</td>\n",
       "      <td>259.000000</td>\n",
       "      <td>5.975000</td>\n",
       "      <td>223.250000</td>\n",
       "      <td>1.951640</td>\n",
       "    </tr>\n",
       "    <tr>\n",
       "      <td>max</td>\n",
       "      <td>123730.000000</td>\n",
       "      <td>1.790863e+06</td>\n",
       "      <td>72.000000</td>\n",
       "      <td>11.000000</td>\n",
       "      <td>298.000000</td>\n",
       "      <td>12.800000</td>\n",
       "      <td>484.000000</td>\n",
       "      <td>8.545389</td>\n",
       "    </tr>\n",
       "  </tbody>\n",
       "</table>\n",
       "</div>"
      ],
      "text/plain": [
       "               Brain         Liver       Time       Days      Weight       Loss       Tumor  Concentration Ratio\n",
       "count      34.000000  3.400000e+01  34.000000  34.000000   34.000000  34.000000   34.000000            34.000000\n",
       "mean    39965.294118  6.687764e+05  23.514706  10.029412  241.647059   3.638235  182.911765             1.503638\n",
       "std     30326.107767  6.869928e+05  28.795645   0.459598   27.494222   4.242642  103.432709             2.347845\n",
       "min      1334.000000  9.280000e+02   0.500000   9.000000  184.000000  -4.900000   25.000000             0.010273\n",
       "25%     19281.250000  1.621000e+04   1.125000  10.000000  225.250000   1.200000  136.250000             0.033731\n",
       "50%     32572.500000  6.439650e+05   3.000000  10.000000  239.500000   3.950000  166.000000             0.119314\n",
       "75%     50653.750000  1.318557e+06  24.000000  10.000000  259.000000   5.975000  223.250000             1.951640\n",
       "max    123730.000000  1.790863e+06  72.000000  11.000000  298.000000  12.800000  484.000000             8.545389"
      ]
     },
     "execution_count": 21,
     "metadata": {},
     "output_type": "execute_result"
    }
   ],
   "source": [
    "summary = df.describe()\n",
    "summary"
   ]
  },
  {
   "cell_type": "code",
   "execution_count": 22,
   "metadata": {
    "scrolled": true
   },
   "outputs": [
    {
     "data": {
      "text/plain": [
       "Text(0, 0.5, 'Tumor-to-Liver Concentration Ratio')"
      ]
     },
     "execution_count": 22,
     "metadata": {},
     "output_type": "execute_result"
    },
    {
     "data": {
      "image/png": "[encoded data removed]",
      "text/plain": [
       "<Figure size 432x288 with 1 Axes>"
      ]
     },
     "metadata": {},
     "output_type": "display_data"
    }
   ],
   "source": [
    "ax = sns.scatterplot(x='Time', y='Concentration Ratio',\n",
    "                     hue='Treatment', \n",
    "                     data=df)\n",
    "ax.set_xscale('log')\n",
    "xticks = [0.5, 3, 24, 72]\n",
    "ax.set_xticks(xticks)\n",
    "ax.set_xticklabels([str(x) for x in xticks])\n",
    "ax.set_yscale('log')\n",
    "ax.set_ylim(0.0075, 15)\n",
    "ax.set_xlabel('Sacrifice Time (Hours)')\n",
    "ax.set_ylabel('Tumor-to-Liver Concentration Ratio')"
   ]
  },
  {
   "cell_type": "markdown",
   "metadata": {},
   "source": [
    "# Statistical Conclusion\n",
    "The median antibody concentration in the tumor (relative to that in the liver) was estimated to be 2.22 times as much for rats receiving the barrier disruption infusion than for those receiving the control infusion (95% confidence interval, from 1.56 to 3.15 times as much).  This multiplicative effect appears to be constant between 1/2 and 72 hours after the infusion (the $p$-value for a test of interaction between treatment and sacrifice time is 0.92 , from an $F$-test on 3 and 26 degrees of freedom.\n"
   ]
  },
  {
   "cell_type": "markdown",
   "metadata": {},
   "source": [
    "# Scope of Inference\n",
    "One hitch in this study is that randomization was not used to assign rats to treatment groups.  This oversight raises the possibility that the estimated relationships might be related to confounding variables over which the experimenter exercised no control.  Including the measured covariates in the model helps alleviate some concern, and the results appear to no have been affected by these potential confounding variables.  Nevertheless, causal implications can only be justified on the tenuous assumption that the assignment method used was as effect-neutral as a random assignment would have been."
   ]
  },
  {
   "cell_type": "code",
   "execution_count": null,
   "metadata": {},
   "outputs": [],
   "source": []
  }
 ],
 "metadata": {
  "kernelspec": {
   "display_name": "Python 3",
   "language": "python",
   "name": "python3"
  },
  "language_info": {
   "codemirror_mode": {
    "name": "ipython",
    "version": 3
   },
   "file_extension": ".py",
   "mimetype": "text/x-python",
   "name": "python",
   "nbconvert_exporter": "python",
   "pygments_lexer": "ipython3",
   "version": "3.7.4"
  }
 },
 "nbformat": 4,
 "nbformat_minor": 2
}
