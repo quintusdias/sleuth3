{
 "cells": [
  {
   "cell_type": "markdown",
   "metadata": {},
   "source": [
    "# Effects of Agent Orange on Troops in Vietnam"
   ]
  },
  {
   "cell_type": "code",
   "execution_count": null,
   "metadata": {},
   "outputs": [],
   "source": [
    "# standard library imports\n",
    "import pathlib\n",
    "import functools\n",
    "import warnings\n",
    "\n",
    "warnings.simplefilter(action='ignore', category=FutureWarning)\n",
    "\n",
    "# 3rd party library imports\n",
    "import matplotlib.pyplot as plt\n",
    "import numpy as np\n",
    "import pandas as pd\n",
    "import pingouin as pg\n",
    "import scipy.stats\n",
    "import seaborn as sns\n",
    "\n",
    "pd.options.display.width = 128\n",
    "sns.set()"
   ]
  },
  {
   "cell_type": "markdown",
   "metadata": {},
   "source": [
    "We begin by reading the data and summarizing the variables."
   ]
  },
  {
   "cell_type": "code",
   "execution_count": null,
   "metadata": {},
   "outputs": [],
   "source": [
    "df = pd.read_csv('case0302.csv')\n",
    "df.groupby('Veteran').describe()                                    "
   ]
  },
  {
   "cell_type": "code",
   "execution_count": null,
   "metadata": {},
   "outputs": [],
   "source": [
    "fig, axes = plt.subplots(ncols=2, figsize=[12.8, 4.8])\n",
    "_ = sns.boxplot(data=df, x='Veteran', y='Dioxin', ax=axes[0]) \n",
    "_ = sns.kdeplot(data=df, x='Dioxin', hue='Veteran', ax=axes[1])\n",
    "axes[0].set_ylabel('Dioxin (parts per trillion)')\n",
    "fig.tight_layout()"
   ]
  },
  {
   "cell_type": "markdown",
   "metadata": {},
   "source": [
    "The data is skewed right, but applying the logarithmic transformation is problematic due to the presense of zero in both groups.  The density plot does not cry out for a transformation."
   ]
  },
  {
   "cell_type": "markdown",
   "metadata": {},
   "source": [
    "$$\n",
    "\\begin{align*}\n",
    "& H_0: \\mu_{veteran} = \\mu_{other} \\\\\n",
    "& H_a: \\mu_{veteran} \\gt \\mu_{other} \\\\\n",
    "\\end{align*}\n",
    "$$"
   ]
  },
  {
   "cell_type": "code",
   "execution_count": null,
   "metadata": {},
   "outputs": [],
   "source": [
    "x = df.loc[df.Veteran == 'Vietnam', 'Dioxin']                            \n",
    "y = df.loc[df.Veteran == 'Other', 'Dioxin']                          \n",
    "stats = pg.ttest(x, y, alternative='greater') \n",
    "print(stats)"
   ]
  },
  {
   "cell_type": "markdown",
   "metadata": {},
   "source": [
    "There is weak evidence that the mean dioxin level in surviving combat troops in Vietnam is greater than that for non-Vietnam veterans ($t_{0.95, 136.96}$ = 0.291, $p$-value = 0.38567).  We are 95% confident that the true mean value of dioxin levels in Vietnam veterans is no less than 0.39 parts per trillion less than non-Vietnam veterans.\n",
    "\n",
    "These results differ slight from the book due to application of Welch's T-test, which is by default in *pg.ttest* when sample sizes are different."
   ]
  },
  {
   "cell_type": "code",
   "execution_count": null,
   "metadata": {},
   "outputs": [],
   "source": []
  }
 ],
 "metadata": {
  "kernelspec": {
   "display_name": "Python 3 (ipykernel)",
   "language": "python",
   "name": "python3"
  },
  "language_info": {
   "codemirror_mode": {
    "name": "ipython",
    "version": 3
   },
   "file_extension": ".py",
   "mimetype": "text/x-python",
   "name": "python",
   "nbconvert_exporter": "python",
   "pygments_lexer": "ipython3",
   "version": "3.12.3"
  }
 },
 "nbformat": 4,
 "nbformat_minor": 4
}
