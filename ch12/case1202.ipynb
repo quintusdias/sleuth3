{
 "cells": [
  {
   "cell_type": "markdown",
   "metadata": {},
   "source": [
    "# Sex Descrimination in Employment - An Observational Study\n",
    "There are 32 male and 61 femail employees, hired between 1965 and 1975, who were considered for a study.  The measurements are of annual salary at time of hire, salary as of March 1977, sex, seniority (months since first hired), age (months), education (years), and work experience prior to employment with the bank (months).\n",
    "\n",
    "Did the females receive lower starting salaries than similarly qualified and similarly experienced males?  After accounting for measures of performance, did females receive smaller pay increases of males?"
   ]
  },
  {
   "cell_type": "code",
   "execution_count": null,
   "metadata": {},
   "outputs": [],
   "source": [
    "# 3rd party library imports\n",
    "import matplotlib.pyplot as plt\n",
    "import numpy as np\n",
    "import pandas as pd\n",
    "import scipy.stats\n",
    "import seaborn as sns\n",
    "import statsmodels.api as sm\n",
    "import statsmodels.formula.api as smf\n",
    "\n",
    "sns.set()\n",
    "pd.options.display.float_format = \"{:.3f}\".format\n",
    "pd.options.display.max_columns = 12"
   ]
  },
  {
   "cell_type": "code",
   "execution_count": null,
   "metadata": {},
   "outputs": [],
   "source": [
    "df = pd.read_csv('case1202.csv')\n",
    "df.head()"
   ]
  },
  {
   "cell_type": "code",
   "execution_count": null,
   "metadata": {},
   "outputs": [],
   "source": [
    "df.describe()"
   ]
  },
  {
   "cell_type": "code",
   "execution_count": null,
   "metadata": {},
   "outputs": [],
   "source": [
    "sns.pairplot(df)"
   ]
  },
  {
   "cell_type": "markdown",
   "metadata": {},
   "source": [
    "*Bsal* suggests a possible non-linear relationship.  Perhaps a log-transformation is in order here, so the endogenous term will be `np.log(Bsal)`.  The interesting/tedious part will be to construct all the formulae out of all the combinations."
   ]
  },
  {
   "cell_type": "code",
   "execution_count": null,
   "metadata": {},
   "outputs": [],
   "source": [
    "endogenous = \"np.log(Bsal)\"\n",
    "\n",
    "# Single terms\n",
    "single = [x for x in df.columns[1:] if x not in ['Sal77', 'Sex']]\n",
    "\n",
    "# Create all the formulae out of the single terms\n",
    "import itertools\n",
    "formulae = []\n",
    "for i in range(1, len(single) + 1):\n",
    "    for iterms in itertools.combinations(single, i):\n",
    "        exogeneous = ' + '.join(iterms)\n",
    "        formulae.append(exogeneous)                                                \n"
   ]
  },
  {
   "cell_type": "code",
   "execution_count": null,
   "metadata": {},
   "outputs": [],
   "source": [
    "# It's not good to include a quadratic term unless the corresponding first order term is\n",
    "# also present.                                                                    \n",
    "quadformulae = []                                                                  \n",
    "for formula in formulae:                                                           \n",
    "    terms = [x for x in formula.split(' + ')]                                                \n",
    "    for i in range(1, len(terms) + 1):                                             \n",
    "        for iterms in itertools.combinations(terms, i):                            \n",
    "            exogeneous_extra = ' + '.join([f'np.power({item}, 2)' for item in iterms])\n",
    "            exogeneous = f\"{formula} + {exogeneous_extra}\"                         \n",
    "            quadformulae.append(exogeneous)                                        \n",
    "                                                                                   \n",
    "formulae = formulae + quadformulae  "
   ]
  },
  {
   "cell_type": "code",
   "execution_count": null,
   "metadata": {},
   "outputs": [],
   "source": [
    "# Ditto for the mixed terms.                                                       \n",
    "mixedformulae = []                                                                 \n",
    "for formula in formulae:                                                           \n",
    "    terms = [term for term in formula.split(' + ') if 'np.pow' not in term]        \n",
    "    if len(terms) < 2:                                                             \n",
    "        continue                                                                   \n",
    "    for i in range(2, len(terms) + 1):                                             \n",
    "        for iterms in itertools.combinations(terms, i):                            \n",
    "            exogeneous_extra = ' + '.join([f'{item[0]}:{item[1]}' for item in itertools.combinations(iterms, 2)])\n",
    "            exogeneous = f\"{formula} + {exogeneous_extra}\"                         \n",
    "            mixedformulae.append(exogeneous)                                       \n",
    "                                                                                   \n",
    "formulae = formulae + mixedformulae                                                \n",
    "print(len(formulae))\n",
    "\n",
    "formulae = [f\"np.log(Bsal) ~ Sex + {formula}\" for formula in formulae]"
   ]
  },
  {
   "cell_type": "code",
   "execution_count": null,
   "metadata": {},
   "outputs": [],
   "source": [
    "aics = []\n",
    "bics = []\n",
    "fvalues = []\n",
    "cps = []\n",
    "for formula in formulae:\n",
    "    model_fit = smf.ols(formula=formula, data=df).fit()\n",
    "    aics.append(model_fit.aic)\n",
    "    bics.append(model_fit.bic)\n",
    "    fvalues.append(model_fit.fvalue)\n",
    "    \n",
    "    sse = model_fit.mse_model * model_fit.df_model\n",
    "    dof = model_fit.nobs - 1\n",
    "    sst = model_fit.mse_total * dof\n",
    "    p = len(model.exog_names) - 1\n",
    "    cp = sse / sst ** 2 - model_fit.nobs + 2 * p\n",
    "    cps.append(cp)\n",
    "\n",
    "kwargs = {\n",
    "    'formula': formulae, \n",
    "    'aic': aics, \n",
    "    'bic': bics, \n",
    "    'fvalue': fvalues,\n",
    "    'cp': cps\n",
    "}\n",
    "dfcp = pd.DataFrame(kwargs)\n",
    "\n",
    "dfcp.sort_values(by='bic').head()"
   ]
  },
  {
   "cell_type": "markdown",
   "metadata": {},
   "source": [
    "Now run statsmodels on all the formulae!"
   ]
  },
  {
   "cell_type": "markdown",
   "metadata": {},
   "source": [
    "# Statistical Conclusion\n",
    "The data provide convincing evidence that the median starting salary for females was lower than the median starting salary for males, even after the effects of age, education, previous experience, and time at which the job began are taken into account (one-sided $p$-value < 0.0001).  The median starting salary for females was estimated to be only 89% of the median salary for males, after accounting for the variables measured above (a 95% confidence interval for the ratio of adjusted medians is 85% to 93%).   There is little evidence that the pay increases for females differed from those for males (one-sided $p$-value  0.27 from a $t$-test for the difference in mean log of average annual raise; one-sided $p$-value = 0.72 after further adjustment for other variables except beginning salary; one-sided $p$-value = 0.033 after further adjustment for other variables including beginning salary)."
   ]
  },
  {
   "cell_type": "code",
   "execution_count": null,
   "metadata": {},
   "outputs": [],
   "source": []
  }
 ],
 "metadata": {
  "kernelspec": {
   "display_name": "Python 3 (ipykernel)",
   "language": "python",
   "name": "python3"
  },
  "language_info": {
   "codemirror_mode": {
    "name": "ipython",
    "version": 3
   },
   "file_extension": ".py",
   "mimetype": "text/x-python",
   "name": "python",
   "nbconvert_exporter": "python",
   "pygments_lexer": "ipython3",
   "version": "3.12.1"
  }
 },
 "nbformat": 4,
 "nbformat_minor": 4
}
