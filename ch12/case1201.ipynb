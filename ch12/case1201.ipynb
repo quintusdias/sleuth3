{
 "cells": [
  {
   "cell_type": "markdown",
   "metadata": {},
   "source": [
    "# State Average SAT Scores - An Observational Study\n",
    "\n",
    "When, in 1982, average Scholastic Achievement Test (SAT) scores were first published on a state-by-state basis in the United States, the huge variation in the scores was a source of great pride for some states and of consternation for others.  Average scores ranged from a low of 790 (out of a possible 1,600) in South Carolina to a high of 1,088 in Iowa.  This 298-point spread dwarfed the 20-year national decline of 80 points.  Two researchers set out to \"assess the extent to which the compositional/demographic and school-structural characteristics are implicated in SAT differences.\"  (Data from B. Powell and L. C. Steelman, \"Variations in State SAT Performance:  Meaningful or Misleading?\"  *Harvard Educational Review* 54(4) (1984): 389-412.)\n",
    "\n"
   ]
  },
  {
   "cell_type": "markdown",
   "metadata": {},
   "source": [
    "The state averages of the local SAT (verbal + quantitative) scores are listed below, along with six variables that may be associated with the SAT differences among states.  Some explanatory variables come from the Powell and Steelman article, while others were obtained from the College Entrance Examination Board (by Robert Powers).  The variables are the following:  *Takers* is the percentage of the total eligible students (high school seniors) in the state who took the exam; *income* is the median income of families of test-takers, in hundreds of dollars; *years* is the average number of years that the test-takers, in hundreds of dollars; *years* is the number of years that the test-takers had formal studies in social sciences, natural sciences, and humanities; *public* is the percentage of the test-takers who attended public secondary schools; *expend* is the total state expenditure on secondary schools, expressed in hundreds of dollars per student; and *rank* is the median percentile ranking of the test-takers within their secondary school classes."
   ]
  },
  {
   "cell_type": "code",
   "execution_count": null,
   "metadata": {},
   "outputs": [],
   "source": [
    "# 3rd party library imports\n",
    "import matplotlib.pyplot as plt\n",
    "import numpy as np\n",
    "import pandas as pd\n",
    "import scipy.stats\n",
    "import seaborn as sns\n",
    "import statsmodels.api as sm\n",
    "import statsmodels.formula.api as smf\n",
    "from statsmodels.stats.anova import anova_lm\n",
    "\n",
    "sns.set()\n",
    "pd.options.display.float_format = \"{:.3f}\".format\n",
    "pd.options.display.max_columns = 12"
   ]
  },
  {
   "cell_type": "markdown",
   "metadata": {},
   "source": [
    "We begin by reading the data and summarizing the variables."
   ]
  },
  {
   "cell_type": "code",
   "execution_count": null,
   "metadata": {},
   "outputs": [],
   "source": [
    "df = pd.read_csv('case1201.csv')\n",
    "df.head()"
   ]
  },
  {
   "cell_type": "code",
   "execution_count": null,
   "metadata": {},
   "outputs": [],
   "source": [
    "df.describe()"
   ]
  },
  {
   "cell_type": "markdown",
   "metadata": {},
   "source": [
    "# Display 12.4:  Matrix of scatterplots for SAT scores and explanatory variables"
   ]
  },
  {
   "cell_type": "code",
   "execution_count": null,
   "metadata": {},
   "outputs": [],
   "source": [
    "cols = ['Rank', 'Takers', 'Years', 'Income', 'Public', 'Expend', 'SAT']\n",
    "g = sns.pairplot(df[cols])"
   ]
  },
  {
   "cell_type": "markdown",
   "metadata": {},
   "source": [
    "The SAT/Takers scatterplots indicate a non-linearity, so apply the logarithmic transform to the **Takers** variable."
   ]
  },
  {
   "cell_type": "code",
   "execution_count": null,
   "metadata": {},
   "outputs": [],
   "source": [
    "df['logTakers'] = np.log(df['Takers'])\n",
    "cols.remove('Takers')\n",
    "cols.insert(1, 'logTakers')\n",
    "g = sns.pairplot(df[cols])"
   ]
  },
  {
   "cell_type": "markdown",
   "metadata": {},
   "source": [
    "*Expend* clearly has an outlier (Alaska) and *Public* may have one (Louisiana)."
   ]
  },
  {
   "cell_type": "markdown",
   "metadata": {},
   "source": [
    "# Preliminary Analysis"
   ]
  },
  {
   "cell_type": "code",
   "execution_count": null,
   "metadata": {},
   "outputs": [],
   "source": [
    "formula = 'SAT ~ logTakers + Rank'\n",
    "model = smf.ols(formula=formula, data=df).fit()\n",
    "model.summary()"
   ]
  },
  {
   "cell_type": "markdown",
   "metadata": {},
   "source": [
    "The takers and class rank variables explain 81% of the total variation.  Look at the effect of *Expend* on SAT scores after taking *Takers* and *Rank* into account."
   ]
  },
  {
   "cell_type": "markdown",
   "metadata": {},
   "source": [
    "## Display 12.5: Partial residual plot of state average SAT scores (adjusted for takers and median class rank) versus state expenditure"
   ]
  },
  {
   "cell_type": "code",
   "execution_count": null,
   "metadata": {},
   "outputs": [],
   "source": [
    "fig, ax = plt.subplots(ncols=2, sharex=True, sharey=True)                      \n",
    "model = smf.ols(formula='SAT ~ logTakers + Rank + Expend', data=df).fit()          \n",
    "sm.graphics.plot_ccpr(model, 'Expend', ax=ax[0]) \n",
    "ax[0].set_title(rf\"With Alaska: $\\beta$, SE = {model.params['Expend']:.2f}, {model.bse['Expend']:.2f}\")\n",
    "ax[0].set_ylabel('Partial Residual')\n",
    "ax[0].set_xlabel('')\n",
    "                                                                                \n",
    "model = smf.ols(formula='SAT ~ logTakers + Rank + Expend', data=df.query('Expend < 40')).fit()\n",
    "sm.graphics.plot_ccpr(model, 'Expend', ax=ax[1])     \n",
    "ax[1].set_title(rf\"Without Alaska: $\\beta$, SE = {model.params['Expend']:.2f}, {model.bse['Expend']:.2f}\")\n",
    "ax[1].set_ylabel('')\n",
    "ax[1].set_xlabel('')\n",
    "\n",
    "fig.suptitle('CCPR (partial residual plots)')\n",
    "fig.supxlabel('Expenditure ($100s per student)')\n",
    "fig.tight_layout()"
   ]
  },
  {
   "cell_type": "markdown",
   "metadata": {},
   "source": []
  },
  {
   "cell_type": "markdown",
   "metadata": {},
   "source": [
    "## Partial residual plot of state average SAT scores (adjusted for takers and median class rank) versus public school"
   ]
  },
  {
   "cell_type": "code",
   "execution_count": null,
   "metadata": {},
   "outputs": [],
   "source": [
    "fig, ax = plt.subplots(ncols=2, sharex=True, sharey=True)                      \n",
    "model = smf.ols(formula='SAT ~ logTakers + Rank + Public', data=df).fit()          \n",
    "sm.graphics.plot_ccpr(model, 'Public', ax=ax[0]) \n",
    "ax[0].set_title(rf\"W/Louisiana: $\\beta$, SE = {model.params['Public']:.2f}, {model.bse['Public']:.2f}\")\n",
    "ax[0].set_ylabel('Partial Residual')\n",
    "ax[0].set_xlabel('')\n",
    "                                                                                \n",
    "model = smf.ols(formula='SAT ~ logTakers + Rank + Public', data=df.query('Public > 50')).fit()\n",
    "sm.graphics.plot_ccpr(model, 'Public', ax=ax[1])     \n",
    "ax[1].set_title(rf\"Wo/Louisiana:  $\\beta$, SE = {model.params['Public']:.2f}, {model.bse['Public']:.2f}\")\n",
    "ax[1].set_ylabel('')\n",
    "ax[1].set_xlabel('')\n",
    "\n",
    "fig.suptitle('CCPR (partial residual plots)')\n",
    "fig.supxlabel('Test Taker Percentage in Public Schools')\n",
    "fig.tight_layout()"
   ]
  },
  {
   "cell_type": "markdown",
   "metadata": {},
   "source": [
    "One has to take into account the standard errors of the *Expend* slope to see that the effect of Alaska is significant, while in the *Public* case, the effect of Louisiana is not.  Are partial residual plots really necessary for that?"
   ]
  },
  {
   "cell_type": "markdown",
   "metadata": {},
   "source": [
    "# Forward Variable Selection"
   ]
  },
  {
   "cell_type": "markdown",
   "metadata": {},
   "source": [
    "There does not seem to be any forward selection capability in statsmodels, but it's easy to program it."
   ]
  },
  {
   "cell_type": "code",
   "execution_count": null,
   "metadata": {},
   "outputs": [],
   "source": [
    "# 3rd party library imports                                                     \n",
    "import pandas as pd                                                             \n",
    "import statsmodels.formula.api as smf                                           \n",
    "from statsmodels.stats.anova import anova_lm                                    \n",
    "                                                                                \n",
    "                                                                                \n",
    "class ForwardSelect(object):                                                    \n",
    "                                                                                \n",
    "    def __init__(self, df, endog):                                              \n",
    "                                                                                \n",
    "        self.endog = endog                                                      \n",
    "        self.df = df                                                            \n",
    "                                                                                \n",
    "        self.current_exog = []                                                  \n",
    "                                                                                \n",
    "        self.candidates = df.columns.to_list()                                  \n",
    "        self.candidates.remove(endog)                                           \n",
    "                                                                                \n",
    "    def run_forward(self):                                                      \n",
    "        \"\"\"                                                                     \n",
    "        Go thru each new model where the candidate variables are added to the   \n",
    "        new model exog vars.                                                    \n",
    "        \"\"\"                                                                     \n",
    "                                                                                \n",
    "        fresults = []                                                           \n",
    "                                                                                \n",
    "        for var in self.candidates:                                             \n",
    "            formula = f\"{self.endog} ~ {' + '.join(self.current_exog + [var])}\" \n",
    "            model = smf.ols(formula=formula, data=self.df).fit()                \n",
    "            atable = anova_lm(model)                                            \n",
    "            fresults.append(atable.loc[var, 'F'])                               \n",
    "                                                                                \n",
    "        s = pd.Series(fresults, index=self.candidates)                          \n",
    "        print(s)                                                                \n",
    "                                                                                \n",
    "    def select(self, var):                                                      \n",
    "        \"\"\"                                                                     \n",
    "        Add a variable to the set list of exog vars, probably because of high   \n",
    "        f-value.                                                                \n",
    "        \"\"\"                                                                     \n",
    "                                                                                \n",
    "        self.candidates.remove(var)                                             \n",
    "        self.current_exog.append(var)\n",
    "                                                                            \n",
    "    def __str__(self):                                                          \n",
    "        if len(self.current_exog) == 0:                                         \n",
    "            formula = f\"{self.endog} ~ 1\"                                       \n",
    "        else:                                                                   \n",
    "            formula = f\"{self.endog} ~ {' + '.join(self.current_exog)}\"         \n",
    "        model = smf.ols(formula=formula, data=self.df).fit()                    \n",
    "        return str(model.summary())  "
   ]
  },
  {
   "cell_type": "code",
   "execution_count": null,
   "metadata": {},
   "outputs": [],
   "source": [
    "data = df.query('Expend < 40').drop(['State', 'Takers'], axis='columns')\n",
    "fs = ForwardSelect(data, 'SAT')\n",
    "fs.run_forward()"
   ]
  },
  {
   "cell_type": "code",
   "execution_count": null,
   "metadata": {},
   "outputs": [],
   "source": [
    "fs.select('logTakers')\n",
    "fs.run_forward()"
   ]
  },
  {
   "cell_type": "code",
   "execution_count": null,
   "metadata": {},
   "outputs": [],
   "source": [
    "fs.select('Expend')\n",
    "fs.run_forward()"
   ]
  },
  {
   "cell_type": "code",
   "execution_count": null,
   "metadata": {},
   "outputs": [],
   "source": [
    "print(fs)"
   ]
  },
  {
   "cell_type": "markdown",
   "metadata": {},
   "source": [
    "Stop after selecting just two variables, *logTakers* and *Expend*.  Note that *Rank* is not chosen, and the pairplots bear this out since it is highly correlated with *logTakers*."
   ]
  },
  {
   "cell_type": "code",
   "execution_count": null,
   "metadata": {},
   "outputs": [],
   "source": []
  }
 ],
 "metadata": {
  "kernelspec": {
   "display_name": "Python 3 (ipykernel)",
   "language": "python",
   "name": "python3"
  },
  "language_info": {
   "codemirror_mode": {
    "name": "ipython",
    "version": 3
   },
   "file_extension": ".py",
   "mimetype": "text/x-python",
   "name": "python",
   "nbconvert_exporter": "python",
   "pygments_lexer": "ipython3",
   "version": "3.12.1"
  }
 },
 "nbformat": 4,
 "nbformat_minor": 4
}
