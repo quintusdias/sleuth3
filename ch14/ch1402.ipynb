{
 "cells": [
  {
   "cell_type": "markdown",
   "id": "8200bb17-91e1-4408-9731-d9421a3702ed",
   "metadata": {},
   "source": [
    "# Analysis of Soybean Data\n",
    "\n",
    "## Setup"
   ]
  },
  {
   "cell_type": "code",
   "execution_count": 3,
   "id": "bdd6cb63-638b-4d27-8aa1-8b91cefcab9c",
   "metadata": {},
   "outputs": [],
   "source": [
    "# 3rd party library imports\n",
    "import matplotlib.pyplot as plt                                                    \n",
    "import numpy as np                                                                 \n",
    "import pandas as pd                                                                \n",
    "from scipy.stats import t as tdist                                                 \n",
    "import seaborn as sns                                                              \n",
    "import statsmodels.formula.api as smf                                              \n",
    "from statsmodels.stats.anova import anova_lm\n",
    "from statsmodels.stats.multicomp import pairwise_tukeyhsd\n",
    "\n",
    "sns.set()\n",
    "\n",
    "df = pd.read_csv('case1402.csv')"
   ]
  },
  {
   "cell_type": "code",
   "execution_count": null,
   "id": "87f3d65e-3da8-4c4c-a674-9ac72756ce1f",
   "metadata": {},
   "outputs": [],
   "source": []
  }
 ],
 "metadata": {
  "kernelspec": {
   "display_name": "Python 3 (ipykernel)",
   "language": "python",
   "name": "python3"
  },
  "language_info": {
   "codemirror_mode": {
    "name": "ipython",
    "version": 3
   },
   "file_extension": ".py",
   "mimetype": "text/x-python",
   "name": "python",
   "nbconvert_exporter": "python",
   "pygments_lexer": "ipython3",
   "version": "3.12.1"
  }
 },
 "nbformat": 4,
 "nbformat_minor": 5
}
