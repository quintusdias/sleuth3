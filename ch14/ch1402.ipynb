{
 "cells": [
  {
   "cell_type": "markdown",
   "id": "8200bb17-91e1-4408-9731-d9421a3702ed",
   "metadata": {},
   "source": [
    "# Analysis of Soybean Data\n",
    "\n",
    "## Setup"
   ]
  },
  {
   "cell_type": "code",
   "execution_count": null,
   "id": "bdd6cb63-638b-4d27-8aa1-8b91cefcab9c",
   "metadata": {},
   "outputs": [],
   "source": [
    "# 3rd party library imports\n",
    "import matplotlib.pyplot as plt                                                    \n",
    "import numpy as np                                                                 \n",
    "import pandas as pd                                                                \n",
    "from scipy.stats import t as tdist                                                 \n",
    "import seaborn as sns                                                              \n",
    "import statsmodels.formula.api as smf                                              \n",
    "from statsmodels.stats.anova import anova_lm\n",
    "from statsmodels.stats.multicomp import pairwise_tukeyhsd\n",
    "\n",
    "sns.set()\n",
    "\n",
    "df = pd.read_csv('case1402.csv')\n",
    "\n",
    "# have to fix the columns\n",
    "df.columns = [x.strip() for x in df.columns]"
   ]
  },
  {
   "cell_type": "markdown",
   "id": "0c8e7bcd-898f-4a06-aa56-46408c845699",
   "metadata": {},
   "source": [
    "## Exploratory Analysis\n",
    "### Display 14.12:  Scatterplots of soybean yield (log scale) versus ozoze and sulpher dioxide, with different plotting symbols to indicate water stress"
   ]
  },
  {
   "cell_type": "code",
   "execution_count": null,
   "id": "148ac620-397e-4e15-945b-ce94f307df5d",
   "metadata": {},
   "outputs": [],
   "source": [
    "# set logarithmic scale for all plots\n",
    "fig, axes = plt.subplots(nrows=2, ncols=2, figsize=[12.8, 6.4])\n",
    "\n",
    "sns.stripplot(data=df, x='O3',  y='Forrest', hue='Stress', log_scale=(False, True), ax=axes[0][0])\n",
    "axes[0][0].legend(loc='lower left')\n",
    "\n",
    "sns.stripplot(data=df, x='SO2', y='Forrest', hue='Stress', log_scale=(False, True), legend=False, ax=axes[0][1])\n",
    "sns.stripplot(data=df, x='O3',  y='William', hue='Stress', log_scale=(False, True), legend=False, ax=axes[1][0])\n",
    "sns.stripplot(data=df, x='SO2', y='William', hue='Stress', log_scale=(False, True), legend=False, ax=axes[1][1])\n",
    "\n",
    "# remove x labels from top row\n",
    "axes[0][0].get_xaxis().set_visible(False)\n",
    "axes[0][1].get_xaxis().set_visible(False)\n",
    "\n",
    "# remove y labels from right column\n",
    "axes[0][1].get_yaxis().set_visible(False)\n",
    "axes[1][1].get_yaxis().set_visible(False)\n",
    "\n",
    "fig.tight_layout()"
   ]
  },
  {
   "cell_type": "markdown",
   "id": "cb183d56-6b79-4cca-8a3d-a43261678f6a",
   "metadata": {},
   "source": [
    "The effect of ozone looks to be linear on the log scale, while the effect of sulphur dioxide is unclear."
   ]
  },
  {
   "cell_type": "markdown",
   "id": "889f34aa-ed47-46c1-99ed-794713d57e3d",
   "metadata": {},
   "source": [
    "### Assessment of Linearity in Ozone"
   ]
  },
  {
   "cell_type": "code",
   "execution_count": null,
   "id": "742165b5-5997-423b-9660-4ea666d7e3b2",
   "metadata": {},
   "outputs": [],
   "source": [
    "fformula = 'np.log(Forrest) ~ O3 + I(O3**2) + C(SO2, Treatment(reference=0.00)) + C(Stress, Treatment(reference=\"Well-watered\"))'\n",
    "fmodel = smf.ols(formula=fformula, data=df).fit()\n",
    "fmodel.summary()"
   ]
  },
  {
   "cell_type": "code",
   "execution_count": null,
   "id": "ffc54a86-c0e2-4036-9ddf-4dbb1cbc4da7",
   "metadata": {},
   "outputs": [],
   "source": [
    "wformula = 'np.log(William) ~ O3 + I(O3**2) + C(SO2, Treatment(reference=0.00)) + C(Stress, Treatment(reference=\"Well-watered\"))'\n",
    "wmodel = smf.ols(formula=wformula, data=df).fit()\n",
    "wmodel.summary()"
   ]
  },
  {
   "cell_type": "code",
   "execution_count": null,
   "id": "594c81a1-dbfb-44ae-81f3-49e6f19e8b2f",
   "metadata": {},
   "outputs": [],
   "source": [
    "fig, axes = plt.subplots(nrows=1, ncols=2, figsize=[12.8, 6.4], sharex=True, sharey=True)\n",
    "sns.scatterplot(x=fmodel.fittedvalues, y=fmodel.resid, ax=axes[0])\n",
    "sns.scatterplot(x=wmodel.fittedvalues, y=wmodel.resid, ax=axes[1])\n",
    "axes[0].set_ylabel('Forrest Residuals')\n",
    "axes[1].set_ylabel('William Residuals')"
   ]
  },
  {
   "cell_type": "code",
   "execution_count": null,
   "id": "80a26a89-0a52-450e-a2a4-66c358b279a2",
   "metadata": {},
   "outputs": [],
   "source": []
  }
 ],
 "metadata": {
  "kernelspec": {
   "display_name": "Python 3 (ipykernel)",
   "language": "python",
   "name": "python3"
  },
  "language_info": {
   "codemirror_mode": {
    "name": "ipython",
    "version": 3
   },
   "file_extension": ".py",
   "mimetype": "text/x-python",
   "name": "python",
   "nbconvert_exporter": "python",
   "pygments_lexer": "ipython3",
   "version": "3.12.1"
  }
 },
 "nbformat": 4,
 "nbformat_minor": 5
}
