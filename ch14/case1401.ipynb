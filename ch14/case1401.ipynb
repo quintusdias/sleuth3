{
 "cells": [
  {
   "cell_type": "markdown",
   "id": "9ed3fbc7-92c7-44f0-9578-ee2c8001b731",
   "metadata": {},
   "source": [
    "# Chapter 14\n",
    "## Setup"
   ]
  },
  {
   "cell_type": "code",
   "execution_count": null,
   "id": "07042874-c25d-432c-bab7-962b62d057c6",
   "metadata": {},
   "outputs": [],
   "source": [
    "# 3rd party library imports\n",
    "import matplotlib.pyplot as plt                                                    \n",
    "import numpy as np                                                                 \n",
    "import pandas as pd                                                                \n",
    "from scipy.stats import t as tdist                                                 \n",
    "import seaborn as sns                                                              \n",
    "import statsmodels.formula.api as smf                                              \n",
    "from statsmodels.stats.anova import anova_lm\n",
    "from statsmodels.stats.multicomp import pairwise_tukeyhsd\n",
    "\n",
    "sns.set()\n",
    "\n",
    "df = pd.read_csv('case1401.csv')     "
   ]
  },
  {
   "cell_type": "markdown",
   "id": "be4b9744-6d56-439d-8292-da7caec835ea",
   "metadata": {},
   "source": [
    "## Explatoratory Analysis"
   ]
  },
  {
   "cell_type": "code",
   "execution_count": null,
   "id": "25447a93-3f14-48da-9915-b3b23865d673",
   "metadata": {},
   "outputs": [],
   "source": [
    "# exploratory analysis                                                             \n",
    "                                                                                   \n",
    "fig, axes = plt.subplots(nrows=1, ncols=2)                                         \n",
    "                                                                                   \n",
    "default = sns.color_palette()                                                      \n",
    "palette = {k:v for k, v in zip(df['Chimp'].unique(), sns.color_palette()[:4])}  \n",
    "                                                                                   \n",
    "# sort order is lowest sign average to highest                                     \n",
    "# data = df.sort_values(by='Order', ascending=False)                               \n",
    "idx = df.groupby('Sign')['Minutes'].mean(numeric_only=True).sort_values().reset_index().reset_index().set_index('Sign')\n",
    "fcn = lambda x: idx.loc[x, 'index']                                                \n",
    "data = df.sort_values(by='Sign', key=fcn)                                          \n",
    "                                                                                   \n",
    "g1 = sns.lineplot(x='Sign', y='Minutes', hue='Chimp', style='Chimp', markers=True, dashes=False, data=data, palette=palette, ax=axes[0])\n",
    "g1.set_ylabel('Acquisition Time (min)')                                            \n",
    "                                                                                   \n",
    "g2 = sns.lineplot(x='Sign', y=np.log(df['Minutes']), hue='Chimp', style='Chimp', markers=True, dashes=False, data=data, legend=False, ax=axes[1], palette=palette)\n",
    "g2.set_ylabel('Acquisition Time (min): log scale')                                 \n",
    "g2.yaxis.set_label_position(\"right\")                                               \n",
    "g2.yaxis.tick_right()                                                              \n",
    "                                                                                   \n",
    "                                                                                \n",
    "title = 'Coded scatterplots of acquisition times vs. the order number of each Sign'\n",
    "fig.suptitle(title) \n",
    "fig.set_size_inches([12, 6])"
   ]
  },
  {
   "cell_type": "code",
   "execution_count": null,
   "id": "e970e558-d011-40af-ae75-6977400ddfd1",
   "metadata": {},
   "outputs": [],
   "source": [
    "formula = 'Minutes ~ C(Chimp, Treatment(reference=\"Booee\")) + C(Sign, Treatment(reference=\"listen\"))'\n",
    "model = smf.ols(formula=formula, data=df).fit()\n",
    "model.summary()"
   ]
  },
  {
   "cell_type": "markdown",
   "id": "80876dd9-7cd7-497b-a86e-507a291d96b3",
   "metadata": {},
   "source": [
    "## Display 14.6\n",
    "\n",
    "Observed values, fitted values, and residuals for the additive fit to the chimpanzee sign acquisition times (minutes)"
   ]
  },
  {
   "cell_type": "code",
   "execution_count": null,
   "id": "1f09ebb5-f6f9-4550-9adf-5abe989c9e91",
   "metadata": {},
   "outputs": [],
   "source": [
    "data = {                                                                           \n",
    "    'observed': df['Minutes'],                                                     \n",
    "    'fitted': model.fittedvalues,                                                  \n",
    "    'resid': model.resid,                                                          \n",
    "    'chimp': df['Chimp'],                                                          \n",
    "    'sign': df['Sign']                                                             \n",
    "}                                                                                  \n",
    "display = (\n",
    "    pd.DataFrame(data)\n",
    "      .pivot_table(index='sign', columns='chimp', values=['observed', 'fitted', 'resid'])\n",
    "      .sort_values(by='sign', key=fcn) \n",
    "      .stack(level=0)\n",
    ")\n",
    "mu = df['Minutes'].mean()                                                          \n",
    "                                                                                   \n",
    "display['average'] = display.mean(axis='columns')                                  \n",
    "display.loc[(slice(None), 'resid'), 'average'] = np.nan                            \n",
    "display.loc[(slice(None), 'fitted'), 'average'] = np.nan                           \n",
    "display['effect'] = display['average'] - mu                                        \n",
    "                                                                                   \n",
    "display.loc[('average', ''), \"Booee\":\"Thelma\"] = df.groupby('Chimp')['Minutes'].mean()\n",
    "display.loc[('average', ''), 'average'] = df['Minutes'].mean()                       \n",
    "display.loc[('effect', ''), 'Booee':'Thelma'] = display.loc[('average', ''), 'Booee':'Thelma'] - mu                                                                                 \n",
    "display.style.format(na_rep='', precision=3)   "
   ]
  },
  {
   "cell_type": "markdown",
   "id": "aa072422-8fea-4f2b-aa8a-c42c356d3aa2",
   "metadata": {},
   "source": [
    "# Multiple Comparisons of Sign Effects\n",
    "\n",
    "List the 10 pairs of signs where the evidence of a difference is strongest."
   ]
  },
  {
   "cell_type": "code",
   "execution_count": null,
   "id": "e081064c-d87c-456d-8122-8eef9c353f89",
   "metadata": {},
   "outputs": [],
   "source": [
    "res = pairwise_tukeyhsd(endog=np.log(df['Minutes']), groups=df['Sign'])\n",
    "\n",
    "# not as straightforward as you would hope\n",
    "results_df = pd.DataFrame(data=res.summary().data[1:], columns=res.summary().data[0])\n",
    "\n",
    "print(results_df.sort_values(by='p-adj').head(n=10))"
   ]
  },
  {
   "cell_type": "code",
   "execution_count": null,
   "id": "353028f8-921d-4b3e-bcfe-c3534cbe6be6",
   "metadata": {},
   "outputs": [],
   "source": []
  }
 ],
 "metadata": {
  "kernelspec": {
   "display_name": "Python 3 (ipykernel)",
   "language": "python",
   "name": "python3"
  },
  "language_info": {
   "codemirror_mode": {
    "name": "ipython",
    "version": 3
   },
   "file_extension": ".py",
   "mimetype": "text/x-python",
   "name": "python",
   "nbconvert_exporter": "python",
   "pygments_lexer": "ipython3",
   "version": "3.12.1"
  }
 },
 "nbformat": 4,
 "nbformat_minor": 5
}
