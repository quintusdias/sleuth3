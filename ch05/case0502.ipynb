{
 "cells": [
  {
   "cell_type": "code",
   "execution_count": 42,
   "metadata": {},
   "outputs": [],
   "source": [
    "import pathlib\n",
    "\n",
    "import numpy as np\n",
    "import pandas as pd\n",
    "import scipy.stats\n",
    "import seaborn as sns\n",
    "\n",
    "sns.set()\n",
    "pd.options.display.float_format = \"{:.2f}\".format"
   ]
  },
  {
   "cell_type": "markdown",
   "metadata": {},
   "source": [
    "We begin by reading the data and summarizing the variables."
   ]
  },
  {
   "cell_type": "code",
   "execution_count": 43,
   "metadata": {},
   "outputs": [
    {
     "data": {
      "text/html": [
       "<div>\n",
       "<style scoped>\n",
       "    .dataframe tbody tr th:only-of-type {\n",
       "        vertical-align: middle;\n",
       "    }\n",
       "\n",
       "    .dataframe tbody tr th {\n",
       "        vertical-align: top;\n",
       "    }\n",
       "\n",
       "    .dataframe thead th {\n",
       "        text-align: right;\n",
       "    }\n",
       "</style>\n",
       "<table border=\"1\" class=\"dataframe\">\n",
       "  <thead>\n",
       "    <tr style=\"text-align: right;\">\n",
       "      <th></th>\n",
       "      <th>Percent</th>\n",
       "      <th>Judge</th>\n",
       "    </tr>\n",
       "  </thead>\n",
       "  <tbody>\n",
       "    <tr>\n",
       "      <th>0</th>\n",
       "      <td>6.40</td>\n",
       "      <td>Spock's</td>\n",
       "    </tr>\n",
       "    <tr>\n",
       "      <th>1</th>\n",
       "      <td>8.70</td>\n",
       "      <td>Spock's</td>\n",
       "    </tr>\n",
       "    <tr>\n",
       "      <th>2</th>\n",
       "      <td>13.30</td>\n",
       "      <td>Spock's</td>\n",
       "    </tr>\n",
       "    <tr>\n",
       "      <th>3</th>\n",
       "      <td>13.60</td>\n",
       "      <td>Spock's</td>\n",
       "    </tr>\n",
       "    <tr>\n",
       "      <th>4</th>\n",
       "      <td>15.00</td>\n",
       "      <td>Spock's</td>\n",
       "    </tr>\n",
       "  </tbody>\n",
       "</table>\n",
       "</div>"
      ],
      "text/plain": [
       "   Percent    Judge\n",
       "0     6.40  Spock's\n",
       "1     8.70  Spock's\n",
       "2    13.30  Spock's\n",
       "3    13.60  Spock's\n",
       "4    15.00  Spock's"
      ]
     },
     "execution_count": 43,
     "metadata": {},
     "output_type": "execute_result"
    }
   ],
   "source": [
    "path = pathlib.Path.home() / 'data' / 'sleuth3' / 'case0502.csv'\n",
    "df = pd.read_csv(path)\n",
    "df.head()"
   ]
  },
  {
   "cell_type": "code",
   "execution_count": 44,
   "metadata": {},
   "outputs": [
    {
     "data": {
      "text/html": [
       "<div>\n",
       "<style scoped>\n",
       "    .dataframe tbody tr th:only-of-type {\n",
       "        vertical-align: middle;\n",
       "    }\n",
       "\n",
       "    .dataframe tbody tr th {\n",
       "        vertical-align: top;\n",
       "    }\n",
       "\n",
       "    .dataframe thead th {\n",
       "        text-align: right;\n",
       "    }\n",
       "</style>\n",
       "<table border=\"1\" class=\"dataframe\">\n",
       "  <thead>\n",
       "    <tr style=\"text-align: right;\">\n",
       "      <th></th>\n",
       "      <th>Percent</th>\n",
       "    </tr>\n",
       "  </thead>\n",
       "  <tbody>\n",
       "    <tr>\n",
       "      <th>count</th>\n",
       "      <td>46.00</td>\n",
       "    </tr>\n",
       "    <tr>\n",
       "      <th>mean</th>\n",
       "      <td>26.58</td>\n",
       "    </tr>\n",
       "    <tr>\n",
       "      <th>std</th>\n",
       "      <td>9.18</td>\n",
       "    </tr>\n",
       "    <tr>\n",
       "      <th>min</th>\n",
       "      <td>6.40</td>\n",
       "    </tr>\n",
       "    <tr>\n",
       "      <th>25%</th>\n",
       "      <td>19.95</td>\n",
       "    </tr>\n",
       "    <tr>\n",
       "      <th>50%</th>\n",
       "      <td>27.50</td>\n",
       "    </tr>\n",
       "    <tr>\n",
       "      <th>75%</th>\n",
       "      <td>32.38</td>\n",
       "    </tr>\n",
       "    <tr>\n",
       "      <th>max</th>\n",
       "      <td>48.90</td>\n",
       "    </tr>\n",
       "  </tbody>\n",
       "</table>\n",
       "</div>"
      ],
      "text/plain": [
       "       Percent\n",
       "count    46.00\n",
       "mean     26.58\n",
       "std       9.18\n",
       "min       6.40\n",
       "25%      19.95\n",
       "50%      27.50\n",
       "75%      32.38\n",
       "max      48.90"
      ]
     },
     "execution_count": 44,
     "metadata": {},
     "output_type": "execute_result"
    }
   ],
   "source": [
    "df.describe()"
   ]
  },
  {
   "cell_type": "code",
   "execution_count": 45,
   "metadata": {},
   "outputs": [
    {
     "data": {
      "text/html": [
       "<div>\n",
       "<style scoped>\n",
       "    .dataframe tbody tr th:only-of-type {\n",
       "        vertical-align: middle;\n",
       "    }\n",
       "\n",
       "    .dataframe tbody tr th {\n",
       "        vertical-align: top;\n",
       "    }\n",
       "\n",
       "    .dataframe thead tr th {\n",
       "        text-align: left;\n",
       "    }\n",
       "\n",
       "    .dataframe thead tr:last-of-type th {\n",
       "        text-align: right;\n",
       "    }\n",
       "</style>\n",
       "<table border=\"1\" class=\"dataframe\">\n",
       "  <thead>\n",
       "    <tr>\n",
       "      <th></th>\n",
       "      <th colspan=\"8\" halign=\"left\">Percent</th>\n",
       "    </tr>\n",
       "    <tr>\n",
       "      <th></th>\n",
       "      <th>count</th>\n",
       "      <th>mean</th>\n",
       "      <th>std</th>\n",
       "      <th>min</th>\n",
       "      <th>25%</th>\n",
       "      <th>50%</th>\n",
       "      <th>75%</th>\n",
       "      <th>max</th>\n",
       "    </tr>\n",
       "    <tr>\n",
       "      <th>Judge</th>\n",
       "      <th></th>\n",
       "      <th></th>\n",
       "      <th></th>\n",
       "      <th></th>\n",
       "      <th></th>\n",
       "      <th></th>\n",
       "      <th></th>\n",
       "      <th></th>\n",
       "    </tr>\n",
       "  </thead>\n",
       "  <tbody>\n",
       "    <tr>\n",
       "      <th>A</th>\n",
       "      <td>5.00</td>\n",
       "      <td>34.12</td>\n",
       "      <td>11.94</td>\n",
       "      <td>16.80</td>\n",
       "      <td>30.80</td>\n",
       "      <td>33.60</td>\n",
       "      <td>40.50</td>\n",
       "      <td>48.90</td>\n",
       "    </tr>\n",
       "    <tr>\n",
       "      <th>B</th>\n",
       "      <td>6.00</td>\n",
       "      <td>33.62</td>\n",
       "      <td>6.58</td>\n",
       "      <td>27.00</td>\n",
       "      <td>29.67</td>\n",
       "      <td>32.35</td>\n",
       "      <td>34.80</td>\n",
       "      <td>45.60</td>\n",
       "    </tr>\n",
       "    <tr>\n",
       "      <th>C</th>\n",
       "      <td>9.00</td>\n",
       "      <td>29.10</td>\n",
       "      <td>4.59</td>\n",
       "      <td>21.00</td>\n",
       "      <td>27.50</td>\n",
       "      <td>30.50</td>\n",
       "      <td>32.50</td>\n",
       "      <td>33.80</td>\n",
       "    </tr>\n",
       "    <tr>\n",
       "      <th>D</th>\n",
       "      <td>2.00</td>\n",
       "      <td>27.00</td>\n",
       "      <td>3.82</td>\n",
       "      <td>24.30</td>\n",
       "      <td>25.65</td>\n",
       "      <td>27.00</td>\n",
       "      <td>28.35</td>\n",
       "      <td>29.70</td>\n",
       "    </tr>\n",
       "    <tr>\n",
       "      <th>E</th>\n",
       "      <td>6.00</td>\n",
       "      <td>26.97</td>\n",
       "      <td>9.01</td>\n",
       "      <td>17.70</td>\n",
       "      <td>20.15</td>\n",
       "      <td>24.70</td>\n",
       "      <td>33.07</td>\n",
       "      <td>40.20</td>\n",
       "    </tr>\n",
       "    <tr>\n",
       "      <th>F</th>\n",
       "      <td>9.00</td>\n",
       "      <td>26.80</td>\n",
       "      <td>5.97</td>\n",
       "      <td>16.50</td>\n",
       "      <td>23.50</td>\n",
       "      <td>26.70</td>\n",
       "      <td>29.80</td>\n",
       "      <td>36.20</td>\n",
       "    </tr>\n",
       "    <tr>\n",
       "      <th>Spock's</th>\n",
       "      <td>9.00</td>\n",
       "      <td>14.62</td>\n",
       "      <td>5.04</td>\n",
       "      <td>6.40</td>\n",
       "      <td>13.30</td>\n",
       "      <td>15.00</td>\n",
       "      <td>17.70</td>\n",
       "      <td>23.10</td>\n",
       "    </tr>\n",
       "  </tbody>\n",
       "</table>\n",
       "</div>"
      ],
      "text/plain": [
       "        Percent                                          \n",
       "          count  mean   std   min   25%   50%   75%   max\n",
       "Judge                                                    \n",
       "A          5.00 34.12 11.94 16.80 30.80 33.60 40.50 48.90\n",
       "B          6.00 33.62  6.58 27.00 29.67 32.35 34.80 45.60\n",
       "C          9.00 29.10  4.59 21.00 27.50 30.50 32.50 33.80\n",
       "D          2.00 27.00  3.82 24.30 25.65 27.00 28.35 29.70\n",
       "E          6.00 26.97  9.01 17.70 20.15 24.70 33.07 40.20\n",
       "F          9.00 26.80  5.97 16.50 23.50 26.70 29.80 36.20\n",
       "Spock's    9.00 14.62  5.04  6.40 13.30 15.00 17.70 23.10"
      ]
     },
     "execution_count": 45,
     "metadata": {},
     "output_type": "execute_result"
    }
   ],
   "source": [
    "df.groupby('Judge').describe()"
   ]
  },
  {
   "cell_type": "code",
   "execution_count": 46,
   "metadata": {},
   "outputs": [
    {
     "data": {
      "text/plain": [
       "<matplotlib.axes._subplots.AxesSubplot at 0x1c28620710>"
      ]
     },
     "execution_count": 46,
     "metadata": {},
     "output_type": "execute_result"
    },
    {
     "data": {
      "image/png": "[encoded data removed]",
      "text/plain": [
       "<Figure size 432x288 with 1 Axes>"
      ]
     },
     "metadata": {},
     "output_type": "display_data"
    }
   ],
   "source": [
    "sns.boxplot(x='Judge', y='Percent', data=df)"
   ]
  },
  {
   "cell_type": "code",
   "execution_count": 54,
   "metadata": {},
   "outputs": [
    {
     "data": {
      "image/png": "[encoded data removed]",
      "text/plain": [
       "<Figure size 432x288 with 1 Axes>"
      ]
     },
     "metadata": {},
     "output_type": "display_data"
    }
   ],
   "source": [
    "for judge, grp in df.groupby('Judge'):\n",
    "    sns.distplot(grp['Percent'], hist=False, rug=True, label=judge)"
   ]
  },
  {
   "cell_type": "markdown",
   "metadata": {},
   "source": [
    "$\\it{H_0}:  \\mu_{Spock} = \\mu_A = \\mu_B = \\mu_C = \\mu_D = \\mu_E = \\mu_F$\n",
    "\n",
    "$\\it{H_a}:$  at least one $\\mu$ is different\n",
    "\n",
    "First, we perform the test manually."
   ]
  },
  {
   "cell_type": "code",
   "execution_count": 47,
   "metadata": {},
   "outputs": [
    {
     "data": {
      "text/html": [
       "<div>\n",
       "<style scoped>\n",
       "    .dataframe tbody tr th:only-of-type {\n",
       "        vertical-align: middle;\n",
       "    }\n",
       "\n",
       "    .dataframe tbody tr th {\n",
       "        vertical-align: top;\n",
       "    }\n",
       "\n",
       "    .dataframe thead th {\n",
       "        text-align: right;\n",
       "    }\n",
       "</style>\n",
       "<table border=\"1\" class=\"dataframe\">\n",
       "  <thead>\n",
       "    <tr style=\"text-align: right;\">\n",
       "      <th></th>\n",
       "      <th>Sum of Squares</th>\n",
       "      <th>d.f.</th>\n",
       "      <th>Mean Square</th>\n",
       "      <th>F Statistic</th>\n",
       "      <th>p-value</th>\n",
       "    </tr>\n",
       "  </thead>\n",
       "  <tbody>\n",
       "    <tr>\n",
       "      <th>Between Groups</th>\n",
       "      <td>1927.08</td>\n",
       "      <td>6</td>\n",
       "      <td>321.18</td>\n",
       "      <td>6.72</td>\n",
       "      <td>0.00</td>\n",
       "    </tr>\n",
       "    <tr>\n",
       "      <th>Within Groups</th>\n",
       "      <td>1864.45</td>\n",
       "      <td>39</td>\n",
       "      <td>47.81</td>\n",
       "      <td>nan</td>\n",
       "      <td>nan</td>\n",
       "    </tr>\n",
       "    <tr>\n",
       "      <th>Total</th>\n",
       "      <td>3791.53</td>\n",
       "      <td>45</td>\n",
       "      <td>84.26</td>\n",
       "      <td>nan</td>\n",
       "      <td>nan</td>\n",
       "    </tr>\n",
       "  </tbody>\n",
       "</table>\n",
       "</div>"
      ],
      "text/plain": [
       "                Sum of Squares  d.f.  Mean Square  F Statistic  p-value\n",
       "Between Groups         1927.08     6       321.18         6.72     0.00\n",
       "Within Groups          1864.45    39        47.81          nan      nan\n",
       "Total                  3791.53    45        84.26          nan      nan"
      ]
     },
     "execution_count": 47,
     "metadata": {},
     "output_type": "execute_result"
    }
   ],
   "source": [
    "a = np.empty((3, 5))\n",
    "a[:] = NaN\n",
    "index = ['Between Groups', 'Within Groups', 'Total']\n",
    "columns = ['Sum of Squares', 'd.f.', 'Mean Square', 'F Statistic', 'p-value']\n",
    "dfss = pd.DataFrame(a, columns=columns, index=index)\n",
    "\n",
    "dfss.at['Total', 'Sum of Squares'] = ((df.Percent - mu) ** 2).sum()\n",
    "\n",
    "ssg = [((g.Percent - g.Percent.mean()) ** 2).sum() for idx, g in df.groupby('Judge')]\n",
    "dfss.at['Within Groups', 'Sum of Squares'] = sum(ssg)\n",
    "\n",
    "ssb = [\n",
    "    ((g['Percent'].mean() - mu) ** 2) * len(g) \n",
    "    for _, g in df.groupby('Judge')\n",
    "] \n",
    "dfss.at['Between Groups', 'Sum of Squares'] = sum(ssb)\n",
    "\n",
    "n = len(df)\n",
    "I = len(df.Judge.unique())\n",
    "dfss['d.f.'] = [I - 1, n - I, n - 1]\n",
    "\n",
    "dfss['Mean Square'] = dfss['Sum of Squares'] / dfss['d.f.']\n",
    "\n",
    "dfss.at['Between Groups', 'F Statistic'] = dfss.at['Between Groups', 'Mean Square'] / dfss.at['Within Groups', 'Mean Square']\n",
    "\n",
    "dfss.at['Between Groups', 'p-value'] = scipy.stats.f.sf(dfss.at['Between Groups', 'F Statistic'],\n",
    "                                                        dfss.at['Between Groups', 'd.f.'],\n",
    "                                                        dfss.at['Within Groups', 'd.f.'])\n",
    "\n",
    "dfss"
   ]
  },
  {
   "cell_type": "code",
   "execution_count": 48,
   "metadata": {},
   "outputs": [
    {
     "data": {
      "text/plain": [
       "F_onewayResult(statistic=6.718366123861361, pvalue=6.095822767937556e-05)"
      ]
     },
     "execution_count": 48,
     "metadata": {},
     "output_type": "execute_result"
    }
   ],
   "source": [
    "judges = df.Judge.unique()\n",
    "pargs = [df.loc[df.Judge == judge, 'Percent'] for judge in judges]\n",
    "scipy.stats.f_oneway(*pargs)"
   ]
  },
  {
   "cell_type": "markdown",
   "metadata": {},
   "source": [
    "The p-value of 6.1e-5 is sufficient to reject the null hypothesis and conclude that the mean percentage of at least one judge is not the same as the mean of the other judges."
   ]
  },
  {
   "cell_type": "markdown",
   "metadata": {},
   "source": [
    "We can also do this with statsmodels."
   ]
  },
  {
   "cell_type": "code",
   "execution_count": 49,
   "metadata": {},
   "outputs": [
    {
     "name": "stdout",
     "output_type": "stream",
     "text": [
      "          sum_sq    df    F  PR(>F)\n",
      "Judge    1927.08  6.00 6.72    0.00\n",
      "Residual 1864.45 39.00  nan     nan\n"
     ]
    }
   ],
   "source": [
    "import statsmodels.api as sm\n",
    "from statsmodels.formula.api import ols\n",
    "\n",
    "model = ols('Percent ~ Judge', data=df).fit()\n",
    "aov_table = sm.stats.anova_lm(model, typ=2)\n",
    "print(aov_table)"
   ]
  },
  {
   "cell_type": "markdown",
   "metadata": {},
   "source": [
    "\n",
    "\n",
    "$\\it{H_0}:  \\mu_{Spock} = \\mu_0, where \\mu_0 = \\mu_A = \\mu_B = \\mu_C = \\mu_D = \\mu_E = \\mu_F$\n",
    "\n",
    "$\\it{H_a}:  \\mu_{Spock} \\neq \\mu_0$\n"
   ]
  },
  {
   "cell_type": "code",
   "execution_count": 61,
   "metadata": {},
   "outputs": [
    {
     "data": {
      "text/html": [
       "<div>\n",
       "<style scoped>\n",
       "    .dataframe tbody tr th:only-of-type {\n",
       "        vertical-align: middle;\n",
       "    }\n",
       "\n",
       "    .dataframe tbody tr th {\n",
       "        vertical-align: top;\n",
       "    }\n",
       "\n",
       "    .dataframe thead th {\n",
       "        text-align: right;\n",
       "    }\n",
       "</style>\n",
       "<table border=\"1\" class=\"dataframe\">\n",
       "  <thead>\n",
       "    <tr style=\"text-align: right;\">\n",
       "      <th></th>\n",
       "      <th>Sum of Squares</th>\n",
       "      <th>d.f.</th>\n",
       "      <th>Mean Square</th>\n",
       "      <th>F Statistic</th>\n",
       "      <th>p-value</th>\n",
       "    </tr>\n",
       "  </thead>\n",
       "  <tbody>\n",
       "    <tr>\n",
       "      <th>Between Groups</th>\n",
       "      <td>nan</td>\n",
       "      <td>5</td>\n",
       "      <td>nan</td>\n",
       "      <td>nan</td>\n",
       "      <td>nan</td>\n",
       "    </tr>\n",
       "    <tr>\n",
       "      <th>Within Groups</th>\n",
       "      <td>nan</td>\n",
       "      <td>39</td>\n",
       "      <td>nan</td>\n",
       "      <td>nan</td>\n",
       "      <td>nan</td>\n",
       "    </tr>\n",
       "    <tr>\n",
       "      <th>Total</th>\n",
       "      <td>nan</td>\n",
       "      <td>44</td>\n",
       "      <td>nan</td>\n",
       "      <td>nan</td>\n",
       "      <td>nan</td>\n",
       "    </tr>\n",
       "  </tbody>\n",
       "</table>\n",
       "</div>"
      ],
      "text/plain": [
       "                Sum of Squares  d.f.  Mean Square  F Statistic  p-value\n",
       "Between Groups             nan     5          nan          nan      nan\n",
       "Within Groups              nan    39          nan          nan      nan\n",
       "Total                      nan    44          nan          nan      nan"
      ]
     },
     "execution_count": 61,
     "metadata": {},
     "output_type": "execute_result"
    }
   ],
   "source": [
    "a = np.empty((3, 5))\n",
    "a[:] = NaN\n",
    "index = ['Between Groups', 'Within Groups', 'Total']\n",
    "columns = ['Sum of Squares', 'd.f.', 'Mean Square', 'F Statistic', 'p-value']\n",
    "dfss = pd.DataFrame(a, columns=columns, index=index)\n",
    "\n",
    "n = len(df)\n",
    "I = len(df.Judge.unique())\n",
    "dfss['d.f.'] = [I - 2, n - I, n - 2]\n",
    "dfss"
   ]
  },
  {
   "cell_type": "markdown",
   "metadata": {},
   "source": [
    "In order to facilitate further computations, we need to be able to apply a grouping for \"Spock\" or \"not Spock\"."
   ]
  },
  {
   "cell_type": "code",
   "execution_count": 63,
   "metadata": {},
   "outputs": [
    {
     "data": {
      "text/html": [
       "<div>\n",
       "<style scoped>\n",
       "    .dataframe tbody tr th:only-of-type {\n",
       "        vertical-align: middle;\n",
       "    }\n",
       "\n",
       "    .dataframe tbody tr th {\n",
       "        vertical-align: top;\n",
       "    }\n",
       "\n",
       "    .dataframe thead th {\n",
       "        text-align: right;\n",
       "    }\n",
       "</style>\n",
       "<table border=\"1\" class=\"dataframe\">\n",
       "  <thead>\n",
       "    <tr style=\"text-align: right;\">\n",
       "      <th></th>\n",
       "      <th>Sum of Squares</th>\n",
       "      <th>d.f.</th>\n",
       "      <th>Mean Square</th>\n",
       "      <th>F Statistic</th>\n",
       "      <th>p-value</th>\n",
       "    </tr>\n",
       "  </thead>\n",
       "  <tbody>\n",
       "    <tr>\n",
       "      <th>Between Groups</th>\n",
       "      <td>nan</td>\n",
       "      <td>5</td>\n",
       "      <td>nan</td>\n",
       "      <td>nan</td>\n",
       "      <td>nan</td>\n",
       "    </tr>\n",
       "    <tr>\n",
       "      <th>Within Groups</th>\n",
       "      <td>nan</td>\n",
       "      <td>39</td>\n",
       "      <td>nan</td>\n",
       "      <td>nan</td>\n",
       "      <td>nan</td>\n",
       "    </tr>\n",
       "    <tr>\n",
       "      <th>Total</th>\n",
       "      <td>2190.90</td>\n",
       "      <td>44</td>\n",
       "      <td>nan</td>\n",
       "      <td>nan</td>\n",
       "      <td>nan</td>\n",
       "    </tr>\n",
       "  </tbody>\n",
       "</table>\n",
       "</div>"
      ],
      "text/plain": [
       "                Sum of Squares  d.f.  Mean Square  F Statistic  p-value\n",
       "Between Groups             nan     5          nan          nan      nan\n",
       "Within Groups              nan    39          nan          nan      nan\n",
       "Total                  2190.90    44          nan          nan      nan"
      ]
     },
     "execution_count": 63,
     "metadata": {},
     "output_type": "execute_result"
    }
   ],
   "source": [
    "df2 = df.set_index('Judge')\n",
    "fcn = lambda x: x if x == \"Spock's\" else \"Other\"\n",
    "\n",
    "ss = [((g.Percent - g.Percent.mean()) ** 2).sum() for idx, g in df2.groupby(fcn)]\n",
    "dfss.at['Total', 'Sum of Squares'] = sum(ss)\n",
    "dfss"
   ]
  },
  {
   "cell_type": "code",
   "execution_count": 64,
   "metadata": {},
   "outputs": [
    {
     "data": {
      "text/html": [
       "<div>\n",
       "<style scoped>\n",
       "    .dataframe tbody tr th:only-of-type {\n",
       "        vertical-align: middle;\n",
       "    }\n",
       "\n",
       "    .dataframe tbody tr th {\n",
       "        vertical-align: top;\n",
       "    }\n",
       "\n",
       "    .dataframe thead th {\n",
       "        text-align: right;\n",
       "    }\n",
       "</style>\n",
       "<table border=\"1\" class=\"dataframe\">\n",
       "  <thead>\n",
       "    <tr style=\"text-align: right;\">\n",
       "      <th></th>\n",
       "      <th>Sum of Squares</th>\n",
       "      <th>d.f.</th>\n",
       "      <th>Mean Square</th>\n",
       "      <th>F Statistic</th>\n",
       "      <th>p-value</th>\n",
       "    </tr>\n",
       "  </thead>\n",
       "  <tbody>\n",
       "    <tr>\n",
       "      <th>Between Groups</th>\n",
       "      <td>nan</td>\n",
       "      <td>5</td>\n",
       "      <td>nan</td>\n",
       "      <td>nan</td>\n",
       "      <td>nan</td>\n",
       "    </tr>\n",
       "    <tr>\n",
       "      <th>Within Groups</th>\n",
       "      <td>1864.45</td>\n",
       "      <td>39</td>\n",
       "      <td>nan</td>\n",
       "      <td>nan</td>\n",
       "      <td>nan</td>\n",
       "    </tr>\n",
       "    <tr>\n",
       "      <th>Total</th>\n",
       "      <td>2190.90</td>\n",
       "      <td>44</td>\n",
       "      <td>nan</td>\n",
       "      <td>nan</td>\n",
       "      <td>nan</td>\n",
       "    </tr>\n",
       "  </tbody>\n",
       "</table>\n",
       "</div>"
      ],
      "text/plain": [
       "                Sum of Squares  d.f.  Mean Square  F Statistic  p-value\n",
       "Between Groups             nan     5          nan          nan      nan\n",
       "Within Groups          1864.45    39          nan          nan      nan\n",
       "Total                  2190.90    44          nan          nan      nan"
      ]
     },
     "execution_count": 64,
     "metadata": {},
     "output_type": "execute_result"
    }
   ],
   "source": [
    "ss = [((g.Percent - g.Percent.mean()) ** 2).sum() for idx, g in df.groupby('Judge')]\n",
    "dfss.at['Within Groups', 'Sum of Squares'] = sum(ss)\n",
    "dfss"
   ]
  },
  {
   "cell_type": "code",
   "execution_count": 65,
   "metadata": {},
   "outputs": [
    {
     "data": {
      "text/html": [
       "<div>\n",
       "<style scoped>\n",
       "    .dataframe tbody tr th:only-of-type {\n",
       "        vertical-align: middle;\n",
       "    }\n",
       "\n",
       "    .dataframe tbody tr th {\n",
       "        vertical-align: top;\n",
       "    }\n",
       "\n",
       "    .dataframe thead th {\n",
       "        text-align: right;\n",
       "    }\n",
       "</style>\n",
       "<table border=\"1\" class=\"dataframe\">\n",
       "  <thead>\n",
       "    <tr style=\"text-align: right;\">\n",
       "      <th></th>\n",
       "      <th>Sum of Squares</th>\n",
       "      <th>d.f.</th>\n",
       "      <th>Mean Square</th>\n",
       "      <th>F Statistic</th>\n",
       "      <th>p-value</th>\n",
       "    </tr>\n",
       "  </thead>\n",
       "  <tbody>\n",
       "    <tr>\n",
       "      <th>Between Groups</th>\n",
       "      <td>326.46</td>\n",
       "      <td>5</td>\n",
       "      <td>nan</td>\n",
       "      <td>nan</td>\n",
       "      <td>nan</td>\n",
       "    </tr>\n",
       "    <tr>\n",
       "      <th>Within Groups</th>\n",
       "      <td>1864.45</td>\n",
       "      <td>39</td>\n",
       "      <td>nan</td>\n",
       "      <td>nan</td>\n",
       "      <td>nan</td>\n",
       "    </tr>\n",
       "    <tr>\n",
       "      <th>Total</th>\n",
       "      <td>2190.90</td>\n",
       "      <td>44</td>\n",
       "      <td>nan</td>\n",
       "      <td>nan</td>\n",
       "      <td>nan</td>\n",
       "    </tr>\n",
       "  </tbody>\n",
       "</table>\n",
       "</div>"
      ],
      "text/plain": [
       "                Sum of Squares  d.f.  Mean Square  F Statistic  p-value\n",
       "Between Groups          326.46     5          nan          nan      nan\n",
       "Within Groups          1864.45    39          nan          nan      nan\n",
       "Total                  2190.90    44          nan          nan      nan"
      ]
     },
     "execution_count": 65,
     "metadata": {},
     "output_type": "execute_result"
    }
   ],
   "source": [
    "dfss.at['Between Groups', 'Sum of Squares'] = dfss.at['Total', 'Sum of Squares'] - dfss.at['Within Groups', 'Sum of Squares'] \n",
    "dfss\n",
    "\n"
   ]
  },
  {
   "cell_type": "code",
   "execution_count": 66,
   "metadata": {},
   "outputs": [
    {
     "data": {
      "text/html": [
       "<div>\n",
       "<style scoped>\n",
       "    .dataframe tbody tr th:only-of-type {\n",
       "        vertical-align: middle;\n",
       "    }\n",
       "\n",
       "    .dataframe tbody tr th {\n",
       "        vertical-align: top;\n",
       "    }\n",
       "\n",
       "    .dataframe thead th {\n",
       "        text-align: right;\n",
       "    }\n",
       "</style>\n",
       "<table border=\"1\" class=\"dataframe\">\n",
       "  <thead>\n",
       "    <tr style=\"text-align: right;\">\n",
       "      <th></th>\n",
       "      <th>Sum of Squares</th>\n",
       "      <th>d.f.</th>\n",
       "      <th>Mean Square</th>\n",
       "      <th>F Statistic</th>\n",
       "      <th>p-value</th>\n",
       "    </tr>\n",
       "  </thead>\n",
       "  <tbody>\n",
       "    <tr>\n",
       "      <th>Between Groups</th>\n",
       "      <td>326.46</td>\n",
       "      <td>5</td>\n",
       "      <td>65.29</td>\n",
       "      <td>1.37</td>\n",
       "      <td>0.26</td>\n",
       "    </tr>\n",
       "    <tr>\n",
       "      <th>Within Groups</th>\n",
       "      <td>1864.45</td>\n",
       "      <td>39</td>\n",
       "      <td>47.81</td>\n",
       "      <td>nan</td>\n",
       "      <td>nan</td>\n",
       "    </tr>\n",
       "    <tr>\n",
       "      <th>Total</th>\n",
       "      <td>2190.90</td>\n",
       "      <td>44</td>\n",
       "      <td>49.79</td>\n",
       "      <td>nan</td>\n",
       "      <td>nan</td>\n",
       "    </tr>\n",
       "  </tbody>\n",
       "</table>\n",
       "</div>"
      ],
      "text/plain": [
       "                Sum of Squares  d.f.  Mean Square  F Statistic  p-value\n",
       "Between Groups          326.46     5        65.29         1.37     0.26\n",
       "Within Groups          1864.45    39        47.81          nan      nan\n",
       "Total                  2190.90    44        49.79          nan      nan"
      ]
     },
     "execution_count": 66,
     "metadata": {},
     "output_type": "execute_result"
    }
   ],
   "source": [
    "dfss['Mean Square'] = dfss['Sum of Squares'] / dfss['d.f.']\n",
    "\n",
    "dfss.at['Between Groups', 'F Statistic'] = dfss.at['Between Groups', 'Mean Square'] / dfss.at['Within Groups', 'Mean Square']\n",
    "\n",
    "dfss.at['Between Groups', 'p-value'] = scipy.stats.f.sf(dfss.at['Between Groups', 'F Statistic'],\n",
    "                                                        dfss.at['Between Groups', 'd.f.'],\n",
    "                                                        dfss.at['Within Groups', 'd.f.'])\n",
    "\n",
    "dfss"
   ]
  },
  {
   "cell_type": "code",
   "execution_count": null,
   "metadata": {},
   "outputs": [],
   "source": []
  }
 ],
 "metadata": {
  "kernelspec": {
   "display_name": "Python 3",
   "language": "python",
   "name": "python3"
  },
  "language_info": {
   "codemirror_mode": {
    "name": "ipython",
    "version": 3
   },
   "file_extension": ".py",
   "mimetype": "text/x-python",
   "name": "python",
   "nbconvert_exporter": "python",
   "pygments_lexer": "ipython3",
   "version": "3.7.4"
  }
 },
 "nbformat": 4,
 "nbformat_minor": 2
}
