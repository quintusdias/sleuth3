{
 "cells": [
  {
   "cell_type": "code",
   "execution_count": 9,
   "metadata": {},
   "outputs": [],
   "source": [
    "# standard library imports\n",
    "import pathlib\n",
    "import warnings\n",
    "\n",
    "warnings.simplefilter('ignore', category=FutureWarning)\n",
    "\n",
    "# 3rd party library imports\n",
    "import numpy as np\n",
    "import pandas as pd\n",
    "from scipy.stats import f\n",
    "import seaborn as sns\n",
    "import statsmodels.api as sm\n",
    "import statsmodels.formula.api as smf\n",
    "\n",
    "sns.set()\n",
    "pd.options.display.float_format = \"{:.1f}\".format"
   ]
  },
  {
   "cell_type": "markdown",
   "metadata": {},
   "source": [
    "We begin by reading the data and summarizing the variables."
   ]
  },
  {
   "cell_type": "code",
   "execution_count": 10,
   "metadata": {},
   "outputs": [
    {
     "name": "stdout",
     "output_type": "stream",
     "text": [
      "   Percent    Judge\n",
      "0      6.4  Spock's\n",
      "1      8.7  Spock's\n",
      "2     13.3  Spock's\n",
      "3     13.6  Spock's\n",
      "4     15.0  Spock's\n"
     ]
    },
    {
     "data": {
      "text/html": [
       "<div>\n",
       "<style scoped>\n",
       "    .dataframe tbody tr th:only-of-type {\n",
       "        vertical-align: middle;\n",
       "    }\n",
       "\n",
       "    .dataframe tbody tr th {\n",
       "        vertical-align: top;\n",
       "    }\n",
       "\n",
       "    .dataframe thead tr th {\n",
       "        text-align: left;\n",
       "    }\n",
       "\n",
       "    .dataframe thead tr:last-of-type th {\n",
       "        text-align: right;\n",
       "    }\n",
       "</style>\n",
       "<table border=\"1\" class=\"dataframe\">\n",
       "  <thead>\n",
       "    <tr>\n",
       "      <th></th>\n",
       "      <th colspan=\"8\" halign=\"left\">Percent</th>\n",
       "    </tr>\n",
       "    <tr>\n",
       "      <th></th>\n",
       "      <th>count</th>\n",
       "      <th>mean</th>\n",
       "      <th>std</th>\n",
       "      <th>min</th>\n",
       "      <th>25%</th>\n",
       "      <th>50%</th>\n",
       "      <th>75%</th>\n",
       "      <th>max</th>\n",
       "    </tr>\n",
       "    <tr>\n",
       "      <th>Judge</th>\n",
       "      <th></th>\n",
       "      <th></th>\n",
       "      <th></th>\n",
       "      <th></th>\n",
       "      <th></th>\n",
       "      <th></th>\n",
       "      <th></th>\n",
       "      <th></th>\n",
       "    </tr>\n",
       "  </thead>\n",
       "  <tbody>\n",
       "    <tr>\n",
       "      <th>A</th>\n",
       "      <td>5.0</td>\n",
       "      <td>34.1</td>\n",
       "      <td>11.9</td>\n",
       "      <td>16.8</td>\n",
       "      <td>30.8</td>\n",
       "      <td>33.6</td>\n",
       "      <td>40.5</td>\n",
       "      <td>48.9</td>\n",
       "    </tr>\n",
       "    <tr>\n",
       "      <th>B</th>\n",
       "      <td>6.0</td>\n",
       "      <td>33.6</td>\n",
       "      <td>6.6</td>\n",
       "      <td>27.0</td>\n",
       "      <td>29.7</td>\n",
       "      <td>32.4</td>\n",
       "      <td>34.8</td>\n",
       "      <td>45.6</td>\n",
       "    </tr>\n",
       "    <tr>\n",
       "      <th>C</th>\n",
       "      <td>9.0</td>\n",
       "      <td>29.1</td>\n",
       "      <td>4.6</td>\n",
       "      <td>21.0</td>\n",
       "      <td>27.5</td>\n",
       "      <td>30.5</td>\n",
       "      <td>32.5</td>\n",
       "      <td>33.8</td>\n",
       "    </tr>\n",
       "    <tr>\n",
       "      <th>D</th>\n",
       "      <td>2.0</td>\n",
       "      <td>27.0</td>\n",
       "      <td>3.8</td>\n",
       "      <td>24.3</td>\n",
       "      <td>25.6</td>\n",
       "      <td>27.0</td>\n",
       "      <td>28.4</td>\n",
       "      <td>29.7</td>\n",
       "    </tr>\n",
       "    <tr>\n",
       "      <th>E</th>\n",
       "      <td>6.0</td>\n",
       "      <td>27.0</td>\n",
       "      <td>9.0</td>\n",
       "      <td>17.7</td>\n",
       "      <td>20.1</td>\n",
       "      <td>24.7</td>\n",
       "      <td>33.1</td>\n",
       "      <td>40.2</td>\n",
       "    </tr>\n",
       "    <tr>\n",
       "      <th>F</th>\n",
       "      <td>9.0</td>\n",
       "      <td>26.8</td>\n",
       "      <td>6.0</td>\n",
       "      <td>16.5</td>\n",
       "      <td>23.5</td>\n",
       "      <td>26.7</td>\n",
       "      <td>29.8</td>\n",
       "      <td>36.2</td>\n",
       "    </tr>\n",
       "    <tr>\n",
       "      <th>Spock's</th>\n",
       "      <td>9.0</td>\n",
       "      <td>14.6</td>\n",
       "      <td>5.0</td>\n",
       "      <td>6.4</td>\n",
       "      <td>13.3</td>\n",
       "      <td>15.0</td>\n",
       "      <td>17.7</td>\n",
       "      <td>23.1</td>\n",
       "    </tr>\n",
       "  </tbody>\n",
       "</table>\n",
       "</div>"
      ],
      "text/plain": [
       "        Percent                                   \n",
       "          count mean  std  min  25%  50%  75%  max\n",
       "Judge                                             \n",
       "A           5.0 34.1 11.9 16.8 30.8 33.6 40.5 48.9\n",
       "B           6.0 33.6  6.6 27.0 29.7 32.4 34.8 45.6\n",
       "C           9.0 29.1  4.6 21.0 27.5 30.5 32.5 33.8\n",
       "D           2.0 27.0  3.8 24.3 25.6 27.0 28.4 29.7\n",
       "E           6.0 27.0  9.0 17.7 20.1 24.7 33.1 40.2\n",
       "F           9.0 26.8  6.0 16.5 23.5 26.7 29.8 36.2\n",
       "Spock's     9.0 14.6  5.0  6.4 13.3 15.0 17.7 23.1"
      ]
     },
     "execution_count": 10,
     "metadata": {},
     "output_type": "execute_result"
    }
   ],
   "source": [
    "df = pd.read_csv('case0502.csv')\n",
    "print(df.head())\n",
    "df.groupby('Judge').describe()"
   ]
  },
  {
   "cell_type": "markdown",
   "metadata": {},
   "source": [
    "<ol type=\"a\">\n",
    "    <li>Is there evidence that women are underrepresented on the Spock judge’s venires compared to the venires of the other judges?</li>\n",
    "    <li>Is there any evidence that there are differences in women’s representation  in the venires of the other six judges?</li>\n",
    "</ol>"
   ]
  },
  {
   "cell_type": "code",
   "execution_count": 11,
   "metadata": {},
   "outputs": [
    {
     "data": {
      "image/png": "[encoded data removed]",
      "text/plain": [
       "<Figure size 640x480 with 1 Axes>"
      ]
     },
     "metadata": {},
     "output_type": "display_data"
    }
   ],
   "source": [
    "_ = sns.boxplot(data=df, x='Judge', y='Percent')"
   ]
  },
  {
   "cell_type": "markdown",
   "metadata": {},
   "source": [
    "## Is any judge different?"
   ]
  },
  {
   "cell_type": "markdown",
   "metadata": {},
   "source": [
    "$\n",
    "\\begin{align}\n",
    "H_0: &\\mu_i = \\mu_j \\text{for} \\: i, j \\in \\{A, B, C, D, E, F, Spock\\} \\: \\text{(reduced model)} \\\\\n",
    "H_a: &\\text{at least one} \\: \\mu_i \\ne \\mu_j \\: \\text{for} \\: i, j \\in \\{A, B, C, D, E, F, Spock\\} \\: \\text{(full model)} \\\\\n",
    "\\end{align}\n",
    "$"
   ]
  },
  {
   "cell_type": "code",
   "execution_count": 12,
   "metadata": {},
   "outputs": [
    {
     "name": "stdout",
     "output_type": "stream",
     "text": [
      "              df    sum_sq  mean_sq      F  PR(>F)\n",
      "Judge     6.0000 1927.0809 321.1801 6.7184  0.0001\n",
      "Residual 39.0000 1864.4452  47.8063    NaN     NaN\n"
     ]
    }
   ],
   "source": [
    "pd.options.display.float_format = \"{:.4f}\".format\n",
    "model = smf.ols('Percent ~ Judge', data=df).fit()\n",
    "adf = sm.stats.anova_lm(model)\n",
    "print(adf)"
   ]
  },
  {
   "cell_type": "markdown",
   "metadata": {},
   "source": [
    "There is strong evidence that at least one judge's percentages are different ($F_{6,39}$ = 6.7184, $p$-value = 0.0001).\n",
    "\n",
    "We can manually run the test as well."
   ]
  },
  {
   "cell_type": "code",
   "execution_count": 13,
   "metadata": {},
   "outputs": [
    {
     "name": "stdout",
     "output_type": "stream",
     "text": [
      "6.7183661238613634 6.09582276793752e-05\n"
     ]
    }
   ],
   "source": [
    "ssr1, sse1 = adf['sum_sq']\n",
    "dof_ssr1, dof_sse1 = adf['df']\n",
    "dof_sst1, sst1 = adf['df'].sum(), adf['sum_sq'].sum()\n",
    "\n",
    "fstat = (ssr1 / dof_ssr1) / (sse1 / dof_sse1)\n",
    "print(fstat, 1 - f.cdf(fstat, dof_ssr1, dof_sse1))"
   ]
  },
  {
   "cell_type": "markdown",
   "metadata": {},
   "source": [
    "## Are judges A-F different?"
   ]
  },
  {
   "cell_type": "markdown",
   "metadata": {},
   "source": [
    "\n",
    "<table>\n",
    "    <tr>\n",
    "        <th>Group</th><td>Spock</td><td>A</td><td>B</td><td>C</td><td>D</td><td>E</td><td>F</td>\n",
    "    </tr>\n",
    "    <tr>\n",
    "      <th>Full Model</th><td>$\\mu_1$</td><td>$\\mu_2$</td><td>$\\mu_3$</td><td>$\\mu_4$</td><td>$\\mu_5$</td><td>$\\mu_6$</td><td>$\\mu_7$</td></tr>\n",
    "        <tr>\n",
    "      <th>Reduced Model ($H_0$)</th><td>$\\mu_1$</td><td>$\\mu_0$</td><td>$\\mu_0$</td><td>$\\mu_0$</td><td>$\\mu_0$</td><td>$\\mu_0$</td><td>$\\mu_0$</td></tr>\n",
    "</table>"
   ]
  },
  {
   "cell_type": "markdown",
   "metadata": {},
   "source": [
    "The necessary data values for this hypothesis test are not directly produced by **sm.stats.anova_lm** and **smf.ols**.  The sum of squares error (SSE) for the full model is provided above.  The total sum of squares (SST) for the reduced model can be obtained with a 2nd one-way analysis with just two groups, **Spock** and **Other**, but the SST that we are looking for is actually the SSE in the 2nd table."
   ]
  },
  {
   "cell_type": "code",
   "execution_count": 14,
   "metadata": {},
   "outputs": [
    {
     "name": "stdout",
     "output_type": "stream",
     "text": [
      "                          df    sum_sq   mean_sq       F  PR(>F)\n",
      "C(Judge2, Treatment)  1.0000 1600.6230 1600.6230 32.1454  0.0000\n",
      "Residual             44.0000 2190.9031   49.7933     NaN     NaN\n"
     ]
    }
   ],
   "source": [
    "df['Judge2'] = df['Judge']\n",
    "df.loc[df['Judge'] != \"Spock's\", 'Judge2'] = 'Other'\n",
    "model = smf.ols('Percent ~ C(Judge2, Treatment)', data=df).fit()\n",
    "adf2 = sm.stats.anova_lm(model)\n",
    "print(adf2)"
   ]
  },
  {
   "cell_type": "code",
   "execution_count": 15,
   "metadata": {},
   "outputs": [],
   "source": [
    "sst2 = adf2.loc['Residual', 'sum_sq']\n",
    "dof_sst2 = adf2.loc['Residual', 'df']"
   ]
  },
  {
   "cell_type": "markdown",
   "metadata": {},
   "source": [
    "The extra-sum-of-squares test can now be performed for the question at hand, are judges A-F different?"
   ]
  },
  {
   "cell_type": "code",
   "execution_count": 16,
   "metadata": {},
   "outputs": [
    {
     "name": "stdout",
     "output_type": "stream",
     "text": [
      "1.3657529846824976 5.0 39.0 0.25817935736128095\n"
     ]
    }
   ],
   "source": [
    "extra_ss = (sst2 - sse1)\n",
    "extra_dof = (dof_sst2 - dof_sse1)\n",
    "fstat =  (extra_ss / extra_dof) / (sse1 / dof_sse1)\n",
    "print(fstat, extra_dof, dof_sse1, (1 - f.cdf(fstat, extra_dof, dof_sse1)))"
   ]
  },
  {
   "cell_type": "markdown",
   "metadata": {},
   "source": [
    "There is only weak evidence that judges A-f differ from each other ($F_{5,39}$ = 1.37, $p$-value = 0.2582)."
   ]
  },
  {
   "cell_type": "markdown",
   "metadata": {},
   "source": [
    "## Is Spock's judge different from the others?"
   ]
  },
  {
   "cell_type": "markdown",
   "metadata": {},
   "source": [
    "<table>\n",
    "    <tr>\n",
    "        <th>Group</th><td>Spock</td><td>A</td><td>B</td><td>C</td><td>D</td><td>E</td><td>F</td>\n",
    "    </tr>\n",
    "    <tr>\n",
    "      <th>Full Model</th><td>$\\mu_1$</td><td>$\\mu_0$</td><td>$\\mu_0$</td><td>$\\mu_0$</td><td>$\\mu_0$</td><td>$\\mu_0$</td><td>$\\mu_0$</td></tr>\n",
    "        <tr>\n",
    "      <th>Reduced Model ($H_0$)</th><td>$\\mu$</td><td>$\\mu$</td><td>$\\mu$</td><td>$\\mu$</td><td>$\\mu$</td><td>$\\mu$</td><td>$\\mu$</td></tr>\n",
    "</table>"
   ]
  },
  {
   "cell_type": "markdown",
   "metadata": {},
   "source": [
    "This is directly answered above, there is strong evidence that Spock's judge differs from the other judges ($F_{1,44}$ = 32.1454, $p$-value < 0.0001)."
   ]
  }
 ],
 "metadata": {
  "kernelspec": {
   "display_name": "Python 3 (ipykernel)",
   "language": "python",
   "name": "python3"
  },
  "language_info": {
   "codemirror_mode": {
    "name": "ipython",
    "version": 3
   },
   "file_extension": ".py",
   "mimetype": "text/x-python",
   "name": "python",
   "nbconvert_exporter": "python",
   "pygments_lexer": "ipython3",
   "version": "3.12.3"
  }
 },
 "nbformat": 4,
 "nbformat_minor": 4
}
