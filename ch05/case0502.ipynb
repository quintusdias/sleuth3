{
 "cells": [
  {
   "cell_type": "code",
   "execution_count": null,
   "metadata": {},
   "outputs": [],
   "source": [
    "import pathlib\n",
    "\n",
    "import numpy as np\n",
    "import pandas as pd\n",
    "import seaborn as sns\n",
    "import statsmodels.api as sm\n",
    "import statsmodels.formula.api as smf\n",
    "\n",
    "sns.set()\n",
    "pd.options.display.float_format = \"{:.1f}\".format"
   ]
  },
  {
   "cell_type": "markdown",
   "metadata": {},
   "source": [
    "We begin by reading the data and summarizing the variables."
   ]
  },
  {
   "cell_type": "code",
   "execution_count": null,
   "metadata": {},
   "outputs": [],
   "source": [
    "df = pd.read_csv('case0502.csv')\n",
    "print(df.head())\n",
    "df.groupby('Judge').describe()"
   ]
  },
  {
   "cell_type": "markdown",
   "metadata": {},
   "source": [
    "<ol type=\"a\">\n",
    "    <li>Is there evidence that women are underrepresented on the Spock judge’s venires compared to the venires of the other judges?</li>\n",
    "    <li>Is there any evidence that there are differences in women’s representation  in the venires of the other six judges?</li>\n",
    "</ol>"
   ]
  },
  {
   "cell_type": "code",
   "execution_count": null,
   "metadata": {},
   "outputs": [],
   "source": [
    "_ = sns.boxplot(data=df, x='Judge', y='Percent')"
   ]
  },
  {
   "cell_type": "markdown",
   "metadata": {},
   "source": [
    "## Is any judge different?"
   ]
  },
  {
   "cell_type": "markdown",
   "metadata": {},
   "source": [
    "$\n",
    "\\begin{align}\n",
    "H_0: &\\mu_i = \\mu_j \\text{for} \\: i, j \\in \\{A, B, C, D, E, F, Spock\\} \\\\\n",
    "H_a: &\\text{at least one} \\: \\mu_i \\ne \\mu_j \\: \\text{for} \\: i, j \\in \\{A, B, C, D, E, F, Spock\\} \\\\\n",
    "\\end{align}\n",
    "$"
   ]
  },
  {
   "cell_type": "code",
   "execution_count": null,
   "metadata": {},
   "outputs": [],
   "source": [
    "pd.options.display.float_format = \"{:.4f}\".format\n",
    "model = smf.ols('Percent ~ Judge', data=df).fit()\n",
    "adf = sm.stats.anova_lm(model)\n",
    "print(adf)"
   ]
  },
  {
   "cell_type": "markdown",
   "metadata": {},
   "source": [
    "There is strong evidence that at least one judge's percentages are different ($F_{6,39}$ = 6.7184, $p$-value = 0.0001)."
   ]
  },
  {
   "cell_type": "code",
   "execution_count": null,
   "metadata": {},
   "outputs": [],
   "source": [
    "sse = adf.loc['Residual', 'sum_sq']\n",
    "dof_sse = adf.loc['Residual', 'df']"
   ]
  },
  {
   "cell_type": "markdown",
   "metadata": {},
   "source": [
    "## Are judges A-F different?"
   ]
  },
  {
   "cell_type": "markdown",
   "metadata": {},
   "source": [
    "$\n",
    "\\begin{align}\n",
    "H_0: &\\mu_A = \\mu_B = \\mu_C = \\mu_D = \\mu_E = \\mu_F; \\mu_{spock} \\\\\n",
    "H_a: &\\text{at least one} \\: \\mu_i \\ne \\mu_j \\: \\text{for} \\: i, j \\in \\{A, B, C, D, E, F, Spock\\} \\\\\n",
    "\\end{align}\n",
    "$"
   ]
  },
  {
   "cell_type": "markdown",
   "metadata": {},
   "source": [
    "The necessary data values for this hypothesis test are not directly produced by **sm.stats.anova_lm** and **smf.ols**.  The sum of squares (SSE) for the alternative hypothesis (full model in the book's parliance) is provided above.  A separate ANOVA test based on "
   ]
  },
  {
   "cell_type": "code",
   "execution_count": null,
   "metadata": {},
   "outputs": [],
   "source": [
    "df['Judge2'] = df['Judge']\n",
    "df.loc[df['Judge'] != \"Spock's\", 'Judge2'] = 'Other'\n",
    "model = smf.ols('Percent ~ C(Judge2, Treatment)', data=df).fit()\n",
    "adf2 = sm.stats.anova_lm(model)\n",
    "print(adf2)"
   ]
  },
  {
   "cell_type": "code",
   "execution_count": null,
   "metadata": {},
   "outputs": [],
   "source": []
  },
  {
   "cell_type": "markdown",
   "metadata": {},
   "source": [
    "There is strong evidence that the percentage of women on juries of at least one judge $\\in$ {A, B, C, D, E, F} differs from the others ($F_{44,1}$ = 32.1454, $p$-value < 0.0001)."
   ]
  },
  {
   "cell_type": "code",
   "execution_count": null,
   "metadata": {},
   "outputs": [],
   "source": [
    "sns.boxplot(x='Judge', y='Percent', data=df)"
   ]
  },
  {
   "cell_type": "code",
   "execution_count": null,
   "metadata": {},
   "outputs": [],
   "source": [
    "for judge, grp in df.groupby('Judge'):\n",
    "    sns.distplot(grp['Percent'], hist=False, rug=True, label=judge)"
   ]
  },
  {
   "cell_type": "markdown",
   "metadata": {},
   "source": [
    "$\\it{H_0}:  \\mu_{Spock} = \\mu_A = \\mu_B = \\mu_C = \\mu_D = \\mu_E = \\mu_F$\n",
    "\n",
    "$\\it{H_a}:$  at least one $\\mu$ is different\n",
    "\n",
    "First, we perform the test manually."
   ]
  },
  {
   "cell_type": "code",
   "execution_count": null,
   "metadata": {},
   "outputs": [],
   "source": [
    "a = np.empty((3, 5))\n",
    "a[:] = NaN\n",
    "index = ['Between Groups', 'Within Groups', 'Total']\n",
    "columns = ['Sum of Squares', 'd.f.', 'Mean Square', 'F Statistic', 'p-value']\n",
    "dfss = pd.DataFrame(a, columns=columns, index=index)\n",
    "\n",
    "dfss.at['Total', 'Sum of Squares'] = ((df.Percent - mu) ** 2).sum()\n",
    "\n",
    "ssg = [((g.Percent - g.Percent.mean()) ** 2).sum() for idx, g in df.groupby('Judge')]\n",
    "dfss.at['Within Groups', 'Sum of Squares'] = sum(ssg)\n",
    "\n",
    "ssb = [\n",
    "    ((g['Percent'].mean() - mu) ** 2) * len(g) \n",
    "    for _, g in df.groupby('Judge')\n",
    "] \n",
    "dfss.at['Between Groups', 'Sum of Squares'] = sum(ssb)\n",
    "\n",
    "n = len(df)\n",
    "I = len(df.Judge.unique())\n",
    "dfss['d.f.'] = [I - 1, n - I, n - 1]\n",
    "\n",
    "dfss['Mean Square'] = dfss['Sum of Squares'] / dfss['d.f.']\n",
    "\n",
    "dfss.at['Between Groups', 'F Statistic'] = dfss.at['Between Groups', 'Mean Square'] / dfss.at['Within Groups', 'Mean Square']\n",
    "\n",
    "dfss.at['Between Groups', 'p-value'] = scipy.stats.f.sf(dfss.at['Between Groups', 'F Statistic'],\n",
    "                                                        dfss.at['Between Groups', 'd.f.'],\n",
    "                                                        dfss.at['Within Groups', 'd.f.'])\n",
    "\n",
    "dfss"
   ]
  },
  {
   "cell_type": "code",
   "execution_count": null,
   "metadata": {},
   "outputs": [],
   "source": [
    "judges = df.Judge.unique()\n",
    "pargs = [df.loc[df.Judge == judge, 'Percent'] for judge in judges]\n",
    "scipy.stats.f_oneway(*pargs)"
   ]
  },
  {
   "cell_type": "markdown",
   "metadata": {},
   "source": [
    "The p-value of 6.1e-5 is sufficient to reject the null hypothesis and conclude that the mean percentage of at least one judge is not the same as the mean of the other judges."
   ]
  },
  {
   "cell_type": "markdown",
   "metadata": {},
   "source": [
    "We can also do this with statsmodels."
   ]
  },
  {
   "cell_type": "code",
   "execution_count": null,
   "metadata": {},
   "outputs": [],
   "source": [
    "import statsmodels.api as sm\n",
    "from statsmodels.formula.api import ols\n",
    "\n",
    "model = ols('Percent ~ Judge', data=df).fit()\n",
    "aov_table = sm.stats.anova_lm(model, typ=2)\n",
    "print(aov_table)"
   ]
  },
  {
   "cell_type": "markdown",
   "metadata": {},
   "source": [
    "\n",
    "\n",
    "$\\it{H_0}:  \\mu_{Spock} = \\mu_0, where \\mu_0 = \\mu_A = \\mu_B = \\mu_C = \\mu_D = \\mu_E = \\mu_F$\n",
    "\n",
    "$\\it{H_a}:  \\mu_{Spock} \\neq \\mu_0$\n"
   ]
  },
  {
   "cell_type": "code",
   "execution_count": null,
   "metadata": {},
   "outputs": [],
   "source": [
    "a = np.empty((3, 5))\n",
    "a[:] = NaN\n",
    "index = ['Between Groups', 'Within Groups', 'Total']\n",
    "columns = ['Sum of Squares', 'd.f.', 'Mean Square', 'F Statistic', 'p-value']\n",
    "dfss = pd.DataFrame(a, columns=columns, index=index)\n",
    "\n",
    "n = len(df)\n",
    "I = len(df.Judge.unique())\n",
    "dfss['d.f.'] = [I - 2, n - I, n - 2]\n",
    "dfss"
   ]
  },
  {
   "cell_type": "markdown",
   "metadata": {},
   "source": [
    "In order to facilitate further computations, we need to be able to apply a grouping for \"Spock\" or \"not Spock\"."
   ]
  },
  {
   "cell_type": "code",
   "execution_count": null,
   "metadata": {},
   "outputs": [],
   "source": [
    "df2 = df.set_index('Judge')\n",
    "fcn = lambda x: x if x == \"Spock's\" else \"Other\"\n",
    "\n",
    "ss = [((g.Percent - g.Percent.mean()) ** 2).sum() for idx, g in df2.groupby(fcn)]\n",
    "dfss.at['Total', 'Sum of Squares'] = sum(ss)\n",
    "dfss"
   ]
  },
  {
   "cell_type": "code",
   "execution_count": null,
   "metadata": {},
   "outputs": [],
   "source": [
    "ss = [((g.Percent - g.Percent.mean()) ** 2).sum() for idx, g in df.groupby('Judge')]\n",
    "dfss.at['Within Groups', 'Sum of Squares'] = sum(ss)\n",
    "dfss"
   ]
  },
  {
   "cell_type": "code",
   "execution_count": null,
   "metadata": {},
   "outputs": [],
   "source": [
    "dfss.at['Between Groups', 'Sum of Squares'] = dfss.at['Total', 'Sum of Squares'] - dfss.at['Within Groups', 'Sum of Squares'] \n",
    "dfss\n",
    "\n"
   ]
  },
  {
   "cell_type": "code",
   "execution_count": null,
   "metadata": {},
   "outputs": [],
   "source": [
    "dfss['Mean Square'] = dfss['Sum of Squares'] / dfss['d.f.']\n",
    "\n",
    "dfss.at['Between Groups', 'F Statistic'] = dfss.at['Between Groups', 'Mean Square'] / dfss.at['Within Groups', 'Mean Square']\n",
    "\n",
    "dfss.at['Between Groups', 'p-value'] = scipy.stats.f.sf(dfss.at['Between Groups', 'F Statistic'],\n",
    "                                                        dfss.at['Between Groups', 'd.f.'],\n",
    "                                                        dfss.at['Within Groups', 'd.f.'])\n",
    "\n",
    "dfss"
   ]
  },
  {
   "cell_type": "code",
   "execution_count": null,
   "metadata": {},
   "outputs": [],
   "source": []
  }
 ],
 "metadata": {
  "kernelspec": {
   "display_name": "Python 3 (ipykernel)",
   "language": "python",
   "name": "python3"
  },
  "language_info": {
   "codemirror_mode": {
    "name": "ipython",
    "version": 3
   },
   "file_extension": ".py",
   "mimetype": "text/x-python",
   "name": "python",
   "nbconvert_exporter": "python",
   "pygments_lexer": "ipython3",
   "version": "3.12.3"
  }
 },
 "nbformat": 4,
 "nbformat_minor": 4
}
