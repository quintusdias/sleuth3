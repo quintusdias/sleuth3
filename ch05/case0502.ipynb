{
 "cells": [
  {
   "cell_type": "code",
   "execution_count": null,
   "metadata": {},
   "outputs": [],
   "source": [
    "# standard library imports\n",
    "import pathlib\n",
    "import warnings\n",
    "\n",
    "warnings.simplefilter('ignore', category=FutureWarning)\n",
    "\n",
    "# 3rd party library imports\n",
    "import matplotlib.pyplot as plt\n",
    "import numpy as np\n",
    "import pandas as pd\n",
    "import pingouin as pg\n",
    "from scipy.stats import f\n",
    "import seaborn as sns\n",
    "import statsmodels.api as sm\n",
    "import statsmodels.formula.api as smf\n",
    "\n",
    "sns.set()\n",
    "pd.options.display.float_format = \"{:.1f}\".format"
   ]
  },
  {
   "cell_type": "markdown",
   "metadata": {},
   "source": [
    "We begin by reading the data and summarizing the variables."
   ]
  },
  {
   "cell_type": "code",
   "execution_count": null,
   "metadata": {},
   "outputs": [],
   "source": [
    "df = pd.read_csv('case0502.csv')\n",
    "print(df.head())\n",
    "df.groupby('Judge').describe()"
   ]
  },
  {
   "cell_type": "markdown",
   "metadata": {},
   "source": [
    "<ol type=\"a\">\n",
    "    <li>Is there evidence that women are underrepresented on the Spock judge’s venires compared to the venires of the other judges?</li>\n",
    "    <li>Is there any evidence that there are differences in women’s representation  in the venires of the other six judges?</li>\n",
    "</ol>"
   ]
  },
  {
   "cell_type": "code",
   "execution_count": null,
   "metadata": {},
   "outputs": [],
   "source": [
    "fig, axes = plt.subplots(ncols=2, figsize=[12, 6.4])\n",
    "_ = sns.boxplot(data=df, x='Judge', y='Percent', ax=axes[0])\n",
    "_ = sns.kdeplot(data=df, x='Percent', hue='Judge', ax=axes[1])"
   ]
  },
  {
   "cell_type": "code",
   "execution_count": null,
   "metadata": {},
   "outputs": [],
   "source": [
    "sm.qqplot(data=df['Percent'], line='45', fit=True)"
   ]
  },
  {
   "cell_type": "markdown",
   "metadata": {},
   "source": [
    "There is weak evidence against independence.  There appears to be significant evidence against equal variance.  Outliers do not seem to be an issue, and only the percentages for Judge E might be construed to be skewed somewhat.  There is weak evidence against normality."
   ]
  },
  {
   "cell_type": "markdown",
   "metadata": {},
   "source": [
    "## Is any judge different?"
   ]
  },
  {
   "cell_type": "markdown",
   "metadata": {},
   "source": [
    "$\n",
    "\\begin{align}\n",
    "H_0: \\: &\\mu_i = \\mu_j \\: \\text{for} \\: i, j \\in \\{A, B, C, D, E, F, Spock\\} \\: \\text{(reduced model)} \\\\\n",
    "H_a: \\: &\\text{at least one} \\: \\mu_i \\ne \\mu_j \\: \\text{for} \\: i, j \\in \\{A, B, C, D, E, F, Spock\\} \\: \\text{(full model)} \\\\\n",
    "\\end{align}\n",
    "$"
   ]
  },
  {
   "cell_type": "code",
   "execution_count": null,
   "metadata": {},
   "outputs": [],
   "source": [
    "pd.options.display.float_format = \"{:.4f}\".format\n",
    "model = smf.ols('Percent ~ Judge', data=df).fit()\n",
    "adf = sm.stats.anova_lm(model)\n",
    "print(adf)"
   ]
  },
  {
   "cell_type": "markdown",
   "metadata": {},
   "source": [
    "There is strong evidence that at least one judge's percentages are different ($F_{6,39}$ = 6.7184, $p$-value = 0.0001).\n",
    "\n",
    "We can manually run the test as well."
   ]
  },
  {
   "cell_type": "code",
   "execution_count": null,
   "metadata": {},
   "outputs": [],
   "source": [
    "ssr1, sse1 = adf['sum_sq']\n",
    "dof_ssr1, dof_sse1 = adf['df']\n",
    "dof_sst1, sst1 = adf['df'].sum(), adf['sum_sq'].sum()\n",
    "\n",
    "fstat = (ssr1 / dof_ssr1) / (sse1 / dof_sse1)\n",
    "print(fstat, 1 - f.cdf(fstat, dof_ssr1, dof_sse1))"
   ]
  },
  {
   "cell_type": "markdown",
   "metadata": {},
   "source": [
    "## Are judges A-F different?"
   ]
  },
  {
   "cell_type": "markdown",
   "metadata": {},
   "source": [
    "\n",
    "<table>\n",
    "    <tr>\n",
    "        <th>Group</th><td>Spock</td><td>A</td><td>B</td><td>C</td><td>D</td><td>E</td><td>F</td>\n",
    "    </tr>\n",
    "    <tr>\n",
    "      <th>Full Model</th><td>$\\mu_1$</td><td>$\\mu_2$</td><td>$\\mu_3$</td><td>$\\mu_4$</td><td>$\\mu_5$</td><td>$\\mu_6$</td><td>$\\mu_7$</td></tr>\n",
    "        <tr>\n",
    "      <th>Reduced Model ($H_0$)</th><td>$\\mu_1$</td><td>$\\mu_0$</td><td>$\\mu_0$</td><td>$\\mu_0$</td><td>$\\mu_0$</td><td>$\\mu_0$</td><td>$\\mu_0$</td></tr>\n",
    "</table>"
   ]
  },
  {
   "cell_type": "markdown",
   "metadata": {},
   "source": [
    "The necessary data values for this hypothesis test are not directly produced by **sm.stats.anova_lm** and **smf.ols**.  The sum of squares error (SSE) for the full model is provided above.  The total sum of squares (SST) for the reduced model can be obtained with a 2nd one-way analysis with just two groups, **Spock** and **Other**, but the SST that we are looking for is actually the SSE in the 2nd table."
   ]
  },
  {
   "cell_type": "code",
   "execution_count": null,
   "metadata": {},
   "outputs": [],
   "source": [
    "df['Judge2'] = df['Judge']\n",
    "df.loc[df['Judge'] != \"Spock's\", 'Judge2'] = 'Other'\n",
    "model = smf.ols('Percent ~ C(Judge2, Treatment)', data=df).fit()\n",
    "adf2 = sm.stats.anova_lm(model)\n",
    "print(adf2)"
   ]
  },
  {
   "cell_type": "code",
   "execution_count": null,
   "metadata": {},
   "outputs": [],
   "source": [
    "sst2 = adf2.loc['Residual', 'sum_sq']\n",
    "dof_sst2 = adf2.loc['Residual', 'df']"
   ]
  },
  {
   "cell_type": "markdown",
   "metadata": {},
   "source": [
    "The extra-sum-of-squares test can now be performed for the question at hand, are judges A-F different?"
   ]
  },
  {
   "cell_type": "code",
   "execution_count": null,
   "metadata": {},
   "outputs": [],
   "source": [
    "extra_ss = (sst2 - sse1)\n",
    "extra_dof = (dof_sst2 - dof_sse1)\n",
    "fstat =  (extra_ss / extra_dof) / (sse1 / dof_sse1)\n",
    "print(fstat, extra_dof, dof_sse1, (1 - f.cdf(fstat, extra_dof, dof_sse1)))"
   ]
  },
  {
   "cell_type": "markdown",
   "metadata": {},
   "source": [
    "There is only weak evidence that judges A-f differ from each other ($F_{5,39}$ = 1.37, $p$-value = 0.2582)."
   ]
  },
  {
   "cell_type": "markdown",
   "metadata": {},
   "source": [
    "## Is Spock's judge different from the others?"
   ]
  },
  {
   "cell_type": "markdown",
   "metadata": {},
   "source": [
    "<table>\n",
    "    <tr>\n",
    "        <th>Group</th><td>Spock</td><td>A</td><td>B</td><td>C</td><td>D</td><td>E</td><td>F</td>\n",
    "    </tr>\n",
    "    <tr>\n",
    "      <th>Full Model</th><td>$\\mu_1$</td><td>$\\mu_0$</td><td>$\\mu_0$</td><td>$\\mu_0$</td><td>$\\mu_0$</td><td>$\\mu_0$</td><td>$\\mu_0$</td></tr>\n",
    "        <tr>\n",
    "      <th>Reduced Model ($H_0$)</th><td>$\\mu$</td><td>$\\mu$</td><td>$\\mu$</td><td>$\\mu$</td><td>$\\mu$</td><td>$\\mu$</td><td>$\\mu$</td></tr>\n",
    "</table>"
   ]
  },
  {
   "cell_type": "markdown",
   "metadata": {},
   "source": [
    "This is directly answered above, there is strong evidence that Spock's judge differs from the other judges ($F_{1,44}$ = 32.1454, $p$-value < 0.0001)."
   ]
  },
  {
   "cell_type": "markdown",
   "metadata": {},
   "source": [
    "# Non-parametric ANOVA"
   ]
  },
  {
   "cell_type": "markdown",
   "metadata": {},
   "source": [
    "There is no technical need to do a non-parametric analysis since none of the guidelines are violated.  But if it were appropriate, we might do the following."
   ]
  },
  {
   "cell_type": "markdown",
   "metadata": {},
   "source": [
    "## Is any judge different?"
   ]
  },
  {
   "cell_type": "markdown",
   "metadata": {},
   "source": [
    "$\n",
    "\\begin{align}\n",
    "H_0: \\: &\\mu_i = \\mu_j \\: \\text{for} \\: i, j \\in \\{A, B, C, D, E, F, Spock\\} \\: \\text{(reduced model)} \\\\\n",
    "H_a: \\: &\\text{at least one} \\: \\mu_i \\ne \\mu_j \\: \\text{for} \\: i, j \\in \\{A, B, C, D, E, F, Spock\\} \\: \\text{(full model)} \\\\\n",
    "\\end{align}\n",
    "$"
   ]
  },
  {
   "cell_type": "code",
   "execution_count": null,
   "metadata": {},
   "outputs": [],
   "source": [
    "pg.kruskal(data=df, dv='Percent', between='Judge')"
   ]
  },
  {
   "cell_type": "markdown",
   "metadata": {},
   "source": [
    "There is strong evidence that at least one judge has percentages that differ from the others ($H_6$ = 21.96, $p$-value = 0.0012)."
   ]
  },
  {
   "cell_type": "code",
   "execution_count": null,
   "metadata": {},
   "outputs": [],
   "source": []
  }
 ],
 "metadata": {
  "kernelspec": {
   "display_name": "Python 3 (ipykernel)",
   "language": "python",
   "name": "python3"
  },
  "language_info": {
   "codemirror_mode": {
    "name": "ipython",
    "version": 3
   },
   "file_extension": ".py",
   "mimetype": "text/x-python",
   "name": "python",
   "nbconvert_exporter": "python",
   "pygments_lexer": "ipython3",
   "version": "3.12.3"
  }
 },
 "nbformat": 4,
 "nbformat_minor": 4
}
