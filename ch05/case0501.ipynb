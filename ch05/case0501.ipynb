{
 "cells": [
  {
   "cell_type": "markdown",
   "metadata": {},
   "source": [
    "# Diet Restriction and Longevity"
   ]
  },
  {
   "cell_type": "markdown",
   "metadata": {},
   "source": [
    "<ol type='a'>\n",
    "    <li> Does lifetime on the 50 kcal/wk (<b>N/R50</b>) diet exceed the lifetime on the 85 kcal/wk (<b>N/N85</b>) diet </li>\n",
    "    <li> Is lifetime affected by providing a reduced calorie diet before weaning, given that a 50 kcal/wk diet is provided after weening?</li>\n",
    "    <li> Does lifetime on the 40 kcal/wk diet exceed the liftetime on the 50 kcal/wk diet.</li>\n",
    "    <li> Is there an effect on lifetime due to decreasing the protein intake?</li>\n",
    "    <li> Is there an effect on lifetime due to restriction at 85 kcal/week?</li>\n",
    "</ol>"
   ]
  },
  {
   "cell_type": "code",
   "execution_count": null,
   "metadata": {},
   "outputs": [],
   "source": [
    "# standard library imports\n",
    "import warnings\n",
    "\n",
    "# 3rd party library imports\n",
    "import matplotlib.pyplot as plt\n",
    "import numpy as np\n",
    "import pandas as pd\n",
    "import pingouin as pg\n",
    "import scipy.stats\n",
    "import seaborn as sns\n",
    "import statsmodels.api as sm\n",
    "import statsmodels.formula.api as smf\n",
    "\n",
    "sns.set()\n",
    "warnings.simplefilter('ignore', category=FutureWarning)"
   ]
  },
  {
   "cell_type": "code",
   "execution_count": null,
   "metadata": {},
   "outputs": [],
   "source": [
    "df = pd.read_csv('case0501.csv')"
   ]
  },
  {
   "cell_type": "markdown",
   "metadata": {},
   "source": [
    "## Robustness to Assumptions"
   ]
  },
  {
   "cell_type": "code",
   "execution_count": null,
   "metadata": {},
   "outputs": [],
   "source": [
    "df.groupby('Diet').describe()"
   ]
  },
  {
   "cell_type": "code",
   "execution_count": null,
   "metadata": {},
   "outputs": [],
   "source": [
    "fig, axes = plt.subplots(ncols=2, figsize=[12, 6.4])\n",
    "_ = sns.boxplot(data=df, x='Diet', y='Lifetime', ax=axes[0])\n",
    "_ = sns.kdeplot(data=df, x='Lifetime', hue='Diet', ax=axes[1])"
   ]
  },
  {
   "cell_type": "markdown",
   "metadata": {},
   "source": [
    "There is only weak evidence agains the assumption of equal variance.  The samples are somewhat skewed left, but it does not appear to be serious."
   ]
  },
  {
   "cell_type": "code",
   "execution_count": null,
   "metadata": {},
   "outputs": [],
   "source": [
    "sm.qqplot(data=df['Lifetime'], line='45', fit=True)\n",
    "plt.show()"
   ]
  },
  {
   "cell_type": "markdown",
   "metadata": {},
   "source": [
    "There is some departure from normality in the QQ plot, but it does not seem too serious."
   ]
  },
  {
   "cell_type": "code",
   "execution_count": null,
   "metadata": {},
   "outputs": [],
   "source": [
    "model = smf.ols('Lifetime ~ Diet', data=df).fit()\n",
    "fig, ax = plt.subplots()\n",
    "_ = sns.scatterplot(x=model.predict(), y=model.resid, ax=ax)\n",
    "ax.set_ylabel('Residuals')\n",
    "_ = ax.set_xlabel('Predicted')"
   ]
  },
  {
   "cell_type": "markdown",
   "metadata": {},
   "source": [
    "The residuals-vs-predicted plot does not indicate that a data transformation is necessary."
   ]
  },
  {
   "cell_type": "markdown",
   "metadata": {},
   "source": [
    "## Does lifetime on the 50 kcal/wk (N/R50) diet exceed the lifetime on the 85 kcal/wk (N/N85) diet "
   ]
  },
  {
   "cell_type": "code",
   "execution_count": null,
   "metadata": {},
   "outputs": [],
   "source": [
    "model = smf.ols('Lifetime ~ C(Diet, Treatment(reference=\"N/N85\"))', data=df).fit()\n",
    "model.summary()"
   ]
  },
  {
   "cell_type": "markdown",
   "metadata": {},
   "source": [
    "There is strong evidence that lifetime is increased by restricting the diet from 85 kcal/wk to 50 kcal/wk ($t_{0.95,343}$ = 8.088, $p$-value < 0.0001).  We are 95% confident that true increase is between 7.3 and 11.9 weeks."
   ]
  },
  {
   "cell_type": "markdown",
   "metadata": {},
   "source": [
    "## Is lifetime affected by providing a reduced calorie diet before weaning?"
   ]
  },
  {
   "cell_type": "code",
   "execution_count": null,
   "metadata": {},
   "outputs": [],
   "source": [
    "model = smf.ols('Lifetime ~ C(Diet, Treatment(reference=\"N/R50\"))', data=df).fit()\n",
    "model.summary()"
   ]
  },
  {
   "cell_type": "markdown",
   "metadata": {},
   "source": [
    "There is only weak evidence that true mean lifetime of mice with a reduced pre-weening diet (R/R50) is different from the true mean lifetime of mice on a normal pre-weening diet (N/R50) ($t_{0.95,343}$ = 0.493, $p$-value = 0.622).  We are 95% confident that the true mean difference is between 1.8 weeks less than and 2.9 weeks greater."
   ]
  },
  {
   "cell_type": "markdown",
   "metadata": {},
   "source": [
    "## Does lifetime on the 40 kcal/wk diet exceed the liftetime on the 50 kcal/wk diet?"
   ]
  },
  {
   "cell_type": "markdown",
   "metadata": {},
   "source": [
    "There is moderate evidence that reducing the diet to 40 kcal/week increases the lifetime ($t_{0.95, 343}$ = 2.408, one-sided $p$-value = 0.0085).  We are 95% confident that the lifetime increase is between 0.5 and 5.1 weeks."
   ]
  },
  {
   "cell_type": "markdown",
   "metadata": {},
   "source": [
    "## Is there an effect on lifetime due to decreasing the protein intake?"
   ]
  },
  {
   "cell_type": "markdown",
   "metadata": {},
   "source": [
    "There is moderate evidence that decreasing the protein intake changes the expected lifetime ($t_{0.95, 343}$ = -2.188, $p$-value = 0.029.  We are 95% confident that decrease in life expectancy is between 0.3 and 4.5 weeks. "
   ]
  },
  {
   "cell_type": "markdown",
   "metadata": {},
   "source": [
    "## Is there an effect on lifetime due to restriction at 85 kcal/week?"
   ]
  },
  {
   "cell_type": "code",
   "execution_count": null,
   "metadata": {},
   "outputs": [],
   "source": [
    "model = smf.ols('Lifetime ~ C(Diet, Treatment(reference=\"NP\"))', data=df).fit()\n",
    "model.summary()"
   ]
  },
  {
   "cell_type": "markdown",
   "metadata": {},
   "source": [
    "There is strong evidence that restricting the dietary intake to 85 kcal/wk (N/N85) changes the expected lifetime over that of mice with no dietary restrictions (NP) ($t_{0.95, 343}$ = 4.065, $p$-value < 0.0001.   We are 95% confident that the true increase in life expectancy is between 2.7 and 7.8 weeks."
   ]
  },
  {
   "cell_type": "code",
   "execution_count": null,
   "metadata": {},
   "outputs": [],
   "source": []
  }
 ],
 "metadata": {
  "kernelspec": {
   "display_name": "Python 3 (ipykernel)",
   "language": "python",
   "name": "python3"
  },
  "language_info": {
   "codemirror_mode": {
    "name": "ipython",
    "version": 3
   },
   "file_extension": ".py",
   "mimetype": "text/x-python",
   "name": "python",
   "nbconvert_exporter": "python",
   "pygments_lexer": "ipython3",
   "version": "3.12.3"
  }
 },
 "nbformat": 4,
 "nbformat_minor": 4
}
