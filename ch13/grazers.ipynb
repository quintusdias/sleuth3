{
 "cells": [
  {
   "cell_type": "markdown",
   "id": "ec81b1cf-031c-4647-bbeb-b1dc119f1489",
   "metadata": {},
   "source": [
    "# Setup"
   ]
  },
  {
   "cell_type": "code",
   "execution_count": null,
   "id": "ca86554c-c3e8-48b2-a28d-98807053777e",
   "metadata": {},
   "outputs": [],
   "source": [
    "# 3rd party library imports\n",
    "import matplotlib.pyplot as plt\n",
    "import numpy as np\n",
    "import pandas as pd\n",
    "from scipy.stats import t as tdist\n",
    "import seaborn as sns\n",
    "import statsmodels.formula.api as smf\n",
    "from statsmodels.stats.anova import anova_lm\n",
    "\n",
    "sns.set()\n",
    "plt.rcParams['figure.figsize'] = [8.0, 4.8]"
   ]
  },
  {
   "cell_type": "markdown",
   "id": "8c522446-fa33-406b-ac8c-35fc9afceb2f",
   "metadata": {},
   "source": [
    "# Data Preparation"
   ]
  },
  {
   "cell_type": "code",
   "execution_count": null,
   "id": "ab7eed3a-d30b-461a-a983-d58c7beb72f9",
   "metadata": {},
   "outputs": [],
   "source": [
    "df = pd.read_csv('case1301.csv')\n",
    "\n",
    "# add a column for the ordinal average response by block\n",
    "# use this to make a plot that seems to uniformly rise left to right\n",
    "dfb = df.groupby('Block').mean(numeric_only=True).sort_values(by='Cover').reset_index()\n",
    "\n",
    "df['BlockOrd'] = 0\n",
    "for idx, row in dfb.iterrows():\n",
    "    df.loc[df['Block'] == row['Block'], 'BlockOrd'] = idx + 1"
   ]
  },
  {
   "cell_type": "markdown",
   "id": "0fea1405-4eb4-4b82-b0f8-6acf5172f262",
   "metadata": {},
   "source": [
    "# Analysis of the seaweed grazer data\n",
    "\n",
    "## Initial assessment of additivity, outliers, and the need for transformation"
   ]
  },
  {
   "cell_type": "code",
   "execution_count": null,
   "id": "fa7aa5c1-e482-4469-bffe-9e5fbdf0fe4e",
   "metadata": {},
   "outputs": [],
   "source": [
    "fig, ax = plt.subplots()\n",
    "data = df.groupby(['Block', 'Treat']).mean().reset_index().sort_values(by='BlockOrd')\n",
    "g = sns.lineplot(data=data, x='Block', y='Cover', hue='Treat', sort=False)\n",
    "ax.set_xlabel('Block Number (ordered from smallest to largest average response)')\n",
    "ax.set_ylabel('Percentage Seaweed Regrowth')\n",
    "\n",
    "title = (\n",
    "    'Average Percentages of seaweed regeneration '\n",
    "    'with different grazers allowed'\n",
    ")\n",
    "ax.set_title(title);\n"
   ]
  },
  {
   "cell_type": "code",
   "execution_count": null,
   "id": "563df9f7-6b91-42c9-8678-5c142a53a9d0",
   "metadata": {},
   "outputs": [],
   "source": [
    "formula = 'Cover ~ Block * Treat'\n",
    "sat_model_percent = smf.ols(formula=formula, data=df).fit()\n",
    "\n",
    "fig, ax = plt.subplots()\n",
    "g = sns.scatterplot(data=df, x='Cover', y=sat_model_percent.resid)\n",
    "ax.set_xlabel('Fitted Percent Regeneration')\n",
    "ax.set_ylabel('Residuals')\n",
    "ax.set_title('Residual plot from the saturated model fit to the seaweed grazer data');"
   ]
  },
  {
   "cell_type": "markdown",
   "id": "c40f0453-a801-4c14-81ee-8f9139381594",
   "metadata": {},
   "source": [
    "# Transformation"
   ]
  },
  {
   "cell_type": "code",
   "execution_count": null,
   "id": "59d05f8d-07bc-4dc8-80b2-f4e1281d8fa2",
   "metadata": {},
   "outputs": [],
   "source": [
    "df['rr'] = np.log(df['Cover'] / (100 - df['Cover']))"
   ]
  },
  {
   "cell_type": "code",
   "execution_count": null,
   "id": "1578c99e-b21e-457a-90fa-8e4fbec46be5",
   "metadata": {},
   "outputs": [],
   "source": [
    "fig, ax = plt.subplots()\n",
    "data = df.groupby(['Block', 'Treat']).mean().reset_index().sort_values(by='BlockOrd')\n",
    "g = sns.lineplot(data=data, x='Block', y='rr', hue='Treat', sort=False)\n",
    "ax.set_xlabel('Block Number (ordered from smallest to largest average response)')\n",
    "ax.set_ylabel('Regeneration Ratio Seaweed Regrowth');\n"
   ]
  },
  {
   "cell_type": "markdown",
   "id": "bef52bd2-31b4-49dc-b41d-0978e1bfe3a2",
   "metadata": {},
   "source": [
    "### The analysis of variance table from the fit to the saturated model\n"
   ]
  },
  {
   "cell_type": "code",
   "execution_count": null,
   "id": "edf4cb67-4ebb-4782-969d-b7948eec3d44",
   "metadata": {},
   "outputs": [],
   "source": [
    "formula = 'rr ~ Block * Treat'                                                     \n",
    "sat_model = smf.ols(formula=formula, data=df).fit()                                \n",
    "sat_table = anova_lm(sat_model)                                                    \n",
    "print(sat_table)   "
   ]
  },
  {
   "cell_type": "code",
   "execution_count": null,
   "id": "03c916d0-3a20-4b03-b140-8f2bc445a658",
   "metadata": {},
   "outputs": [],
   "source": [
    "add_model = smf.ols(formula='rr ~ Block + Treat', data=df).fit()                                \n",
    "add_table = anova_lm(add_model) \n",
    "print(add_table)"
   ]
  },
  {
   "cell_type": "code",
   "execution_count": null,
   "id": "f1d68d0f-e79b-46a2-a9f4-b7d34c5dc2fc",
   "metadata": {},
   "outputs": [],
   "source": [
    "anova_lm(add_model, sat_model)"
   ]
  },
  {
   "cell_type": "markdown",
   "id": "e2143797-20fc-44ce-a7b0-10ebee9b85c5",
   "metadata": {},
   "source": [
    "We consider the interaction term in the saturated model\n",
    "\n",
    "$\n",
    "H_0: \\mu\\{Y|BLOCK, TREAT\\} = BLOCK + TREAT\n",
    "$\n",
    "\n",
    "$\n",
    "H_a: \\mu\\{Y|BLOCK,TREAT\\} = BLOCK + TREAT + (BLOCK \\times TREAT)\n",
    "$"
   ]
  },
  {
   "cell_type": "markdown",
   "id": "98be4842-c110-46ae-be57-88d9c9216857",
   "metadata": {},
   "source": [
    "We conclude there is weak evidence for the interaction term \n",
    "($F_{35,48} = \\frac{\\frac{29.77 - 14.54}{83 - 48}}{14.54 / 48} = 1.4369$, $p = 0.1209$)."
   ]
  },
  {
   "cell_type": "markdown",
   "id": "011497f5-6211-47ae-9563-a534ff3f930d",
   "metadata": {},
   "source": [
    "We consider the treatment effect in the additive model.\n",
    "\n",
    "$\n",
    "H_0: \\mu\\{Y|BLOCK,TREAT\\} = BLOCK + TREAT\n",
    "$\n",
    "\n",
    "$\n",
    "H_a: \\mu\\{Y|BLOCK, TREAT\\} = BLOCK\n",
    "$"
   ]
  },
  {
   "cell_type": "code",
   "execution_count": null,
   "id": "fa02ac6c-235a-40c6-80c3-8c7d4f9df2b7",
   "metadata": {},
   "outputs": [],
   "source": [
    "formula = 'rr ~ Block'                                                     \n",
    "block_model = smf.ols(formula=formula, data=df).fit()                                \n",
    "block_table = anova_lm(block_model)                                                    \n",
    "print(block_table)\n",
    "anova_lm(block_model, add_model)"
   ]
  },
  {
   "cell_type": "markdown",
   "id": "050ae00d-e63c-4c6c-915d-853fa686c619",
   "metadata": {},
   "source": [
    "We conclude there is strong evidence for the treatment effect ($F_{5,83} = 54.09$, $p < 0.0001$)"
   ]
  },
  {
   "cell_type": "markdown",
   "id": "0326f3c7-b588-430b-8481-da6af74c2619",
   "metadata": {},
   "source": [
    "## Answers to specific questions of interest using linear combinations"
   ]
  },
  {
   "cell_type": "markdown",
   "id": "16dc5f65-c47d-465a-bdca-d08f708f8e0e",
   "metadata": {},
   "source": [
    "### Table of averages of log percentage of seaweed regeneration ratio with different grazer combinations in eight blocks"
   ]
  },
  {
   "cell_type": "code",
   "execution_count": null,
   "id": "f7a49ead-814d-44a4-847b-db99de86690f",
   "metadata": {},
   "outputs": [],
   "source": [
    "pd.options.display.float_format = '{:.2f}'.format\n",
    "dfp = (\n",
    "    df.groupby(['Block', 'Treat'])['rr']\n",
    "      .mean()\n",
    "      .reset_index()\n",
    "      .pivot_table(index='Block', columns='Treat', values='rr', margins=True, margins_name='average')\n",
    ")\n",
    "\n",
    "# subtract off the overall mean from the block/treat column/row to get the block/treat effects\n",
    "dfp['block effect'] = dfp['average'] - df['rr'].mean()\n",
    "dfp.loc['treat effect', :] = dfp.loc['average', :] - df['rr'].mean()\n",
    "dfp"
   ]
  },
  {
   "cell_type": "markdown",
   "id": "17fec150-44a4-4031-8ee5-1d6fb62f8441",
   "metadata": {
    "jp-MarkdownHeadingCollapsed": true
   },
   "source": [
    "### Do large fish have an effect on the regeneration ratio?\n",
    "The difference between means from $fF$ and $f$ treatments measures this effect in the presence of small fish only; the difference between means from the $LfF$ and $Lf$ treatments measures the effect in the presence of both small fish and limpets.  The large fish effect is taken to be the average of those two effects:  $\\gamma_1 = \\frac{1}{2}(\\mu_{fF} - \\mu{f}) + \\frac{1}{2}(\\mu_{LfF} - \\mu_{Lf})$.  This effect averages over different limpet conditions, so it measures a meaningful effect only if there is no limpet-by-big-fish interaction."
   ]
  },
  {
   "cell_type": "markdown",
   "id": "9f9bc012-ab43-401e-b193-8bd254b6d26c",
   "metadata": {
    "jp-MarkdownHeadingCollapsed": true
   },
   "source": [
    "### Do small fish have an effect on the regeneration ratio?\n",
    "This is investigated through the average of the difference between the $f$ and the $C$ treatment means and the $Lf$ and $L$ treatment means:  $\\gamma_2 = \\frac{1}{2} (\\mu_f - \\mu_C) + \\frac{1}{2}(\\mu_{Lf} - \\mu_{L})$."
   ]
  },
  {
   "cell_type": "markdown",
   "id": "c0153719-7407-4a69-8afb-04b5e0cd40c9",
   "metadata": {
    "jp-MarkdownHeadingCollapsed": true
   },
   "source": [
    "### Do limpets have an effect on the regeneration ratio?\n",
    "This is investigated through $\\gamma_3 = \\frac{1}{3}(\\mu_L - \\mu_C) + \\frac{1}{3}(\\mu_{Lf} - \\mu_{f}) + \\frac{1}{3} (\\mu_{LfF} - \\mu_{fF})$"
   ]
  },
  {
   "cell_type": "markdown",
   "id": "0df72a50-ad34-42e9-8598-5c2fa4136593",
   "metadata": {
    "jp-MarkdownHeadingCollapsed": true
   },
   "source": [
    "### Do limpets have a different effect when small fish are present than when small fish are not present?\n",
    "When small fish are present, the limpet effect is given by $\\frac{1}{2} (\\mu_{Lf} - \\mu_{f}) + \\frac{1}{2} (\\mu_{LfF} - \\mu_{fF})$.  When small fish are not present, the limpet effect is $(\\mu_{L} - \\mu_{C})$.  The difference in effects is then $\\gamma_4 = \\frac{1}{2} (\\mu_{Lf} - \\mu_{f}) + \\frac{1}{2} (\\mu_{LfF} - \\mu_{fF}) - (\\mu_{L} - \\mu_{C})$."
   ]
  },
  {
   "cell_type": "markdown",
   "id": "395aa165-8b4a-4ab1-bb09-5d62c4f145ed",
   "metadata": {},
   "source": [
    "### Do limpets have a different effect when large fish are present than when large fish are absent?\n",
    "This is investigated through $(\\mu_{LfF} - \\mu_{fF}) - (\\mu_{Lf} - \\mu_f)$."
   ]
  },
  {
   "cell_type": "markdown",
   "id": "3d0663ca-c6e4-4798-8db5-01de519f603e",
   "metadata": {},
   "source": [
    "$SE(g) = s_p \\sqrt{\\sum_{i = 1}^{I} \\frac{C_{i}^2}{n_i}}$"
   ]
  },
  {
   "cell_type": "code",
   "execution_count": null,
   "id": "670cd38d-20fa-4b47-93e3-b9c207db00ed",
   "metadata": {},
   "outputs": [],
   "source": [
    "sp = np.sqrt(add_table.loc['Residual', 'mean_sq'])\n",
    "I = len(df['Treat'].unique())\n",
    "dof_sp = len(df) - I\n",
    "s1 = 1 / 2 * pd.Series(index=['fF', 'f', 'LfF', 'Lf'], data=np.array([1,-1,1,-1]))\n",
    "s2 = 1/2 * pd.Series(index=['f', 'CONTROL', 'Lf', 'L'], data=np.array([1,-1,1,-1]))\n",
    "s3 = 1/3 * pd.Series(index=['L', 'CONTROL', 'Lf', 'f', 'LfF', 'fF'], data = [1,-1,1,-1,1,-1])\n",
    "s4 = pd.Series(index=['Lf', 'f', 'LfF', 'fF', 'L', 'CONTROL'], data=[1/2,-1/2,1/2,-1/2,-1,1])\n",
    "s5 = pd.Series(index=['LfF', 'fF', 'Lf', 'f'], data=[1,-1,-1,1])\n",
    "dfC = pd.DataFrame([s1, s2, s3, s4, s5])\n",
    "dfC = dfC.fillna(0)\n",
    "dfn = 1 / df.groupby('Treat').size()\n",
    "dfC, dfn"
   ]
  },
  {
   "cell_type": "code",
   "execution_count": null,
   "id": "5037342d-c739-48ff-90af-905d48839003",
   "metadata": {},
   "outputs": [],
   "source": [
    "se_g = pd.Series(sp * np.sqrt(dfC ** 2 @ dfn))\n",
    "se_g"
   ]
  },
  {
   "cell_type": "code",
   "execution_count": null,
   "id": "88b3abcd-2de8-4d5c-839c-05c6c774cefb",
   "metadata": {},
   "outputs": [],
   "source": [
    "estimate = dfC @ df.groupby('Treat').mean(numeric_only=True)['rr']\n",
    "tstat = estimate / se_g\n",
    "tstat"
   ]
  },
  {
   "cell_type": "code",
   "execution_count": null,
   "id": "600c9749-2cdf-4dd2-b6e3-6c759fbc7950",
   "metadata": {},
   "outputs": [],
   "source": [
    "pvalue = tdist.cdf(tstat, dof_sp) * 2\n",
    "pvalue"
   ]
  },
  {
   "cell_type": "code",
   "execution_count": null,
   "id": "d15a6860-37bc-4516-baad-548b6de36cbd",
   "metadata": {},
   "outputs": [],
   "source": []
  }
 ],
 "metadata": {
  "kernelspec": {
   "display_name": "Python 3 (ipykernel)",
   "language": "python",
   "name": "python3"
  },
  "language_info": {
   "codemirror_mode": {
    "name": "ipython",
    "version": 3
   },
   "file_extension": ".py",
   "mimetype": "text/x-python",
   "name": "python",
   "nbconvert_exporter": "python",
   "pygments_lexer": "ipython3",
   "version": "3.11.5"
  }
 },
 "nbformat": 4,
 "nbformat_minor": 5
}
