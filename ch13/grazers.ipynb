{
 "cells": [
  {
   "cell_type": "markdown",
   "id": "7b02e9c5-ddb2-4861-a7e4-9fcb7ea9c39c",
   "metadata": {},
   "source": [
    "# Intertidal Seaweed Grazers -- A Randomized Experiment"
   ]
  },
  {
   "cell_type": "markdown",
   "id": "2bceebfc-a7ad-4bd2-8cd6-9dd923c83873",
   "metadata": {},
   "source": [
    "# Case Study Questions\n",
    "\n",
    "1. What are the impacts of the three different grazers on regeneration rates of seaweed?  Which consumes the most seaweed?\n",
    "2. Do the different grazers influence each other?\n",
    "3. Are the grazing effects similar in all microhabitats?\n"
   ]
  },
  {
   "cell_type": "markdown",
   "id": "ec81b1cf-031c-4647-bbeb-b1dc119f1489",
   "metadata": {},
   "source": [
    "# Setup"
   ]
  },
  {
   "cell_type": "code",
   "execution_count": null,
   "id": "ca86554c-c3e8-48b2-a28d-98807053777e",
   "metadata": {},
   "outputs": [],
   "source": [
    "# 3rd party library imports\n",
    "import matplotlib.pyplot as plt\n",
    "import numpy as np\n",
    "import pandas as pd\n",
    "from scipy.stats import t as tdist\n",
    "import seaborn as sns\n",
    "import statsmodels.formula.api as smf\n",
    "from statsmodels.stats.anova import anova_lm\n",
    "\n",
    "sns.set()\n",
    "plt.rcParams['figure.figsize'] = [8.0, 4.8]"
   ]
  },
  {
   "cell_type": "markdown",
   "id": "8c522446-fa33-406b-ac8c-35fc9afceb2f",
   "metadata": {},
   "source": [
    "# Data Preparation"
   ]
  },
  {
   "cell_type": "code",
   "execution_count": null,
   "id": "d2304917-bd13-41f7-b42f-b82dd329c79c",
   "metadata": {},
   "outputs": [],
   "source": []
  },
  {
   "cell_type": "code",
   "execution_count": null,
   "id": "65d5c0ad-286e-4c7e-81d1-ecb5e0ee40d0",
   "metadata": {},
   "outputs": [],
   "source": []
  },
  {
   "cell_type": "code",
   "execution_count": null,
   "id": "ab7eed3a-d30b-461a-a983-d58c7beb72f9",
   "metadata": {},
   "outputs": [],
   "source": [
    "df = pd.read_csv('case1301.csv')\n",
    "\n",
    "# add a column for the ordinal average response by block\n",
    "# use this to make a plot that seems to uniformly rise left to right\n",
    "dfb = df.groupby('Block').mean(numeric_only=True).sort_values(by='Cover').reset_index()\n",
    "\n",
    "df['BlockOrd'] = 0\n",
    "for idx, row in dfb.iterrows():\n",
    "    df.loc[df['Block'] == row['Block'], 'BlockOrd'] = idx + 1"
   ]
  },
  {
   "cell_type": "markdown",
   "id": "0fea1405-4eb4-4b82-b0f8-6acf5172f262",
   "metadata": {},
   "source": [
    "# Analysis of the seaweed grazer data\n",
    "\n",
    "## Initial assessment of additivity, outliers, and the need for transformation"
   ]
  },
  {
   "cell_type": "code",
   "execution_count": null,
   "id": "fa7aa5c1-e482-4469-bffe-9e5fbdf0fe4e",
   "metadata": {},
   "outputs": [],
   "source": [
    "fig, ax = plt.subplots()\n",
    "data = df.groupby(['Block', 'Treat']).mean().reset_index().sort_values(by='BlockOrd')\n",
    "g = sns.lineplot(data=data, x='Block', y='Cover', hue='Treat', sort=False)\n",
    "ax.set_xlabel('Block Number (ordered from smallest to largest average response)')\n",
    "ax.set_ylabel('Percentage Seaweed Regrowth')\n",
    "\n",
    "title = (\n",
    "    'Average Percentages of seaweed regeneration '\n",
    "    'with different grazers allowed'\n",
    ")\n",
    "_ = ax.set_title(title)\n"
   ]
  },
  {
   "cell_type": "code",
   "execution_count": null,
   "id": "563df9f7-6b91-42c9-8678-5c142a53a9d0",
   "metadata": {},
   "outputs": [],
   "source": [
    "formula = 'Cover ~ Block * Treat'\n",
    "sat_model_percent = smf.ols(formula=formula, data=df).fit()\n",
    "\n",
    "fig, ax = plt.subplots()\n",
    "g = sns.scatterplot(data=df, x='Cover', y=sat_model_percent.resid)\n",
    "ax.set_xlabel('Fitted Percent Regeneration')\n",
    "ax.set_ylabel('Residuals')\n",
    "_ = ax.set_title('Residual plot from the saturated model fit to the seaweed grazer data')"
   ]
  },
  {
   "cell_type": "markdown",
   "id": "c40f0453-a801-4c14-81ee-8f9139381594",
   "metadata": {},
   "source": [
    "# Transformation"
   ]
  },
  {
   "cell_type": "code",
   "execution_count": null,
   "id": "59d05f8d-07bc-4dc8-80b2-f4e1281d8fa2",
   "metadata": {},
   "outputs": [],
   "source": [
    "df['rr'] = np.log(df['Cover'] / (100 - df['Cover']))"
   ]
  },
  {
   "cell_type": "code",
   "execution_count": null,
   "id": "1578c99e-b21e-457a-90fa-8e4fbec46be5",
   "metadata": {},
   "outputs": [],
   "source": [
    "fig, ax = plt.subplots()\n",
    "data = df.groupby(['Block', 'Treat']).mean().reset_index().sort_values(by='BlockOrd')\n",
    "g = sns.lineplot(data=data, x='Block', y='rr', hue='Treat', sort=False)\n",
    "ax.set_xlabel('Block Number (ordered from smallest to largest average response)')\n",
    "_ = ax.set_ylabel('Regeneration Ratio Seaweed Regrowth')\n"
   ]
  },
  {
   "cell_type": "markdown",
   "id": "bef52bd2-31b4-49dc-b41d-0978e1bfe3a2",
   "metadata": {},
   "source": [
    "### The analysis of variance table from the fit to the saturated model\n"
   ]
  },
  {
   "cell_type": "code",
   "execution_count": null,
   "id": "edf4cb67-4ebb-4782-969d-b7948eec3d44",
   "metadata": {},
   "outputs": [],
   "source": [
    "formula = 'rr ~ Block * Treat'                                                     \n",
    "sat_model = smf.ols(formula=formula, data=df).fit()                                \n",
    "sat_table = anova_lm(sat_model)                                                    \n",
    "print(sat_table)   "
   ]
  },
  {
   "cell_type": "code",
   "execution_count": null,
   "id": "03c916d0-3a20-4b03-b140-8f2bc445a658",
   "metadata": {},
   "outputs": [],
   "source": [
    "add_model = smf.ols(formula='rr ~ Block + Treat', data=df).fit()                                \n",
    "add_table = anova_lm(add_model) \n",
    "print(add_table)"
   ]
  },
  {
   "cell_type": "code",
   "execution_count": null,
   "id": "f1d68d0f-e79b-46a2-a9f4-b7d34c5dc2fc",
   "metadata": {},
   "outputs": [],
   "source": [
    "anova_lm(add_model, sat_model)"
   ]
  },
  {
   "cell_type": "markdown",
   "id": "e2143797-20fc-44ce-a7b0-10ebee9b85c5",
   "metadata": {},
   "source": [
    "We consider the interaction term in the saturated model\n",
    "\n",
    "$\n",
    "H_0: \\mu\\{Y|BLOCK, TREAT\\} = BLOCK + TREAT\n",
    "$\n",
    "\n",
    "$\n",
    "H_a: \\mu\\{Y|BLOCK,TREAT\\} = BLOCK + TREAT + (BLOCK \\times TREAT)\n",
    "$"
   ]
  },
  {
   "cell_type": "markdown",
   "id": "98be4842-c110-46ae-be57-88d9c9216857",
   "metadata": {},
   "source": [
    "<a id=\"interaction_effects\"/>\n",
    "We conclude there is weak evidence for the interaction term \n",
    "($F_{35,48} = \\frac{\\frac{29.77 - 14.54}{83 - 48}}{14.54 / 48} = 1.4369$, $p = 0.1209$)."
   ]
  },
  {
   "cell_type": "markdown",
   "id": "011497f5-6211-47ae-9563-a534ff3f930d",
   "metadata": {},
   "source": [
    "We consider the treatment effect in the additive model.\n",
    "\n",
    "$\n",
    "H_0: \\mu\\{Y|BLOCK,TREAT\\} = BLOCK + TREAT\n",
    "$\n",
    "\n",
    "$\n",
    "H_a: \\mu\\{Y|BLOCK, TREAT\\} = BLOCK\n",
    "$"
   ]
  },
  {
   "cell_type": "code",
   "execution_count": null,
   "id": "fa02ac6c-235a-40c6-80c3-8c7d4f9df2b7",
   "metadata": {},
   "outputs": [],
   "source": [
    "formula = 'rr ~ Block'                                                     \n",
    "block_model = smf.ols(formula=formula, data=df).fit()                                \n",
    "block_table = anova_lm(block_model)                                                    \n",
    "print(block_table)\n",
    "anova_lm(block_model, add_model)"
   ]
  },
  {
   "cell_type": "markdown",
   "id": "050ae00d-e63c-4c6c-915d-853fa686c619",
   "metadata": {},
   "source": [
    "We conclude there is strong evidence for the treatment effect ($F_{5,83} = 54.09$, $p < 0.0001$)"
   ]
  },
  {
   "cell_type": "markdown",
   "id": "0326f3c7-b588-430b-8481-da6af74c2619",
   "metadata": {},
   "source": [
    "## Answers to specific questions of interest using linear combinations"
   ]
  },
  {
   "cell_type": "markdown",
   "id": "16dc5f65-c47d-465a-bdca-d08f708f8e0e",
   "metadata": {},
   "source": [
    "### Table of averages of log percentage of seaweed regeneration ratio with different grazer combinations in eight blocks"
   ]
  },
  {
   "cell_type": "code",
   "execution_count": null,
   "id": "f7a49ead-814d-44a4-847b-db99de86690f",
   "metadata": {},
   "outputs": [],
   "source": [
    "pd.options.display.float_format = '{:.2f}'.format\n",
    "dfp = (\n",
    "    df.groupby(['Block', 'Treat'])['rr']\n",
    "      .mean()\n",
    "      .reset_index()\n",
    "      .pivot_table(index='Block', columns='Treat', values='rr', margins=True, margins_name='average')\n",
    ")\n",
    "\n",
    "# subtract off the overall mean from the block/treat column/row to get the block/treat effects\n",
    "dfp['block effect'] = dfp['average'] - df['rr'].mean()\n",
    "dfp.loc['treat effect', :] = dfp.loc['average', :] - df['rr'].mean()\n",
    "dfp"
   ]
  },
  {
   "cell_type": "markdown",
   "id": "17fec150-44a4-4031-8ee5-1d6fb62f8441",
   "metadata": {},
   "source": [
    "### Do large fish have an effect on the regeneration ratio?\n",
    "The difference between means from $fF$ and $f$ treatments measures this effect in the presence of small fish only; the difference between means from the $LfF$ and $Lf$ treatments measures the effect in the presence of both small fish and limpets.  The large fish effect is taken to be the average of those two effects:  $\\gamma_1 = \\frac{1}{2}(\\mu_{fF} - \\mu{f}) + \\frac{1}{2}(\\mu_{LfF} - \\mu_{Lf})$.  This effect averages over different limpet conditions, so it measures a meaningful effect only if there is no limpet-by-big-fish interaction."
   ]
  },
  {
   "cell_type": "code",
   "execution_count": null,
   "id": "76dff464-6e8f-4da8-ac89-ff7b2b0c3d68",
   "metadata": {},
   "outputs": [],
   "source": [
    "gs1 = pd.Series(index=['fF', 'f', 'LfF', 'Lf'], data=np.array([1, -1, 1, -1])) * 1 / 2"
   ]
  },
  {
   "cell_type": "markdown",
   "id": "9f9bc012-ab43-401e-b193-8bd254b6d26c",
   "metadata": {},
   "source": [
    "### Do small fish have an effect on the regeneration ratio?\n",
    "This is investigated through the average of the difference between the $f$ and the $C$ treatment means and the $Lf$ and $L$ treatment means:  $\\gamma_2 = \\frac{1}{2} (\\mu_f - \\mu_C) + \\frac{1}{2}(\\mu_{Lf} - \\mu_{L})$."
   ]
  },
  {
   "cell_type": "code",
   "execution_count": null,
   "id": "b2a8f7d2-ddf0-48f3-b91b-9408c0774ea0",
   "metadata": {},
   "outputs": [],
   "source": [
    "gs2 = pd.Series(index=['f', 'CONTROL', 'Lf', 'L'], data=np.array([1, -1, 1, -1])) * 1 / 2"
   ]
  },
  {
   "cell_type": "markdown",
   "id": "c0153719-7407-4a69-8afb-04b5e0cd40c9",
   "metadata": {},
   "source": [
    "### Do limpets have an effect on the regeneration ratio?\n",
    "This is investigated through $\\gamma_3 = \\frac{1}{3}(\\mu_L - \\mu_C) + \\frac{1}{3}(\\mu_{Lf} - \\mu_{f}) + \\frac{1}{3} (\\mu_{LfF} - \\mu_{fF})$"
   ]
  },
  {
   "cell_type": "code",
   "execution_count": null,
   "id": "e52e6caa-e2ff-4317-bea4-ecf9b7e6f45b",
   "metadata": {},
   "outputs": [],
   "source": [
    "gs3 = pd.Series(index=['L', 'CONTROL', 'Lf', 'f', 'LfF', 'fF'], data = [1, -1, 1, -1, 1, -1]) * 1 / 3"
   ]
  },
  {
   "cell_type": "markdown",
   "id": "0df72a50-ad34-42e9-8598-5c2fa4136593",
   "metadata": {},
   "source": [
    "### Do limpets have a different effect when small fish are present than when small fish are not present?\n",
    "When small fish are present, the limpet effect is given by $\\frac{1}{2} (\\mu_{Lf} - \\mu_{f}) + \\frac{1}{2} (\\mu_{LfF} - \\mu_{fF})$.  When small fish are not present, the limpet effect is $(\\mu_{L} - \\mu_{C})$.  The difference in effects is then $\\gamma_4 = \\frac{1}{2} (\\mu_{Lf} - \\mu_{f}) + \\frac{1}{2} (\\mu_{LfF} - \\mu_{fF}) - (\\mu_{L} - \\mu_{C})$."
   ]
  },
  {
   "cell_type": "code",
   "execution_count": null,
   "id": "72d3ca0d-a413-4b18-ab3b-5b2b6bf2eb2a",
   "metadata": {},
   "outputs": [],
   "source": [
    "gs4 = pd.Series(index=['Lf', 'f', 'LfF', 'fF', 'L', 'CONTROL'], data=[1/2, -1/2, 1/2, -1/2, -1, 1])"
   ]
  },
  {
   "cell_type": "markdown",
   "id": "395aa165-8b4a-4ab1-bb09-5d62c4f145ed",
   "metadata": {},
   "source": [
    "### Do limpets have a different effect when large fish are present than when large fish are absent?\n",
    "This is investigated through $(\\mu_{LfF} - \\mu_{fF}) - (\\mu_{Lf} - \\mu_f)$."
   ]
  },
  {
   "cell_type": "code",
   "execution_count": null,
   "id": "2eade9a1-9761-442d-83ed-c4bde59a9e0d",
   "metadata": {},
   "outputs": [],
   "source": [
    "gs5 = pd.Series(index=['LfF', 'fF', 'Lf', 'f'], data=[1, -1, -1, 1])\n",
    "\n",
    "dfC = pd.DataFrame([gs1, gs2, gs3, gs4, gs5]).fillna(0)\n",
    "dfC"
   ]
  },
  {
   "cell_type": "markdown",
   "id": "3d0663ca-c6e4-4798-8db5-01de519f603e",
   "metadata": {},
   "source": [
    "$SE(g) = s_p \\sqrt{\\sum_{i = 1}^{I} \\frac{C_{i}^2}{n_i}}$"
   ]
  },
  {
   "cell_type": "code",
   "execution_count": null,
   "id": "670cd38d-20fa-4b47-93e3-b9c207db00ed",
   "metadata": {},
   "outputs": [],
   "source": [
    "sp = np.sqrt(add_table.loc['Residual', 'mean_sq'])\n",
    "I = len(df['Treat'].unique())\n",
    "dof_sp = len(df) - I\n",
    "\n",
    "dfn = 1 / df.groupby('Treat').size()\n",
    "dfn"
   ]
  },
  {
   "cell_type": "code",
   "execution_count": null,
   "id": "5037342d-c739-48ff-90af-905d48839003",
   "metadata": {},
   "outputs": [],
   "source": [
    "index = ['large fish', 'small fish', 'limpets', 'limpet diff with small fish', 'limpet diff with large fish']\n",
    "se_g = pd.Series(sp * np.sqrt(dfC ** 2 @ dfn))\n",
    "se_g.index = index\n",
    "se_g"
   ]
  },
  {
   "cell_type": "code",
   "execution_count": null,
   "id": "88b3abcd-2de8-4d5c-839c-05c6c774cefb",
   "metadata": {},
   "outputs": [],
   "source": [
    "estimate = dfC @ df.groupby('Treat').mean(numeric_only=True)['rr']\n",
    "estimate.index = index\n",
    "\n",
    "t = (estimate / se_g)\n",
    "p = (1 - tdist.cdf(np.abs(t), dof_sp)) * 2\n",
    "\n",
    "estimate.index = index\n",
    "t.index = index\n",
    "p_series = pd.Series(p, index=index)\n",
    "\n",
    "intervals = np.array([\n",
    "    tdist.interval(0.95, df=dof_sp, loc=estimate['large fish'], scale=se_g['large fish']),\n",
    "    tdist.interval(0.95, df=dof_sp, loc=estimate['small fish'], scale=se_g['small fish']),\n",
    "    tdist.interval(0.95, df=dof_sp, loc=estimate['limpets'], scale=se_g['limpets'])\n",
    "])\n",
    "lower = pd.Series(intervals[:, 0], index=index[:3])\n",
    "upper = pd.Series(intervals[:, 1], index=index[:3])\n",
    "\n",
    "data = {\n",
    "    'estimate': estimate,\n",
    "    't': t,\n",
    "    'p-value': p_series,\n",
    "    '95% CI - L': lower,\n",
    "    '95% CI - U': upper,\n",
    "}\n",
    "tstat = pd.DataFrame(data)\n",
    "\n",
    "pd.options.display.float_format = '{:.4f}'.format\n",
    "tstat"
   ]
  },
  {
   "cell_type": "markdown",
   "id": "846841a7-2d48-412a-a972-5633aafa1a4d",
   "metadata": {},
   "source": [
    "<a id=\"treatment_interactions\"></a>"
   ]
  },
  {
   "cell_type": "markdown",
   "id": "4a448eee-8b3d-40d1-acf5-e4c7fe819e73",
   "metadata": {},
   "source": [
    "There is only very weak evidence of a limpet-by-large-fish interaction ($t_{90} = -0.71$, $p = 0.48$), and there is even weaker evidence of a limpet-by-small-fish interaction ($t_{90} = 0.37$, $p = 0.71$).  The effects of the individual grazers can now be cleanly considered."
   ]
  },
  {
   "cell_type": "markdown",
   "id": "a71a0905-5df2-4695-90cb-e54b09272a23",
   "metadata": {},
   "source": [
    "# Statistical Conclusions\n",
    "\n",
    "There is [weak evidence](#interaction_effects) that treatment differences change across blocks ($F_{35,48} = 1.437$, $p = 0.12$).  Limpets cause the [largest reduction](#treatment_effects) in the regeneration ratio ($t_{90} = -14.96$, $p < 0.0001$), but there is also strong evidence for reductions caused by both large and small fish.  The limpet effect is strongest with the median regeneration ratio estimated to be $e^{-1.8288} = 0.161$, 95% confidence interval $(e^{-2.0717}, e^{-1.5860})$ = $(0.126, 0.205)$.  In other words, the median regeneration ratio in the presence of limpets was estimated to be only 0.161 as large as the regeneration ratio with limpets were excluded.  The median regeneration ratio of the presence of large fish was estimated to be $e^{-0.6140} = 0.541$, 95% confidence interval $(e^{-0.9115}, e^{-0.3166}) = (0.40, 0.73)$.  The median regeneration ratio of the presence of small fish was estimated to be $e^{-0.3933} = 0.67$, 95% confidence interval $(e^{-0.6907}, e^{0.0958}) = (0.50, 0.91)$."
   ]
  },
  {
   "cell_type": "code",
   "execution_count": null,
   "id": "7d963f87-2562-4dd9-b073-17af18ff1466",
   "metadata": {},
   "outputs": [],
   "source": []
  }
 ],
 "metadata": {
  "kernelspec": {
   "display_name": "Python 3 (ipykernel)",
   "language": "python",
   "name": "python3"
  },
  "language_info": {
   "codemirror_mode": {
    "name": "ipython",
    "version": 3
   },
   "file_extension": ".py",
   "mimetype": "text/x-python",
   "name": "python",
   "nbconvert_exporter": "python",
   "pygments_lexer": "ipython3",
   "version": "3.12.1"
  }
 },
 "nbformat": 4,
 "nbformat_minor": 5
}
